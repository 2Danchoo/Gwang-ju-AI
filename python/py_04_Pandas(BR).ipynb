{
  "nbformat": 4,
  "nbformat_minor": 0,
  "metadata": {
    "colab": {
      "name": "py_04_Pandas(BR).ipynb",
      "provenance": [],
      "collapsed_sections": []
    },
    "kernelspec": {
      "name": "python3",
      "display_name": "Python 3"
    }
  },
  "cells": [
    {
      "cell_type": "markdown",
      "metadata": {
        "id": "g19tsMWUNpCx"
      },
      "source": [
        "### 구글드라이브 연동"
      ]
    },
    {
      "cell_type": "code",
      "metadata": {
        "id": "Ijyjm-4FNqNx",
        "colab": {
          "base_uri": "https://localhost:8080/"
        },
        "outputId": "2d84a352-fd66-41e2-eb99-bccb3e9130b1"
      },
      "source": [
        "# 구글드라이브 연동\n",
        "from google.colab import drive\n",
        "drive.mount('/gdrive', force_remount=True)\n",
        "\n",
        "# 구글 드라이브 파일 확인\n",
        "!ls '/gdrive/My Drive/temp/'\n",
        "\n",
        "# 반복되는 드라이브 경로 변수화\n",
        "drive_path = '/gdrive/My Drive/temp/'"
      ],
      "execution_count": null,
      "outputs": [
        {
          "output_type": "stream",
          "text": [
            "Mounted at /gdrive\n",
            " 매수종목1.txt\t\t   lenna.png\t\t   score.csv\n",
            " 매수종목2.txt\t\t   little-char.png\t   sonar.csv\n",
            " adult.data\t\t   ml_class.png\t\t   stock-data.csv\n",
            " auto-mpg.csv\t\t   pca_1.png\t\t  'stock price.xlsx'\n",
            " bmi_500.csv\t\t   pca_2.png\t\t  'stock valuation.xlsx'\n",
            " citibike.csv\t\t   pca_3.png\t\t   test.db.db\n",
            " 매수종목.csv\t\t   Picture1.png\t\t   test.txt\n",
            " data_mine.csv\t\t   population_number.csv   ThoraricSurgery.csv\n",
            " data_population.csv\t   ram_price.csv\t   titanic.xls\n",
            " data_studentlist_en.csv   ratings_small.txt\t   tmdb_5000_credits.csv\n",
            " demo.docx\t\t   ratings_test.txt\t   tmdb_5000_movies.csv\n",
            " diabetes.csv\t\t   ratings_train.txt\t   Traffic_Accident_2017.csv\n",
            " example.docx\t\t   sample1.pdf\t\t   train.csv\n",
            " height_weight.txt\t   sample2.pdf\t\t   user_id_mean.csv\n",
            "'Hello World.xlsx'\t   sample.docx\t\t   wine.csv\n",
            " HelloWorld.xlsx\t   sample_merge.pdf\t   주가데이터.xlsx\n",
            " house_price.csv\t   sample.xlsx\t\t   남북한발전전력량.xlsx\n"
          ],
          "name": "stdout"
        }
      ]
    },
    {
      "cell_type": "markdown",
      "metadata": {
        "collapsed": true,
        "id": "k2mWZPJH82-Z"
      },
      "source": [
        "# Pandas\n",
        "데이터 핸들링\n"
      ]
    },
    {
      "cell_type": "markdown",
      "metadata": {
        "id": "8rMetJFY9kXP"
      },
      "source": [
        "## Pandas 기초\n",
        "Pandas 모듈\n",
        "- Series Class : 1차원\n",
        " - 인덱스(index) + 값(value)\n",
        "- DataFrame Class : 2차원\n",
        " - 표와 같은 형태\n"
      ]
    },
    {
      "cell_type": "code",
      "metadata": {
        "id": "BCaVXlgv-FKu"
      },
      "source": [
        "import pandas as pd"
      ],
      "execution_count": null,
      "outputs": []
    },
    {
      "cell_type": "markdown",
      "metadata": {
        "id": "1rBZddx9-AVY"
      },
      "source": [
        "### Series"
      ]
    },
    {
      "cell_type": "code",
      "metadata": {
        "colab": {
          "base_uri": "https://localhost:8080/"
        },
        "id": "m_Lr4PvTgXaA",
        "outputId": "56cb0035-0332-4fd5-c89d-b8492f0b84f6"
      },
      "source": [
        "se = pd.Series( [4, 7, -5, 3] )\n",
        "se"
      ],
      "execution_count": null,
      "outputs": [
        {
          "output_type": "execute_result",
          "data": {
            "text/plain": [
              "0    4\n",
              "1    7\n",
              "2   -5\n",
              "3    3\n",
              "dtype: int64"
            ]
          },
          "metadata": {
            "tags": []
          },
          "execution_count": 5
        }
      ]
    },
    {
      "cell_type": "code",
      "metadata": {
        "id": "m_sOp_GEB4PB",
        "colab": {
          "base_uri": "https://localhost:8080/"
        },
        "outputId": "e5f5f190-2d20-437e-9587-4ed5be20fc90"
      },
      "source": [
        "s = pd.Series( [4, 7, -5, 3], index = ['d', 'b', 'a', 'c'] )\n",
        "s"
      ],
      "execution_count": null,
      "outputs": [
        {
          "output_type": "execute_result",
          "data": {
            "text/plain": [
              "d    4\n",
              "b    7\n",
              "a   -5\n",
              "c    3\n",
              "dtype: int64"
            ]
          },
          "metadata": {
            "tags": []
          },
          "execution_count": 4
        }
      ]
    },
    {
      "cell_type": "code",
      "metadata": {
        "colab": {
          "base_uri": "https://localhost:8080/"
        },
        "id": "H0ZrOI9Cgdx4",
        "outputId": "5090833d-ccd8-4148-f9fd-a28d6f1563c6"
      },
      "source": [
        "# 값 확인\n",
        "# 인덱스 확인\n",
        "# 타입 확인\n",
        "\n",
        "print(s.values)\n",
        "print(s.index)\n",
        "print(s.dtype)"
      ],
      "execution_count": null,
      "outputs": [
        {
          "output_type": "stream",
          "text": [
            "[ 4  7 -5  3]\n",
            "Index(['d', 'b', 'a', 'c'], dtype='object')\n",
            "int64\n"
          ],
          "name": "stdout"
        }
      ]
    },
    {
      "cell_type": "markdown",
      "metadata": {
        "id": "xSR61U2jAC6V"
      },
      "source": [
        "#### Pandas 연습 01\n",
        "각 도시의 2015년 인구 데이터를 시리즈로 만드시오.\n",
        "```\n",
        "서울    9904312\n",
        "부산    3448737\n",
        "인천    2890451\n",
        "대구    2466052\n",
        "dtype: int64\n",
        "```"
      ]
    },
    {
      "cell_type": "code",
      "metadata": {
        "id": "6udgMjYXB8qt",
        "colab": {
          "base_uri": "https://localhost:8080/"
        },
        "outputId": "5a20f682-3524-4942-b353-626e383e7430"
      },
      "source": [
        "p = pd.Series( [9904312, 3448737, 2890451, 2466052], \n",
        "              index = ['서울', '부산', '인천', '대구'] )\n",
        "p"
      ],
      "execution_count": null,
      "outputs": [
        {
          "output_type": "execute_result",
          "data": {
            "text/plain": [
              "서울    9904312\n",
              "부산    3448737\n",
              "인천    2890451\n",
              "대구    2466052\n",
              "dtype: int64"
            ]
          },
          "metadata": {
            "tags": []
          },
          "execution_count": 9
        }
      ]
    },
    {
      "cell_type": "markdown",
      "metadata": {
        "id": "On5B61edA2Lv"
      },
      "source": [
        "#### Series"
      ]
    },
    {
      "cell_type": "code",
      "metadata": {
        "id": "hA4rQ_ROCCQ3",
        "colab": {
          "base_uri": "https://localhost:8080/"
        },
        "outputId": "0fce2a59-71b0-439a-8ec4-a0511f9ca0c9"
      },
      "source": [
        "p.name = '인구'\n",
        "p.index.name = 'city'\n",
        "p"
      ],
      "execution_count": null,
      "outputs": [
        {
          "output_type": "execute_result",
          "data": {
            "text/plain": [
              "city\n",
              "서울    9904312\n",
              "부산    3448737\n",
              "인천    2890451\n",
              "대구    2466052\n",
              "Name: 인구, dtype: int64"
            ]
          },
          "metadata": {
            "tags": []
          },
          "execution_count": 14
        }
      ]
    },
    {
      "cell_type": "code",
      "metadata": {
        "colab": {
          "base_uri": "https://localhost:8080/"
        },
        "id": "MkQIYTtqimdp",
        "outputId": "d5e65745-18a2-457f-b474-e863fb640eaf"
      },
      "source": [
        "# 연산\n",
        "p / 1000000"
      ],
      "execution_count": null,
      "outputs": [
        {
          "output_type": "execute_result",
          "data": {
            "text/plain": [
              "city\n",
              "서울    9.904312\n",
              "부산    3.448737\n",
              "인천    2.890451\n",
              "대구    2.466052\n",
              "Name: 인구, dtype: float64"
            ]
          },
          "metadata": {
            "tags": []
          },
          "execution_count": 15
        }
      ]
    },
    {
      "cell_type": "code",
      "metadata": {
        "colab": {
          "base_uri": "https://localhost:8080/"
        },
        "id": "l6HnsOjmiwC6",
        "outputId": "ee1b0e5f-2b05-4960-dfcc-d756a9cb77de"
      },
      "source": [
        "# 인덱스\n",
        "\n",
        "p[0], p[1], p['대구']"
      ],
      "execution_count": null,
      "outputs": [
        {
          "output_type": "execute_result",
          "data": {
            "text/plain": [
              "(9904312, 3448737, 2466052)"
            ]
          },
          "metadata": {
            "tags": []
          },
          "execution_count": 17
        }
      ]
    },
    {
      "cell_type": "code",
      "metadata": {
        "colab": {
          "base_uri": "https://localhost:8080/"
        },
        "id": "ulr9wtWGjNQ4",
        "outputId": "24de347c-9e65-4a90-f249-b435bb9913d2"
      },
      "source": [
        "# 슬라이싱\n",
        "\n",
        "p[1:3], p['부산' : '인천']"
      ],
      "execution_count": null,
      "outputs": [
        {
          "output_type": "execute_result",
          "data": {
            "text/plain": [
              "(city\n",
              " 부산    3448737\n",
              " 인천    2890451\n",
              " Name: 인구, dtype: int64, city\n",
              " 부산    3448737\n",
              " 인천    2890451\n",
              " Name: 인구, dtype: int64)"
            ]
          },
          "metadata": {
            "tags": []
          },
          "execution_count": 20
        }
      ]
    },
    {
      "cell_type": "code",
      "metadata": {
        "colab": {
          "base_uri": "https://localhost:8080/"
        },
        "id": "i90jwd_Wmfat",
        "outputId": "71dc3364-a2f0-482d-fae7-6da6a201617c"
      },
      "source": [
        "# 팬시\n",
        "\n",
        "p[ [0, 3, 1] ], p[ ['서울', '대구', '부산'] ]"
      ],
      "execution_count": null,
      "outputs": [
        {
          "output_type": "execute_result",
          "data": {
            "text/plain": [
              "(city\n",
              " 서울    9904312\n",
              " 대구    2466052\n",
              " 부산    3448737\n",
              " Name: 인구, dtype: int64, city\n",
              " 서울    9904312\n",
              " 대구    2466052\n",
              " 부산    3448737\n",
              " Name: 인구, dtype: int64)"
            ]
          },
          "metadata": {
            "tags": []
          },
          "execution_count": 25
        }
      ]
    },
    {
      "cell_type": "code",
      "metadata": {
        "colab": {
          "base_uri": "https://localhost:8080/"
        },
        "id": "gNttQQEhm8ao",
        "outputId": "2ddfd975-9c01-4045-c595-58f35e899fd1"
      },
      "source": [
        "# Boolean 인덱싱\n",
        "# 인구 250만 이상 도시\n",
        "\n",
        "p [p >= 2500000]"
      ],
      "execution_count": null,
      "outputs": [
        {
          "output_type": "execute_result",
          "data": {
            "text/plain": [
              "city\n",
              "서울    9904312\n",
              "부산    3448737\n",
              "인천    2890451\n",
              "Name: 인구, dtype: int64"
            ]
          },
          "metadata": {
            "tags": []
          },
          "execution_count": 28
        }
      ]
    },
    {
      "cell_type": "code",
      "metadata": {
        "colab": {
          "base_uri": "https://localhost:8080/"
        },
        "id": "rHZ6sMXDnWv_",
        "outputId": "b705a142-6fc5-4bc5-d1f4-ba88d6e87ef7"
      },
      "source": [
        "# 인구 500만 이하 도시\n",
        "\n",
        "p [ p <= 5000000]"
      ],
      "execution_count": null,
      "outputs": [
        {
          "output_type": "execute_result",
          "data": {
            "text/plain": [
              "city\n",
              "부산    3448737\n",
              "인천    2890451\n",
              "대구    2466052\n",
              "Name: 인구, dtype: int64"
            ]
          },
          "metadata": {
            "tags": []
          },
          "execution_count": 29
        }
      ]
    },
    {
      "cell_type": "code",
      "metadata": {
        "colab": {
          "base_uri": "https://localhost:8080/"
        },
        "id": "JPSWgya_ndk-",
        "outputId": "1b6cfceb-65e9-4b5e-d3b0-d3ed62ae0aad"
      },
      "source": [
        "# 인구 250만 이상 500만 이하 도시\n",
        "\n",
        "p [ (p >= 2500000) & (p <= 5000000) ]"
      ],
      "execution_count": null,
      "outputs": [
        {
          "output_type": "execute_result",
          "data": {
            "text/plain": [
              "city\n",
              "부산    3448737\n",
              "인천    2890451\n",
              "Name: 인구, dtype: int64"
            ]
          },
          "metadata": {
            "tags": []
          },
          "execution_count": 39
        }
      ]
    },
    {
      "cell_type": "code",
      "metadata": {
        "colab": {
          "base_uri": "https://localhost:8080/"
        },
        "id": "gJgd89N2pRgR",
        "outputId": "292cba5e-98f7-44cc-c16c-0ace6bf48b9e"
      },
      "source": [
        "# 또는\n",
        "\n",
        "p [ p >= 2500000 ] [ p <= 5000000 ]"
      ],
      "execution_count": null,
      "outputs": [
        {
          "output_type": "execute_result",
          "data": {
            "text/plain": [
              "city\n",
              "부산    3448737\n",
              "인천    2890451\n",
              "Name: 인구, dtype: int64"
            ]
          },
          "metadata": {
            "tags": []
          },
          "execution_count": 41
        }
      ]
    },
    {
      "cell_type": "code",
      "metadata": {
        "colab": {
          "base_uri": "https://localhost:8080/"
        },
        "id": "062ffJEwpcbt",
        "outputId": "427484ac-34a2-43c8-a500-b6726e85573c"
      },
      "source": [
        "# 딕셔너리 객체로 시리즈 생성\n",
        "\n",
        "data = {'서울': 9631482, '부산': 3393191, '인천': 2632035, '대전': 1490158}\n",
        "p2 = pd.Series(data)\n",
        "p2"
      ],
      "execution_count": null,
      "outputs": [
        {
          "output_type": "execute_result",
          "data": {
            "text/plain": [
              "서울    9631482\n",
              "부산    3393191\n",
              "인천    2632035\n",
              "대전    1490158\n",
              "dtype: int64"
            ]
          },
          "metadata": {
            "tags": []
          },
          "execution_count": 47
        }
      ]
    },
    {
      "cell_type": "code",
      "metadata": {
        "colab": {
          "base_uri": "https://localhost:8080/"
        },
        "id": "-jKXNh44q38V",
        "outputId": "868142a0-97f2-4290-b9e1-8345bea72f19"
      },
      "source": [
        "# 2015년도와 2010년도의 인구 증가율 계산\n",
        "\n",
        "ds = p - p2\n",
        "ds[ ds.notnull() ] # <-> isnull()"
      ],
      "execution_count": null,
      "outputs": [
        {
          "output_type": "execute_result",
          "data": {
            "text/plain": [
              "부산     55546.0\n",
              "서울    272830.0\n",
              "인천    258416.0\n",
              "dtype: float64"
            ]
          },
          "metadata": {
            "tags": []
          },
          "execution_count": 50
        }
      ]
    },
    {
      "cell_type": "code",
      "metadata": {
        "colab": {
          "base_uri": "https://localhost:8080/"
        },
        "id": "jOE_rn_jrt0T",
        "outputId": "41b17d6d-25f3-4447-c118-eba4ac3cc101"
      },
      "source": [
        "# 2015년도와 2010년도의 인구 증가율(%) 계산\n",
        "\n",
        "rs = (p - p2) / p2 * 100\n",
        "rs [ rs.notnull() ]"
      ],
      "execution_count": null,
      "outputs": [
        {
          "output_type": "execute_result",
          "data": {
            "text/plain": [
              "부산    1.636984\n",
              "서울    2.832690\n",
              "인천    9.818107\n",
              "dtype: float64"
            ]
          },
          "metadata": {
            "tags": []
          },
          "execution_count": 54
        }
      ]
    },
    {
      "cell_type": "code",
      "metadata": {
        "colab": {
          "base_uri": "https://localhost:8080/"
        },
        "id": "OmLY4sz7s-0k",
        "outputId": "3a94623f-dd08-4ff7-9726-c9e5304eca69"
      },
      "source": [
        "rs['대구'] = 1.41 # 데이터 변경\n",
        "del rs['서울'] # 데이터 삭제\n",
        "rs"
      ],
      "execution_count": null,
      "outputs": [
        {
          "output_type": "execute_result",
          "data": {
            "text/plain": [
              "대구    1.410000\n",
              "대전         NaN\n",
              "부산    1.636984\n",
              "인천    9.818107\n",
              "dtype: float64"
            ]
          },
          "metadata": {
            "tags": []
          },
          "execution_count": 55
        }
      ]
    },
    {
      "cell_type": "markdown",
      "metadata": {
        "id": "ZdYRMNytFzr9"
      },
      "source": [
        "### DataFrame"
      ]
    },
    {
      "cell_type": "code",
      "metadata": {
        "id": "73I0JMyUF8l2",
        "colab": {
          "base_uri": "https://localhost:8080/",
          "height": 172
        },
        "outputId": "129d4d4e-48ea-4373-bd12-a6bbe8a75442"
      },
      "source": [
        "# DataFrame 생성\n",
        "data = {\"2015\": [9904312, 3448737, 2890451, 2466052],\n",
        "        \"2010\": [9631482, 3393191, 2632035, 2431774]}\n",
        "\n",
        "df = pd.DataFrame(data)\n",
        "df"
      ],
      "execution_count": null,
      "outputs": [
        {
          "output_type": "execute_result",
          "data": {
            "text/html": [
              "<div>\n",
              "<style scoped>\n",
              "    .dataframe tbody tr th:only-of-type {\n",
              "        vertical-align: middle;\n",
              "    }\n",
              "\n",
              "    .dataframe tbody tr th {\n",
              "        vertical-align: top;\n",
              "    }\n",
              "\n",
              "    .dataframe thead th {\n",
              "        text-align: right;\n",
              "    }\n",
              "</style>\n",
              "<table border=\"1\" class=\"dataframe\">\n",
              "  <thead>\n",
              "    <tr style=\"text-align: right;\">\n",
              "      <th></th>\n",
              "      <th>2015</th>\n",
              "      <th>2010</th>\n",
              "    </tr>\n",
              "  </thead>\n",
              "  <tbody>\n",
              "    <tr>\n",
              "      <th>0</th>\n",
              "      <td>9904312</td>\n",
              "      <td>9631482</td>\n",
              "    </tr>\n",
              "    <tr>\n",
              "      <th>1</th>\n",
              "      <td>3448737</td>\n",
              "      <td>3393191</td>\n",
              "    </tr>\n",
              "    <tr>\n",
              "      <th>2</th>\n",
              "      <td>2890451</td>\n",
              "      <td>2632035</td>\n",
              "    </tr>\n",
              "    <tr>\n",
              "      <th>3</th>\n",
              "      <td>2466052</td>\n",
              "      <td>2431774</td>\n",
              "    </tr>\n",
              "  </tbody>\n",
              "</table>\n",
              "</div>"
            ],
            "text/plain": [
              "      2015     2010\n",
              "0  9904312  9631482\n",
              "1  3448737  3393191\n",
              "2  2890451  2632035\n",
              "3  2466052  2431774"
            ]
          },
          "metadata": {
            "tags": []
          },
          "execution_count": 73
        }
      ]
    },
    {
      "cell_type": "code",
      "metadata": {
        "colab": {
          "base_uri": "https://localhost:8080/",
          "height": 134
        },
        "id": "loWw4Wt9qcl0",
        "outputId": "a7460762-ff04-4588-a8b1-47e708d5ec04"
      },
      "source": [
        "# 2015년도와 2010년도의 인구 증가율(%) 계산\n",
        "\n"
      ],
      "execution_count": null,
      "outputs": [
        {
          "output_type": "error",
          "ename": "SyntaxError",
          "evalue": "ignored",
          "traceback": [
            "\u001b[0;36m  File \u001b[0;32m\"<ipython-input-45-5d331c92c53b>\"\u001b[0;36m, line \u001b[0;32m3\u001b[0m\n\u001b[0;31m    data[0]] - data[1]\u001b[0m\n\u001b[0m           ^\u001b[0m\n\u001b[0;31mSyntaxError\u001b[0m\u001b[0;31m:\u001b[0m invalid syntax\n"
          ]
        }
      ]
    },
    {
      "cell_type": "code",
      "metadata": {
        "id": "scSuFCk2GTuT",
        "colab": {
          "base_uri": "https://localhost:8080/"
        },
        "outputId": "d76652f7-4e05-4c0a-d851-7d93192c3c0f"
      },
      "source": [
        "# DataFrame 인덱스 확인\n",
        "\n",
        "df.index\n"
      ],
      "execution_count": null,
      "outputs": [
        {
          "output_type": "execute_result",
          "data": {
            "text/plain": [
              "RangeIndex(start=0, stop=4, step=1)"
            ]
          },
          "metadata": {
            "tags": []
          },
          "execution_count": 74
        }
      ]
    },
    {
      "cell_type": "code",
      "metadata": {
        "colab": {
          "base_uri": "https://localhost:8080/",
          "height": 172
        },
        "id": "tXsMJuAxt2dW",
        "outputId": "ae3875b8-2509-44cc-82e9-abdf326f0c7b"
      },
      "source": [
        "# DataFrame 인덱스 수정\n",
        "df.index = ['서울', '부산', '인천', '대구']\n",
        "df"
      ],
      "execution_count": null,
      "outputs": [
        {
          "output_type": "execute_result",
          "data": {
            "text/html": [
              "<div>\n",
              "<style scoped>\n",
              "    .dataframe tbody tr th:only-of-type {\n",
              "        vertical-align: middle;\n",
              "    }\n",
              "\n",
              "    .dataframe tbody tr th {\n",
              "        vertical-align: top;\n",
              "    }\n",
              "\n",
              "    .dataframe thead th {\n",
              "        text-align: right;\n",
              "    }\n",
              "</style>\n",
              "<table border=\"1\" class=\"dataframe\">\n",
              "  <thead>\n",
              "    <tr style=\"text-align: right;\">\n",
              "      <th></th>\n",
              "      <th>2015</th>\n",
              "      <th>2010</th>\n",
              "    </tr>\n",
              "  </thead>\n",
              "  <tbody>\n",
              "    <tr>\n",
              "      <th>서울</th>\n",
              "      <td>9904312</td>\n",
              "      <td>9631482</td>\n",
              "    </tr>\n",
              "    <tr>\n",
              "      <th>부산</th>\n",
              "      <td>3448737</td>\n",
              "      <td>3393191</td>\n",
              "    </tr>\n",
              "    <tr>\n",
              "      <th>인천</th>\n",
              "      <td>2890451</td>\n",
              "      <td>2632035</td>\n",
              "    </tr>\n",
              "    <tr>\n",
              "      <th>대구</th>\n",
              "      <td>2466052</td>\n",
              "      <td>2431774</td>\n",
              "    </tr>\n",
              "  </tbody>\n",
              "</table>\n",
              "</div>"
            ],
            "text/plain": [
              "       2015     2010\n",
              "서울  9904312  9631482\n",
              "부산  3448737  3393191\n",
              "인천  2890451  2632035\n",
              "대구  2466052  2431774"
            ]
          },
          "metadata": {
            "tags": []
          },
          "execution_count": 75
        }
      ]
    },
    {
      "cell_type": "code",
      "metadata": {
        "id": "KbDcEsqpGnGS",
        "colab": {
          "base_uri": "https://localhost:8080/",
          "height": 110
        },
        "outputId": "feedd06f-1dda-42a9-bd70-f26112f833f1"
      },
      "source": [
        "# DataFrame 인덱스 지정하여 생성\n",
        "data = [[9904312, 3448737, 2890451, 2466052],\n",
        "        [9631482, 3393191, 2632035, 2431774]]\n",
        "ind = ['2015', '2010']\n",
        "col = ['서울','부산','인천','대구']\n",
        "\n",
        "df2 = pd.DataFrame(data, index = ind, columns = col)\n",
        "df2"
      ],
      "execution_count": null,
      "outputs": [
        {
          "output_type": "execute_result",
          "data": {
            "text/html": [
              "<div>\n",
              "<style scoped>\n",
              "    .dataframe tbody tr th:only-of-type {\n",
              "        vertical-align: middle;\n",
              "    }\n",
              "\n",
              "    .dataframe tbody tr th {\n",
              "        vertical-align: top;\n",
              "    }\n",
              "\n",
              "    .dataframe thead th {\n",
              "        text-align: right;\n",
              "    }\n",
              "</style>\n",
              "<table border=\"1\" class=\"dataframe\">\n",
              "  <thead>\n",
              "    <tr style=\"text-align: right;\">\n",
              "      <th></th>\n",
              "      <th>서울</th>\n",
              "      <th>부산</th>\n",
              "      <th>인천</th>\n",
              "      <th>대구</th>\n",
              "    </tr>\n",
              "  </thead>\n",
              "  <tbody>\n",
              "    <tr>\n",
              "      <th>2015</th>\n",
              "      <td>9904312</td>\n",
              "      <td>3448737</td>\n",
              "      <td>2890451</td>\n",
              "      <td>2466052</td>\n",
              "    </tr>\n",
              "    <tr>\n",
              "      <th>2010</th>\n",
              "      <td>9631482</td>\n",
              "      <td>3393191</td>\n",
              "      <td>2632035</td>\n",
              "      <td>2431774</td>\n",
              "    </tr>\n",
              "  </tbody>\n",
              "</table>\n",
              "</div>"
            ],
            "text/plain": [
              "           서울       부산       인천       대구\n",
              "2015  9904312  3448737  2890451  2466052\n",
              "2010  9631482  3393191  2632035  2431774"
            ]
          },
          "metadata": {
            "tags": []
          },
          "execution_count": 62
        }
      ]
    },
    {
      "cell_type": "code",
      "metadata": {
        "colab": {
          "base_uri": "https://localhost:8080/",
          "height": 172
        },
        "id": "ljwunTJxu524",
        "outputId": "b9ec62ca-ebfe-4562-d4d9-7a79ac8c41c3"
      },
      "source": [
        "df2.T"
      ],
      "execution_count": null,
      "outputs": [
        {
          "output_type": "execute_result",
          "data": {
            "text/html": [
              "<div>\n",
              "<style scoped>\n",
              "    .dataframe tbody tr th:only-of-type {\n",
              "        vertical-align: middle;\n",
              "    }\n",
              "\n",
              "    .dataframe tbody tr th {\n",
              "        vertical-align: top;\n",
              "    }\n",
              "\n",
              "    .dataframe thead th {\n",
              "        text-align: right;\n",
              "    }\n",
              "</style>\n",
              "<table border=\"1\" class=\"dataframe\">\n",
              "  <thead>\n",
              "    <tr style=\"text-align: right;\">\n",
              "      <th></th>\n",
              "      <th>2015</th>\n",
              "      <th>2010</th>\n",
              "    </tr>\n",
              "  </thead>\n",
              "  <tbody>\n",
              "    <tr>\n",
              "      <th>서울</th>\n",
              "      <td>9904312</td>\n",
              "      <td>9631482</td>\n",
              "    </tr>\n",
              "    <tr>\n",
              "      <th>부산</th>\n",
              "      <td>3448737</td>\n",
              "      <td>3393191</td>\n",
              "    </tr>\n",
              "    <tr>\n",
              "      <th>인천</th>\n",
              "      <td>2890451</td>\n",
              "      <td>2632035</td>\n",
              "    </tr>\n",
              "    <tr>\n",
              "      <th>대구</th>\n",
              "      <td>2466052</td>\n",
              "      <td>2431774</td>\n",
              "    </tr>\n",
              "  </tbody>\n",
              "</table>\n",
              "</div>"
            ],
            "text/plain": [
              "       2015     2010\n",
              "서울  9904312  9631482\n",
              "부산  3448737  3393191\n",
              "인천  2890451  2632035\n",
              "대구  2466052  2431774"
            ]
          },
          "metadata": {
            "tags": []
          },
          "execution_count": 63
        }
      ]
    },
    {
      "cell_type": "markdown",
      "metadata": {
        "id": "tgk9wRf_HkiR"
      },
      "source": [
        "#### Pandas 연습 02\n",
        "DataFrame을 이용하여 아래와 같은 결과를 구성하시오.\n",
        "\n",
        "| |홍길동|\t김사또|\t임꺽정|\n",
        "|---|---|---|---|\n",
        "|키|\t175.3|\t180.2|\t178.6|\n",
        "|몸무게|\t66.2|\t78.9|\t55.1|\n",
        "|나이|\t27.0|\t49.0|\t35.0|\n"
      ]
    },
    {
      "cell_type": "code",
      "metadata": {
        "id": "ga31yJC8COsv",
        "colab": {
          "base_uri": "https://localhost:8080/",
          "height": 142
        },
        "outputId": "419bb579-0201-47c9-ebd4-25d79f9a2bf7"
      },
      "source": [
        "data = [[175.3, 180.2, 178.6],\n",
        "        [66.2, 78.9, 55.1],\n",
        "        [27.0, 49.0, 35.0]]\n",
        "ind = ['키', '몸무게', '나이']\n",
        "col = ['홍길동','김사또','임꺽정']\n",
        "\n",
        "df3 = pd.DataFrame(data, index = ind, columns = col)\n",
        "df3"
      ],
      "execution_count": null,
      "outputs": [
        {
          "output_type": "execute_result",
          "data": {
            "text/html": [
              "<div>\n",
              "<style scoped>\n",
              "    .dataframe tbody tr th:only-of-type {\n",
              "        vertical-align: middle;\n",
              "    }\n",
              "\n",
              "    .dataframe tbody tr th {\n",
              "        vertical-align: top;\n",
              "    }\n",
              "\n",
              "    .dataframe thead th {\n",
              "        text-align: right;\n",
              "    }\n",
              "</style>\n",
              "<table border=\"1\" class=\"dataframe\">\n",
              "  <thead>\n",
              "    <tr style=\"text-align: right;\">\n",
              "      <th></th>\n",
              "      <th>홍길동</th>\n",
              "      <th>김사또</th>\n",
              "      <th>임꺽정</th>\n",
              "    </tr>\n",
              "  </thead>\n",
              "  <tbody>\n",
              "    <tr>\n",
              "      <th>키</th>\n",
              "      <td>175.3</td>\n",
              "      <td>180.2</td>\n",
              "      <td>178.6</td>\n",
              "    </tr>\n",
              "    <tr>\n",
              "      <th>몸무게</th>\n",
              "      <td>66.2</td>\n",
              "      <td>78.9</td>\n",
              "      <td>55.1</td>\n",
              "    </tr>\n",
              "    <tr>\n",
              "      <th>나이</th>\n",
              "      <td>27.0</td>\n",
              "      <td>49.0</td>\n",
              "      <td>35.0</td>\n",
              "    </tr>\n",
              "  </tbody>\n",
              "</table>\n",
              "</div>"
            ],
            "text/plain": [
              "       홍길동    김사또    임꺽정\n",
              "키    175.3  180.2  178.6\n",
              "몸무게   66.2   78.9   55.1\n",
              "나이    27.0   49.0   35.0"
            ]
          },
          "metadata": {
            "tags": []
          },
          "execution_count": 68
        }
      ]
    },
    {
      "cell_type": "markdown",
      "metadata": {
        "id": "SKBEPw-uIzSu"
      },
      "source": [
        "#### DataFrame"
      ]
    },
    {
      "cell_type": "code",
      "metadata": {
        "id": "UPlY66otI2mi",
        "colab": {
          "base_uri": "https://localhost:8080/"
        },
        "outputId": "fe26aa92-d5c1-4386-968b-9a76377c8fe8"
      },
      "source": [
        " # 값 확인\n",
        " # 인덱스 확인\n",
        " # 컬럼 확인\n",
        "\n",
        "print(df3.values)\n",
        "print(df3.index)\n",
        "print(df3.columns)"
      ],
      "execution_count": null,
      "outputs": [
        {
          "output_type": "stream",
          "text": [
            "[[175.3 180.2 178.6]\n",
            " [ 66.2  78.9  55.1]\n",
            " [ 27.   49.   35. ]]\n",
            "Index(['키', '몸무게', '나이'], dtype='object')\n",
            "Index(['홍길동', '김사또', '임꺽정'], dtype='object')\n"
          ],
          "name": "stdout"
        }
      ]
    },
    {
      "cell_type": "code",
      "metadata": {
        "id": "uQkgTaK-JEOm",
        "colab": {
          "base_uri": "https://localhost:8080/",
          "height": 415
        },
        "outputId": "28ba9a51-0081-4da6-e942-8753c002ad9d"
      },
      "source": [
        "# DataFrame 열 \n",
        "# 열에 먼저 접근 후, 행에 접근\n",
        "\n",
        "display( df['2015'] )\n",
        "display( df[ ['2010', '2015'] ] )\n",
        "display( df[ ['2015', '2010'] ] )"
      ],
      "execution_count": null,
      "outputs": [
        {
          "output_type": "display_data",
          "data": {
            "text/plain": [
              "서울    9904312\n",
              "부산    3448737\n",
              "인천    2890451\n",
              "대구    2466052\n",
              "Name: 2015, dtype: int64"
            ]
          },
          "metadata": {
            "tags": []
          }
        },
        {
          "output_type": "display_data",
          "data": {
            "text/html": [
              "<div>\n",
              "<style scoped>\n",
              "    .dataframe tbody tr th:only-of-type {\n",
              "        vertical-align: middle;\n",
              "    }\n",
              "\n",
              "    .dataframe tbody tr th {\n",
              "        vertical-align: top;\n",
              "    }\n",
              "\n",
              "    .dataframe thead th {\n",
              "        text-align: right;\n",
              "    }\n",
              "</style>\n",
              "<table border=\"1\" class=\"dataframe\">\n",
              "  <thead>\n",
              "    <tr style=\"text-align: right;\">\n",
              "      <th></th>\n",
              "      <th>2010</th>\n",
              "      <th>2015</th>\n",
              "    </tr>\n",
              "  </thead>\n",
              "  <tbody>\n",
              "    <tr>\n",
              "      <th>서울</th>\n",
              "      <td>9631482</td>\n",
              "      <td>9904312</td>\n",
              "    </tr>\n",
              "    <tr>\n",
              "      <th>부산</th>\n",
              "      <td>3393191</td>\n",
              "      <td>3448737</td>\n",
              "    </tr>\n",
              "    <tr>\n",
              "      <th>인천</th>\n",
              "      <td>2632035</td>\n",
              "      <td>2890451</td>\n",
              "    </tr>\n",
              "    <tr>\n",
              "      <th>대구</th>\n",
              "      <td>2431774</td>\n",
              "      <td>2466052</td>\n",
              "    </tr>\n",
              "  </tbody>\n",
              "</table>\n",
              "</div>"
            ],
            "text/plain": [
              "       2010     2015\n",
              "서울  9631482  9904312\n",
              "부산  3393191  3448737\n",
              "인천  2632035  2890451\n",
              "대구  2431774  2466052"
            ]
          },
          "metadata": {
            "tags": []
          }
        },
        {
          "output_type": "display_data",
          "data": {
            "text/html": [
              "<div>\n",
              "<style scoped>\n",
              "    .dataframe tbody tr th:only-of-type {\n",
              "        vertical-align: middle;\n",
              "    }\n",
              "\n",
              "    .dataframe tbody tr th {\n",
              "        vertical-align: top;\n",
              "    }\n",
              "\n",
              "    .dataframe thead th {\n",
              "        text-align: right;\n",
              "    }\n",
              "</style>\n",
              "<table border=\"1\" class=\"dataframe\">\n",
              "  <thead>\n",
              "    <tr style=\"text-align: right;\">\n",
              "      <th></th>\n",
              "      <th>2015</th>\n",
              "      <th>2010</th>\n",
              "    </tr>\n",
              "  </thead>\n",
              "  <tbody>\n",
              "    <tr>\n",
              "      <th>서울</th>\n",
              "      <td>9904312</td>\n",
              "      <td>9631482</td>\n",
              "    </tr>\n",
              "    <tr>\n",
              "      <th>부산</th>\n",
              "      <td>3448737</td>\n",
              "      <td>3393191</td>\n",
              "    </tr>\n",
              "    <tr>\n",
              "      <th>인천</th>\n",
              "      <td>2890451</td>\n",
              "      <td>2632035</td>\n",
              "    </tr>\n",
              "    <tr>\n",
              "      <th>대구</th>\n",
              "      <td>2466052</td>\n",
              "      <td>2431774</td>\n",
              "    </tr>\n",
              "  </tbody>\n",
              "</table>\n",
              "</div>"
            ],
            "text/plain": [
              "       2015     2010\n",
              "서울  9904312  9631482\n",
              "부산  3448737  3393191\n",
              "인천  2890451  2632035\n",
              "대구  2466052  2431774"
            ]
          },
          "metadata": {
            "tags": []
          }
        }
      ]
    },
    {
      "cell_type": "code",
      "metadata": {
        "id": "9lJU1FZwJrur",
        "colab": {
          "base_uri": "https://localhost:8080/",
          "height": 172
        },
        "outputId": "0edf965e-03e0-4f20-d66d-35933a20da5a"
      },
      "source": [
        "# \"2005\" 라는 컬럼명으로 2005년 인구수 대입\n",
        "# data_2005 =  [9762546, 3512547, 2517680, 2456016]\n",
        "# 열 단위로 작동\n",
        "\n",
        "df['2005'] = [9762546, 3512547, 2517680, 2456016]\n",
        "df"
      ],
      "execution_count": null,
      "outputs": [
        {
          "output_type": "execute_result",
          "data": {
            "text/html": [
              "<div>\n",
              "<style scoped>\n",
              "    .dataframe tbody tr th:only-of-type {\n",
              "        vertical-align: middle;\n",
              "    }\n",
              "\n",
              "    .dataframe tbody tr th {\n",
              "        vertical-align: top;\n",
              "    }\n",
              "\n",
              "    .dataframe thead th {\n",
              "        text-align: right;\n",
              "    }\n",
              "</style>\n",
              "<table border=\"1\" class=\"dataframe\">\n",
              "  <thead>\n",
              "    <tr style=\"text-align: right;\">\n",
              "      <th></th>\n",
              "      <th>2015</th>\n",
              "      <th>2010</th>\n",
              "      <th>2005</th>\n",
              "    </tr>\n",
              "  </thead>\n",
              "  <tbody>\n",
              "    <tr>\n",
              "      <th>서울</th>\n",
              "      <td>9904312</td>\n",
              "      <td>9631482</td>\n",
              "      <td>9762546</td>\n",
              "    </tr>\n",
              "    <tr>\n",
              "      <th>부산</th>\n",
              "      <td>3448737</td>\n",
              "      <td>3393191</td>\n",
              "      <td>3512547</td>\n",
              "    </tr>\n",
              "    <tr>\n",
              "      <th>인천</th>\n",
              "      <td>2890451</td>\n",
              "      <td>2632035</td>\n",
              "      <td>2517680</td>\n",
              "    </tr>\n",
              "    <tr>\n",
              "      <th>대구</th>\n",
              "      <td>2466052</td>\n",
              "      <td>2431774</td>\n",
              "      <td>2456016</td>\n",
              "    </tr>\n",
              "  </tbody>\n",
              "</table>\n",
              "</div>"
            ],
            "text/plain": [
              "       2015     2010     2005\n",
              "서울  9904312  9631482  9762546\n",
              "부산  3448737  3393191  3512547\n",
              "인천  2890451  2632035  2517680\n",
              "대구  2466052  2431774  2456016"
            ]
          },
          "metadata": {
            "tags": []
          },
          "execution_count": 81
        }
      ]
    },
    {
      "cell_type": "code",
      "metadata": {
        "colab": {
          "base_uri": "https://localhost:8080/",
          "height": 80
        },
        "id": "0q30Q3lR0K6g",
        "outputId": "f508710f-1163-4c90-a7bd-44c88d0fc692"
      },
      "source": [
        "# 행 인덱스\n",
        "# 슬라이싱을 했을 때는 행 단위로 작동\n",
        "\n",
        "df[0:1]"
      ],
      "execution_count": null,
      "outputs": [
        {
          "output_type": "execute_result",
          "data": {
            "text/html": [
              "<div>\n",
              "<style scoped>\n",
              "    .dataframe tbody tr th:only-of-type {\n",
              "        vertical-align: middle;\n",
              "    }\n",
              "\n",
              "    .dataframe tbody tr th {\n",
              "        vertical-align: top;\n",
              "    }\n",
              "\n",
              "    .dataframe thead th {\n",
              "        text-align: right;\n",
              "    }\n",
              "</style>\n",
              "<table border=\"1\" class=\"dataframe\">\n",
              "  <thead>\n",
              "    <tr style=\"text-align: right;\">\n",
              "      <th></th>\n",
              "      <th>2015</th>\n",
              "      <th>2010</th>\n",
              "      <th>2005</th>\n",
              "    </tr>\n",
              "  </thead>\n",
              "  <tbody>\n",
              "    <tr>\n",
              "      <th>서울</th>\n",
              "      <td>9904312</td>\n",
              "      <td>9631482</td>\n",
              "      <td>9762546</td>\n",
              "    </tr>\n",
              "  </tbody>\n",
              "</table>\n",
              "</div>"
            ],
            "text/plain": [
              "       2015     2010     2005\n",
              "서울  9904312  9631482  9762546"
            ]
          },
          "metadata": {
            "tags": []
          },
          "execution_count": 86
        }
      ]
    },
    {
      "cell_type": "code",
      "metadata": {
        "colab": {
          "base_uri": "https://localhost:8080/",
          "height": 142
        },
        "id": "a4lCB6tN1FAo",
        "outputId": "c3d8442a-87d0-44fc-f21a-5851f25905d9"
      },
      "source": [
        "df['서울' : '인천']"
      ],
      "execution_count": null,
      "outputs": [
        {
          "output_type": "execute_result",
          "data": {
            "text/html": [
              "<div>\n",
              "<style scoped>\n",
              "    .dataframe tbody tr th:only-of-type {\n",
              "        vertical-align: middle;\n",
              "    }\n",
              "\n",
              "    .dataframe tbody tr th {\n",
              "        vertical-align: top;\n",
              "    }\n",
              "\n",
              "    .dataframe thead th {\n",
              "        text-align: right;\n",
              "    }\n",
              "</style>\n",
              "<table border=\"1\" class=\"dataframe\">\n",
              "  <thead>\n",
              "    <tr style=\"text-align: right;\">\n",
              "      <th></th>\n",
              "      <th>2015</th>\n",
              "      <th>2010</th>\n",
              "      <th>2005</th>\n",
              "    </tr>\n",
              "  </thead>\n",
              "  <tbody>\n",
              "    <tr>\n",
              "      <th>서울</th>\n",
              "      <td>9904312</td>\n",
              "      <td>9631482</td>\n",
              "      <td>9762546</td>\n",
              "    </tr>\n",
              "    <tr>\n",
              "      <th>부산</th>\n",
              "      <td>3448737</td>\n",
              "      <td>3393191</td>\n",
              "      <td>3512547</td>\n",
              "    </tr>\n",
              "    <tr>\n",
              "      <th>인천</th>\n",
              "      <td>2890451</td>\n",
              "      <td>2632035</td>\n",
              "      <td>2517680</td>\n",
              "    </tr>\n",
              "  </tbody>\n",
              "</table>\n",
              "</div>"
            ],
            "text/plain": [
              "       2015     2010     2005\n",
              "서울  9904312  9631482  9762546\n",
              "부산  3448737  3393191  3512547\n",
              "인천  2890451  2632035  2517680"
            ]
          },
          "metadata": {
            "tags": []
          },
          "execution_count": 84
        }
      ]
    },
    {
      "cell_type": "code",
      "metadata": {
        "colab": {
          "base_uri": "https://localhost:8080/"
        },
        "id": "SBMySBAP2FcL",
        "outputId": "2ca015ee-fcc6-4f93-e232-4e3889c51673"
      },
      "source": [
        "df['2010']"
      ],
      "execution_count": null,
      "outputs": [
        {
          "output_type": "execute_result",
          "data": {
            "text/plain": [
              "서울    9631482\n",
              "부산    3393191\n",
              "인천    2632035\n",
              "대구    2431774\n",
              "Name: 2010, dtype: int64"
            ]
          },
          "metadata": {
            "tags": []
          },
          "execution_count": 91
        }
      ]
    },
    {
      "cell_type": "code",
      "metadata": {
        "colab": {
          "base_uri": "https://localhost:8080/",
          "height": 142
        },
        "id": "ZPrcevif1UZ1",
        "outputId": "92d89d8f-befa-4da7-b265-6542c08735b1"
      },
      "source": [
        "# Boolean 인덱스\n",
        "\n",
        "df[ df[\"2010\"] > 2500000 ]"
      ],
      "execution_count": null,
      "outputs": [
        {
          "output_type": "execute_result",
          "data": {
            "text/html": [
              "<div>\n",
              "<style scoped>\n",
              "    .dataframe tbody tr th:only-of-type {\n",
              "        vertical-align: middle;\n",
              "    }\n",
              "\n",
              "    .dataframe tbody tr th {\n",
              "        vertical-align: top;\n",
              "    }\n",
              "\n",
              "    .dataframe thead th {\n",
              "        text-align: right;\n",
              "    }\n",
              "</style>\n",
              "<table border=\"1\" class=\"dataframe\">\n",
              "  <thead>\n",
              "    <tr style=\"text-align: right;\">\n",
              "      <th></th>\n",
              "      <th>2015</th>\n",
              "      <th>2010</th>\n",
              "      <th>2005</th>\n",
              "    </tr>\n",
              "  </thead>\n",
              "  <tbody>\n",
              "    <tr>\n",
              "      <th>서울</th>\n",
              "      <td>9904312</td>\n",
              "      <td>9631482</td>\n",
              "      <td>9762546</td>\n",
              "    </tr>\n",
              "    <tr>\n",
              "      <th>부산</th>\n",
              "      <td>3448737</td>\n",
              "      <td>3393191</td>\n",
              "      <td>3512547</td>\n",
              "    </tr>\n",
              "    <tr>\n",
              "      <th>인천</th>\n",
              "      <td>2890451</td>\n",
              "      <td>2632035</td>\n",
              "      <td>2517680</td>\n",
              "    </tr>\n",
              "  </tbody>\n",
              "</table>\n",
              "</div>"
            ],
            "text/plain": [
              "       2015     2010     2005\n",
              "서울  9904312  9631482  9762546\n",
              "부산  3448737  3393191  3512547\n",
              "인천  2890451  2632035  2517680"
            ]
          },
          "metadata": {
            "tags": []
          },
          "execution_count": 88
        }
      ]
    },
    {
      "cell_type": "code",
      "metadata": {
        "colab": {
          "base_uri": "https://localhost:8080/"
        },
        "id": "FFvCv9dA1yko",
        "outputId": "0bd3c5ce-b928-402a-a6fb-4e12a6c7a50e"
      },
      "source": [
        "# 2010년도를 기준으로 250만명을 초과하는 데이터 불러오기\n",
        "\n",
        "df['2010'][ df['2010'] > 250000 ]"
      ],
      "execution_count": null,
      "outputs": [
        {
          "output_type": "execute_result",
          "data": {
            "text/plain": [
              "서울    9631482\n",
              "부산    3393191\n",
              "인천    2632035\n",
              "대구    2431774\n",
              "Name: 2010, dtype: int64"
            ]
          },
          "metadata": {
            "tags": []
          },
          "execution_count": 90
        }
      ]
    },
    {
      "cell_type": "markdown",
      "metadata": {
        "id": "oWFt2Q-2KOVM"
      },
      "source": [
        "#### loc, iloc 인덱서"
      ]
    },
    {
      "cell_type": "code",
      "metadata": {
        "colab": {
          "base_uri": "https://localhost:8080/",
          "height": 172
        },
        "id": "pZo3rN_A22XD",
        "outputId": "0513fa12-c326-4a9a-b878-a06bfbee335f"
      },
      "source": [
        "df"
      ],
      "execution_count": null,
      "outputs": [
        {
          "output_type": "execute_result",
          "data": {
            "text/html": [
              "<div>\n",
              "<style scoped>\n",
              "    .dataframe tbody tr th:only-of-type {\n",
              "        vertical-align: middle;\n",
              "    }\n",
              "\n",
              "    .dataframe tbody tr th {\n",
              "        vertical-align: top;\n",
              "    }\n",
              "\n",
              "    .dataframe thead th {\n",
              "        text-align: right;\n",
              "    }\n",
              "</style>\n",
              "<table border=\"1\" class=\"dataframe\">\n",
              "  <thead>\n",
              "    <tr style=\"text-align: right;\">\n",
              "      <th></th>\n",
              "      <th>2015</th>\n",
              "      <th>2010</th>\n",
              "      <th>2005</th>\n",
              "    </tr>\n",
              "  </thead>\n",
              "  <tbody>\n",
              "    <tr>\n",
              "      <th>서울</th>\n",
              "      <td>9904312</td>\n",
              "      <td>9631482</td>\n",
              "      <td>9762546</td>\n",
              "    </tr>\n",
              "    <tr>\n",
              "      <th>부산</th>\n",
              "      <td>3448737</td>\n",
              "      <td>3393191</td>\n",
              "      <td>3512547</td>\n",
              "    </tr>\n",
              "    <tr>\n",
              "      <th>인천</th>\n",
              "      <td>2890451</td>\n",
              "      <td>2632035</td>\n",
              "      <td>2517680</td>\n",
              "    </tr>\n",
              "    <tr>\n",
              "      <th>대구</th>\n",
              "      <td>2466052</td>\n",
              "      <td>2431774</td>\n",
              "      <td>2456016</td>\n",
              "    </tr>\n",
              "  </tbody>\n",
              "</table>\n",
              "</div>"
            ],
            "text/plain": [
              "       2015     2010     2005\n",
              "서울  9904312  9631482  9762546\n",
              "부산  3448737  3393191  3512547\n",
              "인천  2890451  2632035  2517680\n",
              "대구  2466052  2431774  2456016"
            ]
          },
          "metadata": {
            "tags": []
          },
          "execution_count": 92
        }
      ]
    },
    {
      "cell_type": "code",
      "metadata": {
        "id": "VninBmfEKJdX",
        "colab": {
          "base_uri": "https://localhost:8080/",
          "height": 110
        },
        "outputId": "2f687e23-0680-45c9-f2f8-b1e1f68ba95e"
      },
      "source": [
        "# loc[] - 실제 인덱스를 사용하여 행을 가지고 올 때 사용 (지정한 label을 이용하여 값을 선택)\n",
        "# df.loc[행, 열]\n",
        "\n",
        "df.loc['서울':'부산', '2015':'2010']"
      ],
      "execution_count": null,
      "outputs": [
        {
          "output_type": "execute_result",
          "data": {
            "text/html": [
              "<div>\n",
              "<style scoped>\n",
              "    .dataframe tbody tr th:only-of-type {\n",
              "        vertical-align: middle;\n",
              "    }\n",
              "\n",
              "    .dataframe tbody tr th {\n",
              "        vertical-align: top;\n",
              "    }\n",
              "\n",
              "    .dataframe thead th {\n",
              "        text-align: right;\n",
              "    }\n",
              "</style>\n",
              "<table border=\"1\" class=\"dataframe\">\n",
              "  <thead>\n",
              "    <tr style=\"text-align: right;\">\n",
              "      <th></th>\n",
              "      <th>2015</th>\n",
              "      <th>2010</th>\n",
              "    </tr>\n",
              "  </thead>\n",
              "  <tbody>\n",
              "    <tr>\n",
              "      <th>서울</th>\n",
              "      <td>9904312</td>\n",
              "      <td>9631482</td>\n",
              "    </tr>\n",
              "    <tr>\n",
              "      <th>부산</th>\n",
              "      <td>3448737</td>\n",
              "      <td>3393191</td>\n",
              "    </tr>\n",
              "  </tbody>\n",
              "</table>\n",
              "</div>"
            ],
            "text/plain": [
              "       2015     2010\n",
              "서울  9904312  9631482\n",
              "부산  3448737  3393191"
            ]
          },
          "metadata": {
            "tags": []
          },
          "execution_count": 94
        }
      ]
    },
    {
      "cell_type": "code",
      "metadata": {
        "id": "2VcPV-iyKjP9",
        "colab": {
          "base_uri": "https://localhost:8080/",
          "height": 110
        },
        "outputId": "f72a9fd2-c0e0-43e4-e141-f9d564403863"
      },
      "source": [
        "# iloc[] - numpy의 array인덱싱 방식으로 행을 가지고 올 때 사용\n",
        "# integer postion(정수형 위치 index)를 이용하여 값을 선택\n",
        "\n",
        "df.iloc[:2, :2]"
      ],
      "execution_count": null,
      "outputs": [
        {
          "output_type": "execute_result",
          "data": {
            "text/html": [
              "<div>\n",
              "<style scoped>\n",
              "    .dataframe tbody tr th:only-of-type {\n",
              "        vertical-align: middle;\n",
              "    }\n",
              "\n",
              "    .dataframe tbody tr th {\n",
              "        vertical-align: top;\n",
              "    }\n",
              "\n",
              "    .dataframe thead th {\n",
              "        text-align: right;\n",
              "    }\n",
              "</style>\n",
              "<table border=\"1\" class=\"dataframe\">\n",
              "  <thead>\n",
              "    <tr style=\"text-align: right;\">\n",
              "      <th></th>\n",
              "      <th>2015</th>\n",
              "      <th>2010</th>\n",
              "    </tr>\n",
              "  </thead>\n",
              "  <tbody>\n",
              "    <tr>\n",
              "      <th>서울</th>\n",
              "      <td>9904312</td>\n",
              "      <td>9631482</td>\n",
              "    </tr>\n",
              "    <tr>\n",
              "      <th>부산</th>\n",
              "      <td>3448737</td>\n",
              "      <td>3393191</td>\n",
              "    </tr>\n",
              "  </tbody>\n",
              "</table>\n",
              "</div>"
            ],
            "text/plain": [
              "       2015     2010\n",
              "서울  9904312  9631482\n",
              "부산  3448737  3393191"
            ]
          },
          "metadata": {
            "tags": []
          },
          "execution_count": 95
        }
      ]
    },
    {
      "cell_type": "markdown",
      "metadata": {
        "id": "aCq27YrdN2nz"
      },
      "source": [
        "#### csv 파일-1\n",
        "\n",
        "population_number.csv"
      ]
    },
    {
      "cell_type": "code",
      "metadata": {
        "colab": {
          "base_uri": "https://localhost:8080/",
          "height": 203
        },
        "id": "C2cZ6BTu3z78",
        "outputId": "2c418e92-be13-4b31-e9d1-3f4bd7c42d15"
      },
      "source": [
        "df = pd.read_csv(drive_path + \"population_number.csv\", \n",
        "                 index_col='도시', encoding='euc-kr')\n",
        "df"
      ],
      "execution_count": null,
      "outputs": [
        {
          "output_type": "execute_result",
          "data": {
            "text/html": [
              "<div>\n",
              "<style scoped>\n",
              "    .dataframe tbody tr th:only-of-type {\n",
              "        vertical-align: middle;\n",
              "    }\n",
              "\n",
              "    .dataframe tbody tr th {\n",
              "        vertical-align: top;\n",
              "    }\n",
              "\n",
              "    .dataframe thead th {\n",
              "        text-align: right;\n",
              "    }\n",
              "</style>\n",
              "<table border=\"1\" class=\"dataframe\">\n",
              "  <thead>\n",
              "    <tr style=\"text-align: right;\">\n",
              "      <th></th>\n",
              "      <th>지역</th>\n",
              "      <th>2015</th>\n",
              "      <th>2010</th>\n",
              "      <th>2005</th>\n",
              "      <th>2000</th>\n",
              "    </tr>\n",
              "    <tr>\n",
              "      <th>도시</th>\n",
              "      <th></th>\n",
              "      <th></th>\n",
              "      <th></th>\n",
              "      <th></th>\n",
              "      <th></th>\n",
              "    </tr>\n",
              "  </thead>\n",
              "  <tbody>\n",
              "    <tr>\n",
              "      <th>서울</th>\n",
              "      <td>수도권</td>\n",
              "      <td>9904312</td>\n",
              "      <td>9631482.0</td>\n",
              "      <td>9762546.0</td>\n",
              "      <td>9853972</td>\n",
              "    </tr>\n",
              "    <tr>\n",
              "      <th>부산</th>\n",
              "      <td>경상권</td>\n",
              "      <td>3448737</td>\n",
              "      <td>NaN</td>\n",
              "      <td>NaN</td>\n",
              "      <td>3655437</td>\n",
              "    </tr>\n",
              "    <tr>\n",
              "      <th>인천</th>\n",
              "      <td>수도권</td>\n",
              "      <td>2890451</td>\n",
              "      <td>2632035.0</td>\n",
              "      <td>NaN</td>\n",
              "      <td>2466338</td>\n",
              "    </tr>\n",
              "    <tr>\n",
              "      <th>대구</th>\n",
              "      <td>경상권</td>\n",
              "      <td>2466052</td>\n",
              "      <td>2431774.0</td>\n",
              "      <td>2456016.0</td>\n",
              "      <td>2473990</td>\n",
              "    </tr>\n",
              "  </tbody>\n",
              "</table>\n",
              "</div>"
            ],
            "text/plain": [
              "     지역     2015       2010       2005     2000\n",
              "도시                                             \n",
              "서울  수도권  9904312  9631482.0  9762546.0  9853972\n",
              "부산  경상권  3448737        NaN        NaN  3655437\n",
              "인천  수도권  2890451  2632035.0        NaN  2466338\n",
              "대구  경상권  2466052  2431774.0  2456016.0  2473990"
            ]
          },
          "metadata": {
            "tags": []
          },
          "execution_count": 96
        }
      ]
    },
    {
      "cell_type": "code",
      "metadata": {
        "id": "xk4QZCJnQTSz",
        "colab": {
          "base_uri": "https://localhost:8080/"
        },
        "outputId": "73d77a4a-35f3-48a8-fd6e-71bfa992d923"
      },
      "source": [
        "# value_counts 함수\n",
        "# - 값이 숫자, 문자열, 카테고리 값인 경우에 각각의 값이 나온 횟수를 셀 수 있다.\n",
        "\n",
        "import numpy as np\n",
        "\n",
        "s = pd.Series(np.random.randint(6, size = 100))\n",
        "s.value_counts()\n",
        "s.head(3), s.tail(3)"
      ],
      "execution_count": null,
      "outputs": [
        {
          "output_type": "execute_result",
          "data": {
            "text/plain": [
              "(0    0\n",
              " 1    2\n",
              " 2    0\n",
              " dtype: int64, 97    1\n",
              " 98    2\n",
              " 99    0\n",
              " dtype: int64)"
            ]
          },
          "metadata": {
            "tags": []
          },
          "execution_count": 103
        }
      ]
    },
    {
      "cell_type": "code",
      "metadata": {
        "colab": {
          "base_uri": "https://localhost:8080/"
        },
        "id": "WgWBOD4H55kk",
        "outputId": "b60ab721-e0b1-4559-f386-511f1b21dd0c"
      },
      "source": [
        "df.count()"
      ],
      "execution_count": null,
      "outputs": [
        {
          "output_type": "execute_result",
          "data": {
            "text/plain": [
              "지역      4\n",
              "2015    4\n",
              "2010    3\n",
              "2005    2\n",
              "2000    4\n",
              "dtype: int64"
            ]
          },
          "metadata": {
            "tags": []
          },
          "execution_count": 104
        }
      ]
    },
    {
      "cell_type": "code",
      "metadata": {
        "colab": {
          "base_uri": "https://localhost:8080/"
        },
        "id": "66JOAjUg6KL2",
        "outputId": "e0d36c0b-1637-45f8-bf60-f7a316e3d45f"
      },
      "source": [
        "df['2015'].value_counts()"
      ],
      "execution_count": null,
      "outputs": [
        {
          "output_type": "execute_result",
          "data": {
            "text/plain": [
              "2466052    1\n",
              "2890451    1\n",
              "3448737    1\n",
              "9904312    1\n",
              "Name: 2015, dtype: int64"
            ]
          },
          "metadata": {
            "tags": []
          },
          "execution_count": 105
        }
      ]
    },
    {
      "cell_type": "code",
      "metadata": {
        "id": "Qhy19-dOx0FP",
        "colab": {
          "base_uri": "https://localhost:8080/"
        },
        "outputId": "281510e1-a702-45cd-84d8-15c3bd364c82"
      },
      "source": [
        "# 정렬\n",
        "# sort_index 함수 : 인덱스 값을 기준으로 정렬한다.\n",
        "# sort_values 함수 : 데이터 값을 기준으로 정렬한다.\n",
        "\n",
        "df['2010']"
      ],
      "execution_count": null,
      "outputs": [
        {
          "output_type": "execute_result",
          "data": {
            "text/plain": [
              "도시\n",
              "서울    9631482.0\n",
              "부산          NaN\n",
              "인천    2632035.0\n",
              "대구    2431774.0\n",
              "Name: 2010, dtype: float64"
            ]
          },
          "metadata": {
            "tags": []
          },
          "execution_count": 106
        }
      ]
    },
    {
      "cell_type": "code",
      "metadata": {
        "colab": {
          "base_uri": "https://localhost:8080/"
        },
        "id": "jz6uoF_16bDE",
        "outputId": "e5ce690c-009a-473b-e0ea-308c13422593"
      },
      "source": [
        "df['2010'].sort_values()"
      ],
      "execution_count": null,
      "outputs": [
        {
          "output_type": "execute_result",
          "data": {
            "text/plain": [
              "도시\n",
              "대구    2431774.0\n",
              "인천    2632035.0\n",
              "서울    9631482.0\n",
              "부산          NaN\n",
              "Name: 2010, dtype: float64"
            ]
          },
          "metadata": {
            "tags": []
          },
          "execution_count": 107
        }
      ]
    },
    {
      "cell_type": "code",
      "metadata": {
        "id": "hihpG2hyyPi6",
        "colab": {
          "base_uri": "https://localhost:8080/",
          "height": 203
        },
        "outputId": "1b92286d-9351-4c5d-9995-cf6f15293637"
      },
      "source": [
        "# DataFrame을 2010년 인구수 기준으로 정렬\n",
        "# ascending = True (디폴트값, 오름차순)\n",
        "\n",
        "df.sort_values(by = '2010', ascending = False) # ascending = False : 내림차순 "
      ],
      "execution_count": null,
      "outputs": [
        {
          "output_type": "execute_result",
          "data": {
            "text/html": [
              "<div>\n",
              "<style scoped>\n",
              "    .dataframe tbody tr th:only-of-type {\n",
              "        vertical-align: middle;\n",
              "    }\n",
              "\n",
              "    .dataframe tbody tr th {\n",
              "        vertical-align: top;\n",
              "    }\n",
              "\n",
              "    .dataframe thead th {\n",
              "        text-align: right;\n",
              "    }\n",
              "</style>\n",
              "<table border=\"1\" class=\"dataframe\">\n",
              "  <thead>\n",
              "    <tr style=\"text-align: right;\">\n",
              "      <th></th>\n",
              "      <th>지역</th>\n",
              "      <th>2015</th>\n",
              "      <th>2010</th>\n",
              "      <th>2005</th>\n",
              "      <th>2000</th>\n",
              "    </tr>\n",
              "    <tr>\n",
              "      <th>도시</th>\n",
              "      <th></th>\n",
              "      <th></th>\n",
              "      <th></th>\n",
              "      <th></th>\n",
              "      <th></th>\n",
              "    </tr>\n",
              "  </thead>\n",
              "  <tbody>\n",
              "    <tr>\n",
              "      <th>서울</th>\n",
              "      <td>수도권</td>\n",
              "      <td>9904312</td>\n",
              "      <td>9631482.0</td>\n",
              "      <td>9762546.0</td>\n",
              "      <td>9853972</td>\n",
              "    </tr>\n",
              "    <tr>\n",
              "      <th>인천</th>\n",
              "      <td>수도권</td>\n",
              "      <td>2890451</td>\n",
              "      <td>2632035.0</td>\n",
              "      <td>NaN</td>\n",
              "      <td>2466338</td>\n",
              "    </tr>\n",
              "    <tr>\n",
              "      <th>대구</th>\n",
              "      <td>경상권</td>\n",
              "      <td>2466052</td>\n",
              "      <td>2431774.0</td>\n",
              "      <td>2456016.0</td>\n",
              "      <td>2473990</td>\n",
              "    </tr>\n",
              "    <tr>\n",
              "      <th>부산</th>\n",
              "      <td>경상권</td>\n",
              "      <td>3448737</td>\n",
              "      <td>NaN</td>\n",
              "      <td>NaN</td>\n",
              "      <td>3655437</td>\n",
              "    </tr>\n",
              "  </tbody>\n",
              "</table>\n",
              "</div>"
            ],
            "text/plain": [
              "     지역     2015       2010       2005     2000\n",
              "도시                                             \n",
              "서울  수도권  9904312  9631482.0  9762546.0  9853972\n",
              "인천  수도권  2890451  2632035.0        NaN  2466338\n",
              "대구  경상권  2466052  2431774.0  2456016.0  2473990\n",
              "부산  경상권  3448737        NaN        NaN  3655437"
            ]
          },
          "metadata": {
            "tags": []
          },
          "execution_count": 109
        }
      ]
    },
    {
      "cell_type": "code",
      "metadata": {
        "id": "lz-7LCFGydPe",
        "colab": {
          "base_uri": "https://localhost:8080/",
          "height": 203
        },
        "outputId": "ffc32da7-9a5c-44cc-a028-197f1f1d5e63"
      },
      "source": [
        "# DataFrame을 지역, 2010년 인구수 기준으로 정렬\n",
        "# 정렬 조건을 여러개 줄 수 있다.\n",
        "\n",
        "df.sort_values(by = ['지역', '2010'], ascending = False)"
      ],
      "execution_count": null,
      "outputs": [
        {
          "output_type": "execute_result",
          "data": {
            "text/html": [
              "<div>\n",
              "<style scoped>\n",
              "    .dataframe tbody tr th:only-of-type {\n",
              "        vertical-align: middle;\n",
              "    }\n",
              "\n",
              "    .dataframe tbody tr th {\n",
              "        vertical-align: top;\n",
              "    }\n",
              "\n",
              "    .dataframe thead th {\n",
              "        text-align: right;\n",
              "    }\n",
              "</style>\n",
              "<table border=\"1\" class=\"dataframe\">\n",
              "  <thead>\n",
              "    <tr style=\"text-align: right;\">\n",
              "      <th></th>\n",
              "      <th>지역</th>\n",
              "      <th>2015</th>\n",
              "      <th>2010</th>\n",
              "      <th>2005</th>\n",
              "      <th>2000</th>\n",
              "    </tr>\n",
              "    <tr>\n",
              "      <th>도시</th>\n",
              "      <th></th>\n",
              "      <th></th>\n",
              "      <th></th>\n",
              "      <th></th>\n",
              "      <th></th>\n",
              "    </tr>\n",
              "  </thead>\n",
              "  <tbody>\n",
              "    <tr>\n",
              "      <th>서울</th>\n",
              "      <td>수도권</td>\n",
              "      <td>9904312</td>\n",
              "      <td>9631482.0</td>\n",
              "      <td>9762546.0</td>\n",
              "      <td>9853972</td>\n",
              "    </tr>\n",
              "    <tr>\n",
              "      <th>인천</th>\n",
              "      <td>수도권</td>\n",
              "      <td>2890451</td>\n",
              "      <td>2632035.0</td>\n",
              "      <td>NaN</td>\n",
              "      <td>2466338</td>\n",
              "    </tr>\n",
              "    <tr>\n",
              "      <th>대구</th>\n",
              "      <td>경상권</td>\n",
              "      <td>2466052</td>\n",
              "      <td>2431774.0</td>\n",
              "      <td>2456016.0</td>\n",
              "      <td>2473990</td>\n",
              "    </tr>\n",
              "    <tr>\n",
              "      <th>부산</th>\n",
              "      <td>경상권</td>\n",
              "      <td>3448737</td>\n",
              "      <td>NaN</td>\n",
              "      <td>NaN</td>\n",
              "      <td>3655437</td>\n",
              "    </tr>\n",
              "  </tbody>\n",
              "</table>\n",
              "</div>"
            ],
            "text/plain": [
              "     지역     2015       2010       2005     2000\n",
              "도시                                             \n",
              "서울  수도권  9904312  9631482.0  9762546.0  9853972\n",
              "인천  수도권  2890451  2632035.0        NaN  2466338\n",
              "대구  경상권  2466052  2431774.0  2456016.0  2473990\n",
              "부산  경상권  3448737        NaN        NaN  3655437"
            ]
          },
          "metadata": {
            "tags": []
          },
          "execution_count": 110
        }
      ]
    },
    {
      "cell_type": "markdown",
      "metadata": {
        "id": "QmIcE07nyyEb"
      },
      "source": [
        "#### csv 파일-2\n",
        "\n",
        "score.csv"
      ]
    },
    {
      "cell_type": "code",
      "metadata": {
        "colab": {
          "base_uri": "https://localhost:8080/",
          "height": 234
        },
        "id": "h2GvZevd7qIw",
        "outputId": "1d5786ad-70a8-4d22-85b2-68d4627425a6"
      },
      "source": [
        "score = pd.read_csv(drive_path + 'score.csv', index_col = '과목', encoding = 'euc-kr')\n",
        "score"
      ],
      "execution_count": null,
      "outputs": [
        {
          "output_type": "execute_result",
          "data": {
            "text/html": [
              "<div>\n",
              "<style scoped>\n",
              "    .dataframe tbody tr th:only-of-type {\n",
              "        vertical-align: middle;\n",
              "    }\n",
              "\n",
              "    .dataframe tbody tr th {\n",
              "        vertical-align: top;\n",
              "    }\n",
              "\n",
              "    .dataframe thead th {\n",
              "        text-align: right;\n",
              "    }\n",
              "</style>\n",
              "<table border=\"1\" class=\"dataframe\">\n",
              "  <thead>\n",
              "    <tr style=\"text-align: right;\">\n",
              "      <th></th>\n",
              "      <th>1반</th>\n",
              "      <th>2반</th>\n",
              "      <th>3반</th>\n",
              "      <th>4반</th>\n",
              "    </tr>\n",
              "    <tr>\n",
              "      <th>과목</th>\n",
              "      <th></th>\n",
              "      <th></th>\n",
              "      <th></th>\n",
              "      <th></th>\n",
              "    </tr>\n",
              "  </thead>\n",
              "  <tbody>\n",
              "    <tr>\n",
              "      <th>수학</th>\n",
              "      <td>45</td>\n",
              "      <td>44</td>\n",
              "      <td>73</td>\n",
              "      <td>39</td>\n",
              "    </tr>\n",
              "    <tr>\n",
              "      <th>영어</th>\n",
              "      <td>76</td>\n",
              "      <td>92</td>\n",
              "      <td>45</td>\n",
              "      <td>69</td>\n",
              "    </tr>\n",
              "    <tr>\n",
              "      <th>국어</th>\n",
              "      <td>47</td>\n",
              "      <td>92</td>\n",
              "      <td>45</td>\n",
              "      <td>69</td>\n",
              "    </tr>\n",
              "    <tr>\n",
              "      <th>사회</th>\n",
              "      <td>92</td>\n",
              "      <td>81</td>\n",
              "      <td>85</td>\n",
              "      <td>40</td>\n",
              "    </tr>\n",
              "    <tr>\n",
              "      <th>과학</th>\n",
              "      <td>11</td>\n",
              "      <td>79</td>\n",
              "      <td>47</td>\n",
              "      <td>26</td>\n",
              "    </tr>\n",
              "  </tbody>\n",
              "</table>\n",
              "</div>"
            ],
            "text/plain": [
              "    1반  2반  3반  4반\n",
              "과목                \n",
              "수학  45  44  73  39\n",
              "영어  76  92  45  69\n",
              "국어  47  92  45  69\n",
              "사회  92  81  85  40\n",
              "과학  11  79  47  26"
            ]
          },
          "metadata": {
            "tags": []
          },
          "execution_count": 145
        }
      ]
    },
    {
      "cell_type": "code",
      "metadata": {
        "id": "IE6pqYrUzpye",
        "colab": {
          "base_uri": "https://localhost:8080/"
        },
        "outputId": "177adb34-e022-4cb0-8e22-451104365202"
      },
      "source": [
        "# 학급별 총계\n",
        "# sum() : 열 단위로 구해진다. (축을 0을 기준으로)\n",
        "# 결과는 Series로 나온다\n",
        "\n",
        "score.sum()"
      ],
      "execution_count": null,
      "outputs": [
        {
          "output_type": "execute_result",
          "data": {
            "text/plain": [
              "1반    271\n",
              "2반    388\n",
              "3반    295\n",
              "4반    243\n",
              "dtype: int64"
            ]
          },
          "metadata": {
            "tags": []
          },
          "execution_count": 146
        }
      ]
    },
    {
      "cell_type": "code",
      "metadata": {
        "id": "FLkbvBRkztTk",
        "colab": {
          "base_uri": "https://localhost:8080/"
        },
        "outputId": "fd3d2d33-87c2-4e9d-a919-cd729b154ce6"
      },
      "source": [
        "# 학급별 순위 \n",
        "\n",
        "score.sum().sort_values(ascending = False)"
      ],
      "execution_count": null,
      "outputs": [
        {
          "output_type": "execute_result",
          "data": {
            "text/plain": [
              "2반    388\n",
              "3반    295\n",
              "1반    271\n",
              "4반    243\n",
              "dtype: int64"
            ]
          },
          "metadata": {
            "tags": []
          },
          "execution_count": 147
        }
      ]
    },
    {
      "cell_type": "code",
      "metadata": {
        "id": "Yq1oUDHEz2Jz",
        "colab": {
          "base_uri": "https://localhost:8080/"
        },
        "outputId": "c8df9acb-7317-4fb8-d835-3fe6d11f557e"
      },
      "source": [
        "# 과목별 총계\n",
        "# 축 디폴트값 : axis = 0\n",
        "\n",
        "score.sum(axis = 1).sort_values(ascending = False)"
      ],
      "execution_count": null,
      "outputs": [
        {
          "output_type": "execute_result",
          "data": {
            "text/plain": [
              "과목\n",
              "사회    298\n",
              "영어    282\n",
              "국어    253\n",
              "수학    201\n",
              "과학    163\n",
              "dtype: int64"
            ]
          },
          "metadata": {
            "tags": []
          },
          "execution_count": 148
        }
      ]
    },
    {
      "cell_type": "code",
      "metadata": {
        "id": "ADuUmmO6z7uL",
        "colab": {
          "base_uri": "https://localhost:8080/",
          "height": 234
        },
        "outputId": "674d4a2d-3564-457d-d1aa-5264f56c5222"
      },
      "source": [
        "# 과목별 합계를 DataFrame에 추가\n",
        "\n",
        "score['합계'] = score.sum(axis = 1)\n",
        "score"
      ],
      "execution_count": null,
      "outputs": [
        {
          "output_type": "execute_result",
          "data": {
            "text/html": [
              "<div>\n",
              "<style scoped>\n",
              "    .dataframe tbody tr th:only-of-type {\n",
              "        vertical-align: middle;\n",
              "    }\n",
              "\n",
              "    .dataframe tbody tr th {\n",
              "        vertical-align: top;\n",
              "    }\n",
              "\n",
              "    .dataframe thead th {\n",
              "        text-align: right;\n",
              "    }\n",
              "</style>\n",
              "<table border=\"1\" class=\"dataframe\">\n",
              "  <thead>\n",
              "    <tr style=\"text-align: right;\">\n",
              "      <th></th>\n",
              "      <th>1반</th>\n",
              "      <th>2반</th>\n",
              "      <th>3반</th>\n",
              "      <th>4반</th>\n",
              "      <th>합계</th>\n",
              "    </tr>\n",
              "    <tr>\n",
              "      <th>과목</th>\n",
              "      <th></th>\n",
              "      <th></th>\n",
              "      <th></th>\n",
              "      <th></th>\n",
              "      <th></th>\n",
              "    </tr>\n",
              "  </thead>\n",
              "  <tbody>\n",
              "    <tr>\n",
              "      <th>수학</th>\n",
              "      <td>45</td>\n",
              "      <td>44</td>\n",
              "      <td>73</td>\n",
              "      <td>39</td>\n",
              "      <td>201</td>\n",
              "    </tr>\n",
              "    <tr>\n",
              "      <th>영어</th>\n",
              "      <td>76</td>\n",
              "      <td>92</td>\n",
              "      <td>45</td>\n",
              "      <td>69</td>\n",
              "      <td>282</td>\n",
              "    </tr>\n",
              "    <tr>\n",
              "      <th>국어</th>\n",
              "      <td>47</td>\n",
              "      <td>92</td>\n",
              "      <td>45</td>\n",
              "      <td>69</td>\n",
              "      <td>253</td>\n",
              "    </tr>\n",
              "    <tr>\n",
              "      <th>사회</th>\n",
              "      <td>92</td>\n",
              "      <td>81</td>\n",
              "      <td>85</td>\n",
              "      <td>40</td>\n",
              "      <td>298</td>\n",
              "    </tr>\n",
              "    <tr>\n",
              "      <th>과학</th>\n",
              "      <td>11</td>\n",
              "      <td>79</td>\n",
              "      <td>47</td>\n",
              "      <td>26</td>\n",
              "      <td>163</td>\n",
              "    </tr>\n",
              "  </tbody>\n",
              "</table>\n",
              "</div>"
            ],
            "text/plain": [
              "    1반  2반  3반  4반   합계\n",
              "과목                     \n",
              "수학  45  44  73  39  201\n",
              "영어  76  92  45  69  282\n",
              "국어  47  92  45  69  253\n",
              "사회  92  81  85  40  298\n",
              "과학  11  79  47  26  163"
            ]
          },
          "metadata": {
            "tags": []
          },
          "execution_count": 149
        }
      ]
    },
    {
      "cell_type": "code",
      "metadata": {
        "colab": {
          "base_uri": "https://localhost:8080/",
          "height": 234
        },
        "id": "eHKDauI9-wYn",
        "outputId": "7d9fdc5d-a169-47a7-dcc4-82052d5fb576"
      },
      "source": [
        "# 데이터 삭제\n",
        "# del score['합계']\n",
        "score.drop('합계', axis = 1, inplace = True)\n",
        "score"
      ],
      "execution_count": null,
      "outputs": [
        {
          "output_type": "execute_result",
          "data": {
            "text/html": [
              "<div>\n",
              "<style scoped>\n",
              "    .dataframe tbody tr th:only-of-type {\n",
              "        vertical-align: middle;\n",
              "    }\n",
              "\n",
              "    .dataframe tbody tr th {\n",
              "        vertical-align: top;\n",
              "    }\n",
              "\n",
              "    .dataframe thead th {\n",
              "        text-align: right;\n",
              "    }\n",
              "</style>\n",
              "<table border=\"1\" class=\"dataframe\">\n",
              "  <thead>\n",
              "    <tr style=\"text-align: right;\">\n",
              "      <th></th>\n",
              "      <th>1반</th>\n",
              "      <th>2반</th>\n",
              "      <th>3반</th>\n",
              "      <th>4반</th>\n",
              "    </tr>\n",
              "    <tr>\n",
              "      <th>과목</th>\n",
              "      <th></th>\n",
              "      <th></th>\n",
              "      <th></th>\n",
              "      <th></th>\n",
              "    </tr>\n",
              "  </thead>\n",
              "  <tbody>\n",
              "    <tr>\n",
              "      <th>수학</th>\n",
              "      <td>45</td>\n",
              "      <td>44</td>\n",
              "      <td>73</td>\n",
              "      <td>39</td>\n",
              "    </tr>\n",
              "    <tr>\n",
              "      <th>영어</th>\n",
              "      <td>76</td>\n",
              "      <td>92</td>\n",
              "      <td>45</td>\n",
              "      <td>69</td>\n",
              "    </tr>\n",
              "    <tr>\n",
              "      <th>국어</th>\n",
              "      <td>47</td>\n",
              "      <td>92</td>\n",
              "      <td>45</td>\n",
              "      <td>69</td>\n",
              "    </tr>\n",
              "    <tr>\n",
              "      <th>사회</th>\n",
              "      <td>92</td>\n",
              "      <td>81</td>\n",
              "      <td>85</td>\n",
              "      <td>40</td>\n",
              "    </tr>\n",
              "    <tr>\n",
              "      <th>과학</th>\n",
              "      <td>11</td>\n",
              "      <td>79</td>\n",
              "      <td>47</td>\n",
              "      <td>26</td>\n",
              "    </tr>\n",
              "  </tbody>\n",
              "</table>\n",
              "</div>"
            ],
            "text/plain": [
              "    1반  2반  3반  4반\n",
              "과목                \n",
              "수학  45  44  73  39\n",
              "영어  76  92  45  69\n",
              "국어  47  92  45  69\n",
              "사회  92  81  85  40\n",
              "과학  11  79  47  26"
            ]
          },
          "metadata": {
            "tags": []
          },
          "execution_count": 150
        }
      ]
    },
    {
      "cell_type": "code",
      "metadata": {
        "colab": {
          "base_uri": "https://localhost:8080/"
        },
        "id": "baDCfkiLXcXU",
        "outputId": "1a7de558-ce8d-47f2-99d0-013db756c88d"
      },
      "source": [
        "# 데이터에서 가장 큰 값\n",
        "\n",
        "score.max()"
      ],
      "execution_count": null,
      "outputs": [
        {
          "output_type": "execute_result",
          "data": {
            "text/plain": [
              "1반    92\n",
              "2반    92\n",
              "3반    85\n",
              "4반    69\n",
              "dtype: int64"
            ]
          },
          "metadata": {
            "tags": []
          },
          "execution_count": 134
        }
      ]
    },
    {
      "cell_type": "code",
      "metadata": {
        "colab": {
          "base_uri": "https://localhost:8080/"
        },
        "id": "57eR2oblXfp9",
        "outputId": "d73ec74b-1c7b-43d5-bd45-3b4b2ba51a92"
      },
      "source": [
        "score.max(axis = 1)"
      ],
      "execution_count": null,
      "outputs": [
        {
          "output_type": "execute_result",
          "data": {
            "text/plain": [
              "과목\n",
              "수학    73\n",
              "영어    92\n",
              "국어    92\n",
              "사회    92\n",
              "과학    79\n",
              "dtype: int64"
            ]
          },
          "metadata": {
            "tags": []
          },
          "execution_count": 135
        }
      ]
    },
    {
      "cell_type": "code",
      "metadata": {
        "colab": {
          "base_uri": "https://localhost:8080/"
        },
        "id": "gzf5L8brXnYI",
        "outputId": "2b0cac4a-b01c-49c4-fa39-7ec5b2b3795c"
      },
      "source": [
        "# 데이터에서 가장 작은 값 출력\n",
        "\n",
        "score.min()"
      ],
      "execution_count": null,
      "outputs": [
        {
          "output_type": "execute_result",
          "data": {
            "text/plain": [
              "1반    11\n",
              "2반    44\n",
              "3반    45\n",
              "4반    26\n",
              "dtype: int64"
            ]
          },
          "metadata": {
            "tags": []
          },
          "execution_count": 136
        }
      ]
    },
    {
      "cell_type": "markdown",
      "metadata": {
        "id": "lUlJOgBp0MLC"
      },
      "source": [
        "#### Pandas 연습 03-1\n",
        "\n",
        "과목별 평균을 계산하여 column 추가하기\n",
        "```\n",
        "\n",
        "        1반  2반\t3반\t4반\t합계\t평균\n",
        "과목\t\t\t\t\t\t\n",
        "수학\t45\t44\t73\t39\t201\t50.25\n",
        "영어\t76\t92\t45\t69\t282\t70.50\n",
        "국어\t47\t92\t45\t69\t253\t63.25\n",
        "사회\t92\t81\t85\t40\t298\t74.50\n",
        "과학\t11\t79\t47\t26\t163\t40.75\n",
        "```\n"
      ]
    },
    {
      "cell_type": "code",
      "metadata": {
        "id": "AiC62Fq0C5Eh",
        "colab": {
          "base_uri": "https://localhost:8080/",
          "height": 234
        },
        "outputId": "f419061d-b3d7-4cda-a7b3-188592774478"
      },
      "source": [
        "score['합계'] = score.sum(axis = 1)\n",
        "score"
      ],
      "execution_count": null,
      "outputs": [
        {
          "output_type": "execute_result",
          "data": {
            "text/html": [
              "<div>\n",
              "<style scoped>\n",
              "    .dataframe tbody tr th:only-of-type {\n",
              "        vertical-align: middle;\n",
              "    }\n",
              "\n",
              "    .dataframe tbody tr th {\n",
              "        vertical-align: top;\n",
              "    }\n",
              "\n",
              "    .dataframe thead th {\n",
              "        text-align: right;\n",
              "    }\n",
              "</style>\n",
              "<table border=\"1\" class=\"dataframe\">\n",
              "  <thead>\n",
              "    <tr style=\"text-align: right;\">\n",
              "      <th></th>\n",
              "      <th>1반</th>\n",
              "      <th>2반</th>\n",
              "      <th>3반</th>\n",
              "      <th>4반</th>\n",
              "      <th>합계</th>\n",
              "    </tr>\n",
              "    <tr>\n",
              "      <th>과목</th>\n",
              "      <th></th>\n",
              "      <th></th>\n",
              "      <th></th>\n",
              "      <th></th>\n",
              "      <th></th>\n",
              "    </tr>\n",
              "  </thead>\n",
              "  <tbody>\n",
              "    <tr>\n",
              "      <th>수학</th>\n",
              "      <td>45</td>\n",
              "      <td>44</td>\n",
              "      <td>73</td>\n",
              "      <td>39</td>\n",
              "      <td>201</td>\n",
              "    </tr>\n",
              "    <tr>\n",
              "      <th>영어</th>\n",
              "      <td>76</td>\n",
              "      <td>92</td>\n",
              "      <td>45</td>\n",
              "      <td>69</td>\n",
              "      <td>282</td>\n",
              "    </tr>\n",
              "    <tr>\n",
              "      <th>국어</th>\n",
              "      <td>47</td>\n",
              "      <td>92</td>\n",
              "      <td>45</td>\n",
              "      <td>69</td>\n",
              "      <td>253</td>\n",
              "    </tr>\n",
              "    <tr>\n",
              "      <th>사회</th>\n",
              "      <td>92</td>\n",
              "      <td>81</td>\n",
              "      <td>85</td>\n",
              "      <td>40</td>\n",
              "      <td>298</td>\n",
              "    </tr>\n",
              "    <tr>\n",
              "      <th>과학</th>\n",
              "      <td>11</td>\n",
              "      <td>79</td>\n",
              "      <td>47</td>\n",
              "      <td>26</td>\n",
              "      <td>163</td>\n",
              "    </tr>\n",
              "  </tbody>\n",
              "</table>\n",
              "</div>"
            ],
            "text/plain": [
              "    1반  2반  3반  4반   합계\n",
              "과목                     \n",
              "수학  45  44  73  39  201\n",
              "영어  76  92  45  69  282\n",
              "국어  47  92  45  69  253\n",
              "사회  92  81  85  40  298\n",
              "과학  11  79  47  26  163"
            ]
          },
          "metadata": {
            "tags": []
          },
          "execution_count": 151
        }
      ]
    },
    {
      "cell_type": "code",
      "metadata": {
        "colab": {
          "base_uri": "https://localhost:8080/",
          "height": 234
        },
        "id": "n7n6EBJlZEjS",
        "outputId": "5c62ba1c-1520-41ab-9300-7d4b407b38cf"
      },
      "source": [
        "score.loc[:, :'4반']"
      ],
      "execution_count": null,
      "outputs": [
        {
          "output_type": "execute_result",
          "data": {
            "text/html": [
              "<div>\n",
              "<style scoped>\n",
              "    .dataframe tbody tr th:only-of-type {\n",
              "        vertical-align: middle;\n",
              "    }\n",
              "\n",
              "    .dataframe tbody tr th {\n",
              "        vertical-align: top;\n",
              "    }\n",
              "\n",
              "    .dataframe thead th {\n",
              "        text-align: right;\n",
              "    }\n",
              "</style>\n",
              "<table border=\"1\" class=\"dataframe\">\n",
              "  <thead>\n",
              "    <tr style=\"text-align: right;\">\n",
              "      <th></th>\n",
              "      <th>1반</th>\n",
              "      <th>2반</th>\n",
              "      <th>3반</th>\n",
              "      <th>4반</th>\n",
              "    </tr>\n",
              "    <tr>\n",
              "      <th>과목</th>\n",
              "      <th></th>\n",
              "      <th></th>\n",
              "      <th></th>\n",
              "      <th></th>\n",
              "    </tr>\n",
              "  </thead>\n",
              "  <tbody>\n",
              "    <tr>\n",
              "      <th>수학</th>\n",
              "      <td>45</td>\n",
              "      <td>44</td>\n",
              "      <td>73</td>\n",
              "      <td>39</td>\n",
              "    </tr>\n",
              "    <tr>\n",
              "      <th>영어</th>\n",
              "      <td>76</td>\n",
              "      <td>92</td>\n",
              "      <td>45</td>\n",
              "      <td>69</td>\n",
              "    </tr>\n",
              "    <tr>\n",
              "      <th>국어</th>\n",
              "      <td>47</td>\n",
              "      <td>92</td>\n",
              "      <td>45</td>\n",
              "      <td>69</td>\n",
              "    </tr>\n",
              "    <tr>\n",
              "      <th>사회</th>\n",
              "      <td>92</td>\n",
              "      <td>81</td>\n",
              "      <td>85</td>\n",
              "      <td>40</td>\n",
              "    </tr>\n",
              "    <tr>\n",
              "      <th>과학</th>\n",
              "      <td>11</td>\n",
              "      <td>79</td>\n",
              "      <td>47</td>\n",
              "      <td>26</td>\n",
              "    </tr>\n",
              "  </tbody>\n",
              "</table>\n",
              "</div>"
            ],
            "text/plain": [
              "    1반  2반  3반  4반\n",
              "과목                \n",
              "수학  45  44  73  39\n",
              "영어  76  92  45  69\n",
              "국어  47  92  45  69\n",
              "사회  92  81  85  40\n",
              "과학  11  79  47  26"
            ]
          },
          "metadata": {
            "tags": []
          },
          "execution_count": 157
        }
      ]
    },
    {
      "cell_type": "code",
      "metadata": {
        "colab": {
          "base_uri": "https://localhost:8080/",
          "height": 234
        },
        "id": "3UyKC843X082",
        "outputId": "230b8ce0-833e-498d-b721-173ab7f867bb"
      },
      "source": [
        "score['평균'] = score.loc[:, :'4반'].mean(axis = 1)\n",
        "score"
      ],
      "execution_count": null,
      "outputs": [
        {
          "output_type": "execute_result",
          "data": {
            "text/html": [
              "<div>\n",
              "<style scoped>\n",
              "    .dataframe tbody tr th:only-of-type {\n",
              "        vertical-align: middle;\n",
              "    }\n",
              "\n",
              "    .dataframe tbody tr th {\n",
              "        vertical-align: top;\n",
              "    }\n",
              "\n",
              "    .dataframe thead th {\n",
              "        text-align: right;\n",
              "    }\n",
              "</style>\n",
              "<table border=\"1\" class=\"dataframe\">\n",
              "  <thead>\n",
              "    <tr style=\"text-align: right;\">\n",
              "      <th></th>\n",
              "      <th>1반</th>\n",
              "      <th>2반</th>\n",
              "      <th>3반</th>\n",
              "      <th>4반</th>\n",
              "      <th>합계</th>\n",
              "      <th>평균</th>\n",
              "    </tr>\n",
              "    <tr>\n",
              "      <th>과목</th>\n",
              "      <th></th>\n",
              "      <th></th>\n",
              "      <th></th>\n",
              "      <th></th>\n",
              "      <th></th>\n",
              "      <th></th>\n",
              "    </tr>\n",
              "  </thead>\n",
              "  <tbody>\n",
              "    <tr>\n",
              "      <th>수학</th>\n",
              "      <td>45</td>\n",
              "      <td>44</td>\n",
              "      <td>73</td>\n",
              "      <td>39</td>\n",
              "      <td>201</td>\n",
              "      <td>50.25</td>\n",
              "    </tr>\n",
              "    <tr>\n",
              "      <th>영어</th>\n",
              "      <td>76</td>\n",
              "      <td>92</td>\n",
              "      <td>45</td>\n",
              "      <td>69</td>\n",
              "      <td>282</td>\n",
              "      <td>70.50</td>\n",
              "    </tr>\n",
              "    <tr>\n",
              "      <th>국어</th>\n",
              "      <td>47</td>\n",
              "      <td>92</td>\n",
              "      <td>45</td>\n",
              "      <td>69</td>\n",
              "      <td>253</td>\n",
              "      <td>63.25</td>\n",
              "    </tr>\n",
              "    <tr>\n",
              "      <th>사회</th>\n",
              "      <td>92</td>\n",
              "      <td>81</td>\n",
              "      <td>85</td>\n",
              "      <td>40</td>\n",
              "      <td>298</td>\n",
              "      <td>74.50</td>\n",
              "    </tr>\n",
              "    <tr>\n",
              "      <th>과학</th>\n",
              "      <td>11</td>\n",
              "      <td>79</td>\n",
              "      <td>47</td>\n",
              "      <td>26</td>\n",
              "      <td>163</td>\n",
              "      <td>40.75</td>\n",
              "    </tr>\n",
              "  </tbody>\n",
              "</table>\n",
              "</div>"
            ],
            "text/plain": [
              "    1반  2반  3반  4반   합계     평균\n",
              "과목                            \n",
              "수학  45  44  73  39  201  50.25\n",
              "영어  76  92  45  69  282  70.50\n",
              "국어  47  92  45  69  253  63.25\n",
              "사회  92  81  85  40  298  74.50\n",
              "과학  11  79  47  26  163  40.75"
            ]
          },
          "metadata": {
            "tags": []
          },
          "execution_count": 158
        }
      ]
    },
    {
      "cell_type": "markdown",
      "metadata": {
        "id": "_nMX-UnD03vH"
      },
      "source": [
        "#### Pandas 연습 03-2\n",
        "\n",
        "반평균을 계산 하여 row 추가 하기\n",
        "```\n",
        "\t      1반\t2반\t 3반 \t4반 \t합계\t평균\n",
        "과목\t\t\t\t\t\t\n",
        "수학\t45.0\t44.0\t73.0\t39.0\t201.0\t50.25\n",
        "영어\t76.0\t92.0\t45.0\t69.0\t282.0\t70.50\n",
        "국어\t47.0\t92.0\t45.0\t69.0\t253.0\t63.25\n",
        "사회\t92.0\t81.0\t85.0\t40.0\t298.0\t74.50\n",
        "과학\t11.0\t79.0\t47.0\t26.0\t163.0\t40.75\n",
        "반평균  54.2\t77.6\t59.0\t48.6\t239.4\t59.85\n",
        "```\n"
      ]
    },
    {
      "cell_type": "code",
      "metadata": {
        "colab": {
          "base_uri": "https://localhost:8080/",
          "height": 234
        },
        "id": "O3EtrNtsar4q",
        "outputId": "1a5cde42-d3ac-4e81-f289-147a945dd89c"
      },
      "source": [
        "score.loc[:, :'1반']"
      ],
      "execution_count": null,
      "outputs": [
        {
          "output_type": "execute_result",
          "data": {
            "text/html": [
              "<div>\n",
              "<style scoped>\n",
              "    .dataframe tbody tr th:only-of-type {\n",
              "        vertical-align: middle;\n",
              "    }\n",
              "\n",
              "    .dataframe tbody tr th {\n",
              "        vertical-align: top;\n",
              "    }\n",
              "\n",
              "    .dataframe thead th {\n",
              "        text-align: right;\n",
              "    }\n",
              "</style>\n",
              "<table border=\"1\" class=\"dataframe\">\n",
              "  <thead>\n",
              "    <tr style=\"text-align: right;\">\n",
              "      <th></th>\n",
              "      <th>1반</th>\n",
              "    </tr>\n",
              "    <tr>\n",
              "      <th>과목</th>\n",
              "      <th></th>\n",
              "    </tr>\n",
              "  </thead>\n",
              "  <tbody>\n",
              "    <tr>\n",
              "      <th>수학</th>\n",
              "      <td>45</td>\n",
              "    </tr>\n",
              "    <tr>\n",
              "      <th>영어</th>\n",
              "      <td>76</td>\n",
              "    </tr>\n",
              "    <tr>\n",
              "      <th>국어</th>\n",
              "      <td>47</td>\n",
              "    </tr>\n",
              "    <tr>\n",
              "      <th>사회</th>\n",
              "      <td>92</td>\n",
              "    </tr>\n",
              "    <tr>\n",
              "      <th>과학</th>\n",
              "      <td>11</td>\n",
              "    </tr>\n",
              "  </tbody>\n",
              "</table>\n",
              "</div>"
            ],
            "text/plain": [
              "    1반\n",
              "과목    \n",
              "수학  45\n",
              "영어  76\n",
              "국어  47\n",
              "사회  92\n",
              "과학  11"
            ]
          },
          "metadata": {
            "tags": []
          },
          "execution_count": 159
        }
      ]
    },
    {
      "cell_type": "code",
      "metadata": {
        "id": "VwaxtzX1C68U",
        "colab": {
          "base_uri": "https://localhost:8080/",
          "height": 265
        },
        "outputId": "4663749c-a604-4d01-cf8b-02760b7ca2b9"
      },
      "source": [
        "# row 추가하기\n",
        "\n",
        "score.loc['반평균'] = score.mean()\n",
        "score"
      ],
      "execution_count": null,
      "outputs": [
        {
          "output_type": "execute_result",
          "data": {
            "text/html": [
              "<div>\n",
              "<style scoped>\n",
              "    .dataframe tbody tr th:only-of-type {\n",
              "        vertical-align: middle;\n",
              "    }\n",
              "\n",
              "    .dataframe tbody tr th {\n",
              "        vertical-align: top;\n",
              "    }\n",
              "\n",
              "    .dataframe thead th {\n",
              "        text-align: right;\n",
              "    }\n",
              "</style>\n",
              "<table border=\"1\" class=\"dataframe\">\n",
              "  <thead>\n",
              "    <tr style=\"text-align: right;\">\n",
              "      <th></th>\n",
              "      <th>1반</th>\n",
              "      <th>2반</th>\n",
              "      <th>3반</th>\n",
              "      <th>4반</th>\n",
              "      <th>합계</th>\n",
              "      <th>평균</th>\n",
              "    </tr>\n",
              "    <tr>\n",
              "      <th>과목</th>\n",
              "      <th></th>\n",
              "      <th></th>\n",
              "      <th></th>\n",
              "      <th></th>\n",
              "      <th></th>\n",
              "      <th></th>\n",
              "    </tr>\n",
              "  </thead>\n",
              "  <tbody>\n",
              "    <tr>\n",
              "      <th>수학</th>\n",
              "      <td>45</td>\n",
              "      <td>44</td>\n",
              "      <td>73</td>\n",
              "      <td>39</td>\n",
              "      <td>201</td>\n",
              "      <td>50.25</td>\n",
              "    </tr>\n",
              "    <tr>\n",
              "      <th>영어</th>\n",
              "      <td>76</td>\n",
              "      <td>92</td>\n",
              "      <td>45</td>\n",
              "      <td>69</td>\n",
              "      <td>282</td>\n",
              "      <td>70.5</td>\n",
              "    </tr>\n",
              "    <tr>\n",
              "      <th>국어</th>\n",
              "      <td>47</td>\n",
              "      <td>92</td>\n",
              "      <td>45</td>\n",
              "      <td>69</td>\n",
              "      <td>253</td>\n",
              "      <td>63.25</td>\n",
              "    </tr>\n",
              "    <tr>\n",
              "      <th>사회</th>\n",
              "      <td>92</td>\n",
              "      <td>81</td>\n",
              "      <td>85</td>\n",
              "      <td>40</td>\n",
              "      <td>298</td>\n",
              "      <td>74.5</td>\n",
              "    </tr>\n",
              "    <tr>\n",
              "      <th>과학</th>\n",
              "      <td>11</td>\n",
              "      <td>79</td>\n",
              "      <td>47</td>\n",
              "      <td>26</td>\n",
              "      <td>163</td>\n",
              "      <td>40.75</td>\n",
              "    </tr>\n",
              "    <tr>\n",
              "      <th>반평균</th>\n",
              "      <td>54.2</td>\n",
              "      <td>77.6</td>\n",
              "      <td>59</td>\n",
              "      <td>48.6</td>\n",
              "      <td>239.4</td>\n",
              "      <td>59.85</td>\n",
              "    </tr>\n",
              "  </tbody>\n",
              "</table>\n",
              "</div>"
            ],
            "text/plain": [
              "       1반    2반  3반    4반     합계     평균\n",
              "과목                                     \n",
              "수학     45    44  73    39    201  50.25\n",
              "영어     76    92  45    69    282   70.5\n",
              "국어     47    92  45    69    253  63.25\n",
              "사회     92    81  85    40    298   74.5\n",
              "과학     11    79  47    26    163  40.75\n",
              "반평균  54.2  77.6  59  48.6  239.4  59.85"
            ]
          },
          "metadata": {
            "tags": []
          },
          "execution_count": 165
        }
      ]
    },
    {
      "cell_type": "markdown",
      "metadata": {
        "id": "1s1Tlohj2p-K"
      },
      "source": [
        "#### Pandas 연습 03-3\n",
        "\n",
        "반 평균, 합계, 평균을 제외한 데이터 중 과목별 가장 큰 값, 작은 값을 구하시오.\n",
        "\n",
        "```\n",
        "과목\n",
        "수학    73.0\n",
        "영어    92.0\n",
        "국어    92.0\n",
        "사회    92.0\n",
        "과학    79.0\n",
        "dtype: float64\n",
        "```\n",
        "```\n",
        "과목\n",
        "수학    39.0\n",
        "영어    45.0\n",
        "국어    45.0\n",
        "사회    40.0\n",
        "과학    11.0\n",
        "dtype: float64\n",
        "```\n"
      ]
    },
    {
      "cell_type": "code",
      "metadata": {
        "id": "LCSvr94mDExP",
        "colab": {
          "base_uri": "https://localhost:8080/"
        },
        "outputId": "072a4636-7937-471b-be25-7c8c8c038e64"
      },
      "source": [
        "score.loc[:'과학', :'4반'].max(axis = 1)"
      ],
      "execution_count": null,
      "outputs": [
        {
          "output_type": "execute_result",
          "data": {
            "text/plain": [
              "과목\n",
              "수학    73.0\n",
              "영어    92.0\n",
              "국어    92.0\n",
              "사회    92.0\n",
              "과학    79.0\n",
              "dtype: float64"
            ]
          },
          "metadata": {
            "tags": []
          },
          "execution_count": 167
        }
      ]
    },
    {
      "cell_type": "code",
      "metadata": {
        "colab": {
          "base_uri": "https://localhost:8080/"
        },
        "id": "uRCRwzLidrdx",
        "outputId": "ab368a7d-9c74-4f32-8036-87d3a5b34dea"
      },
      "source": [
        "score.iloc[:5, :4].max(axis = 1)"
      ],
      "execution_count": null,
      "outputs": [
        {
          "output_type": "execute_result",
          "data": {
            "text/plain": [
              "과목\n",
              "수학    73.0\n",
              "영어    92.0\n",
              "국어    92.0\n",
              "사회    92.0\n",
              "과학    79.0\n",
              "dtype: float64"
            ]
          },
          "metadata": {
            "tags": []
          },
          "execution_count": 169
        }
      ]
    },
    {
      "cell_type": "code",
      "metadata": {
        "colab": {
          "base_uri": "https://localhost:8080/"
        },
        "id": "fJ4LUgyibqwW",
        "outputId": "2964d682-3598-4ceb-a896-4e8fbfa9053e"
      },
      "source": [
        "score.loc[:'과학', :'4반'].min(axis = 1)"
      ],
      "execution_count": null,
      "outputs": [
        {
          "output_type": "execute_result",
          "data": {
            "text/plain": [
              "과목\n",
              "수학    39.0\n",
              "영어    45.0\n",
              "국어    45.0\n",
              "사회    40.0\n",
              "과학    11.0\n",
              "dtype: float64"
            ]
          },
          "metadata": {
            "tags": []
          },
          "execution_count": 168
        }
      ]
    },
    {
      "cell_type": "code",
      "metadata": {
        "colab": {
          "base_uri": "https://localhost:8080/"
        },
        "id": "OPZ9ToLsd0zv",
        "outputId": "b1ee748a-21f0-4b31-d801-c9a80fc09e8f"
      },
      "source": [
        "score.iloc[:5, :4].min(axis = 1)"
      ],
      "execution_count": null,
      "outputs": [
        {
          "output_type": "execute_result",
          "data": {
            "text/plain": [
              "과목\n",
              "수학    39.0\n",
              "영어    45.0\n",
              "국어    45.0\n",
              "사회    40.0\n",
              "과학    11.0\n",
              "dtype: float64"
            ]
          },
          "metadata": {
            "tags": []
          },
          "execution_count": 170
        }
      ]
    },
    {
      "cell_type": "markdown",
      "metadata": {
        "id": "cfDTvdbb3R49"
      },
      "source": [
        "#### Pandas 연습 03-4\n",
        "\n",
        "과목별 가장 큰 값과 작은 값의 차를 구하시오.\n",
        "```\n",
        "과목\n",
        "수학    34.0\n",
        "영어    47.0\n",
        "국어    47.0\n",
        "사회    52.0\n",
        "과학    68.0\n",
        "dtype: float64\n",
        "```\n"
      ]
    },
    {
      "cell_type": "code",
      "metadata": {
        "id": "SiLZxhJTDGTb"
      },
      "source": [
        ""
      ],
      "execution_count": null,
      "outputs": []
    },
    {
      "cell_type": "markdown",
      "metadata": {
        "id": "HN-aJlaP5JkE"
      },
      "source": [
        "#### apply 변환\n",
        "\n",
        "행이나 열 단위로 더 복잡한 처리를 하고 싶을 때 사용\n",
        "```\n",
        "DataFrame.apply( func, axis = 0)\n",
        "```"
      ]
    },
    {
      "cell_type": "code",
      "metadata": {
        "id": "nm5RBLceDMj9",
        "colab": {
          "base_uri": "https://localhost:8080/",
          "height": 265
        },
        "outputId": "67afd5cf-d7be-4b31-da96-97cd4399b526"
      },
      "source": [
        "score"
      ],
      "execution_count": null,
      "outputs": [
        {
          "output_type": "execute_result",
          "data": {
            "text/html": [
              "<div>\n",
              "<style scoped>\n",
              "    .dataframe tbody tr th:only-of-type {\n",
              "        vertical-align: middle;\n",
              "    }\n",
              "\n",
              "    .dataframe tbody tr th {\n",
              "        vertical-align: top;\n",
              "    }\n",
              "\n",
              "    .dataframe thead th {\n",
              "        text-align: right;\n",
              "    }\n",
              "</style>\n",
              "<table border=\"1\" class=\"dataframe\">\n",
              "  <thead>\n",
              "    <tr style=\"text-align: right;\">\n",
              "      <th></th>\n",
              "      <th>1반</th>\n",
              "      <th>2반</th>\n",
              "      <th>3반</th>\n",
              "      <th>4반</th>\n",
              "      <th>합계</th>\n",
              "      <th>평균</th>\n",
              "    </tr>\n",
              "    <tr>\n",
              "      <th>과목</th>\n",
              "      <th></th>\n",
              "      <th></th>\n",
              "      <th></th>\n",
              "      <th></th>\n",
              "      <th></th>\n",
              "      <th></th>\n",
              "    </tr>\n",
              "  </thead>\n",
              "  <tbody>\n",
              "    <tr>\n",
              "      <th>수학</th>\n",
              "      <td>45</td>\n",
              "      <td>44</td>\n",
              "      <td>73</td>\n",
              "      <td>39</td>\n",
              "      <td>201</td>\n",
              "      <td>50.25</td>\n",
              "    </tr>\n",
              "    <tr>\n",
              "      <th>영어</th>\n",
              "      <td>76</td>\n",
              "      <td>92</td>\n",
              "      <td>45</td>\n",
              "      <td>69</td>\n",
              "      <td>282</td>\n",
              "      <td>70.5</td>\n",
              "    </tr>\n",
              "    <tr>\n",
              "      <th>국어</th>\n",
              "      <td>47</td>\n",
              "      <td>92</td>\n",
              "      <td>45</td>\n",
              "      <td>69</td>\n",
              "      <td>253</td>\n",
              "      <td>63.25</td>\n",
              "    </tr>\n",
              "    <tr>\n",
              "      <th>사회</th>\n",
              "      <td>92</td>\n",
              "      <td>81</td>\n",
              "      <td>85</td>\n",
              "      <td>40</td>\n",
              "      <td>298</td>\n",
              "      <td>74.5</td>\n",
              "    </tr>\n",
              "    <tr>\n",
              "      <th>과학</th>\n",
              "      <td>11</td>\n",
              "      <td>79</td>\n",
              "      <td>47</td>\n",
              "      <td>26</td>\n",
              "      <td>163</td>\n",
              "      <td>40.75</td>\n",
              "    </tr>\n",
              "    <tr>\n",
              "      <th>반평균</th>\n",
              "      <td>54.2</td>\n",
              "      <td>77.6</td>\n",
              "      <td>59</td>\n",
              "      <td>48.6</td>\n",
              "      <td>239.4</td>\n",
              "      <td>59.85</td>\n",
              "    </tr>\n",
              "  </tbody>\n",
              "</table>\n",
              "</div>"
            ],
            "text/plain": [
              "       1반    2반  3반    4반     합계     평균\n",
              "과목                                     \n",
              "수학     45    44  73    39    201  50.25\n",
              "영어     76    92  45    69    282   70.5\n",
              "국어     47    92  45    69    253  63.25\n",
              "사회     92    81  85    40    298   74.5\n",
              "과학     11    79  47    26    163  40.75\n",
              "반평균  54.2  77.6  59  48.6  239.4  59.85"
            ]
          },
          "metadata": {
            "tags": []
          },
          "execution_count": 171
        }
      ]
    },
    {
      "cell_type": "code",
      "metadata": {
        "colab": {
          "base_uri": "https://localhost:8080/"
        },
        "id": "hd6vyrbLek0Y",
        "outputId": "5710b81f-0426-42fc-a4ca-a0dfea42fd63"
      },
      "source": [
        "# 과목별 가장 큰 값과 작은 값의 차\n",
        "\n",
        "def max_min(x) :\n",
        "  return x.max() - x.min()\n",
        "\n",
        "score.loc[:'과학', :'4반'].apply(max_min, axis = 1) # ex) 수학  73 - 39 = 34"
      ],
      "execution_count": null,
      "outputs": [
        {
          "output_type": "execute_result",
          "data": {
            "text/plain": [
              "과목\n",
              "수학    34\n",
              "영어    47\n",
              "국어    47\n",
              "사회    52\n",
              "과학    68\n",
              "dtype: int64"
            ]
          },
          "metadata": {
            "tags": []
          },
          "execution_count": 172
        }
      ]
    },
    {
      "cell_type": "code",
      "metadata": {
        "colab": {
          "base_uri": "https://localhost:8080/"
        },
        "id": "yoy56tqdfJxz",
        "outputId": "51056a42-890b-4ce6-b442-bbacdb669fda"
      },
      "source": [
        "# 과목별 가장 큰 값과 작은 값의 차 (lambda 활용)\n",
        "\n",
        "score.loc[:'과학', :'4반'].apply(lambda x: x.max() - x.min(), axis = 1)"
      ],
      "execution_count": null,
      "outputs": [
        {
          "output_type": "execute_result",
          "data": {
            "text/plain": [
              "과목\n",
              "수학    34\n",
              "영어    47\n",
              "국어    47\n",
              "사회    52\n",
              "과학    68\n",
              "dtype: int64"
            ]
          },
          "metadata": {
            "tags": []
          },
          "execution_count": 173
        }
      ]
    },
    {
      "cell_type": "code",
      "metadata": {
        "colab": {
          "base_uri": "https://localhost:8080/",
          "height": 203
        },
        "id": "8bce-bS5gF_9",
        "outputId": "4c726a7f-d196-4879-e63b-ea4eaa7f87f0"
      },
      "source": [
        "data_dic = {\"A\":[1,3,3,4,4], \"B\":[1,2,2,3,3], \"C\":[1,2,4,4,5]}\n",
        "df4 = pd.DataFrame(data_dic)\n",
        "df4"
      ],
      "execution_count": null,
      "outputs": [
        {
          "output_type": "execute_result",
          "data": {
            "text/html": [
              "<div>\n",
              "<style scoped>\n",
              "    .dataframe tbody tr th:only-of-type {\n",
              "        vertical-align: middle;\n",
              "    }\n",
              "\n",
              "    .dataframe tbody tr th {\n",
              "        vertical-align: top;\n",
              "    }\n",
              "\n",
              "    .dataframe thead th {\n",
              "        text-align: right;\n",
              "    }\n",
              "</style>\n",
              "<table border=\"1\" class=\"dataframe\">\n",
              "  <thead>\n",
              "    <tr style=\"text-align: right;\">\n",
              "      <th></th>\n",
              "      <th>A</th>\n",
              "      <th>B</th>\n",
              "      <th>C</th>\n",
              "    </tr>\n",
              "  </thead>\n",
              "  <tbody>\n",
              "    <tr>\n",
              "      <th>0</th>\n",
              "      <td>1</td>\n",
              "      <td>1</td>\n",
              "      <td>1</td>\n",
              "    </tr>\n",
              "    <tr>\n",
              "      <th>1</th>\n",
              "      <td>3</td>\n",
              "      <td>2</td>\n",
              "      <td>2</td>\n",
              "    </tr>\n",
              "    <tr>\n",
              "      <th>2</th>\n",
              "      <td>3</td>\n",
              "      <td>2</td>\n",
              "      <td>4</td>\n",
              "    </tr>\n",
              "    <tr>\n",
              "      <th>3</th>\n",
              "      <td>4</td>\n",
              "      <td>3</td>\n",
              "      <td>4</td>\n",
              "    </tr>\n",
              "    <tr>\n",
              "      <th>4</th>\n",
              "      <td>4</td>\n",
              "      <td>3</td>\n",
              "      <td>5</td>\n",
              "    </tr>\n",
              "  </tbody>\n",
              "</table>\n",
              "</div>"
            ],
            "text/plain": [
              "   A  B  C\n",
              "0  1  1  1\n",
              "1  3  2  2\n",
              "2  3  2  4\n",
              "3  4  3  4\n",
              "4  4  3  5"
            ]
          },
          "metadata": {
            "tags": []
          },
          "execution_count": 174
        }
      ]
    },
    {
      "cell_type": "code",
      "metadata": {
        "colab": {
          "base_uri": "https://localhost:8080/",
          "height": 203
        },
        "id": "D8sgViZugHxw",
        "outputId": "a1a5891e-92e7-4934-851b-170954aa110c"
      },
      "source": [
        "# 카운팅 \n",
        "# value_counts()\n",
        "# value_counts() 메소드를 이용하면 ‘deck’ 열의 원소 종류와 개수를 알 수 있다.\n",
        "# 이때 dropna=False 로 설정해야 NaN(누락데이터)의 개수를 알 수 있다.\n",
        "\n",
        "df5 = df4.apply(pd.value_counts)\n",
        "df5"
      ],
      "execution_count": null,
      "outputs": [
        {
          "output_type": "execute_result",
          "data": {
            "text/html": [
              "<div>\n",
              "<style scoped>\n",
              "    .dataframe tbody tr th:only-of-type {\n",
              "        vertical-align: middle;\n",
              "    }\n",
              "\n",
              "    .dataframe tbody tr th {\n",
              "        vertical-align: top;\n",
              "    }\n",
              "\n",
              "    .dataframe thead th {\n",
              "        text-align: right;\n",
              "    }\n",
              "</style>\n",
              "<table border=\"1\" class=\"dataframe\">\n",
              "  <thead>\n",
              "    <tr style=\"text-align: right;\">\n",
              "      <th></th>\n",
              "      <th>A</th>\n",
              "      <th>B</th>\n",
              "      <th>C</th>\n",
              "    </tr>\n",
              "  </thead>\n",
              "  <tbody>\n",
              "    <tr>\n",
              "      <th>1</th>\n",
              "      <td>1.0</td>\n",
              "      <td>1.0</td>\n",
              "      <td>1.0</td>\n",
              "    </tr>\n",
              "    <tr>\n",
              "      <th>2</th>\n",
              "      <td>NaN</td>\n",
              "      <td>2.0</td>\n",
              "      <td>1.0</td>\n",
              "    </tr>\n",
              "    <tr>\n",
              "      <th>3</th>\n",
              "      <td>2.0</td>\n",
              "      <td>2.0</td>\n",
              "      <td>NaN</td>\n",
              "    </tr>\n",
              "    <tr>\n",
              "      <th>4</th>\n",
              "      <td>2.0</td>\n",
              "      <td>NaN</td>\n",
              "      <td>2.0</td>\n",
              "    </tr>\n",
              "    <tr>\n",
              "      <th>5</th>\n",
              "      <td>NaN</td>\n",
              "      <td>NaN</td>\n",
              "      <td>1.0</td>\n",
              "    </tr>\n",
              "  </tbody>\n",
              "</table>\n",
              "</div>"
            ],
            "text/plain": [
              "     A    B    C\n",
              "1  1.0  1.0  1.0\n",
              "2  NaN  2.0  1.0\n",
              "3  2.0  2.0  NaN\n",
              "4  2.0  NaN  2.0\n",
              "5  NaN  NaN  1.0"
            ]
          },
          "metadata": {
            "tags": []
          },
          "execution_count": 181
        }
      ]
    },
    {
      "cell_type": "code",
      "metadata": {
        "colab": {
          "base_uri": "https://localhost:8080/",
          "height": 203
        },
        "id": "OUK4GvvbgvF6",
        "outputId": "27d92858-85f1-4b6c-a135-516b57049c4b"
      },
      "source": [
        "# 결측치 처리\n",
        "# \n",
        "\n",
        "df5.fillna(0)"
      ],
      "execution_count": null,
      "outputs": [
        {
          "output_type": "execute_result",
          "data": {
            "text/html": [
              "<div>\n",
              "<style scoped>\n",
              "    .dataframe tbody tr th:only-of-type {\n",
              "        vertical-align: middle;\n",
              "    }\n",
              "\n",
              "    .dataframe tbody tr th {\n",
              "        vertical-align: top;\n",
              "    }\n",
              "\n",
              "    .dataframe thead th {\n",
              "        text-align: right;\n",
              "    }\n",
              "</style>\n",
              "<table border=\"1\" class=\"dataframe\">\n",
              "  <thead>\n",
              "    <tr style=\"text-align: right;\">\n",
              "      <th></th>\n",
              "      <th>A</th>\n",
              "      <th>B</th>\n",
              "      <th>C</th>\n",
              "    </tr>\n",
              "  </thead>\n",
              "  <tbody>\n",
              "    <tr>\n",
              "      <th>1</th>\n",
              "      <td>1.0</td>\n",
              "      <td>1.0</td>\n",
              "      <td>1.0</td>\n",
              "    </tr>\n",
              "    <tr>\n",
              "      <th>2</th>\n",
              "      <td>0.0</td>\n",
              "      <td>2.0</td>\n",
              "      <td>1.0</td>\n",
              "    </tr>\n",
              "    <tr>\n",
              "      <th>3</th>\n",
              "      <td>2.0</td>\n",
              "      <td>2.0</td>\n",
              "      <td>0.0</td>\n",
              "    </tr>\n",
              "    <tr>\n",
              "      <th>4</th>\n",
              "      <td>2.0</td>\n",
              "      <td>0.0</td>\n",
              "      <td>2.0</td>\n",
              "    </tr>\n",
              "    <tr>\n",
              "      <th>5</th>\n",
              "      <td>0.0</td>\n",
              "      <td>0.0</td>\n",
              "      <td>1.0</td>\n",
              "    </tr>\n",
              "  </tbody>\n",
              "</table>\n",
              "</div>"
            ],
            "text/plain": [
              "     A    B    C\n",
              "1  1.0  1.0  1.0\n",
              "2  0.0  2.0  1.0\n",
              "3  2.0  2.0  0.0\n",
              "4  2.0  0.0  2.0\n",
              "5  0.0  0.0  1.0"
            ]
          },
          "metadata": {
            "tags": []
          },
          "execution_count": 182
        }
      ]
    },
    {
      "cell_type": "markdown",
      "metadata": {
        "id": "K5NwYgsl6drk"
      },
      "source": [
        "#### 카테고리"
      ]
    },
    {
      "cell_type": "code",
      "metadata": {
        "id": "AFb6GwRVRyLc",
        "colab": {
          "base_uri": "https://localhost:8080/"
        },
        "outputId": "cc67e200-c054-4279-8726-f8483a7ea3af"
      },
      "source": [
        "ages = [0, 2, 10, 21, 23, 37, 31, 61, 20, 41, 32, 100]\n",
        "bins = [0, 15, 25, 35, 60, 99]\n",
        "labels = [\"미성년자\", \"청년\", \"중년\", \"장년\", \"노년\"]\n",
        "\n",
        "cats = pd.cut(ages, bins, labels = labels)\n",
        "cats"
      ],
      "execution_count": null,
      "outputs": [
        {
          "output_type": "execute_result",
          "data": {
            "text/plain": [
              "[NaN, '미성년자', '미성년자', '청년', '청년', ..., '노년', '청년', '장년', '중년', NaN]\n",
              "Length: 12\n",
              "Categories (5, object): ['미성년자' < '청년' < '중년' < '장년' < '노년']"
            ]
          },
          "metadata": {
            "tags": []
          },
          "execution_count": 189
        }
      ]
    },
    {
      "cell_type": "code",
      "metadata": {
        "id": "SO9cH80_DSRI",
        "colab": {
          "base_uri": "https://localhost:8080/"
        },
        "outputId": "17a1cc0d-09da-417e-a65b-46fea3821fe6"
      },
      "source": [
        "cats.categories"
      ],
      "execution_count": null,
      "outputs": [
        {
          "output_type": "execute_result",
          "data": {
            "text/plain": [
              "Index(['미성년자', '청년', '중년', '장년', '노년'], dtype='object')"
            ]
          },
          "metadata": {
            "tags": []
          },
          "execution_count": 190
        }
      ]
    },
    {
      "cell_type": "code",
      "metadata": {
        "colab": {
          "base_uri": "https://localhost:8080/",
          "height": 418
        },
        "id": "iP7GkbBVlcdO",
        "outputId": "0e11aba5-8850-4d3e-9b7d-7ebe0e24c23e"
      },
      "source": [
        "age_df = pd.DataFrame(ages, columns=['ages'])"
      ],
      "execution_count": null,
      "outputs": [
        {
          "output_type": "execute_result",
          "data": {
            "text/html": [
              "<div>\n",
              "<style scoped>\n",
              "    .dataframe tbody tr th:only-of-type {\n",
              "        vertical-align: middle;\n",
              "    }\n",
              "\n",
              "    .dataframe tbody tr th {\n",
              "        vertical-align: top;\n",
              "    }\n",
              "\n",
              "    .dataframe thead th {\n",
              "        text-align: right;\n",
              "    }\n",
              "</style>\n",
              "<table border=\"1\" class=\"dataframe\">\n",
              "  <thead>\n",
              "    <tr style=\"text-align: right;\">\n",
              "      <th></th>\n",
              "      <th>ages</th>\n",
              "    </tr>\n",
              "  </thead>\n",
              "  <tbody>\n",
              "    <tr>\n",
              "      <th>0</th>\n",
              "      <td>0</td>\n",
              "    </tr>\n",
              "    <tr>\n",
              "      <th>1</th>\n",
              "      <td>2</td>\n",
              "    </tr>\n",
              "    <tr>\n",
              "      <th>2</th>\n",
              "      <td>10</td>\n",
              "    </tr>\n",
              "    <tr>\n",
              "      <th>3</th>\n",
              "      <td>21</td>\n",
              "    </tr>\n",
              "    <tr>\n",
              "      <th>4</th>\n",
              "      <td>23</td>\n",
              "    </tr>\n",
              "    <tr>\n",
              "      <th>5</th>\n",
              "      <td>37</td>\n",
              "    </tr>\n",
              "    <tr>\n",
              "      <th>6</th>\n",
              "      <td>31</td>\n",
              "    </tr>\n",
              "    <tr>\n",
              "      <th>7</th>\n",
              "      <td>61</td>\n",
              "    </tr>\n",
              "    <tr>\n",
              "      <th>8</th>\n",
              "      <td>20</td>\n",
              "    </tr>\n",
              "    <tr>\n",
              "      <th>9</th>\n",
              "      <td>41</td>\n",
              "    </tr>\n",
              "    <tr>\n",
              "      <th>10</th>\n",
              "      <td>32</td>\n",
              "    </tr>\n",
              "    <tr>\n",
              "      <th>11</th>\n",
              "      <td>100</td>\n",
              "    </tr>\n",
              "  </tbody>\n",
              "</table>\n",
              "</div>"
            ],
            "text/plain": [
              "    ages\n",
              "0      0\n",
              "1      2\n",
              "2     10\n",
              "3     21\n",
              "4     23\n",
              "5     37\n",
              "6     31\n",
              "7     61\n",
              "8     20\n",
              "9     41\n",
              "10    32\n",
              "11   100"
            ]
          },
          "metadata": {
            "tags": []
          },
          "execution_count": 191
        }
      ]
    },
    {
      "cell_type": "code",
      "metadata": {
        "colab": {
          "base_uri": "https://localhost:8080/",
          "height": 418
        },
        "id": "sKBF9c9ylyam",
        "outputId": "860a8a0a-a8fd-4f7e-b212-b8ff48765b12"
      },
      "source": [
        "age_df['age_cat'] = cats\n",
        "age_df"
      ],
      "execution_count": null,
      "outputs": [
        {
          "output_type": "execute_result",
          "data": {
            "text/html": [
              "<div>\n",
              "<style scoped>\n",
              "    .dataframe tbody tr th:only-of-type {\n",
              "        vertical-align: middle;\n",
              "    }\n",
              "\n",
              "    .dataframe tbody tr th {\n",
              "        vertical-align: top;\n",
              "    }\n",
              "\n",
              "    .dataframe thead th {\n",
              "        text-align: right;\n",
              "    }\n",
              "</style>\n",
              "<table border=\"1\" class=\"dataframe\">\n",
              "  <thead>\n",
              "    <tr style=\"text-align: right;\">\n",
              "      <th></th>\n",
              "      <th>ages</th>\n",
              "      <th>age_cat</th>\n",
              "    </tr>\n",
              "  </thead>\n",
              "  <tbody>\n",
              "    <tr>\n",
              "      <th>0</th>\n",
              "      <td>0</td>\n",
              "      <td>NaN</td>\n",
              "    </tr>\n",
              "    <tr>\n",
              "      <th>1</th>\n",
              "      <td>2</td>\n",
              "      <td>미성년자</td>\n",
              "    </tr>\n",
              "    <tr>\n",
              "      <th>2</th>\n",
              "      <td>10</td>\n",
              "      <td>미성년자</td>\n",
              "    </tr>\n",
              "    <tr>\n",
              "      <th>3</th>\n",
              "      <td>21</td>\n",
              "      <td>청년</td>\n",
              "    </tr>\n",
              "    <tr>\n",
              "      <th>4</th>\n",
              "      <td>23</td>\n",
              "      <td>청년</td>\n",
              "    </tr>\n",
              "    <tr>\n",
              "      <th>5</th>\n",
              "      <td>37</td>\n",
              "      <td>장년</td>\n",
              "    </tr>\n",
              "    <tr>\n",
              "      <th>6</th>\n",
              "      <td>31</td>\n",
              "      <td>중년</td>\n",
              "    </tr>\n",
              "    <tr>\n",
              "      <th>7</th>\n",
              "      <td>61</td>\n",
              "      <td>노년</td>\n",
              "    </tr>\n",
              "    <tr>\n",
              "      <th>8</th>\n",
              "      <td>20</td>\n",
              "      <td>청년</td>\n",
              "    </tr>\n",
              "    <tr>\n",
              "      <th>9</th>\n",
              "      <td>41</td>\n",
              "      <td>장년</td>\n",
              "    </tr>\n",
              "    <tr>\n",
              "      <th>10</th>\n",
              "      <td>32</td>\n",
              "      <td>중년</td>\n",
              "    </tr>\n",
              "    <tr>\n",
              "      <th>11</th>\n",
              "      <td>100</td>\n",
              "      <td>NaN</td>\n",
              "    </tr>\n",
              "  </tbody>\n",
              "</table>\n",
              "</div>"
            ],
            "text/plain": [
              "    ages age_cat\n",
              "0      0     NaN\n",
              "1      2    미성년자\n",
              "2     10    미성년자\n",
              "3     21      청년\n",
              "4     23      청년\n",
              "5     37      장년\n",
              "6     31      중년\n",
              "7     61      노년\n",
              "8     20      청년\n",
              "9     41      장년\n",
              "10    32      중년\n",
              "11   100     NaN"
            ]
          },
          "metadata": {
            "tags": []
          },
          "execution_count": 193
        }
      ]
    },
    {
      "cell_type": "code",
      "metadata": {
        "colab": {
          "base_uri": "https://localhost:8080/"
        },
        "id": "xa9GrUN4l6A2",
        "outputId": "27598b58-6f4d-432e-a9ca-48ccb3b5d15b"
      },
      "source": [
        "age_df['age_cat'].value_counts()"
      ],
      "execution_count": null,
      "outputs": [
        {
          "output_type": "execute_result",
          "data": {
            "text/plain": [
              "청년      3\n",
              "장년      2\n",
              "중년      2\n",
              "미성년자    2\n",
              "노년      1\n",
              "Name: age_cat, dtype: int64"
            ]
          },
          "metadata": {
            "tags": []
          },
          "execution_count": 195
        }
      ]
    },
    {
      "cell_type": "markdown",
      "metadata": {
        "id": "urDCffXNOw7H"
      },
      "source": [
        "#### Pandas 연습 04-1\n",
        "\n",
        "1. 타이타닉호 승객 데이터(train.csv)를 데이터프레임으로 읽어 온다.\n",
        "\n",
        "2. 타이타닉호 승객 데이터의 데이터 개수를 각 열마다 구해본다.\n",
        "\n",
        "```\n",
        "Survived    891\n",
        "Pclass      891\n",
        "Name        891\n",
        "Sex         891\n",
        "Age         714\n",
        "SibSp       891\n",
        "Parch       891\n",
        "Ticket      891\n",
        "Fare        891\n",
        "Cabin       204\n",
        "Embarked    889\n",
        "dtype: int64\n",
        "```\n"
      ]
    },
    {
      "cell_type": "code",
      "metadata": {
        "id": "_G2gQEn5DViu",
        "colab": {
          "base_uri": "https://localhost:8080/",
          "height": 273
        },
        "outputId": "402b90dd-9bb6-435e-d7a5-fc6cc1a83877"
      },
      "source": [
        "train = pd.read_csv(drive_path + 'train.csv', index_col='PassengerId')\n",
        "train.head(3)"
      ],
      "execution_count": null,
      "outputs": [
        {
          "output_type": "execute_result",
          "data": {
            "text/html": [
              "<div>\n",
              "<style scoped>\n",
              "    .dataframe tbody tr th:only-of-type {\n",
              "        vertical-align: middle;\n",
              "    }\n",
              "\n",
              "    .dataframe tbody tr th {\n",
              "        vertical-align: top;\n",
              "    }\n",
              "\n",
              "    .dataframe thead th {\n",
              "        text-align: right;\n",
              "    }\n",
              "</style>\n",
              "<table border=\"1\" class=\"dataframe\">\n",
              "  <thead>\n",
              "    <tr style=\"text-align: right;\">\n",
              "      <th></th>\n",
              "      <th>Survived</th>\n",
              "      <th>Pclass</th>\n",
              "      <th>Name</th>\n",
              "      <th>Sex</th>\n",
              "      <th>Age</th>\n",
              "      <th>SibSp</th>\n",
              "      <th>Parch</th>\n",
              "      <th>Ticket</th>\n",
              "      <th>Fare</th>\n",
              "      <th>Cabin</th>\n",
              "      <th>Embarked</th>\n",
              "    </tr>\n",
              "    <tr>\n",
              "      <th>PassengerId</th>\n",
              "      <th></th>\n",
              "      <th></th>\n",
              "      <th></th>\n",
              "      <th></th>\n",
              "      <th></th>\n",
              "      <th></th>\n",
              "      <th></th>\n",
              "      <th></th>\n",
              "      <th></th>\n",
              "      <th></th>\n",
              "      <th></th>\n",
              "    </tr>\n",
              "  </thead>\n",
              "  <tbody>\n",
              "    <tr>\n",
              "      <th>1</th>\n",
              "      <td>0</td>\n",
              "      <td>3</td>\n",
              "      <td>Braund, Mr. Owen Harris</td>\n",
              "      <td>male</td>\n",
              "      <td>22.0</td>\n",
              "      <td>1</td>\n",
              "      <td>0</td>\n",
              "      <td>A/5 21171</td>\n",
              "      <td>7.2500</td>\n",
              "      <td>NaN</td>\n",
              "      <td>S</td>\n",
              "    </tr>\n",
              "    <tr>\n",
              "      <th>2</th>\n",
              "      <td>1</td>\n",
              "      <td>1</td>\n",
              "      <td>Cumings, Mrs. John Bradley (Florence Briggs Th...</td>\n",
              "      <td>female</td>\n",
              "      <td>38.0</td>\n",
              "      <td>1</td>\n",
              "      <td>0</td>\n",
              "      <td>PC 17599</td>\n",
              "      <td>71.2833</td>\n",
              "      <td>C85</td>\n",
              "      <td>C</td>\n",
              "    </tr>\n",
              "    <tr>\n",
              "      <th>3</th>\n",
              "      <td>1</td>\n",
              "      <td>3</td>\n",
              "      <td>Heikkinen, Miss. Laina</td>\n",
              "      <td>female</td>\n",
              "      <td>26.0</td>\n",
              "      <td>0</td>\n",
              "      <td>0</td>\n",
              "      <td>STON/O2. 3101282</td>\n",
              "      <td>7.9250</td>\n",
              "      <td>NaN</td>\n",
              "      <td>S</td>\n",
              "    </tr>\n",
              "  </tbody>\n",
              "</table>\n",
              "</div>"
            ],
            "text/plain": [
              "             Survived  Pclass  ... Cabin Embarked\n",
              "PassengerId                    ...               \n",
              "1                   0       3  ...   NaN        S\n",
              "2                   1       1  ...   C85        C\n",
              "3                   1       3  ...   NaN        S\n",
              "\n",
              "[3 rows x 11 columns]"
            ]
          },
          "metadata": {
            "tags": []
          },
          "execution_count": 205
        }
      ]
    },
    {
      "cell_type": "code",
      "metadata": {
        "colab": {
          "base_uri": "https://localhost:8080/"
        },
        "id": "7Fir5SxunvRt",
        "outputId": "c18e8551-2ed8-4db8-dd00-c3fdcaf84e01"
      },
      "source": [
        "train.info()"
      ],
      "execution_count": null,
      "outputs": [
        {
          "output_type": "stream",
          "text": [
            "<class 'pandas.core.frame.DataFrame'>\n",
            "Int64Index: 891 entries, 1 to 891\n",
            "Data columns (total 11 columns):\n",
            " #   Column    Non-Null Count  Dtype  \n",
            "---  ------    --------------  -----  \n",
            " 0   Survived  891 non-null    int64  \n",
            " 1   Pclass    891 non-null    int64  \n",
            " 2   Name      891 non-null    object \n",
            " 3   Sex       891 non-null    object \n",
            " 4   Age       714 non-null    float64\n",
            " 5   SibSp     891 non-null    int64  \n",
            " 6   Parch     891 non-null    int64  \n",
            " 7   Ticket    891 non-null    object \n",
            " 8   Fare      891 non-null    float64\n",
            " 9   Cabin     204 non-null    object \n",
            " 10  Embarked  889 non-null    object \n",
            "dtypes: float64(2), int64(4), object(5)\n",
            "memory usage: 83.5+ KB\n"
          ],
          "name": "stdout"
        }
      ]
    },
    {
      "cell_type": "markdown",
      "metadata": {
        "id": "h9Jf6jmdxhEf"
      },
      "source": [
        "#### Pandas 연습 04-2\n",
        "\n",
        "1. 타이타닉호 승객 중 성별(Sex) 인원수, 나이별(Age) 인원수, 선실별(Pclass) 인원수, 사망/생존(Survived) 인원수를 구하라.\n",
        "\n",
        "\n",
        "\n",
        "\n"
      ]
    },
    {
      "cell_type": "code",
      "metadata": {
        "colab": {
          "base_uri": "https://localhost:8080/"
        },
        "id": "41fGXWLiq7XT",
        "outputId": "83cb67ed-355c-4d9c-b045-ccd010ea4aa2"
      },
      "source": [
        "train['Sex']"
      ],
      "execution_count": null,
      "outputs": [
        {
          "output_type": "execute_result",
          "data": {
            "text/plain": [
              "PassengerId\n",
              "1        male\n",
              "2      female\n",
              "3      female\n",
              "4      female\n",
              "5        male\n",
              "        ...  \n",
              "887      male\n",
              "888    female\n",
              "889    female\n",
              "890      male\n",
              "891      male\n",
              "Name: Sex, Length: 891, dtype: object"
            ]
          },
          "metadata": {
            "tags": []
          },
          "execution_count": 222
        }
      ]
    },
    {
      "cell_type": "code",
      "metadata": {
        "colab": {
          "base_uri": "https://localhost:8080/"
        },
        "id": "mrw3MjxDpJK7",
        "outputId": "43736ddc-5db1-421a-9c2b-e3ff849fe176"
      },
      "source": [
        "# 성별(sex)별 인원수\n",
        "\n",
        "train['Sex'].value_counts()"
      ],
      "execution_count": null,
      "outputs": [
        {
          "output_type": "execute_result",
          "data": {
            "text/plain": [
              "male      577\n",
              "female    314\n",
              "Name: Sex, dtype: int64"
            ]
          },
          "metadata": {
            "tags": []
          },
          "execution_count": 207
        }
      ]
    },
    {
      "cell_type": "code",
      "metadata": {
        "colab": {
          "base_uri": "https://localhost:8080/"
        },
        "id": "vPfnu5L3pcX-",
        "outputId": "800abee1-106c-4da3-f145-edd4d5bfb45c"
      },
      "source": [
        "# 나이별(age) 인원수\n",
        "\n",
        "train['Age'].value_counts()"
      ],
      "execution_count": null,
      "outputs": [
        {
          "output_type": "execute_result",
          "data": {
            "text/plain": [
              "24.00    30\n",
              "22.00    27\n",
              "18.00    26\n",
              "19.00    25\n",
              "30.00    25\n",
              "         ..\n",
              "55.50     1\n",
              "70.50     1\n",
              "66.00     1\n",
              "23.50     1\n",
              "0.42      1\n",
              "Name: Age, Length: 88, dtype: int64"
            ]
          },
          "metadata": {
            "tags": []
          },
          "execution_count": 214
        }
      ]
    },
    {
      "cell_type": "code",
      "metadata": {
        "colab": {
          "base_uri": "https://localhost:8080/"
        },
        "id": "AACExvtCqQ8_",
        "outputId": "ce4de715-429f-4c80-ab1d-c2adc9403585"
      },
      "source": [
        "# 선실별 인원수\n",
        "\n",
        "train['Pclass'].value_counts()"
      ],
      "execution_count": null,
      "outputs": [
        {
          "output_type": "execute_result",
          "data": {
            "text/plain": [
              "3    491\n",
              "1    216\n",
              "2    184\n",
              "Name: Pclass, dtype: int64"
            ]
          },
          "metadata": {
            "tags": []
          },
          "execution_count": 220
        }
      ]
    },
    {
      "cell_type": "code",
      "metadata": {
        "colab": {
          "base_uri": "https://localhost:8080/"
        },
        "id": "uibATtiKqb4p",
        "outputId": "550f37c3-934d-4112-e247-0deebf0bcfe0"
      },
      "source": [
        "# 사망/생존 인원수\n",
        "train['Survived'].value_counts()"
      ],
      "execution_count": null,
      "outputs": [
        {
          "output_type": "execute_result",
          "data": {
            "text/plain": [
              "0    549\n",
              "1    342\n",
              "Name: Survived, dtype: int64"
            ]
          },
          "metadata": {
            "tags": []
          },
          "execution_count": 221
        }
      ]
    },
    {
      "cell_type": "markdown",
      "metadata": {
        "id": "lRrchAKr74vX"
      },
      "source": [
        "#### Pandas 연습 04-3\n",
        "\n",
        "1. 타이타닉호 승객을 사망자와 생존자 그룹으로 나누고 각 그룹에 대해  ‘미성년자‘, ‘청년‘, ‘중년‘, ‘장년‘, ‘노년’ 승객의 비율을 구하라.\n",
        "\n",
        "(단, 그룹별 비율의 전체 합은 1이 되어야 한다.)\n",
        "```\n",
        "bins = [0, 15, 25, 35, 60, 99]\n",
        "labels = [\"미성년자\", \"청년\", \"중년\", \"장년\", \"노년\"]\n",
        "```\n",
        "\n",
        "\n",
        "\n",
        "\n",
        "\n",
        "\n"
      ]
    },
    {
      "cell_type": "code",
      "metadata": {
        "id": "ZFJh8ACG8O3e",
        "colab": {
          "base_uri": "https://localhost:8080/",
          "height": 901
        },
        "outputId": "536773ad-5b11-4832-d942-e996c6d84ecd"
      },
      "source": [
        "# 생존자 그룹\n",
        "\n",
        "train_1 = train[ train['Survived'] == 1 ]\n",
        "train_1"
      ],
      "execution_count": null,
      "outputs": [
        {
          "output_type": "execute_result",
          "data": {
            "text/html": [
              "<div>\n",
              "<style scoped>\n",
              "    .dataframe tbody tr th:only-of-type {\n",
              "        vertical-align: middle;\n",
              "    }\n",
              "\n",
              "    .dataframe tbody tr th {\n",
              "        vertical-align: top;\n",
              "    }\n",
              "\n",
              "    .dataframe thead th {\n",
              "        text-align: right;\n",
              "    }\n",
              "</style>\n",
              "<table border=\"1\" class=\"dataframe\">\n",
              "  <thead>\n",
              "    <tr style=\"text-align: right;\">\n",
              "      <th></th>\n",
              "      <th>Survived</th>\n",
              "      <th>Pclass</th>\n",
              "      <th>Name</th>\n",
              "      <th>Sex</th>\n",
              "      <th>Age</th>\n",
              "      <th>SibSp</th>\n",
              "      <th>Parch</th>\n",
              "      <th>Ticket</th>\n",
              "      <th>Fare</th>\n",
              "      <th>Cabin</th>\n",
              "      <th>Embarked</th>\n",
              "    </tr>\n",
              "    <tr>\n",
              "      <th>PassengerId</th>\n",
              "      <th></th>\n",
              "      <th></th>\n",
              "      <th></th>\n",
              "      <th></th>\n",
              "      <th></th>\n",
              "      <th></th>\n",
              "      <th></th>\n",
              "      <th></th>\n",
              "      <th></th>\n",
              "      <th></th>\n",
              "      <th></th>\n",
              "    </tr>\n",
              "  </thead>\n",
              "  <tbody>\n",
              "    <tr>\n",
              "      <th>2</th>\n",
              "      <td>1</td>\n",
              "      <td>1</td>\n",
              "      <td>Cumings, Mrs. John Bradley (Florence Briggs Th...</td>\n",
              "      <td>female</td>\n",
              "      <td>38.0</td>\n",
              "      <td>1</td>\n",
              "      <td>0</td>\n",
              "      <td>PC 17599</td>\n",
              "      <td>71.2833</td>\n",
              "      <td>C85</td>\n",
              "      <td>C</td>\n",
              "    </tr>\n",
              "    <tr>\n",
              "      <th>3</th>\n",
              "      <td>1</td>\n",
              "      <td>3</td>\n",
              "      <td>Heikkinen, Miss. Laina</td>\n",
              "      <td>female</td>\n",
              "      <td>26.0</td>\n",
              "      <td>0</td>\n",
              "      <td>0</td>\n",
              "      <td>STON/O2. 3101282</td>\n",
              "      <td>7.9250</td>\n",
              "      <td>NaN</td>\n",
              "      <td>S</td>\n",
              "    </tr>\n",
              "    <tr>\n",
              "      <th>4</th>\n",
              "      <td>1</td>\n",
              "      <td>1</td>\n",
              "      <td>Futrelle, Mrs. Jacques Heath (Lily May Peel)</td>\n",
              "      <td>female</td>\n",
              "      <td>35.0</td>\n",
              "      <td>1</td>\n",
              "      <td>0</td>\n",
              "      <td>113803</td>\n",
              "      <td>53.1000</td>\n",
              "      <td>C123</td>\n",
              "      <td>S</td>\n",
              "    </tr>\n",
              "    <tr>\n",
              "      <th>9</th>\n",
              "      <td>1</td>\n",
              "      <td>3</td>\n",
              "      <td>Johnson, Mrs. Oscar W (Elisabeth Vilhelmina Berg)</td>\n",
              "      <td>female</td>\n",
              "      <td>27.0</td>\n",
              "      <td>0</td>\n",
              "      <td>2</td>\n",
              "      <td>347742</td>\n",
              "      <td>11.1333</td>\n",
              "      <td>NaN</td>\n",
              "      <td>S</td>\n",
              "    </tr>\n",
              "    <tr>\n",
              "      <th>10</th>\n",
              "      <td>1</td>\n",
              "      <td>2</td>\n",
              "      <td>Nasser, Mrs. Nicholas (Adele Achem)</td>\n",
              "      <td>female</td>\n",
              "      <td>14.0</td>\n",
              "      <td>1</td>\n",
              "      <td>0</td>\n",
              "      <td>237736</td>\n",
              "      <td>30.0708</td>\n",
              "      <td>NaN</td>\n",
              "      <td>C</td>\n",
              "    </tr>\n",
              "    <tr>\n",
              "      <th>...</th>\n",
              "      <td>...</td>\n",
              "      <td>...</td>\n",
              "      <td>...</td>\n",
              "      <td>...</td>\n",
              "      <td>...</td>\n",
              "      <td>...</td>\n",
              "      <td>...</td>\n",
              "      <td>...</td>\n",
              "      <td>...</td>\n",
              "      <td>...</td>\n",
              "      <td>...</td>\n",
              "    </tr>\n",
              "    <tr>\n",
              "      <th>876</th>\n",
              "      <td>1</td>\n",
              "      <td>3</td>\n",
              "      <td>Najib, Miss. Adele Kiamie \"Jane\"</td>\n",
              "      <td>female</td>\n",
              "      <td>15.0</td>\n",
              "      <td>0</td>\n",
              "      <td>0</td>\n",
              "      <td>2667</td>\n",
              "      <td>7.2250</td>\n",
              "      <td>NaN</td>\n",
              "      <td>C</td>\n",
              "    </tr>\n",
              "    <tr>\n",
              "      <th>880</th>\n",
              "      <td>1</td>\n",
              "      <td>1</td>\n",
              "      <td>Potter, Mrs. Thomas Jr (Lily Alexenia Wilson)</td>\n",
              "      <td>female</td>\n",
              "      <td>56.0</td>\n",
              "      <td>0</td>\n",
              "      <td>1</td>\n",
              "      <td>11767</td>\n",
              "      <td>83.1583</td>\n",
              "      <td>C50</td>\n",
              "      <td>C</td>\n",
              "    </tr>\n",
              "    <tr>\n",
              "      <th>881</th>\n",
              "      <td>1</td>\n",
              "      <td>2</td>\n",
              "      <td>Shelley, Mrs. William (Imanita Parrish Hall)</td>\n",
              "      <td>female</td>\n",
              "      <td>25.0</td>\n",
              "      <td>0</td>\n",
              "      <td>1</td>\n",
              "      <td>230433</td>\n",
              "      <td>26.0000</td>\n",
              "      <td>NaN</td>\n",
              "      <td>S</td>\n",
              "    </tr>\n",
              "    <tr>\n",
              "      <th>888</th>\n",
              "      <td>1</td>\n",
              "      <td>1</td>\n",
              "      <td>Graham, Miss. Margaret Edith</td>\n",
              "      <td>female</td>\n",
              "      <td>19.0</td>\n",
              "      <td>0</td>\n",
              "      <td>0</td>\n",
              "      <td>112053</td>\n",
              "      <td>30.0000</td>\n",
              "      <td>B42</td>\n",
              "      <td>S</td>\n",
              "    </tr>\n",
              "    <tr>\n",
              "      <th>890</th>\n",
              "      <td>1</td>\n",
              "      <td>1</td>\n",
              "      <td>Behr, Mr. Karl Howell</td>\n",
              "      <td>male</td>\n",
              "      <td>26.0</td>\n",
              "      <td>0</td>\n",
              "      <td>0</td>\n",
              "      <td>111369</td>\n",
              "      <td>30.0000</td>\n",
              "      <td>C148</td>\n",
              "      <td>C</td>\n",
              "    </tr>\n",
              "  </tbody>\n",
              "</table>\n",
              "<p>342 rows × 11 columns</p>\n",
              "</div>"
            ],
            "text/plain": [
              "             Survived  Pclass  ... Cabin Embarked\n",
              "PassengerId                    ...               \n",
              "2                   1       1  ...   C85        C\n",
              "3                   1       3  ...   NaN        S\n",
              "4                   1       1  ...  C123        S\n",
              "9                   1       3  ...   NaN        S\n",
              "10                  1       2  ...   NaN        C\n",
              "...               ...     ...  ...   ...      ...\n",
              "876                 1       3  ...   NaN        C\n",
              "880                 1       1  ...   C50        C\n",
              "881                 1       2  ...   NaN        S\n",
              "888                 1       1  ...   B42        S\n",
              "890                 1       1  ...  C148        C\n",
              "\n",
              "[342 rows x 11 columns]"
            ]
          },
          "metadata": {
            "tags": []
          },
          "execution_count": 225
        }
      ]
    },
    {
      "cell_type": "code",
      "metadata": {
        "id": "Ej5gttgn9O29",
        "colab": {
          "base_uri": "https://localhost:8080/"
        },
        "outputId": "a425f6bd-887f-430b-d9dd-f59acda3f295"
      },
      "source": [
        "# 생존자 그룹 카테고리화\n",
        "\n",
        "bins = [0, 15, 25, 35, 60, 99]\n",
        "labels = [\"미성년자\", \"청년\", \"중년\", \"장년\", \"노년\"]\n",
        "train_1_cuts = pd.cut(train_1['Age'], bins, labels = labels)\n",
        "train_1_cuts.value_counts()"
      ],
      "execution_count": null,
      "outputs": [
        {
          "output_type": "execute_result",
          "data": {
            "text/plain": [
              "중년      83\n",
              "장년      78\n",
              "청년      75\n",
              "미성년자    49\n",
              "노년       5\n",
              "Name: Age, dtype: int64"
            ]
          },
          "metadata": {
            "tags": []
          },
          "execution_count": 228
        }
      ]
    },
    {
      "cell_type": "code",
      "metadata": {
        "id": "41n5Wn_-9lPE",
        "colab": {
          "base_uri": "https://localhost:8080/"
        },
        "outputId": "c0b4662b-b929-40d9-a5b5-7e2252cbae39"
      },
      "source": [
        "# 비율\n",
        "\n",
        "train_1_cuts.value_counts() / train_1_cuts.count()\n"
      ],
      "execution_count": null,
      "outputs": [
        {
          "output_type": "execute_result",
          "data": {
            "text/plain": [
              "중년      0.286207\n",
              "장년      0.268966\n",
              "청년      0.258621\n",
              "미성년자    0.168966\n",
              "노년      0.017241\n",
              "Name: Age, dtype: float64"
            ]
          },
          "metadata": {
            "tags": []
          },
          "execution_count": 229
        }
      ]
    },
    {
      "cell_type": "code",
      "metadata": {
        "id": "WytQlvrt8-WT",
        "colab": {
          "base_uri": "https://localhost:8080/",
          "height": 800
        },
        "outputId": "ee2fe4fe-be81-4e5f-830d-457a45f12374"
      },
      "source": [
        "# 사망자 그룹\n",
        "\n",
        "train_2 = train[ train['Survived'] == 0 ]\n",
        "train_2"
      ],
      "execution_count": null,
      "outputs": [
        {
          "output_type": "execute_result",
          "data": {
            "text/html": [
              "<div>\n",
              "<style scoped>\n",
              "    .dataframe tbody tr th:only-of-type {\n",
              "        vertical-align: middle;\n",
              "    }\n",
              "\n",
              "    .dataframe tbody tr th {\n",
              "        vertical-align: top;\n",
              "    }\n",
              "\n",
              "    .dataframe thead th {\n",
              "        text-align: right;\n",
              "    }\n",
              "</style>\n",
              "<table border=\"1\" class=\"dataframe\">\n",
              "  <thead>\n",
              "    <tr style=\"text-align: right;\">\n",
              "      <th></th>\n",
              "      <th>Survived</th>\n",
              "      <th>Pclass</th>\n",
              "      <th>Name</th>\n",
              "      <th>Sex</th>\n",
              "      <th>Age</th>\n",
              "      <th>SibSp</th>\n",
              "      <th>Parch</th>\n",
              "      <th>Ticket</th>\n",
              "      <th>Fare</th>\n",
              "      <th>Cabin</th>\n",
              "      <th>Embarked</th>\n",
              "    </tr>\n",
              "    <tr>\n",
              "      <th>PassengerId</th>\n",
              "      <th></th>\n",
              "      <th></th>\n",
              "      <th></th>\n",
              "      <th></th>\n",
              "      <th></th>\n",
              "      <th></th>\n",
              "      <th></th>\n",
              "      <th></th>\n",
              "      <th></th>\n",
              "      <th></th>\n",
              "      <th></th>\n",
              "    </tr>\n",
              "  </thead>\n",
              "  <tbody>\n",
              "    <tr>\n",
              "      <th>1</th>\n",
              "      <td>0</td>\n",
              "      <td>3</td>\n",
              "      <td>Braund, Mr. Owen Harris</td>\n",
              "      <td>male</td>\n",
              "      <td>22.0</td>\n",
              "      <td>1</td>\n",
              "      <td>0</td>\n",
              "      <td>A/5 21171</td>\n",
              "      <td>7.2500</td>\n",
              "      <td>NaN</td>\n",
              "      <td>S</td>\n",
              "    </tr>\n",
              "    <tr>\n",
              "      <th>5</th>\n",
              "      <td>0</td>\n",
              "      <td>3</td>\n",
              "      <td>Allen, Mr. William Henry</td>\n",
              "      <td>male</td>\n",
              "      <td>35.0</td>\n",
              "      <td>0</td>\n",
              "      <td>0</td>\n",
              "      <td>373450</td>\n",
              "      <td>8.0500</td>\n",
              "      <td>NaN</td>\n",
              "      <td>S</td>\n",
              "    </tr>\n",
              "    <tr>\n",
              "      <th>6</th>\n",
              "      <td>0</td>\n",
              "      <td>3</td>\n",
              "      <td>Moran, Mr. James</td>\n",
              "      <td>male</td>\n",
              "      <td>NaN</td>\n",
              "      <td>0</td>\n",
              "      <td>0</td>\n",
              "      <td>330877</td>\n",
              "      <td>8.4583</td>\n",
              "      <td>NaN</td>\n",
              "      <td>Q</td>\n",
              "    </tr>\n",
              "    <tr>\n",
              "      <th>7</th>\n",
              "      <td>0</td>\n",
              "      <td>1</td>\n",
              "      <td>McCarthy, Mr. Timothy J</td>\n",
              "      <td>male</td>\n",
              "      <td>54.0</td>\n",
              "      <td>0</td>\n",
              "      <td>0</td>\n",
              "      <td>17463</td>\n",
              "      <td>51.8625</td>\n",
              "      <td>E46</td>\n",
              "      <td>S</td>\n",
              "    </tr>\n",
              "    <tr>\n",
              "      <th>8</th>\n",
              "      <td>0</td>\n",
              "      <td>3</td>\n",
              "      <td>Palsson, Master. Gosta Leonard</td>\n",
              "      <td>male</td>\n",
              "      <td>2.0</td>\n",
              "      <td>3</td>\n",
              "      <td>1</td>\n",
              "      <td>349909</td>\n",
              "      <td>21.0750</td>\n",
              "      <td>NaN</td>\n",
              "      <td>S</td>\n",
              "    </tr>\n",
              "    <tr>\n",
              "      <th>...</th>\n",
              "      <td>...</td>\n",
              "      <td>...</td>\n",
              "      <td>...</td>\n",
              "      <td>...</td>\n",
              "      <td>...</td>\n",
              "      <td>...</td>\n",
              "      <td>...</td>\n",
              "      <td>...</td>\n",
              "      <td>...</td>\n",
              "      <td>...</td>\n",
              "      <td>...</td>\n",
              "    </tr>\n",
              "    <tr>\n",
              "      <th>885</th>\n",
              "      <td>0</td>\n",
              "      <td>3</td>\n",
              "      <td>Sutehall, Mr. Henry Jr</td>\n",
              "      <td>male</td>\n",
              "      <td>25.0</td>\n",
              "      <td>0</td>\n",
              "      <td>0</td>\n",
              "      <td>SOTON/OQ 392076</td>\n",
              "      <td>7.0500</td>\n",
              "      <td>NaN</td>\n",
              "      <td>S</td>\n",
              "    </tr>\n",
              "    <tr>\n",
              "      <th>886</th>\n",
              "      <td>0</td>\n",
              "      <td>3</td>\n",
              "      <td>Rice, Mrs. William (Margaret Norton)</td>\n",
              "      <td>female</td>\n",
              "      <td>39.0</td>\n",
              "      <td>0</td>\n",
              "      <td>5</td>\n",
              "      <td>382652</td>\n",
              "      <td>29.1250</td>\n",
              "      <td>NaN</td>\n",
              "      <td>Q</td>\n",
              "    </tr>\n",
              "    <tr>\n",
              "      <th>887</th>\n",
              "      <td>0</td>\n",
              "      <td>2</td>\n",
              "      <td>Montvila, Rev. Juozas</td>\n",
              "      <td>male</td>\n",
              "      <td>27.0</td>\n",
              "      <td>0</td>\n",
              "      <td>0</td>\n",
              "      <td>211536</td>\n",
              "      <td>13.0000</td>\n",
              "      <td>NaN</td>\n",
              "      <td>S</td>\n",
              "    </tr>\n",
              "    <tr>\n",
              "      <th>889</th>\n",
              "      <td>0</td>\n",
              "      <td>3</td>\n",
              "      <td>Johnston, Miss. Catherine Helen \"Carrie\"</td>\n",
              "      <td>female</td>\n",
              "      <td>NaN</td>\n",
              "      <td>1</td>\n",
              "      <td>2</td>\n",
              "      <td>W./C. 6607</td>\n",
              "      <td>23.4500</td>\n",
              "      <td>NaN</td>\n",
              "      <td>S</td>\n",
              "    </tr>\n",
              "    <tr>\n",
              "      <th>891</th>\n",
              "      <td>0</td>\n",
              "      <td>3</td>\n",
              "      <td>Dooley, Mr. Patrick</td>\n",
              "      <td>male</td>\n",
              "      <td>32.0</td>\n",
              "      <td>0</td>\n",
              "      <td>0</td>\n",
              "      <td>370376</td>\n",
              "      <td>7.7500</td>\n",
              "      <td>NaN</td>\n",
              "      <td>Q</td>\n",
              "    </tr>\n",
              "  </tbody>\n",
              "</table>\n",
              "<p>549 rows × 11 columns</p>\n",
              "</div>"
            ],
            "text/plain": [
              "             Survived  Pclass  ... Cabin Embarked\n",
              "PassengerId                    ...               \n",
              "1                   0       3  ...   NaN        S\n",
              "5                   0       3  ...   NaN        S\n",
              "6                   0       3  ...   NaN        Q\n",
              "7                   0       1  ...   E46        S\n",
              "8                   0       3  ...   NaN        S\n",
              "...               ...     ...  ...   ...      ...\n",
              "885                 0       3  ...   NaN        S\n",
              "886                 0       3  ...   NaN        Q\n",
              "887                 0       2  ...   NaN        S\n",
              "889                 0       3  ...   NaN        S\n",
              "891                 0       3  ...   NaN        Q\n",
              "\n",
              "[549 rows x 11 columns]"
            ]
          },
          "metadata": {
            "tags": []
          },
          "execution_count": 230
        }
      ]
    },
    {
      "cell_type": "code",
      "metadata": {
        "id": "sHS7sAEJ9-y4",
        "colab": {
          "base_uri": "https://localhost:8080/"
        },
        "outputId": "25b0d971-1220-4157-f7ef-92e5ce086688"
      },
      "source": [
        "# 사망자 그룹 카테고리화\n",
        "\n",
        "bins = [0, 15, 25, 35, 60, 99]\n",
        "labels = [\"미성년자\", \"청년\", \"중년\", \"장년\", \"노년\"]\n",
        "train_2_cuts = pd.cut(train_2['Age'], bins, labels = labels)\n",
        "train_2_cuts.value_counts()"
      ],
      "execution_count": null,
      "outputs": [
        {
          "output_type": "execute_result",
          "data": {
            "text/plain": [
              "청년      143\n",
              "장년      117\n",
              "중년      113\n",
              "미성년자     34\n",
              "노년       17\n",
              "Name: Age, dtype: int64"
            ]
          },
          "metadata": {
            "tags": []
          },
          "execution_count": 231
        }
      ]
    },
    {
      "cell_type": "code",
      "metadata": {
        "id": "kRwfEWSE-G9e",
        "colab": {
          "base_uri": "https://localhost:8080/"
        },
        "outputId": "f8bb9537-8186-48d0-8ecb-cca0b79fc1f4"
      },
      "source": [
        "# 비율\n",
        "\n",
        "train_2_cuts.value_counts() / train_2_cuts.count()"
      ],
      "execution_count": null,
      "outputs": [
        {
          "output_type": "execute_result",
          "data": {
            "text/plain": [
              "청년      0.337264\n",
              "장년      0.275943\n",
              "중년      0.266509\n",
              "미성년자    0.080189\n",
              "노년      0.040094\n",
              "Name: Age, dtype: float64"
            ]
          },
          "metadata": {
            "tags": []
          },
          "execution_count": 232
        }
      ]
    },
    {
      "cell_type": "code",
      "metadata": {
        "colab": {
          "base_uri": "https://localhost:8080/"
        },
        "id": "uK5Ay1pyyW9E",
        "outputId": "b0db4403-a842-4936-cc61-86a719a5ba1e"
      },
      "source": [
        "train_p_s = train[ ['Pclass', 'Sex', 'Survived'] ]\n",
        "train_p_s.info()"
      ],
      "execution_count": null,
      "outputs": [
        {
          "output_type": "stream",
          "text": [
            "<class 'pandas.core.frame.DataFrame'>\n",
            "Int64Index: 891 entries, 1 to 891\n",
            "Data columns (total 3 columns):\n",
            " #   Column    Non-Null Count  Dtype \n",
            "---  ------    --------------  ----- \n",
            " 0   Pclass    891 non-null    int64 \n",
            " 1   Sex       891 non-null    object\n",
            " 2   Survived  891 non-null    int64 \n",
            "dtypes: int64(2), object(1)\n",
            "memory usage: 27.8+ KB\n"
          ],
          "name": "stdout"
        }
      ]
    },
    {
      "cell_type": "markdown",
      "metadata": {
        "id": "uo5Q88WYcbhM"
      },
      "source": [
        "#### groupby"
      ]
    },
    {
      "cell_type": "code",
      "metadata": {
        "id": "lU1S7_Yqckrw",
        "colab": {
          "base_uri": "https://localhost:8080/",
          "height": 203
        },
        "outputId": "74588bbe-c6ad-4634-e6b2-1f13eeea364c"
      },
      "source": [
        "df5 = pd.DataFrame({\n",
        "    'key1':['A','A', 'B', 'B', 'A'],\n",
        "    'key2':['one','two','one','two','one'],\n",
        "    'data1': [1, 2, 3, 4, 5],\n",
        "    'data2': [10, 20, 30, 40, 50]\n",
        "})\n",
        "df5"
      ],
      "execution_count": null,
      "outputs": [
        {
          "output_type": "execute_result",
          "data": {
            "text/html": [
              "<div>\n",
              "<style scoped>\n",
              "    .dataframe tbody tr th:only-of-type {\n",
              "        vertical-align: middle;\n",
              "    }\n",
              "\n",
              "    .dataframe tbody tr th {\n",
              "        vertical-align: top;\n",
              "    }\n",
              "\n",
              "    .dataframe thead th {\n",
              "        text-align: right;\n",
              "    }\n",
              "</style>\n",
              "<table border=\"1\" class=\"dataframe\">\n",
              "  <thead>\n",
              "    <tr style=\"text-align: right;\">\n",
              "      <th></th>\n",
              "      <th>key1</th>\n",
              "      <th>key2</th>\n",
              "      <th>data1</th>\n",
              "      <th>data2</th>\n",
              "    </tr>\n",
              "  </thead>\n",
              "  <tbody>\n",
              "    <tr>\n",
              "      <th>0</th>\n",
              "      <td>A</td>\n",
              "      <td>one</td>\n",
              "      <td>1</td>\n",
              "      <td>10</td>\n",
              "    </tr>\n",
              "    <tr>\n",
              "      <th>1</th>\n",
              "      <td>A</td>\n",
              "      <td>two</td>\n",
              "      <td>2</td>\n",
              "      <td>20</td>\n",
              "    </tr>\n",
              "    <tr>\n",
              "      <th>2</th>\n",
              "      <td>B</td>\n",
              "      <td>one</td>\n",
              "      <td>3</td>\n",
              "      <td>30</td>\n",
              "    </tr>\n",
              "    <tr>\n",
              "      <th>3</th>\n",
              "      <td>B</td>\n",
              "      <td>two</td>\n",
              "      <td>4</td>\n",
              "      <td>40</td>\n",
              "    </tr>\n",
              "    <tr>\n",
              "      <th>4</th>\n",
              "      <td>A</td>\n",
              "      <td>one</td>\n",
              "      <td>5</td>\n",
              "      <td>50</td>\n",
              "    </tr>\n",
              "  </tbody>\n",
              "</table>\n",
              "</div>"
            ],
            "text/plain": [
              "  key1 key2  data1  data2\n",
              "0    A  one      1     10\n",
              "1    A  two      2     20\n",
              "2    B  one      3     30\n",
              "3    B  two      4     40\n",
              "4    A  one      5     50"
            ]
          },
          "metadata": {
            "tags": []
          },
          "execution_count": 236
        }
      ]
    },
    {
      "cell_type": "code",
      "metadata": {
        "id": "8QSMAu5iDqa6",
        "colab": {
          "base_uri": "https://localhost:8080/",
          "height": 203
        },
        "outputId": "d462916e-d5e2-4dcf-e43a-48a4d9ad4b12"
      },
      "source": [
        "df5[ ['key1', 'data2'] ]"
      ],
      "execution_count": null,
      "outputs": [
        {
          "output_type": "execute_result",
          "data": {
            "text/html": [
              "<div>\n",
              "<style scoped>\n",
              "    .dataframe tbody tr th:only-of-type {\n",
              "        vertical-align: middle;\n",
              "    }\n",
              "\n",
              "    .dataframe tbody tr th {\n",
              "        vertical-align: top;\n",
              "    }\n",
              "\n",
              "    .dataframe thead th {\n",
              "        text-align: right;\n",
              "    }\n",
              "</style>\n",
              "<table border=\"1\" class=\"dataframe\">\n",
              "  <thead>\n",
              "    <tr style=\"text-align: right;\">\n",
              "      <th></th>\n",
              "      <th>key1</th>\n",
              "      <th>data2</th>\n",
              "    </tr>\n",
              "  </thead>\n",
              "  <tbody>\n",
              "    <tr>\n",
              "      <th>0</th>\n",
              "      <td>A</td>\n",
              "      <td>10</td>\n",
              "    </tr>\n",
              "    <tr>\n",
              "      <th>1</th>\n",
              "      <td>A</td>\n",
              "      <td>20</td>\n",
              "    </tr>\n",
              "    <tr>\n",
              "      <th>2</th>\n",
              "      <td>B</td>\n",
              "      <td>30</td>\n",
              "    </tr>\n",
              "    <tr>\n",
              "      <th>3</th>\n",
              "      <td>B</td>\n",
              "      <td>40</td>\n",
              "    </tr>\n",
              "    <tr>\n",
              "      <th>4</th>\n",
              "      <td>A</td>\n",
              "      <td>50</td>\n",
              "    </tr>\n",
              "  </tbody>\n",
              "</table>\n",
              "</div>"
            ],
            "text/plain": [
              "  key1  data2\n",
              "0    A     10\n",
              "1    A     20\n",
              "2    B     30\n",
              "3    B     40\n",
              "4    A     50"
            ]
          },
          "metadata": {
            "tags": []
          },
          "execution_count": 239
        }
      ]
    },
    {
      "cell_type": "code",
      "metadata": {
        "colab": {
          "base_uri": "https://localhost:8080/"
        },
        "id": "MmgnXwsMzNEP",
        "outputId": "98af0898-6df7-4607-d1d1-df7455876f34"
      },
      "source": [
        "g = df5[ ['key1', 'data2'] ].groupby('key1')\n",
        "for x, y in g :\n",
        "  print(x)\n",
        "  print(y)"
      ],
      "execution_count": null,
      "outputs": [
        {
          "output_type": "stream",
          "text": [
            "A\n",
            "  key1  data2\n",
            "0    A     10\n",
            "1    A     20\n",
            "4    A     50\n",
            "B\n",
            "  key1  data2\n",
            "2    B     30\n",
            "3    B     40\n"
          ],
          "name": "stdout"
        }
      ]
    },
    {
      "cell_type": "code",
      "metadata": {
        "colab": {
          "base_uri": "https://localhost:8080/",
          "height": 142
        },
        "id": "pkojUQKfzZT2",
        "outputId": "993eb718-338e-44e7-bade-0e86d0d72690"
      },
      "source": [
        "g.sum()"
      ],
      "execution_count": null,
      "outputs": [
        {
          "output_type": "execute_result",
          "data": {
            "text/html": [
              "<div>\n",
              "<style scoped>\n",
              "    .dataframe tbody tr th:only-of-type {\n",
              "        vertical-align: middle;\n",
              "    }\n",
              "\n",
              "    .dataframe tbody tr th {\n",
              "        vertical-align: top;\n",
              "    }\n",
              "\n",
              "    .dataframe thead th {\n",
              "        text-align: right;\n",
              "    }\n",
              "</style>\n",
              "<table border=\"1\" class=\"dataframe\">\n",
              "  <thead>\n",
              "    <tr style=\"text-align: right;\">\n",
              "      <th></th>\n",
              "      <th>data2</th>\n",
              "    </tr>\n",
              "    <tr>\n",
              "      <th>key1</th>\n",
              "      <th></th>\n",
              "    </tr>\n",
              "  </thead>\n",
              "  <tbody>\n",
              "    <tr>\n",
              "      <th>A</th>\n",
              "      <td>80</td>\n",
              "    </tr>\n",
              "    <tr>\n",
              "      <th>B</th>\n",
              "      <td>70</td>\n",
              "    </tr>\n",
              "  </tbody>\n",
              "</table>\n",
              "</div>"
            ],
            "text/plain": [
              "      data2\n",
              "key1       \n",
              "A        80\n",
              "B        70"
            ]
          },
          "metadata": {
            "tags": []
          },
          "execution_count": 242
        }
      ]
    },
    {
      "cell_type": "markdown",
      "metadata": {
        "id": "PRLMhXhNcg1e"
      },
      "source": [
        "#### Pandas 연습 04-4\n",
        "\n",
        "1. 선실(Pclass), 성별(Sex)로 생존자 수를 구하라.\n"
      ]
    },
    {
      "cell_type": "code",
      "metadata": {
        "id": "jRc1NmcKDtek",
        "colab": {
          "base_uri": "https://localhost:8080/",
          "height": 265
        },
        "outputId": "98880364-71bf-470e-9ac8-e72a7931e6c7"
      },
      "source": [
        "# 선실 및 성별별 생존자 수\n",
        "# 사망자 = 0, 생존자 = 1 이므로 합계를 구하면 별도의 조건을 주지 않아도 됨\n",
        "\n",
        "train[ ['Pclass', 'Sex', 'Survived'] ].groupby( ['Pclass', 'Sex'] ).sum()"
      ],
      "execution_count": null,
      "outputs": [
        {
          "output_type": "execute_result",
          "data": {
            "text/html": [
              "<div>\n",
              "<style scoped>\n",
              "    .dataframe tbody tr th:only-of-type {\n",
              "        vertical-align: middle;\n",
              "    }\n",
              "\n",
              "    .dataframe tbody tr th {\n",
              "        vertical-align: top;\n",
              "    }\n",
              "\n",
              "    .dataframe thead th {\n",
              "        text-align: right;\n",
              "    }\n",
              "</style>\n",
              "<table border=\"1\" class=\"dataframe\">\n",
              "  <thead>\n",
              "    <tr style=\"text-align: right;\">\n",
              "      <th></th>\n",
              "      <th></th>\n",
              "      <th>Survived</th>\n",
              "    </tr>\n",
              "    <tr>\n",
              "      <th>Pclass</th>\n",
              "      <th>Sex</th>\n",
              "      <th></th>\n",
              "    </tr>\n",
              "  </thead>\n",
              "  <tbody>\n",
              "    <tr>\n",
              "      <th rowspan=\"2\" valign=\"top\">1</th>\n",
              "      <th>female</th>\n",
              "      <td>91</td>\n",
              "    </tr>\n",
              "    <tr>\n",
              "      <th>male</th>\n",
              "      <td>45</td>\n",
              "    </tr>\n",
              "    <tr>\n",
              "      <th rowspan=\"2\" valign=\"top\">2</th>\n",
              "      <th>female</th>\n",
              "      <td>70</td>\n",
              "    </tr>\n",
              "    <tr>\n",
              "      <th>male</th>\n",
              "      <td>17</td>\n",
              "    </tr>\n",
              "    <tr>\n",
              "      <th rowspan=\"2\" valign=\"top\">3</th>\n",
              "      <th>female</th>\n",
              "      <td>72</td>\n",
              "    </tr>\n",
              "    <tr>\n",
              "      <th>male</th>\n",
              "      <td>47</td>\n",
              "    </tr>\n",
              "  </tbody>\n",
              "</table>\n",
              "</div>"
            ],
            "text/plain": [
              "               Survived\n",
              "Pclass Sex             \n",
              "1      female        91\n",
              "       male          45\n",
              "2      female        70\n",
              "       male          17\n",
              "3      female        72\n",
              "       male          47"
            ]
          },
          "metadata": {
            "tags": []
          },
          "execution_count": 247
        }
      ]
    },
    {
      "cell_type": "code",
      "metadata": {
        "colab": {
          "base_uri": "https://localhost:8080/",
          "height": 142
        },
        "id": "AFBuQoPF0KjU",
        "outputId": "7ad70714-68b3-4cc2-cf66-8629fcbacc11"
      },
      "source": [
        "train[ ['Pclass', 'Sex', 'Survived'] ].groupby('Sex').sum()"
      ],
      "execution_count": null,
      "outputs": [
        {
          "output_type": "execute_result",
          "data": {
            "text/html": [
              "<div>\n",
              "<style scoped>\n",
              "    .dataframe tbody tr th:only-of-type {\n",
              "        vertical-align: middle;\n",
              "    }\n",
              "\n",
              "    .dataframe tbody tr th {\n",
              "        vertical-align: top;\n",
              "    }\n",
              "\n",
              "    .dataframe thead th {\n",
              "        text-align: right;\n",
              "    }\n",
              "</style>\n",
              "<table border=\"1\" class=\"dataframe\">\n",
              "  <thead>\n",
              "    <tr style=\"text-align: right;\">\n",
              "      <th></th>\n",
              "      <th>Pclass</th>\n",
              "      <th>Survived</th>\n",
              "    </tr>\n",
              "    <tr>\n",
              "      <th>Sex</th>\n",
              "      <th></th>\n",
              "      <th></th>\n",
              "    </tr>\n",
              "  </thead>\n",
              "  <tbody>\n",
              "    <tr>\n",
              "      <th>female</th>\n",
              "      <td>678</td>\n",
              "      <td>233</td>\n",
              "    </tr>\n",
              "    <tr>\n",
              "      <th>male</th>\n",
              "      <td>1379</td>\n",
              "      <td>109</td>\n",
              "    </tr>\n",
              "  </tbody>\n",
              "</table>\n",
              "</div>"
            ],
            "text/plain": [
              "        Pclass  Survived\n",
              "Sex                     \n",
              "female     678       233\n",
              "male      1379       109"
            ]
          },
          "metadata": {
            "tags": []
          },
          "execution_count": 245
        }
      ]
    },
    {
      "cell_type": "markdown",
      "metadata": {
        "id": "a8CEbpHX9O7R"
      },
      "source": [
        "## Pandas 요약\n"
      ]
    },
    {
      "cell_type": "markdown",
      "metadata": {
        "id": "0FQjvxCA9cru"
      },
      "source": [
        "### 데이터프레임(Dataframe)과 시리즈(Series)"
      ]
    },
    {
      "cell_type": "code",
      "metadata": {
        "id": "YCQKPjrS82-d"
      },
      "source": [
        "# 시리즈와 데이터프레임 두 가지가 기본이다\n",
        "# 자동으로 인덱스가 만들어진다\n",
        "\n",
        "import numpy as np\n",
        "import pandas as pd"
      ],
      "execution_count": null,
      "outputs": []
    },
    {
      "cell_type": "code",
      "metadata": {
        "id": "h6LdADOf82-n"
      },
      "source": [
        "dic = {'city': ['서울', '부산', '대전', '대구', '광주'],\n",
        "        'year': [2017, 2017, 2018, 2018, 2018],\n",
        "        'temp': [18, 20, 19, 21, 20]}\n"
      ],
      "execution_count": null,
      "outputs": []
    },
    {
      "cell_type": "code",
      "metadata": {
        "id": "x7A1CnxE82-v"
      },
      "source": [
        "#'year', 'city', 'temp'\n"
      ],
      "execution_count": null,
      "outputs": []
    },
    {
      "cell_type": "code",
      "metadata": {
        "id": "mAfSb4Ul82-z"
      },
      "source": [
        "# index -> 'a','b','c','d','e'\n"
      ],
      "execution_count": null,
      "outputs": []
    },
    {
      "cell_type": "code",
      "metadata": {
        "id": "Xagl254982-4"
      },
      "source": [
        "# columns -> '도시','연도','날씨'\n"
      ],
      "execution_count": null,
      "outputs": []
    },
    {
      "cell_type": "code",
      "metadata": {
        "id": "J05EE-Wd82-9"
      },
      "source": [
        "# index -> '도시'\n"
      ],
      "execution_count": null,
      "outputs": []
    },
    {
      "cell_type": "code",
      "metadata": {
        "id": "ATaBZSm8D_J5"
      },
      "source": [
        ""
      ],
      "execution_count": null,
      "outputs": []
    },
    {
      "cell_type": "markdown",
      "metadata": {
        "id": "a6qgmpbi82_1"
      },
      "source": [
        "### 람다 함수"
      ]
    },
    {
      "cell_type": "code",
      "metadata": {
        "id": "eUZWsh-J82_1",
        "colab": {
          "base_uri": "https://localhost:8080/",
          "height": 173
        },
        "outputId": "a64202e8-e6b1-43be-fb9f-22f501d0768f"
      },
      "source": [
        "f = lambda x: x.max() - x.min()\n",
        "\n",
        "df = pd.DataFrame(np.arange(12).reshape(4, 3), \n",
        "                  columns=['A', 'B', 'C'], index=['a', 'b', 'c', 'd'])\n",
        "df"
      ],
      "execution_count": null,
      "outputs": [
        {
          "output_type": "execute_result",
          "data": {
            "text/html": [
              "<div>\n",
              "<style scoped>\n",
              "    .dataframe tbody tr th:only-of-type {\n",
              "        vertical-align: middle;\n",
              "    }\n",
              "\n",
              "    .dataframe tbody tr th {\n",
              "        vertical-align: top;\n",
              "    }\n",
              "\n",
              "    .dataframe thead th {\n",
              "        text-align: right;\n",
              "    }\n",
              "</style>\n",
              "<table border=\"1\" class=\"dataframe\">\n",
              "  <thead>\n",
              "    <tr style=\"text-align: right;\">\n",
              "      <th></th>\n",
              "      <th>A</th>\n",
              "      <th>B</th>\n",
              "      <th>C</th>\n",
              "    </tr>\n",
              "  </thead>\n",
              "  <tbody>\n",
              "    <tr>\n",
              "      <th>a</th>\n",
              "      <td>0</td>\n",
              "      <td>1</td>\n",
              "      <td>2</td>\n",
              "    </tr>\n",
              "    <tr>\n",
              "      <th>b</th>\n",
              "      <td>3</td>\n",
              "      <td>4</td>\n",
              "      <td>5</td>\n",
              "    </tr>\n",
              "    <tr>\n",
              "      <th>c</th>\n",
              "      <td>6</td>\n",
              "      <td>7</td>\n",
              "      <td>8</td>\n",
              "    </tr>\n",
              "    <tr>\n",
              "      <th>d</th>\n",
              "      <td>9</td>\n",
              "      <td>10</td>\n",
              "      <td>11</td>\n",
              "    </tr>\n",
              "  </tbody>\n",
              "</table>\n",
              "</div>"
            ],
            "text/plain": [
              "   A   B   C\n",
              "a  0   1   2\n",
              "b  3   4   5\n",
              "c  6   7   8\n",
              "d  9  10  11"
            ]
          },
          "metadata": {
            "tags": []
          },
          "execution_count": 250
        }
      ]
    },
    {
      "cell_type": "markdown",
      "metadata": {
        "id": "KFjsW44p82_-"
      },
      "source": [
        "### Series"
      ]
    },
    {
      "cell_type": "code",
      "metadata": {
        "id": "Xz2_joUI82_-",
        "colab": {
          "base_uri": "https://localhost:8080/"
        },
        "outputId": "ea2d9ee9-5795-489e-f8fc-73970c95ec98"
      },
      "source": [
        "# 파이썬 기본 타입인  딕셔너리로부터 시리즈를 만들 수 있다\n",
        "dic = {'서울':800, '부산':150, '대구': 100}\n",
        "dic"
      ],
      "execution_count": null,
      "outputs": [
        {
          "output_type": "execute_result",
          "data": {
            "text/plain": [
              "{'대구': 100, '부산': 150, '서울': 800}"
            ]
          },
          "metadata": {
            "tags": []
          },
          "execution_count": 252
        }
      ]
    },
    {
      "cell_type": "code",
      "metadata": {
        "id": "zihNqRw7EPMp"
      },
      "source": [
        ""
      ],
      "execution_count": null,
      "outputs": []
    },
    {
      "cell_type": "markdown",
      "metadata": {
        "id": "RncnFg4M7aJA"
      },
      "source": [
        "## 데이터 프레임 활용"
      ]
    },
    {
      "cell_type": "code",
      "metadata": {
        "colab": {
          "base_uri": "https://localhost:8080/",
          "height": 665
        },
        "id": "qbmunVwS7doF",
        "outputId": "1bc7c168-062d-44d2-8279-04592cbefdf6"
      },
      "source": [
        "df = pd.read_excel(drive_path + '주가데이터.xlsx')\n",
        "df"
      ],
      "execution_count": null,
      "outputs": [
        {
          "output_type": "execute_result",
          "data": {
            "text/html": [
              "<div>\n",
              "<style scoped>\n",
              "    .dataframe tbody tr th:only-of-type {\n",
              "        vertical-align: middle;\n",
              "    }\n",
              "\n",
              "    .dataframe tbody tr th {\n",
              "        vertical-align: top;\n",
              "    }\n",
              "\n",
              "    .dataframe thead th {\n",
              "        text-align: right;\n",
              "    }\n",
              "</style>\n",
              "<table border=\"1\" class=\"dataframe\">\n",
              "  <thead>\n",
              "    <tr style=\"text-align: right;\">\n",
              "      <th></th>\n",
              "      <th>연월일</th>\n",
              "      <th>당일종가</th>\n",
              "      <th>전일종가</th>\n",
              "      <th>시가</th>\n",
              "      <th>고가</th>\n",
              "      <th>저가</th>\n",
              "      <th>거래량</th>\n",
              "    </tr>\n",
              "  </thead>\n",
              "  <tbody>\n",
              "    <tr>\n",
              "      <th>0</th>\n",
              "      <td>2018-07-02</td>\n",
              "      <td>10100</td>\n",
              "      <td>600</td>\n",
              "      <td>10850</td>\n",
              "      <td>10900</td>\n",
              "      <td>10000</td>\n",
              "      <td>137977</td>\n",
              "    </tr>\n",
              "    <tr>\n",
              "      <th>1</th>\n",
              "      <td>2018-06-29</td>\n",
              "      <td>10700</td>\n",
              "      <td>300</td>\n",
              "      <td>10550</td>\n",
              "      <td>10900</td>\n",
              "      <td>9990</td>\n",
              "      <td>170253</td>\n",
              "    </tr>\n",
              "    <tr>\n",
              "      <th>2</th>\n",
              "      <td>2018-06-28</td>\n",
              "      <td>10400</td>\n",
              "      <td>500</td>\n",
              "      <td>10900</td>\n",
              "      <td>10950</td>\n",
              "      <td>10150</td>\n",
              "      <td>155769</td>\n",
              "    </tr>\n",
              "    <tr>\n",
              "      <th>3</th>\n",
              "      <td>2018-06-27</td>\n",
              "      <td>10900</td>\n",
              "      <td>100</td>\n",
              "      <td>10800</td>\n",
              "      <td>11050</td>\n",
              "      <td>10500</td>\n",
              "      <td>133548</td>\n",
              "    </tr>\n",
              "    <tr>\n",
              "      <th>4</th>\n",
              "      <td>2018-06-26</td>\n",
              "      <td>10800</td>\n",
              "      <td>350</td>\n",
              "      <td>10900</td>\n",
              "      <td>11000</td>\n",
              "      <td>10700</td>\n",
              "      <td>63039</td>\n",
              "    </tr>\n",
              "    <tr>\n",
              "      <th>5</th>\n",
              "      <td>2018-06-25</td>\n",
              "      <td>11150</td>\n",
              "      <td>150</td>\n",
              "      <td>11400</td>\n",
              "      <td>11450</td>\n",
              "      <td>11000</td>\n",
              "      <td>55519</td>\n",
              "    </tr>\n",
              "    <tr>\n",
              "      <th>6</th>\n",
              "      <td>2018-06-22</td>\n",
              "      <td>11300</td>\n",
              "      <td>100</td>\n",
              "      <td>11250</td>\n",
              "      <td>11450</td>\n",
              "      <td>10750</td>\n",
              "      <td>134805</td>\n",
              "    </tr>\n",
              "    <tr>\n",
              "      <th>7</th>\n",
              "      <td>2018-06-21</td>\n",
              "      <td>11200</td>\n",
              "      <td>350</td>\n",
              "      <td>11350</td>\n",
              "      <td>11750</td>\n",
              "      <td>11200</td>\n",
              "      <td>133002</td>\n",
              "    </tr>\n",
              "    <tr>\n",
              "      <th>8</th>\n",
              "      <td>2018-06-20</td>\n",
              "      <td>11550</td>\n",
              "      <td>250</td>\n",
              "      <td>11200</td>\n",
              "      <td>11600</td>\n",
              "      <td>10900</td>\n",
              "      <td>308596</td>\n",
              "    </tr>\n",
              "    <tr>\n",
              "      <th>9</th>\n",
              "      <td>2018-06-19</td>\n",
              "      <td>11300</td>\n",
              "      <td>700</td>\n",
              "      <td>11850</td>\n",
              "      <td>11950</td>\n",
              "      <td>11300</td>\n",
              "      <td>180656</td>\n",
              "    </tr>\n",
              "    <tr>\n",
              "      <th>10</th>\n",
              "      <td>2018-06-18</td>\n",
              "      <td>12000</td>\n",
              "      <td>1400</td>\n",
              "      <td>13400</td>\n",
              "      <td>13400</td>\n",
              "      <td>12000</td>\n",
              "      <td>309787</td>\n",
              "    </tr>\n",
              "    <tr>\n",
              "      <th>11</th>\n",
              "      <td>2018-06-15</td>\n",
              "      <td>13400</td>\n",
              "      <td>50</td>\n",
              "      <td>13600</td>\n",
              "      <td>13600</td>\n",
              "      <td>12900</td>\n",
              "      <td>201376</td>\n",
              "    </tr>\n",
              "    <tr>\n",
              "      <th>12</th>\n",
              "      <td>2018-06-14</td>\n",
              "      <td>13450</td>\n",
              "      <td>250</td>\n",
              "      <td>13200</td>\n",
              "      <td>13700</td>\n",
              "      <td>13150</td>\n",
              "      <td>347451</td>\n",
              "    </tr>\n",
              "    <tr>\n",
              "      <th>13</th>\n",
              "      <td>2018-06-12</td>\n",
              "      <td>13200</td>\n",
              "      <td>1250</td>\n",
              "      <td>12200</td>\n",
              "      <td>13300</td>\n",
              "      <td>12050</td>\n",
              "      <td>558148</td>\n",
              "    </tr>\n",
              "    <tr>\n",
              "      <th>14</th>\n",
              "      <td>2018-06-11</td>\n",
              "      <td>11950</td>\n",
              "      <td>0</td>\n",
              "      <td>12000</td>\n",
              "      <td>12250</td>\n",
              "      <td>11950</td>\n",
              "      <td>62293</td>\n",
              "    </tr>\n",
              "    <tr>\n",
              "      <th>15</th>\n",
              "      <td>2018-06-08</td>\n",
              "      <td>11950</td>\n",
              "      <td>0</td>\n",
              "      <td>11950</td>\n",
              "      <td>12200</td>\n",
              "      <td>11800</td>\n",
              "      <td>59258</td>\n",
              "    </tr>\n",
              "    <tr>\n",
              "      <th>16</th>\n",
              "      <td>2018-06-07</td>\n",
              "      <td>11950</td>\n",
              "      <td>200</td>\n",
              "      <td>12200</td>\n",
              "      <td>12300</td>\n",
              "      <td>11900</td>\n",
              "      <td>49088</td>\n",
              "    </tr>\n",
              "    <tr>\n",
              "      <th>17</th>\n",
              "      <td>2018-06-05</td>\n",
              "      <td>12150</td>\n",
              "      <td>250</td>\n",
              "      <td>11800</td>\n",
              "      <td>12250</td>\n",
              "      <td>11800</td>\n",
              "      <td>42485</td>\n",
              "    </tr>\n",
              "    <tr>\n",
              "      <th>18</th>\n",
              "      <td>2018-06-04</td>\n",
              "      <td>11900</td>\n",
              "      <td>0</td>\n",
              "      <td>11900</td>\n",
              "      <td>12200</td>\n",
              "      <td>11700</td>\n",
              "      <td>25171</td>\n",
              "    </tr>\n",
              "    <tr>\n",
              "      <th>19</th>\n",
              "      <td>2018-06-01</td>\n",
              "      <td>11900</td>\n",
              "      <td>100</td>\n",
              "      <td>11800</td>\n",
              "      <td>12100</td>\n",
              "      <td>11750</td>\n",
              "      <td>32062</td>\n",
              "    </tr>\n",
              "  </tbody>\n",
              "</table>\n",
              "</div>"
            ],
            "text/plain": [
              "          연월일   당일종가  전일종가     시가     고가     저가     거래량\n",
              "0  2018-07-02  10100   600  10850  10900  10000  137977\n",
              "1  2018-06-29  10700   300  10550  10900   9990  170253\n",
              "2  2018-06-28  10400   500  10900  10950  10150  155769\n",
              "3  2018-06-27  10900   100  10800  11050  10500  133548\n",
              "4  2018-06-26  10800   350  10900  11000  10700   63039\n",
              "5  2018-06-25  11150   150  11400  11450  11000   55519\n",
              "6  2018-06-22  11300   100  11250  11450  10750  134805\n",
              "7  2018-06-21  11200   350  11350  11750  11200  133002\n",
              "8  2018-06-20  11550   250  11200  11600  10900  308596\n",
              "9  2018-06-19  11300   700  11850  11950  11300  180656\n",
              "10 2018-06-18  12000  1400  13400  13400  12000  309787\n",
              "11 2018-06-15  13400    50  13600  13600  12900  201376\n",
              "12 2018-06-14  13450   250  13200  13700  13150  347451\n",
              "13 2018-06-12  13200  1250  12200  13300  12050  558148\n",
              "14 2018-06-11  11950     0  12000  12250  11950   62293\n",
              "15 2018-06-08  11950     0  11950  12200  11800   59258\n",
              "16 2018-06-07  11950   200  12200  12300  11900   49088\n",
              "17 2018-06-05  12150   250  11800  12250  11800   42485\n",
              "18 2018-06-04  11900     0  11900  12200  11700   25171\n",
              "19 2018-06-01  11900   100  11800  12100  11750   32062"
            ]
          },
          "metadata": {
            "tags": []
          },
          "execution_count": 250
        }
      ]
    },
    {
      "cell_type": "code",
      "metadata": {
        "colab": {
          "base_uri": "https://localhost:8080/"
        },
        "id": "d4nPKNt-8If0",
        "outputId": "e7b425c3-b779-4656-daa4-d0674a9774f2"
      },
      "source": [
        "df['연월일'].astype('str')"
      ],
      "execution_count": null,
      "outputs": [
        {
          "output_type": "execute_result",
          "data": {
            "text/plain": [
              "0     2018-07-02\n",
              "1     2018-06-29\n",
              "2     2018-06-28\n",
              "3     2018-06-27\n",
              "4     2018-06-26\n",
              "5     2018-06-25\n",
              "6     2018-06-22\n",
              "7     2018-06-21\n",
              "8     2018-06-20\n",
              "9     2018-06-19\n",
              "10    2018-06-18\n",
              "11    2018-06-15\n",
              "12    2018-06-14\n",
              "13    2018-06-12\n",
              "14    2018-06-11\n",
              "15    2018-06-08\n",
              "16    2018-06-07\n",
              "17    2018-06-05\n",
              "18    2018-06-04\n",
              "19    2018-06-01\n",
              "Name: 연월일, dtype: object"
            ]
          },
          "metadata": {
            "tags": []
          },
          "execution_count": 251
        }
      ]
    },
    {
      "cell_type": "code",
      "metadata": {
        "colab": {
          "base_uri": "https://localhost:8080/"
        },
        "id": "XLzQXcZy8RU4",
        "outputId": "11fdf799-05fd-4a0a-8eca-43dd302017a2"
      },
      "source": [
        "df[ '연월일' ] = df['연월일'].astype('str')\n",
        "df[ '연월일' ]"
      ],
      "execution_count": null,
      "outputs": [
        {
          "output_type": "execute_result",
          "data": {
            "text/plain": [
              "0     2018-07-02\n",
              "1     2018-06-29\n",
              "2     2018-06-28\n",
              "3     2018-06-27\n",
              "4     2018-06-26\n",
              "5     2018-06-25\n",
              "6     2018-06-22\n",
              "7     2018-06-21\n",
              "8     2018-06-20\n",
              "9     2018-06-19\n",
              "10    2018-06-18\n",
              "11    2018-06-15\n",
              "12    2018-06-14\n",
              "13    2018-06-12\n",
              "14    2018-06-11\n",
              "15    2018-06-08\n",
              "16    2018-06-07\n",
              "17    2018-06-05\n",
              "18    2018-06-04\n",
              "19    2018-06-01\n",
              "Name: 연월일, dtype: object"
            ]
          },
          "metadata": {
            "tags": []
          },
          "execution_count": 253
        }
      ]
    },
    {
      "cell_type": "code",
      "metadata": {
        "colab": {
          "base_uri": "https://localhost:8080/"
        },
        "id": "QieHtGqm8ZMu",
        "outputId": "7225290d-ba69-45d3-fe4d-3365d73265ba"
      },
      "source": [
        "# str 타입으로 변환\n",
        "\n",
        "df[ '연월일' ].str"
      ],
      "execution_count": null,
      "outputs": [
        {
          "output_type": "execute_result",
          "data": {
            "text/plain": [
              "<pandas.core.strings.StringMethods at 0x7f167b256110>"
            ]
          },
          "metadata": {
            "tags": []
          },
          "execution_count": 255
        }
      ]
    },
    {
      "cell_type": "code",
      "metadata": {
        "colab": {
          "base_uri": "https://localhost:8080/"
        },
        "id": "2YXYqz4T8fug",
        "outputId": "56aa32c6-2587-4459-d499-6f7624851556"
      },
      "source": [
        "# '-' 을 구분자로 하여 3열의 리스트로 변환\n",
        "\n",
        "df[ '연월일' ].str.split('-')"
      ],
      "execution_count": null,
      "outputs": [
        {
          "output_type": "execute_result",
          "data": {
            "text/plain": [
              "0     [2018, 07, 02]\n",
              "1     [2018, 06, 29]\n",
              "2     [2018, 06, 28]\n",
              "3     [2018, 06, 27]\n",
              "4     [2018, 06, 26]\n",
              "5     [2018, 06, 25]\n",
              "6     [2018, 06, 22]\n",
              "7     [2018, 06, 21]\n",
              "8     [2018, 06, 20]\n",
              "9     [2018, 06, 19]\n",
              "10    [2018, 06, 18]\n",
              "11    [2018, 06, 15]\n",
              "12    [2018, 06, 14]\n",
              "13    [2018, 06, 12]\n",
              "14    [2018, 06, 11]\n",
              "15    [2018, 06, 08]\n",
              "16    [2018, 06, 07]\n",
              "17    [2018, 06, 05]\n",
              "18    [2018, 06, 04]\n",
              "19    [2018, 06, 01]\n",
              "Name: 연월일, dtype: object"
            ]
          },
          "metadata": {
            "tags": []
          },
          "execution_count": 256
        }
      ]
    },
    {
      "cell_type": "code",
      "metadata": {
        "colab": {
          "base_uri": "https://localhost:8080/"
        },
        "id": "BKq67arD8uwh",
        "outputId": "33981ea9-4d80-475b-d71a-32bff4d759d0"
      },
      "source": [
        "dates = df[ '연월일' ].str.split('-')\n",
        "dates.str.get(0)"
      ],
      "execution_count": null,
      "outputs": [
        {
          "output_type": "execute_result",
          "data": {
            "text/plain": [
              "0     2018\n",
              "1     2018\n",
              "2     2018\n",
              "3     2018\n",
              "4     2018\n",
              "5     2018\n",
              "6     2018\n",
              "7     2018\n",
              "8     2018\n",
              "9     2018\n",
              "10    2018\n",
              "11    2018\n",
              "12    2018\n",
              "13    2018\n",
              "14    2018\n",
              "15    2018\n",
              "16    2018\n",
              "17    2018\n",
              "18    2018\n",
              "19    2018\n",
              "Name: 연월일, dtype: object"
            ]
          },
          "metadata": {
            "tags": []
          },
          "execution_count": 258
        }
      ]
    },
    {
      "cell_type": "code",
      "metadata": {
        "colab": {
          "base_uri": "https://localhost:8080/",
          "height": 203
        },
        "id": "xxYPi9Mn8-P_",
        "outputId": "8844ef92-26b9-4d7b-ffef-c37767833401"
      },
      "source": [
        "df['연'] = dates.str.get(0)\n",
        "df['월'] = dates.str.get(1)\n",
        "df['일'] = dates.str.get(2)\n",
        "df.head()"
      ],
      "execution_count": null,
      "outputs": [
        {
          "output_type": "execute_result",
          "data": {
            "text/html": [
              "<div>\n",
              "<style scoped>\n",
              "    .dataframe tbody tr th:only-of-type {\n",
              "        vertical-align: middle;\n",
              "    }\n",
              "\n",
              "    .dataframe tbody tr th {\n",
              "        vertical-align: top;\n",
              "    }\n",
              "\n",
              "    .dataframe thead th {\n",
              "        text-align: right;\n",
              "    }\n",
              "</style>\n",
              "<table border=\"1\" class=\"dataframe\">\n",
              "  <thead>\n",
              "    <tr style=\"text-align: right;\">\n",
              "      <th></th>\n",
              "      <th>연월일</th>\n",
              "      <th>당일종가</th>\n",
              "      <th>전일종가</th>\n",
              "      <th>시가</th>\n",
              "      <th>고가</th>\n",
              "      <th>저가</th>\n",
              "      <th>거래량</th>\n",
              "      <th>연</th>\n",
              "      <th>월</th>\n",
              "      <th>일</th>\n",
              "    </tr>\n",
              "  </thead>\n",
              "  <tbody>\n",
              "    <tr>\n",
              "      <th>0</th>\n",
              "      <td>2018-07-02</td>\n",
              "      <td>10100</td>\n",
              "      <td>600</td>\n",
              "      <td>10850</td>\n",
              "      <td>10900</td>\n",
              "      <td>10000</td>\n",
              "      <td>137977</td>\n",
              "      <td>2018</td>\n",
              "      <td>07</td>\n",
              "      <td>02</td>\n",
              "    </tr>\n",
              "    <tr>\n",
              "      <th>1</th>\n",
              "      <td>2018-06-29</td>\n",
              "      <td>10700</td>\n",
              "      <td>300</td>\n",
              "      <td>10550</td>\n",
              "      <td>10900</td>\n",
              "      <td>9990</td>\n",
              "      <td>170253</td>\n",
              "      <td>2018</td>\n",
              "      <td>06</td>\n",
              "      <td>29</td>\n",
              "    </tr>\n",
              "    <tr>\n",
              "      <th>2</th>\n",
              "      <td>2018-06-28</td>\n",
              "      <td>10400</td>\n",
              "      <td>500</td>\n",
              "      <td>10900</td>\n",
              "      <td>10950</td>\n",
              "      <td>10150</td>\n",
              "      <td>155769</td>\n",
              "      <td>2018</td>\n",
              "      <td>06</td>\n",
              "      <td>28</td>\n",
              "    </tr>\n",
              "    <tr>\n",
              "      <th>3</th>\n",
              "      <td>2018-06-27</td>\n",
              "      <td>10900</td>\n",
              "      <td>100</td>\n",
              "      <td>10800</td>\n",
              "      <td>11050</td>\n",
              "      <td>10500</td>\n",
              "      <td>133548</td>\n",
              "      <td>2018</td>\n",
              "      <td>06</td>\n",
              "      <td>27</td>\n",
              "    </tr>\n",
              "    <tr>\n",
              "      <th>4</th>\n",
              "      <td>2018-06-26</td>\n",
              "      <td>10800</td>\n",
              "      <td>350</td>\n",
              "      <td>10900</td>\n",
              "      <td>11000</td>\n",
              "      <td>10700</td>\n",
              "      <td>63039</td>\n",
              "      <td>2018</td>\n",
              "      <td>06</td>\n",
              "      <td>26</td>\n",
              "    </tr>\n",
              "  </tbody>\n",
              "</table>\n",
              "</div>"
            ],
            "text/plain": [
              "          연월일   당일종가  전일종가     시가     고가     저가     거래량     연   월   일\n",
              "0  2018-07-02  10100   600  10850  10900  10000  137977  2018  07  02\n",
              "1  2018-06-29  10700   300  10550  10900   9990  170253  2018  06  29\n",
              "2  2018-06-28  10400   500  10900  10950  10150  155769  2018  06  28\n",
              "3  2018-06-27  10900   100  10800  11050  10500  133548  2018  06  27\n",
              "4  2018-06-26  10800   350  10900  11000  10700   63039  2018  06  26"
            ]
          },
          "metadata": {
            "tags": []
          },
          "execution_count": 259
        }
      ]
    },
    {
      "cell_type": "markdown",
      "metadata": {
        "id": "Ai80ruI7-Cm-"
      },
      "source": [
        "### 데이터프레임 합치기\n",
        "\n",
        "* concat(), merge(), join()"
      ]
    },
    {
      "cell_type": "code",
      "metadata": {
        "id": "px7_ck-Z-D4p",
        "colab": {
          "base_uri": "https://localhost:8080/"
        },
        "outputId": "29846d51-0897-4c11-a00f-97471e60564b"
      },
      "source": [
        "df1 = pd.DataFrame({'a': ['a0', 'a1', 'a2', 'a3'],\n",
        "                    'b': ['b0', 'b1', 'b2', 'b3'],\n",
        "                    'c': ['c0', 'c1', 'c2', 'c3']},\n",
        "                    index=[0, 1, 2, 3])\n",
        " \n",
        "df2 = pd.DataFrame({'a': ['a2', 'a3', 'a4', 'a5'],\n",
        "                    'b': ['b2', 'b3', 'b4', 'b5'],\n",
        "                    'c': ['c2', 'c3', 'c4', 'c5'],\n",
        "                    'd': ['d2', 'd3', 'd4', 'd5']},\n",
        "                    index=[2, 3, 4, 5])\n",
        "\n",
        "print(df1)\n",
        "print(df2)"
      ],
      "execution_count": null,
      "outputs": [
        {
          "output_type": "stream",
          "text": [
            "    a   b   c\n",
            "0  a0  b0  c0\n",
            "1  a1  b1  c1\n",
            "2  a2  b2  c2\n",
            "3  a3  b3  c3\n",
            "    a   b   c   d\n",
            "2  a2  b2  c2  d2\n",
            "3  a3  b3  c3  d3\n",
            "4  a4  b4  c4  d4\n",
            "5  a5  b5  c5  d5\n"
          ],
          "name": "stdout"
        }
      ]
    },
    {
      "cell_type": "markdown",
      "metadata": {
        "id": "C-s_ThXGAaIi"
      },
      "source": [
        "pd.concat()함수\n",
        "- 데이터프레임을 말 그대로 물리적으로 이어 붙여주는 함수"
      ]
    },
    {
      "cell_type": "code",
      "metadata": {
        "colab": {
          "base_uri": "https://localhost:8080/",
          "height": 295
        },
        "id": "3I0DauCWAM9Y",
        "outputId": "3897ade7-c084-428e-e108-0cea2fcf09a4"
      },
      "source": [
        "pd.concat( [df1, df2] )"
      ],
      "execution_count": null,
      "outputs": [
        {
          "output_type": "execute_result",
          "data": {
            "text/html": [
              "<div>\n",
              "<style scoped>\n",
              "    .dataframe tbody tr th:only-of-type {\n",
              "        vertical-align: middle;\n",
              "    }\n",
              "\n",
              "    .dataframe tbody tr th {\n",
              "        vertical-align: top;\n",
              "    }\n",
              "\n",
              "    .dataframe thead th {\n",
              "        text-align: right;\n",
              "    }\n",
              "</style>\n",
              "<table border=\"1\" class=\"dataframe\">\n",
              "  <thead>\n",
              "    <tr style=\"text-align: right;\">\n",
              "      <th></th>\n",
              "      <th>a</th>\n",
              "      <th>b</th>\n",
              "      <th>c</th>\n",
              "      <th>d</th>\n",
              "    </tr>\n",
              "  </thead>\n",
              "  <tbody>\n",
              "    <tr>\n",
              "      <th>0</th>\n",
              "      <td>a0</td>\n",
              "      <td>b0</td>\n",
              "      <td>c0</td>\n",
              "      <td>NaN</td>\n",
              "    </tr>\n",
              "    <tr>\n",
              "      <th>1</th>\n",
              "      <td>a1</td>\n",
              "      <td>b1</td>\n",
              "      <td>c1</td>\n",
              "      <td>NaN</td>\n",
              "    </tr>\n",
              "    <tr>\n",
              "      <th>2</th>\n",
              "      <td>a2</td>\n",
              "      <td>b2</td>\n",
              "      <td>c2</td>\n",
              "      <td>NaN</td>\n",
              "    </tr>\n",
              "    <tr>\n",
              "      <th>3</th>\n",
              "      <td>a3</td>\n",
              "      <td>b3</td>\n",
              "      <td>c3</td>\n",
              "      <td>NaN</td>\n",
              "    </tr>\n",
              "    <tr>\n",
              "      <th>2</th>\n",
              "      <td>a2</td>\n",
              "      <td>b2</td>\n",
              "      <td>c2</td>\n",
              "      <td>d2</td>\n",
              "    </tr>\n",
              "    <tr>\n",
              "      <th>3</th>\n",
              "      <td>a3</td>\n",
              "      <td>b3</td>\n",
              "      <td>c3</td>\n",
              "      <td>d3</td>\n",
              "    </tr>\n",
              "    <tr>\n",
              "      <th>4</th>\n",
              "      <td>a4</td>\n",
              "      <td>b4</td>\n",
              "      <td>c4</td>\n",
              "      <td>d4</td>\n",
              "    </tr>\n",
              "    <tr>\n",
              "      <th>5</th>\n",
              "      <td>a5</td>\n",
              "      <td>b5</td>\n",
              "      <td>c5</td>\n",
              "      <td>d5</td>\n",
              "    </tr>\n",
              "  </tbody>\n",
              "</table>\n",
              "</div>"
            ],
            "text/plain": [
              "    a   b   c    d\n",
              "0  a0  b0  c0  NaN\n",
              "1  a1  b1  c1  NaN\n",
              "2  a2  b2  c2  NaN\n",
              "3  a3  b3  c3  NaN\n",
              "2  a2  b2  c2   d2\n",
              "3  a3  b3  c3   d3\n",
              "4  a4  b4  c4   d4\n",
              "5  a5  b5  c5   d5"
            ]
          },
          "metadata": {
            "tags": []
          },
          "execution_count": 266
        }
      ]
    },
    {
      "cell_type": "code",
      "metadata": {
        "colab": {
          "base_uri": "https://localhost:8080/",
          "height": 295
        },
        "id": "A-UNbgZsApcS",
        "outputId": "97d2ca9a-b056-4927-a6a5-250fc68a4463"
      },
      "source": [
        "# 행 방향으로 연결\n",
        "\n",
        "pd.concat( [df1, df2], ignore_index = True )"
      ],
      "execution_count": null,
      "outputs": [
        {
          "output_type": "execute_result",
          "data": {
            "text/html": [
              "<div>\n",
              "<style scoped>\n",
              "    .dataframe tbody tr th:only-of-type {\n",
              "        vertical-align: middle;\n",
              "    }\n",
              "\n",
              "    .dataframe tbody tr th {\n",
              "        vertical-align: top;\n",
              "    }\n",
              "\n",
              "    .dataframe thead th {\n",
              "        text-align: right;\n",
              "    }\n",
              "</style>\n",
              "<table border=\"1\" class=\"dataframe\">\n",
              "  <thead>\n",
              "    <tr style=\"text-align: right;\">\n",
              "      <th></th>\n",
              "      <th>a</th>\n",
              "      <th>b</th>\n",
              "      <th>c</th>\n",
              "      <th>d</th>\n",
              "    </tr>\n",
              "  </thead>\n",
              "  <tbody>\n",
              "    <tr>\n",
              "      <th>0</th>\n",
              "      <td>a0</td>\n",
              "      <td>b0</td>\n",
              "      <td>c0</td>\n",
              "      <td>NaN</td>\n",
              "    </tr>\n",
              "    <tr>\n",
              "      <th>1</th>\n",
              "      <td>a1</td>\n",
              "      <td>b1</td>\n",
              "      <td>c1</td>\n",
              "      <td>NaN</td>\n",
              "    </tr>\n",
              "    <tr>\n",
              "      <th>2</th>\n",
              "      <td>a2</td>\n",
              "      <td>b2</td>\n",
              "      <td>c2</td>\n",
              "      <td>NaN</td>\n",
              "    </tr>\n",
              "    <tr>\n",
              "      <th>3</th>\n",
              "      <td>a3</td>\n",
              "      <td>b3</td>\n",
              "      <td>c3</td>\n",
              "      <td>NaN</td>\n",
              "    </tr>\n",
              "    <tr>\n",
              "      <th>4</th>\n",
              "      <td>a2</td>\n",
              "      <td>b2</td>\n",
              "      <td>c2</td>\n",
              "      <td>d2</td>\n",
              "    </tr>\n",
              "    <tr>\n",
              "      <th>5</th>\n",
              "      <td>a3</td>\n",
              "      <td>b3</td>\n",
              "      <td>c3</td>\n",
              "      <td>d3</td>\n",
              "    </tr>\n",
              "    <tr>\n",
              "      <th>6</th>\n",
              "      <td>a4</td>\n",
              "      <td>b4</td>\n",
              "      <td>c4</td>\n",
              "      <td>d4</td>\n",
              "    </tr>\n",
              "    <tr>\n",
              "      <th>7</th>\n",
              "      <td>a5</td>\n",
              "      <td>b5</td>\n",
              "      <td>c5</td>\n",
              "      <td>d5</td>\n",
              "    </tr>\n",
              "  </tbody>\n",
              "</table>\n",
              "</div>"
            ],
            "text/plain": [
              "    a   b   c    d\n",
              "0  a0  b0  c0  NaN\n",
              "1  a1  b1  c1  NaN\n",
              "2  a2  b2  c2  NaN\n",
              "3  a3  b3  c3  NaN\n",
              "4  a2  b2  c2   d2\n",
              "5  a3  b3  c3   d3\n",
              "6  a4  b4  c4   d4\n",
              "7  a5  b5  c5   d5"
            ]
          },
          "metadata": {
            "tags": []
          },
          "execution_count": 265
        }
      ]
    },
    {
      "cell_type": "code",
      "metadata": {
        "colab": {
          "base_uri": "https://localhost:8080/",
          "height": 234
        },
        "id": "HdsPxM8iAvh7",
        "outputId": "b1057b3e-701a-40b2-94e2-3a7c0ceed51b"
      },
      "source": [
        "# 열 방향으로 연결\n",
        "\n",
        "pd.concat( [df1, df2], axis = 1)"
      ],
      "execution_count": null,
      "outputs": [
        {
          "output_type": "execute_result",
          "data": {
            "text/html": [
              "<div>\n",
              "<style scoped>\n",
              "    .dataframe tbody tr th:only-of-type {\n",
              "        vertical-align: middle;\n",
              "    }\n",
              "\n",
              "    .dataframe tbody tr th {\n",
              "        vertical-align: top;\n",
              "    }\n",
              "\n",
              "    .dataframe thead th {\n",
              "        text-align: right;\n",
              "    }\n",
              "</style>\n",
              "<table border=\"1\" class=\"dataframe\">\n",
              "  <thead>\n",
              "    <tr style=\"text-align: right;\">\n",
              "      <th></th>\n",
              "      <th>a</th>\n",
              "      <th>b</th>\n",
              "      <th>c</th>\n",
              "      <th>a</th>\n",
              "      <th>b</th>\n",
              "      <th>c</th>\n",
              "      <th>d</th>\n",
              "    </tr>\n",
              "  </thead>\n",
              "  <tbody>\n",
              "    <tr>\n",
              "      <th>0</th>\n",
              "      <td>a0</td>\n",
              "      <td>b0</td>\n",
              "      <td>c0</td>\n",
              "      <td>NaN</td>\n",
              "      <td>NaN</td>\n",
              "      <td>NaN</td>\n",
              "      <td>NaN</td>\n",
              "    </tr>\n",
              "    <tr>\n",
              "      <th>1</th>\n",
              "      <td>a1</td>\n",
              "      <td>b1</td>\n",
              "      <td>c1</td>\n",
              "      <td>NaN</td>\n",
              "      <td>NaN</td>\n",
              "      <td>NaN</td>\n",
              "      <td>NaN</td>\n",
              "    </tr>\n",
              "    <tr>\n",
              "      <th>2</th>\n",
              "      <td>a2</td>\n",
              "      <td>b2</td>\n",
              "      <td>c2</td>\n",
              "      <td>a2</td>\n",
              "      <td>b2</td>\n",
              "      <td>c2</td>\n",
              "      <td>d2</td>\n",
              "    </tr>\n",
              "    <tr>\n",
              "      <th>3</th>\n",
              "      <td>a3</td>\n",
              "      <td>b3</td>\n",
              "      <td>c3</td>\n",
              "      <td>a3</td>\n",
              "      <td>b3</td>\n",
              "      <td>c3</td>\n",
              "      <td>d3</td>\n",
              "    </tr>\n",
              "    <tr>\n",
              "      <th>4</th>\n",
              "      <td>NaN</td>\n",
              "      <td>NaN</td>\n",
              "      <td>NaN</td>\n",
              "      <td>a4</td>\n",
              "      <td>b4</td>\n",
              "      <td>c4</td>\n",
              "      <td>d4</td>\n",
              "    </tr>\n",
              "    <tr>\n",
              "      <th>5</th>\n",
              "      <td>NaN</td>\n",
              "      <td>NaN</td>\n",
              "      <td>NaN</td>\n",
              "      <td>a5</td>\n",
              "      <td>b5</td>\n",
              "      <td>c5</td>\n",
              "      <td>d5</td>\n",
              "    </tr>\n",
              "  </tbody>\n",
              "</table>\n",
              "</div>"
            ],
            "text/plain": [
              "     a    b    c    a    b    c    d\n",
              "0   a0   b0   c0  NaN  NaN  NaN  NaN\n",
              "1   a1   b1   c1  NaN  NaN  NaN  NaN\n",
              "2   a2   b2   c2   a2   b2   c2   d2\n",
              "3   a3   b3   c3   a3   b3   c3   d3\n",
              "4  NaN  NaN  NaN   a4   b4   c4   d4\n",
              "5  NaN  NaN  NaN   a5   b5   c5   d5"
            ]
          },
          "metadata": {
            "tags": []
          },
          "execution_count": 264
        }
      ]
    },
    {
      "cell_type": "code",
      "metadata": {
        "colab": {
          "base_uri": "https://localhost:8080/",
          "height": 110
        },
        "id": "NvAN0_eRBTcg",
        "outputId": "3d5c1168-5485-402a-8200-99d43c550504"
      },
      "source": [
        "# 교집합\n",
        "\n",
        "pd.concat( [df1, df2], axis = 1, join = 'inner')"
      ],
      "execution_count": null,
      "outputs": [
        {
          "output_type": "execute_result",
          "data": {
            "text/html": [
              "<div>\n",
              "<style scoped>\n",
              "    .dataframe tbody tr th:only-of-type {\n",
              "        vertical-align: middle;\n",
              "    }\n",
              "\n",
              "    .dataframe tbody tr th {\n",
              "        vertical-align: top;\n",
              "    }\n",
              "\n",
              "    .dataframe thead th {\n",
              "        text-align: right;\n",
              "    }\n",
              "</style>\n",
              "<table border=\"1\" class=\"dataframe\">\n",
              "  <thead>\n",
              "    <tr style=\"text-align: right;\">\n",
              "      <th></th>\n",
              "      <th>a</th>\n",
              "      <th>b</th>\n",
              "      <th>c</th>\n",
              "      <th>a</th>\n",
              "      <th>b</th>\n",
              "      <th>c</th>\n",
              "      <th>d</th>\n",
              "    </tr>\n",
              "  </thead>\n",
              "  <tbody>\n",
              "    <tr>\n",
              "      <th>2</th>\n",
              "      <td>a2</td>\n",
              "      <td>b2</td>\n",
              "      <td>c2</td>\n",
              "      <td>a2</td>\n",
              "      <td>b2</td>\n",
              "      <td>c2</td>\n",
              "      <td>d2</td>\n",
              "    </tr>\n",
              "    <tr>\n",
              "      <th>3</th>\n",
              "      <td>a3</td>\n",
              "      <td>b3</td>\n",
              "      <td>c3</td>\n",
              "      <td>a3</td>\n",
              "      <td>b3</td>\n",
              "      <td>c3</td>\n",
              "      <td>d3</td>\n",
              "    </tr>\n",
              "  </tbody>\n",
              "</table>\n",
              "</div>"
            ],
            "text/plain": [
              "    a   b   c   a   b   c   d\n",
              "2  a2  b2  c2  a2  b2  c2  d2\n",
              "3  a3  b3  c3  a3  b3  c3  d3"
            ]
          },
          "metadata": {
            "tags": []
          },
          "execution_count": 267
        }
      ]
    },
    {
      "cell_type": "markdown",
      "metadata": {
        "id": "ElOdzAVhBulU"
      },
      "source": [
        "### 데이터프레임 병합"
      ]
    },
    {
      "cell_type": "code",
      "metadata": {
        "id": "opZLQBJ_BxM0",
        "colab": {
          "base_uri": "https://localhost:8080/"
        },
        "outputId": "95b31c65-8ec2-4a05-c6fc-50775cf14535"
      },
      "source": [
        "df1 = pd.read_excel(drive_path + 'stock price.xlsx')\n",
        "df2 = pd.read_excel(drive_path + 'stock valuation.xlsx')\n",
        "\n",
        "print(df1)\n",
        "print(df2)"
      ],
      "execution_count": null,
      "outputs": [
        {
          "output_type": "stream",
          "text": [
            "       id stock_name          value   price\n",
            "0  128940       한미약품   59385.666667  421000\n",
            "1  130960     CJ E&M   58540.666667   98900\n",
            "2  138250      엔에스쇼핑   14558.666667   13200\n",
            "3  139480        이마트  239230.833333  254500\n",
            "4  142280     녹십자엠에스     468.833333   10200\n",
            "5  145990        삼양사   82750.000000   82000\n",
            "6  185750        종근당   40293.666667  100500\n",
            "7  192400      쿠쿠홀딩스  179204.666667  177500\n",
            "8  199800         툴젠   -2514.333333  115400\n",
            "9  204210     모두투어리츠    3093.333333    3475\n",
            "       id       name           eps     bps        per       pbr\n",
            "0  130960     CJ E&M   6301.333333   54068  15.695091  1.829178\n",
            "1  136480         하림    274.166667    3551  11.489362  0.887074\n",
            "2  138040    메리츠금융지주   2122.333333   14894   6.313806  0.899691\n",
            "3  139480        이마트  18268.166667  295780  13.931338  0.860437\n",
            "4  145990        삼양사   5741.000000  108090  14.283226  0.758627\n",
            "5  161390      한국타이어   5648.500000   51341   7.453306  0.820007\n",
            "6  181710  NHN엔터테인먼트   2110.166667   78434  30.755864  0.827447\n",
            "7  185750        종근당   3990.333333   40684  25.185866  2.470259\n",
            "8  204210     모두투어리츠     85.166667    5335  40.802348  0.651359\n",
            "9  207940   삼성바이오로직스   4644.166667   60099  89.790059  6.938551\n"
          ],
          "name": "stdout"
        }
      ]
    },
    {
      "cell_type": "code",
      "metadata": {
        "colab": {
          "base_uri": "https://localhost:8080/",
          "height": 203
        },
        "id": "XwZP1TmOCt6C",
        "outputId": "bdccdbdb-ad67-4860-85a1-f4c5e4fca3a0"
      },
      "source": [
        "# 데이터 병합 (교집합으로 합쳐짐)\n",
        "\n",
        "pd.merge(df1, df2)"
      ],
      "execution_count": null,
      "outputs": [
        {
          "output_type": "execute_result",
          "data": {
            "text/html": [
              "<div>\n",
              "<style scoped>\n",
              "    .dataframe tbody tr th:only-of-type {\n",
              "        vertical-align: middle;\n",
              "    }\n",
              "\n",
              "    .dataframe tbody tr th {\n",
              "        vertical-align: top;\n",
              "    }\n",
              "\n",
              "    .dataframe thead th {\n",
              "        text-align: right;\n",
              "    }\n",
              "</style>\n",
              "<table border=\"1\" class=\"dataframe\">\n",
              "  <thead>\n",
              "    <tr style=\"text-align: right;\">\n",
              "      <th></th>\n",
              "      <th>id</th>\n",
              "      <th>stock_name</th>\n",
              "      <th>value</th>\n",
              "      <th>price</th>\n",
              "      <th>name</th>\n",
              "      <th>eps</th>\n",
              "      <th>bps</th>\n",
              "      <th>per</th>\n",
              "      <th>pbr</th>\n",
              "    </tr>\n",
              "  </thead>\n",
              "  <tbody>\n",
              "    <tr>\n",
              "      <th>0</th>\n",
              "      <td>130960</td>\n",
              "      <td>CJ E&amp;M</td>\n",
              "      <td>58540.666667</td>\n",
              "      <td>98900</td>\n",
              "      <td>CJ E&amp;M</td>\n",
              "      <td>6301.333333</td>\n",
              "      <td>54068</td>\n",
              "      <td>15.695091</td>\n",
              "      <td>1.829178</td>\n",
              "    </tr>\n",
              "    <tr>\n",
              "      <th>1</th>\n",
              "      <td>139480</td>\n",
              "      <td>이마트</td>\n",
              "      <td>239230.833333</td>\n",
              "      <td>254500</td>\n",
              "      <td>이마트</td>\n",
              "      <td>18268.166667</td>\n",
              "      <td>295780</td>\n",
              "      <td>13.931338</td>\n",
              "      <td>0.860437</td>\n",
              "    </tr>\n",
              "    <tr>\n",
              "      <th>2</th>\n",
              "      <td>145990</td>\n",
              "      <td>삼양사</td>\n",
              "      <td>82750.000000</td>\n",
              "      <td>82000</td>\n",
              "      <td>삼양사</td>\n",
              "      <td>5741.000000</td>\n",
              "      <td>108090</td>\n",
              "      <td>14.283226</td>\n",
              "      <td>0.758627</td>\n",
              "    </tr>\n",
              "    <tr>\n",
              "      <th>3</th>\n",
              "      <td>185750</td>\n",
              "      <td>종근당</td>\n",
              "      <td>40293.666667</td>\n",
              "      <td>100500</td>\n",
              "      <td>종근당</td>\n",
              "      <td>3990.333333</td>\n",
              "      <td>40684</td>\n",
              "      <td>25.185866</td>\n",
              "      <td>2.470259</td>\n",
              "    </tr>\n",
              "    <tr>\n",
              "      <th>4</th>\n",
              "      <td>204210</td>\n",
              "      <td>모두투어리츠</td>\n",
              "      <td>3093.333333</td>\n",
              "      <td>3475</td>\n",
              "      <td>모두투어리츠</td>\n",
              "      <td>85.166667</td>\n",
              "      <td>5335</td>\n",
              "      <td>40.802348</td>\n",
              "      <td>0.651359</td>\n",
              "    </tr>\n",
              "  </tbody>\n",
              "</table>\n",
              "</div>"
            ],
            "text/plain": [
              "       id stock_name          value  ...     bps        per       pbr\n",
              "0  130960     CJ E&M   58540.666667  ...   54068  15.695091  1.829178\n",
              "1  139480        이마트  239230.833333  ...  295780  13.931338  0.860437\n",
              "2  145990        삼양사   82750.000000  ...  108090  14.283226  0.758627\n",
              "3  185750        종근당   40293.666667  ...   40684  25.185866  2.470259\n",
              "4  204210     모두투어리츠    3093.333333  ...    5335  40.802348  0.651359\n",
              "\n",
              "[5 rows x 9 columns]"
            ]
          },
          "metadata": {
            "tags": []
          },
          "execution_count": 269
        }
      ]
    },
    {
      "cell_type": "code",
      "metadata": {
        "colab": {
          "base_uri": "https://localhost:8080/",
          "height": 511
        },
        "id": "dLeDhl_8C888",
        "outputId": "84cba0dd-f4d1-48eb-a596-f2406defaa00"
      },
      "source": [
        "# 데이터 병합 (합집합)\n",
        "\n",
        "pd.merge(df1, df2, how = 'outer', on = 'id')"
      ],
      "execution_count": null,
      "outputs": [
        {
          "output_type": "execute_result",
          "data": {
            "text/html": [
              "<div>\n",
              "<style scoped>\n",
              "    .dataframe tbody tr th:only-of-type {\n",
              "        vertical-align: middle;\n",
              "    }\n",
              "\n",
              "    .dataframe tbody tr th {\n",
              "        vertical-align: top;\n",
              "    }\n",
              "\n",
              "    .dataframe thead th {\n",
              "        text-align: right;\n",
              "    }\n",
              "</style>\n",
              "<table border=\"1\" class=\"dataframe\">\n",
              "  <thead>\n",
              "    <tr style=\"text-align: right;\">\n",
              "      <th></th>\n",
              "      <th>id</th>\n",
              "      <th>stock_name</th>\n",
              "      <th>value</th>\n",
              "      <th>price</th>\n",
              "      <th>name</th>\n",
              "      <th>eps</th>\n",
              "      <th>bps</th>\n",
              "      <th>per</th>\n",
              "      <th>pbr</th>\n",
              "    </tr>\n",
              "  </thead>\n",
              "  <tbody>\n",
              "    <tr>\n",
              "      <th>0</th>\n",
              "      <td>128940</td>\n",
              "      <td>한미약품</td>\n",
              "      <td>59385.666667</td>\n",
              "      <td>421000.0</td>\n",
              "      <td>NaN</td>\n",
              "      <td>NaN</td>\n",
              "      <td>NaN</td>\n",
              "      <td>NaN</td>\n",
              "      <td>NaN</td>\n",
              "    </tr>\n",
              "    <tr>\n",
              "      <th>1</th>\n",
              "      <td>130960</td>\n",
              "      <td>CJ E&amp;M</td>\n",
              "      <td>58540.666667</td>\n",
              "      <td>98900.0</td>\n",
              "      <td>CJ E&amp;M</td>\n",
              "      <td>6301.333333</td>\n",
              "      <td>54068.0</td>\n",
              "      <td>15.695091</td>\n",
              "      <td>1.829178</td>\n",
              "    </tr>\n",
              "    <tr>\n",
              "      <th>2</th>\n",
              "      <td>138250</td>\n",
              "      <td>엔에스쇼핑</td>\n",
              "      <td>14558.666667</td>\n",
              "      <td>13200.0</td>\n",
              "      <td>NaN</td>\n",
              "      <td>NaN</td>\n",
              "      <td>NaN</td>\n",
              "      <td>NaN</td>\n",
              "      <td>NaN</td>\n",
              "    </tr>\n",
              "    <tr>\n",
              "      <th>3</th>\n",
              "      <td>139480</td>\n",
              "      <td>이마트</td>\n",
              "      <td>239230.833333</td>\n",
              "      <td>254500.0</td>\n",
              "      <td>이마트</td>\n",
              "      <td>18268.166667</td>\n",
              "      <td>295780.0</td>\n",
              "      <td>13.931338</td>\n",
              "      <td>0.860437</td>\n",
              "    </tr>\n",
              "    <tr>\n",
              "      <th>4</th>\n",
              "      <td>142280</td>\n",
              "      <td>녹십자엠에스</td>\n",
              "      <td>468.833333</td>\n",
              "      <td>10200.0</td>\n",
              "      <td>NaN</td>\n",
              "      <td>NaN</td>\n",
              "      <td>NaN</td>\n",
              "      <td>NaN</td>\n",
              "      <td>NaN</td>\n",
              "    </tr>\n",
              "    <tr>\n",
              "      <th>5</th>\n",
              "      <td>145990</td>\n",
              "      <td>삼양사</td>\n",
              "      <td>82750.000000</td>\n",
              "      <td>82000.0</td>\n",
              "      <td>삼양사</td>\n",
              "      <td>5741.000000</td>\n",
              "      <td>108090.0</td>\n",
              "      <td>14.283226</td>\n",
              "      <td>0.758627</td>\n",
              "    </tr>\n",
              "    <tr>\n",
              "      <th>6</th>\n",
              "      <td>185750</td>\n",
              "      <td>종근당</td>\n",
              "      <td>40293.666667</td>\n",
              "      <td>100500.0</td>\n",
              "      <td>종근당</td>\n",
              "      <td>3990.333333</td>\n",
              "      <td>40684.0</td>\n",
              "      <td>25.185866</td>\n",
              "      <td>2.470259</td>\n",
              "    </tr>\n",
              "    <tr>\n",
              "      <th>7</th>\n",
              "      <td>192400</td>\n",
              "      <td>쿠쿠홀딩스</td>\n",
              "      <td>179204.666667</td>\n",
              "      <td>177500.0</td>\n",
              "      <td>NaN</td>\n",
              "      <td>NaN</td>\n",
              "      <td>NaN</td>\n",
              "      <td>NaN</td>\n",
              "      <td>NaN</td>\n",
              "    </tr>\n",
              "    <tr>\n",
              "      <th>8</th>\n",
              "      <td>199800</td>\n",
              "      <td>툴젠</td>\n",
              "      <td>-2514.333333</td>\n",
              "      <td>115400.0</td>\n",
              "      <td>NaN</td>\n",
              "      <td>NaN</td>\n",
              "      <td>NaN</td>\n",
              "      <td>NaN</td>\n",
              "      <td>NaN</td>\n",
              "    </tr>\n",
              "    <tr>\n",
              "      <th>9</th>\n",
              "      <td>204210</td>\n",
              "      <td>모두투어리츠</td>\n",
              "      <td>3093.333333</td>\n",
              "      <td>3475.0</td>\n",
              "      <td>모두투어리츠</td>\n",
              "      <td>85.166667</td>\n",
              "      <td>5335.0</td>\n",
              "      <td>40.802348</td>\n",
              "      <td>0.651359</td>\n",
              "    </tr>\n",
              "    <tr>\n",
              "      <th>10</th>\n",
              "      <td>136480</td>\n",
              "      <td>NaN</td>\n",
              "      <td>NaN</td>\n",
              "      <td>NaN</td>\n",
              "      <td>하림</td>\n",
              "      <td>274.166667</td>\n",
              "      <td>3551.0</td>\n",
              "      <td>11.489362</td>\n",
              "      <td>0.887074</td>\n",
              "    </tr>\n",
              "    <tr>\n",
              "      <th>11</th>\n",
              "      <td>138040</td>\n",
              "      <td>NaN</td>\n",
              "      <td>NaN</td>\n",
              "      <td>NaN</td>\n",
              "      <td>메리츠금융지주</td>\n",
              "      <td>2122.333333</td>\n",
              "      <td>14894.0</td>\n",
              "      <td>6.313806</td>\n",
              "      <td>0.899691</td>\n",
              "    </tr>\n",
              "    <tr>\n",
              "      <th>12</th>\n",
              "      <td>161390</td>\n",
              "      <td>NaN</td>\n",
              "      <td>NaN</td>\n",
              "      <td>NaN</td>\n",
              "      <td>한국타이어</td>\n",
              "      <td>5648.500000</td>\n",
              "      <td>51341.0</td>\n",
              "      <td>7.453306</td>\n",
              "      <td>0.820007</td>\n",
              "    </tr>\n",
              "    <tr>\n",
              "      <th>13</th>\n",
              "      <td>181710</td>\n",
              "      <td>NaN</td>\n",
              "      <td>NaN</td>\n",
              "      <td>NaN</td>\n",
              "      <td>NHN엔터테인먼트</td>\n",
              "      <td>2110.166667</td>\n",
              "      <td>78434.0</td>\n",
              "      <td>30.755864</td>\n",
              "      <td>0.827447</td>\n",
              "    </tr>\n",
              "    <tr>\n",
              "      <th>14</th>\n",
              "      <td>207940</td>\n",
              "      <td>NaN</td>\n",
              "      <td>NaN</td>\n",
              "      <td>NaN</td>\n",
              "      <td>삼성바이오로직스</td>\n",
              "      <td>4644.166667</td>\n",
              "      <td>60099.0</td>\n",
              "      <td>89.790059</td>\n",
              "      <td>6.938551</td>\n",
              "    </tr>\n",
              "  </tbody>\n",
              "</table>\n",
              "</div>"
            ],
            "text/plain": [
              "        id stock_name          value  ...       bps        per       pbr\n",
              "0   128940       한미약품   59385.666667  ...       NaN        NaN       NaN\n",
              "1   130960     CJ E&M   58540.666667  ...   54068.0  15.695091  1.829178\n",
              "2   138250      엔에스쇼핑   14558.666667  ...       NaN        NaN       NaN\n",
              "3   139480        이마트  239230.833333  ...  295780.0  13.931338  0.860437\n",
              "4   142280     녹십자엠에스     468.833333  ...       NaN        NaN       NaN\n",
              "5   145990        삼양사   82750.000000  ...  108090.0  14.283226  0.758627\n",
              "6   185750        종근당   40293.666667  ...   40684.0  25.185866  2.470259\n",
              "7   192400      쿠쿠홀딩스  179204.666667  ...       NaN        NaN       NaN\n",
              "8   199800         툴젠   -2514.333333  ...       NaN        NaN       NaN\n",
              "9   204210     모두투어리츠    3093.333333  ...    5335.0  40.802348  0.651359\n",
              "10  136480        NaN            NaN  ...    3551.0  11.489362  0.887074\n",
              "11  138040        NaN            NaN  ...   14894.0   6.313806  0.899691\n",
              "12  161390        NaN            NaN  ...   51341.0   7.453306  0.820007\n",
              "13  181710        NaN            NaN  ...   78434.0  30.755864  0.827447\n",
              "14  207940        NaN            NaN  ...   60099.0  89.790059  6.938551\n",
              "\n",
              "[15 rows x 9 columns]"
            ]
          },
          "metadata": {
            "tags": []
          },
          "execution_count": 270
        }
      ]
    },
    {
      "cell_type": "code",
      "metadata": {
        "colab": {
          "base_uri": "https://localhost:8080/",
          "height": 357
        },
        "id": "Itpqv23gDot0",
        "outputId": "48148074-4b2d-4aa5-d1b1-1f02bcc18483"
      },
      "source": [
        "# 왼쪽 기준, 키 값 분리\n",
        "\n",
        "pd.merge(df1, df2, how = 'left', left_on = 'stock_name', right_on = 'name')"
      ],
      "execution_count": null,
      "outputs": [
        {
          "output_type": "execute_result",
          "data": {
            "text/html": [
              "<div>\n",
              "<style scoped>\n",
              "    .dataframe tbody tr th:only-of-type {\n",
              "        vertical-align: middle;\n",
              "    }\n",
              "\n",
              "    .dataframe tbody tr th {\n",
              "        vertical-align: top;\n",
              "    }\n",
              "\n",
              "    .dataframe thead th {\n",
              "        text-align: right;\n",
              "    }\n",
              "</style>\n",
              "<table border=\"1\" class=\"dataframe\">\n",
              "  <thead>\n",
              "    <tr style=\"text-align: right;\">\n",
              "      <th></th>\n",
              "      <th>id_x</th>\n",
              "      <th>stock_name</th>\n",
              "      <th>value</th>\n",
              "      <th>price</th>\n",
              "      <th>id_y</th>\n",
              "      <th>name</th>\n",
              "      <th>eps</th>\n",
              "      <th>bps</th>\n",
              "      <th>per</th>\n",
              "      <th>pbr</th>\n",
              "    </tr>\n",
              "  </thead>\n",
              "  <tbody>\n",
              "    <tr>\n",
              "      <th>0</th>\n",
              "      <td>128940</td>\n",
              "      <td>한미약품</td>\n",
              "      <td>59385.666667</td>\n",
              "      <td>421000</td>\n",
              "      <td>NaN</td>\n",
              "      <td>NaN</td>\n",
              "      <td>NaN</td>\n",
              "      <td>NaN</td>\n",
              "      <td>NaN</td>\n",
              "      <td>NaN</td>\n",
              "    </tr>\n",
              "    <tr>\n",
              "      <th>1</th>\n",
              "      <td>130960</td>\n",
              "      <td>CJ E&amp;M</td>\n",
              "      <td>58540.666667</td>\n",
              "      <td>98900</td>\n",
              "      <td>130960.0</td>\n",
              "      <td>CJ E&amp;M</td>\n",
              "      <td>6301.333333</td>\n",
              "      <td>54068.0</td>\n",
              "      <td>15.695091</td>\n",
              "      <td>1.829178</td>\n",
              "    </tr>\n",
              "    <tr>\n",
              "      <th>2</th>\n",
              "      <td>138250</td>\n",
              "      <td>엔에스쇼핑</td>\n",
              "      <td>14558.666667</td>\n",
              "      <td>13200</td>\n",
              "      <td>NaN</td>\n",
              "      <td>NaN</td>\n",
              "      <td>NaN</td>\n",
              "      <td>NaN</td>\n",
              "      <td>NaN</td>\n",
              "      <td>NaN</td>\n",
              "    </tr>\n",
              "    <tr>\n",
              "      <th>3</th>\n",
              "      <td>139480</td>\n",
              "      <td>이마트</td>\n",
              "      <td>239230.833333</td>\n",
              "      <td>254500</td>\n",
              "      <td>139480.0</td>\n",
              "      <td>이마트</td>\n",
              "      <td>18268.166667</td>\n",
              "      <td>295780.0</td>\n",
              "      <td>13.931338</td>\n",
              "      <td>0.860437</td>\n",
              "    </tr>\n",
              "    <tr>\n",
              "      <th>4</th>\n",
              "      <td>142280</td>\n",
              "      <td>녹십자엠에스</td>\n",
              "      <td>468.833333</td>\n",
              "      <td>10200</td>\n",
              "      <td>NaN</td>\n",
              "      <td>NaN</td>\n",
              "      <td>NaN</td>\n",
              "      <td>NaN</td>\n",
              "      <td>NaN</td>\n",
              "      <td>NaN</td>\n",
              "    </tr>\n",
              "    <tr>\n",
              "      <th>5</th>\n",
              "      <td>145990</td>\n",
              "      <td>삼양사</td>\n",
              "      <td>82750.000000</td>\n",
              "      <td>82000</td>\n",
              "      <td>145990.0</td>\n",
              "      <td>삼양사</td>\n",
              "      <td>5741.000000</td>\n",
              "      <td>108090.0</td>\n",
              "      <td>14.283226</td>\n",
              "      <td>0.758627</td>\n",
              "    </tr>\n",
              "    <tr>\n",
              "      <th>6</th>\n",
              "      <td>185750</td>\n",
              "      <td>종근당</td>\n",
              "      <td>40293.666667</td>\n",
              "      <td>100500</td>\n",
              "      <td>185750.0</td>\n",
              "      <td>종근당</td>\n",
              "      <td>3990.333333</td>\n",
              "      <td>40684.0</td>\n",
              "      <td>25.185866</td>\n",
              "      <td>2.470259</td>\n",
              "    </tr>\n",
              "    <tr>\n",
              "      <th>7</th>\n",
              "      <td>192400</td>\n",
              "      <td>쿠쿠홀딩스</td>\n",
              "      <td>179204.666667</td>\n",
              "      <td>177500</td>\n",
              "      <td>NaN</td>\n",
              "      <td>NaN</td>\n",
              "      <td>NaN</td>\n",
              "      <td>NaN</td>\n",
              "      <td>NaN</td>\n",
              "      <td>NaN</td>\n",
              "    </tr>\n",
              "    <tr>\n",
              "      <th>8</th>\n",
              "      <td>199800</td>\n",
              "      <td>툴젠</td>\n",
              "      <td>-2514.333333</td>\n",
              "      <td>115400</td>\n",
              "      <td>NaN</td>\n",
              "      <td>NaN</td>\n",
              "      <td>NaN</td>\n",
              "      <td>NaN</td>\n",
              "      <td>NaN</td>\n",
              "      <td>NaN</td>\n",
              "    </tr>\n",
              "    <tr>\n",
              "      <th>9</th>\n",
              "      <td>204210</td>\n",
              "      <td>모두투어리츠</td>\n",
              "      <td>3093.333333</td>\n",
              "      <td>3475</td>\n",
              "      <td>204210.0</td>\n",
              "      <td>모두투어리츠</td>\n",
              "      <td>85.166667</td>\n",
              "      <td>5335.0</td>\n",
              "      <td>40.802348</td>\n",
              "      <td>0.651359</td>\n",
              "    </tr>\n",
              "  </tbody>\n",
              "</table>\n",
              "</div>"
            ],
            "text/plain": [
              "     id_x stock_name          value  ...       bps        per       pbr\n",
              "0  128940       한미약품   59385.666667  ...       NaN        NaN       NaN\n",
              "1  130960     CJ E&M   58540.666667  ...   54068.0  15.695091  1.829178\n",
              "2  138250      엔에스쇼핑   14558.666667  ...       NaN        NaN       NaN\n",
              "3  139480        이마트  239230.833333  ...  295780.0  13.931338  0.860437\n",
              "4  142280     녹십자엠에스     468.833333  ...       NaN        NaN       NaN\n",
              "5  145990        삼양사   82750.000000  ...  108090.0  14.283226  0.758627\n",
              "6  185750        종근당   40293.666667  ...   40684.0  25.185866  2.470259\n",
              "7  192400      쿠쿠홀딩스  179204.666667  ...       NaN        NaN       NaN\n",
              "8  199800         툴젠   -2514.333333  ...       NaN        NaN       NaN\n",
              "9  204210     모두투어리츠    3093.333333  ...    5335.0  40.802348  0.651359\n",
              "\n",
              "[10 rows x 10 columns]"
            ]
          },
          "metadata": {
            "tags": []
          },
          "execution_count": 272
        }
      ]
    },
    {
      "cell_type": "code",
      "metadata": {
        "colab": {
          "base_uri": "https://localhost:8080/",
          "height": 357
        },
        "id": "SthiOtAlEXNy",
        "outputId": "39f35514-7f2d-4aba-aac2-39a445227f45"
      },
      "source": [
        "# 오른쪽 기준, 키 값 분리\n",
        "\n",
        "pd.merge(df1, df2, how = 'right', left_on = 'stock_name', right_on = 'name')"
      ],
      "execution_count": null,
      "outputs": [
        {
          "output_type": "execute_result",
          "data": {
            "text/html": [
              "<div>\n",
              "<style scoped>\n",
              "    .dataframe tbody tr th:only-of-type {\n",
              "        vertical-align: middle;\n",
              "    }\n",
              "\n",
              "    .dataframe tbody tr th {\n",
              "        vertical-align: top;\n",
              "    }\n",
              "\n",
              "    .dataframe thead th {\n",
              "        text-align: right;\n",
              "    }\n",
              "</style>\n",
              "<table border=\"1\" class=\"dataframe\">\n",
              "  <thead>\n",
              "    <tr style=\"text-align: right;\">\n",
              "      <th></th>\n",
              "      <th>id_x</th>\n",
              "      <th>stock_name</th>\n",
              "      <th>value</th>\n",
              "      <th>price</th>\n",
              "      <th>id_y</th>\n",
              "      <th>name</th>\n",
              "      <th>eps</th>\n",
              "      <th>bps</th>\n",
              "      <th>per</th>\n",
              "      <th>pbr</th>\n",
              "    </tr>\n",
              "  </thead>\n",
              "  <tbody>\n",
              "    <tr>\n",
              "      <th>0</th>\n",
              "      <td>130960.0</td>\n",
              "      <td>CJ E&amp;M</td>\n",
              "      <td>58540.666667</td>\n",
              "      <td>98900.0</td>\n",
              "      <td>130960</td>\n",
              "      <td>CJ E&amp;M</td>\n",
              "      <td>6301.333333</td>\n",
              "      <td>54068</td>\n",
              "      <td>15.695091</td>\n",
              "      <td>1.829178</td>\n",
              "    </tr>\n",
              "    <tr>\n",
              "      <th>1</th>\n",
              "      <td>NaN</td>\n",
              "      <td>NaN</td>\n",
              "      <td>NaN</td>\n",
              "      <td>NaN</td>\n",
              "      <td>136480</td>\n",
              "      <td>하림</td>\n",
              "      <td>274.166667</td>\n",
              "      <td>3551</td>\n",
              "      <td>11.489362</td>\n",
              "      <td>0.887074</td>\n",
              "    </tr>\n",
              "    <tr>\n",
              "      <th>2</th>\n",
              "      <td>NaN</td>\n",
              "      <td>NaN</td>\n",
              "      <td>NaN</td>\n",
              "      <td>NaN</td>\n",
              "      <td>138040</td>\n",
              "      <td>메리츠금융지주</td>\n",
              "      <td>2122.333333</td>\n",
              "      <td>14894</td>\n",
              "      <td>6.313806</td>\n",
              "      <td>0.899691</td>\n",
              "    </tr>\n",
              "    <tr>\n",
              "      <th>3</th>\n",
              "      <td>139480.0</td>\n",
              "      <td>이마트</td>\n",
              "      <td>239230.833333</td>\n",
              "      <td>254500.0</td>\n",
              "      <td>139480</td>\n",
              "      <td>이마트</td>\n",
              "      <td>18268.166667</td>\n",
              "      <td>295780</td>\n",
              "      <td>13.931338</td>\n",
              "      <td>0.860437</td>\n",
              "    </tr>\n",
              "    <tr>\n",
              "      <th>4</th>\n",
              "      <td>145990.0</td>\n",
              "      <td>삼양사</td>\n",
              "      <td>82750.000000</td>\n",
              "      <td>82000.0</td>\n",
              "      <td>145990</td>\n",
              "      <td>삼양사</td>\n",
              "      <td>5741.000000</td>\n",
              "      <td>108090</td>\n",
              "      <td>14.283226</td>\n",
              "      <td>0.758627</td>\n",
              "    </tr>\n",
              "    <tr>\n",
              "      <th>5</th>\n",
              "      <td>NaN</td>\n",
              "      <td>NaN</td>\n",
              "      <td>NaN</td>\n",
              "      <td>NaN</td>\n",
              "      <td>161390</td>\n",
              "      <td>한국타이어</td>\n",
              "      <td>5648.500000</td>\n",
              "      <td>51341</td>\n",
              "      <td>7.453306</td>\n",
              "      <td>0.820007</td>\n",
              "    </tr>\n",
              "    <tr>\n",
              "      <th>6</th>\n",
              "      <td>NaN</td>\n",
              "      <td>NaN</td>\n",
              "      <td>NaN</td>\n",
              "      <td>NaN</td>\n",
              "      <td>181710</td>\n",
              "      <td>NHN엔터테인먼트</td>\n",
              "      <td>2110.166667</td>\n",
              "      <td>78434</td>\n",
              "      <td>30.755864</td>\n",
              "      <td>0.827447</td>\n",
              "    </tr>\n",
              "    <tr>\n",
              "      <th>7</th>\n",
              "      <td>185750.0</td>\n",
              "      <td>종근당</td>\n",
              "      <td>40293.666667</td>\n",
              "      <td>100500.0</td>\n",
              "      <td>185750</td>\n",
              "      <td>종근당</td>\n",
              "      <td>3990.333333</td>\n",
              "      <td>40684</td>\n",
              "      <td>25.185866</td>\n",
              "      <td>2.470259</td>\n",
              "    </tr>\n",
              "    <tr>\n",
              "      <th>8</th>\n",
              "      <td>204210.0</td>\n",
              "      <td>모두투어리츠</td>\n",
              "      <td>3093.333333</td>\n",
              "      <td>3475.0</td>\n",
              "      <td>204210</td>\n",
              "      <td>모두투어리츠</td>\n",
              "      <td>85.166667</td>\n",
              "      <td>5335</td>\n",
              "      <td>40.802348</td>\n",
              "      <td>0.651359</td>\n",
              "    </tr>\n",
              "    <tr>\n",
              "      <th>9</th>\n",
              "      <td>NaN</td>\n",
              "      <td>NaN</td>\n",
              "      <td>NaN</td>\n",
              "      <td>NaN</td>\n",
              "      <td>207940</td>\n",
              "      <td>삼성바이오로직스</td>\n",
              "      <td>4644.166667</td>\n",
              "      <td>60099</td>\n",
              "      <td>89.790059</td>\n",
              "      <td>6.938551</td>\n",
              "    </tr>\n",
              "  </tbody>\n",
              "</table>\n",
              "</div>"
            ],
            "text/plain": [
              "       id_x stock_name          value  ...     bps        per       pbr\n",
              "0  130960.0     CJ E&M   58540.666667  ...   54068  15.695091  1.829178\n",
              "1       NaN        NaN            NaN  ...    3551  11.489362  0.887074\n",
              "2       NaN        NaN            NaN  ...   14894   6.313806  0.899691\n",
              "3  139480.0        이마트  239230.833333  ...  295780  13.931338  0.860437\n",
              "4  145990.0        삼양사   82750.000000  ...  108090  14.283226  0.758627\n",
              "5       NaN        NaN            NaN  ...   51341   7.453306  0.820007\n",
              "6       NaN        NaN            NaN  ...   78434  30.755864  0.827447\n",
              "7  185750.0        종근당   40293.666667  ...   40684  25.185866  2.470259\n",
              "8  204210.0     모두투어리츠    3093.333333  ...    5335  40.802348  0.651359\n",
              "9       NaN        NaN            NaN  ...   60099  89.790059  6.938551\n",
              "\n",
              "[10 rows x 10 columns]"
            ]
          },
          "metadata": {
            "tags": []
          },
          "execution_count": 273
        }
      ]
    },
    {
      "cell_type": "markdown",
      "metadata": {
        "id": "op6MbqI6EpvC"
      },
      "source": [
        "### 데이터프레임 결합 (.join)"
      ]
    },
    {
      "cell_type": "code",
      "metadata": {
        "colab": {
          "base_uri": "https://localhost:8080/"
        },
        "id": "V3-wxhuhEs2u",
        "outputId": "1983dd00-17eb-49a4-caf0-2453f51c2b94"
      },
      "source": [
        "df1 = pd.read_excel(drive_path + 'stock price.xlsx', index_col = 'id')\n",
        "df2 = pd.read_excel(drive_path + 'stock valuation.xlsx', index_col = 'id')\n",
        "\n",
        "print(df1)\n",
        "print(df2)"
      ],
      "execution_count": null,
      "outputs": [
        {
          "output_type": "stream",
          "text": [
            "       stock_name          value   price\n",
            "id                                      \n",
            "128940       한미약품   59385.666667  421000\n",
            "130960     CJ E&M   58540.666667   98900\n",
            "138250      엔에스쇼핑   14558.666667   13200\n",
            "139480        이마트  239230.833333  254500\n",
            "142280     녹십자엠에스     468.833333   10200\n",
            "145990        삼양사   82750.000000   82000\n",
            "185750        종근당   40293.666667  100500\n",
            "192400      쿠쿠홀딩스  179204.666667  177500\n",
            "199800         툴젠   -2514.333333  115400\n",
            "204210     모두투어리츠    3093.333333    3475\n",
            "             name           eps     bps        per       pbr\n",
            "id                                                          \n",
            "130960     CJ E&M   6301.333333   54068  15.695091  1.829178\n",
            "136480         하림    274.166667    3551  11.489362  0.887074\n",
            "138040    메리츠금융지주   2122.333333   14894   6.313806  0.899691\n",
            "139480        이마트  18268.166667  295780  13.931338  0.860437\n",
            "145990        삼양사   5741.000000  108090  14.283226  0.758627\n",
            "161390      한국타이어   5648.500000   51341   7.453306  0.820007\n",
            "181710  NHN엔터테인먼트   2110.166667   78434  30.755864  0.827447\n",
            "185750        종근당   3990.333333   40684  25.185866  2.470259\n",
            "204210     모두투어리츠     85.166667    5335  40.802348  0.651359\n",
            "207940   삼성바이오로직스   4644.166667   60099  89.790059  6.938551\n"
          ],
          "name": "stdout"
        }
      ]
    },
    {
      "cell_type": "code",
      "metadata": {
        "colab": {
          "base_uri": "https://localhost:8080/",
          "height": 388
        },
        "id": "ZYer98PkFSvy",
        "outputId": "95e5bff7-df00-4fa6-c5cd-386b0453f973"
      },
      "source": [
        "# 결합(join)\n",
        "\n",
        "df1.join(df2)"
      ],
      "execution_count": null,
      "outputs": [
        {
          "output_type": "execute_result",
          "data": {
            "text/html": [
              "<div>\n",
              "<style scoped>\n",
              "    .dataframe tbody tr th:only-of-type {\n",
              "        vertical-align: middle;\n",
              "    }\n",
              "\n",
              "    .dataframe tbody tr th {\n",
              "        vertical-align: top;\n",
              "    }\n",
              "\n",
              "    .dataframe thead th {\n",
              "        text-align: right;\n",
              "    }\n",
              "</style>\n",
              "<table border=\"1\" class=\"dataframe\">\n",
              "  <thead>\n",
              "    <tr style=\"text-align: right;\">\n",
              "      <th></th>\n",
              "      <th>stock_name</th>\n",
              "      <th>value</th>\n",
              "      <th>price</th>\n",
              "      <th>name</th>\n",
              "      <th>eps</th>\n",
              "      <th>bps</th>\n",
              "      <th>per</th>\n",
              "      <th>pbr</th>\n",
              "    </tr>\n",
              "    <tr>\n",
              "      <th>id</th>\n",
              "      <th></th>\n",
              "      <th></th>\n",
              "      <th></th>\n",
              "      <th></th>\n",
              "      <th></th>\n",
              "      <th></th>\n",
              "      <th></th>\n",
              "      <th></th>\n",
              "    </tr>\n",
              "  </thead>\n",
              "  <tbody>\n",
              "    <tr>\n",
              "      <th>128940</th>\n",
              "      <td>한미약품</td>\n",
              "      <td>59385.666667</td>\n",
              "      <td>421000</td>\n",
              "      <td>NaN</td>\n",
              "      <td>NaN</td>\n",
              "      <td>NaN</td>\n",
              "      <td>NaN</td>\n",
              "      <td>NaN</td>\n",
              "    </tr>\n",
              "    <tr>\n",
              "      <th>130960</th>\n",
              "      <td>CJ E&amp;M</td>\n",
              "      <td>58540.666667</td>\n",
              "      <td>98900</td>\n",
              "      <td>CJ E&amp;M</td>\n",
              "      <td>6301.333333</td>\n",
              "      <td>54068.0</td>\n",
              "      <td>15.695091</td>\n",
              "      <td>1.829178</td>\n",
              "    </tr>\n",
              "    <tr>\n",
              "      <th>138250</th>\n",
              "      <td>엔에스쇼핑</td>\n",
              "      <td>14558.666667</td>\n",
              "      <td>13200</td>\n",
              "      <td>NaN</td>\n",
              "      <td>NaN</td>\n",
              "      <td>NaN</td>\n",
              "      <td>NaN</td>\n",
              "      <td>NaN</td>\n",
              "    </tr>\n",
              "    <tr>\n",
              "      <th>139480</th>\n",
              "      <td>이마트</td>\n",
              "      <td>239230.833333</td>\n",
              "      <td>254500</td>\n",
              "      <td>이마트</td>\n",
              "      <td>18268.166667</td>\n",
              "      <td>295780.0</td>\n",
              "      <td>13.931338</td>\n",
              "      <td>0.860437</td>\n",
              "    </tr>\n",
              "    <tr>\n",
              "      <th>142280</th>\n",
              "      <td>녹십자엠에스</td>\n",
              "      <td>468.833333</td>\n",
              "      <td>10200</td>\n",
              "      <td>NaN</td>\n",
              "      <td>NaN</td>\n",
              "      <td>NaN</td>\n",
              "      <td>NaN</td>\n",
              "      <td>NaN</td>\n",
              "    </tr>\n",
              "    <tr>\n",
              "      <th>145990</th>\n",
              "      <td>삼양사</td>\n",
              "      <td>82750.000000</td>\n",
              "      <td>82000</td>\n",
              "      <td>삼양사</td>\n",
              "      <td>5741.000000</td>\n",
              "      <td>108090.0</td>\n",
              "      <td>14.283226</td>\n",
              "      <td>0.758627</td>\n",
              "    </tr>\n",
              "    <tr>\n",
              "      <th>185750</th>\n",
              "      <td>종근당</td>\n",
              "      <td>40293.666667</td>\n",
              "      <td>100500</td>\n",
              "      <td>종근당</td>\n",
              "      <td>3990.333333</td>\n",
              "      <td>40684.0</td>\n",
              "      <td>25.185866</td>\n",
              "      <td>2.470259</td>\n",
              "    </tr>\n",
              "    <tr>\n",
              "      <th>192400</th>\n",
              "      <td>쿠쿠홀딩스</td>\n",
              "      <td>179204.666667</td>\n",
              "      <td>177500</td>\n",
              "      <td>NaN</td>\n",
              "      <td>NaN</td>\n",
              "      <td>NaN</td>\n",
              "      <td>NaN</td>\n",
              "      <td>NaN</td>\n",
              "    </tr>\n",
              "    <tr>\n",
              "      <th>199800</th>\n",
              "      <td>툴젠</td>\n",
              "      <td>-2514.333333</td>\n",
              "      <td>115400</td>\n",
              "      <td>NaN</td>\n",
              "      <td>NaN</td>\n",
              "      <td>NaN</td>\n",
              "      <td>NaN</td>\n",
              "      <td>NaN</td>\n",
              "    </tr>\n",
              "    <tr>\n",
              "      <th>204210</th>\n",
              "      <td>모두투어리츠</td>\n",
              "      <td>3093.333333</td>\n",
              "      <td>3475</td>\n",
              "      <td>모두투어리츠</td>\n",
              "      <td>85.166667</td>\n",
              "      <td>5335.0</td>\n",
              "      <td>40.802348</td>\n",
              "      <td>0.651359</td>\n",
              "    </tr>\n",
              "  </tbody>\n",
              "</table>\n",
              "</div>"
            ],
            "text/plain": [
              "       stock_name          value   price  ...       bps        per       pbr\n",
              "id                                        ...                               \n",
              "128940       한미약품   59385.666667  421000  ...       NaN        NaN       NaN\n",
              "130960     CJ E&M   58540.666667   98900  ...   54068.0  15.695091  1.829178\n",
              "138250      엔에스쇼핑   14558.666667   13200  ...       NaN        NaN       NaN\n",
              "139480        이마트  239230.833333  254500  ...  295780.0  13.931338  0.860437\n",
              "142280     녹십자엠에스     468.833333   10200  ...       NaN        NaN       NaN\n",
              "145990        삼양사   82750.000000   82000  ...  108090.0  14.283226  0.758627\n",
              "185750        종근당   40293.666667  100500  ...   40684.0  25.185866  2.470259\n",
              "192400      쿠쿠홀딩스  179204.666667  177500  ...       NaN        NaN       NaN\n",
              "199800         툴젠   -2514.333333  115400  ...       NaN        NaN       NaN\n",
              "204210     모두투어리츠    3093.333333    3475  ...    5335.0  40.802348  0.651359\n",
              "\n",
              "[10 rows x 8 columns]"
            ]
          },
          "metadata": {
            "tags": []
          },
          "execution_count": 275
        }
      ]
    },
    {
      "cell_type": "code",
      "metadata": {
        "colab": {
          "base_uri": "https://localhost:8080/",
          "height": 234
        },
        "id": "M08cvEFeFZ8f",
        "outputId": "1a27208f-9295-40ca-b9dc-7372b0314dbc"
      },
      "source": [
        "# 교집합\n",
        "\n",
        "df1.join(df2, how = 'inner')"
      ],
      "execution_count": null,
      "outputs": [
        {
          "output_type": "execute_result",
          "data": {
            "text/html": [
              "<div>\n",
              "<style scoped>\n",
              "    .dataframe tbody tr th:only-of-type {\n",
              "        vertical-align: middle;\n",
              "    }\n",
              "\n",
              "    .dataframe tbody tr th {\n",
              "        vertical-align: top;\n",
              "    }\n",
              "\n",
              "    .dataframe thead th {\n",
              "        text-align: right;\n",
              "    }\n",
              "</style>\n",
              "<table border=\"1\" class=\"dataframe\">\n",
              "  <thead>\n",
              "    <tr style=\"text-align: right;\">\n",
              "      <th></th>\n",
              "      <th>stock_name</th>\n",
              "      <th>value</th>\n",
              "      <th>price</th>\n",
              "      <th>name</th>\n",
              "      <th>eps</th>\n",
              "      <th>bps</th>\n",
              "      <th>per</th>\n",
              "      <th>pbr</th>\n",
              "    </tr>\n",
              "    <tr>\n",
              "      <th>id</th>\n",
              "      <th></th>\n",
              "      <th></th>\n",
              "      <th></th>\n",
              "      <th></th>\n",
              "      <th></th>\n",
              "      <th></th>\n",
              "      <th></th>\n",
              "      <th></th>\n",
              "    </tr>\n",
              "  </thead>\n",
              "  <tbody>\n",
              "    <tr>\n",
              "      <th>130960</th>\n",
              "      <td>CJ E&amp;M</td>\n",
              "      <td>58540.666667</td>\n",
              "      <td>98900</td>\n",
              "      <td>CJ E&amp;M</td>\n",
              "      <td>6301.333333</td>\n",
              "      <td>54068</td>\n",
              "      <td>15.695091</td>\n",
              "      <td>1.829178</td>\n",
              "    </tr>\n",
              "    <tr>\n",
              "      <th>139480</th>\n",
              "      <td>이마트</td>\n",
              "      <td>239230.833333</td>\n",
              "      <td>254500</td>\n",
              "      <td>이마트</td>\n",
              "      <td>18268.166667</td>\n",
              "      <td>295780</td>\n",
              "      <td>13.931338</td>\n",
              "      <td>0.860437</td>\n",
              "    </tr>\n",
              "    <tr>\n",
              "      <th>145990</th>\n",
              "      <td>삼양사</td>\n",
              "      <td>82750.000000</td>\n",
              "      <td>82000</td>\n",
              "      <td>삼양사</td>\n",
              "      <td>5741.000000</td>\n",
              "      <td>108090</td>\n",
              "      <td>14.283226</td>\n",
              "      <td>0.758627</td>\n",
              "    </tr>\n",
              "    <tr>\n",
              "      <th>185750</th>\n",
              "      <td>종근당</td>\n",
              "      <td>40293.666667</td>\n",
              "      <td>100500</td>\n",
              "      <td>종근당</td>\n",
              "      <td>3990.333333</td>\n",
              "      <td>40684</td>\n",
              "      <td>25.185866</td>\n",
              "      <td>2.470259</td>\n",
              "    </tr>\n",
              "    <tr>\n",
              "      <th>204210</th>\n",
              "      <td>모두투어리츠</td>\n",
              "      <td>3093.333333</td>\n",
              "      <td>3475</td>\n",
              "      <td>모두투어리츠</td>\n",
              "      <td>85.166667</td>\n",
              "      <td>5335</td>\n",
              "      <td>40.802348</td>\n",
              "      <td>0.651359</td>\n",
              "    </tr>\n",
              "  </tbody>\n",
              "</table>\n",
              "</div>"
            ],
            "text/plain": [
              "       stock_name          value   price  ...     bps        per       pbr\n",
              "id                                        ...                             \n",
              "130960     CJ E&M   58540.666667   98900  ...   54068  15.695091  1.829178\n",
              "139480        이마트  239230.833333  254500  ...  295780  13.931338  0.860437\n",
              "145990        삼양사   82750.000000   82000  ...  108090  14.283226  0.758627\n",
              "185750        종근당   40293.666667  100500  ...   40684  25.185866  2.470259\n",
              "204210     모두투어리츠    3093.333333    3475  ...    5335  40.802348  0.651359\n",
              "\n",
              "[5 rows x 8 columns]"
            ]
          },
          "metadata": {
            "tags": []
          },
          "execution_count": 276
        }
      ]
    },
    {
      "cell_type": "markdown",
      "metadata": {
        "id": "I1JTh9utGM5v"
      },
      "source": [
        "### 멀티인덱스"
      ]
    },
    {
      "cell_type": "code",
      "metadata": {
        "colab": {
          "base_uri": "https://localhost:8080/"
        },
        "id": "KflZ0LR4GQLZ",
        "outputId": "d0206342-ee39-47e4-d328-4e2bff9bbddf"
      },
      "source": [
        "import seaborn as sns\n",
        "\n",
        "titanic = sns.load_dataset('titanic')\n",
        "titanic.info()"
      ],
      "execution_count": null,
      "outputs": [
        {
          "output_type": "stream",
          "text": [
            "<class 'pandas.core.frame.DataFrame'>\n",
            "RangeIndex: 891 entries, 0 to 890\n",
            "Data columns (total 15 columns):\n",
            " #   Column       Non-Null Count  Dtype   \n",
            "---  ------       --------------  -----   \n",
            " 0   survived     891 non-null    int64   \n",
            " 1   pclass       891 non-null    int64   \n",
            " 2   sex          891 non-null    object  \n",
            " 3   age          714 non-null    float64 \n",
            " 4   sibsp        891 non-null    int64   \n",
            " 5   parch        891 non-null    int64   \n",
            " 6   fare         891 non-null    float64 \n",
            " 7   embarked     889 non-null    object  \n",
            " 8   class        891 non-null    category\n",
            " 9   who          891 non-null    object  \n",
            " 10  adult_male   891 non-null    bool    \n",
            " 11  deck         203 non-null    category\n",
            " 12  embark_town  889 non-null    object  \n",
            " 13  alive        891 non-null    object  \n",
            " 14  alone        891 non-null    bool    \n",
            "dtypes: bool(2), category(2), float64(2), int64(4), object(5)\n",
            "memory usage: 80.6+ KB\n"
          ],
          "name": "stdout"
        }
      ]
    },
    {
      "cell_type": "code",
      "metadata": {
        "colab": {
          "base_uri": "https://localhost:8080/",
          "height": 265
        },
        "id": "NjitmYi7HAzw",
        "outputId": "42b7b9b0-f18a-47a6-b4bd-d7b748b1db2c"
      },
      "source": [
        "# survived, sex, age, fare, class\n",
        "# 클래스와 성별로 그룹을 지어 합계 구하기\n",
        "\n",
        "titanic[ ['survived', 'sex', 'age', 'fare', 'class'] ].groupby( ['sex', 'class'] ).sum()"
      ],
      "execution_count": null,
      "outputs": [
        {
          "output_type": "execute_result",
          "data": {
            "text/html": [
              "<div>\n",
              "<style scoped>\n",
              "    .dataframe tbody tr th:only-of-type {\n",
              "        vertical-align: middle;\n",
              "    }\n",
              "\n",
              "    .dataframe tbody tr th {\n",
              "        vertical-align: top;\n",
              "    }\n",
              "\n",
              "    .dataframe thead th {\n",
              "        text-align: right;\n",
              "    }\n",
              "</style>\n",
              "<table border=\"1\" class=\"dataframe\">\n",
              "  <thead>\n",
              "    <tr style=\"text-align: right;\">\n",
              "      <th></th>\n",
              "      <th></th>\n",
              "      <th>survived</th>\n",
              "      <th>age</th>\n",
              "      <th>fare</th>\n",
              "    </tr>\n",
              "    <tr>\n",
              "      <th>sex</th>\n",
              "      <th>class</th>\n",
              "      <th></th>\n",
              "      <th></th>\n",
              "      <th></th>\n",
              "    </tr>\n",
              "  </thead>\n",
              "  <tbody>\n",
              "    <tr>\n",
              "      <th rowspan=\"3\" valign=\"top\">female</th>\n",
              "      <th>First</th>\n",
              "      <td>91</td>\n",
              "      <td>2942.00</td>\n",
              "      <td>9975.8250</td>\n",
              "    </tr>\n",
              "    <tr>\n",
              "      <th>Second</th>\n",
              "      <td>70</td>\n",
              "      <td>2125.50</td>\n",
              "      <td>1669.7292</td>\n",
              "    </tr>\n",
              "    <tr>\n",
              "      <th>Third</th>\n",
              "      <td>72</td>\n",
              "      <td>2218.50</td>\n",
              "      <td>2321.1086</td>\n",
              "    </tr>\n",
              "    <tr>\n",
              "      <th rowspan=\"3\" valign=\"top\">male</th>\n",
              "      <th>First</th>\n",
              "      <td>45</td>\n",
              "      <td>4169.42</td>\n",
              "      <td>8201.5875</td>\n",
              "    </tr>\n",
              "    <tr>\n",
              "      <th>Second</th>\n",
              "      <td>17</td>\n",
              "      <td>3043.33</td>\n",
              "      <td>2132.1125</td>\n",
              "    </tr>\n",
              "    <tr>\n",
              "      <th>Third</th>\n",
              "      <td>47</td>\n",
              "      <td>6706.42</td>\n",
              "      <td>4393.5865</td>\n",
              "    </tr>\n",
              "  </tbody>\n",
              "</table>\n",
              "</div>"
            ],
            "text/plain": [
              "               survived      age       fare\n",
              "sex    class                               \n",
              "female First         91  2942.00  9975.8250\n",
              "       Second        70  2125.50  1669.7292\n",
              "       Third         72  2218.50  2321.1086\n",
              "male   First         45  4169.42  8201.5875\n",
              "       Second        17  3043.33  2132.1125\n",
              "       Third         47  6706.42  4393.5865"
            ]
          },
          "metadata": {
            "tags": []
          },
          "execution_count": 280
        }
      ]
    },
    {
      "cell_type": "code",
      "metadata": {
        "colab": {
          "base_uri": "https://localhost:8080/",
          "height": 265
        },
        "id": "AE7tDciGI-0C",
        "outputId": "6fcda5ca-dcaf-4c34-f1ef-28ed5ebc08a9"
      },
      "source": [
        "df = titanic[ ['age', 'sex', 'class', 'fare', 'survived'] ]\n",
        "df_g = df.groupby( ['class', 'sex'] )\n",
        "df_g.sum()"
      ],
      "execution_count": null,
      "outputs": [
        {
          "output_type": "execute_result",
          "data": {
            "text/html": [
              "<div>\n",
              "<style scoped>\n",
              "    .dataframe tbody tr th:only-of-type {\n",
              "        vertical-align: middle;\n",
              "    }\n",
              "\n",
              "    .dataframe tbody tr th {\n",
              "        vertical-align: top;\n",
              "    }\n",
              "\n",
              "    .dataframe thead th {\n",
              "        text-align: right;\n",
              "    }\n",
              "</style>\n",
              "<table border=\"1\" class=\"dataframe\">\n",
              "  <thead>\n",
              "    <tr style=\"text-align: right;\">\n",
              "      <th></th>\n",
              "      <th></th>\n",
              "      <th>age</th>\n",
              "      <th>fare</th>\n",
              "      <th>survived</th>\n",
              "    </tr>\n",
              "    <tr>\n",
              "      <th>class</th>\n",
              "      <th>sex</th>\n",
              "      <th></th>\n",
              "      <th></th>\n",
              "      <th></th>\n",
              "    </tr>\n",
              "  </thead>\n",
              "  <tbody>\n",
              "    <tr>\n",
              "      <th rowspan=\"2\" valign=\"top\">First</th>\n",
              "      <th>female</th>\n",
              "      <td>2942.00</td>\n",
              "      <td>9975.8250</td>\n",
              "      <td>91</td>\n",
              "    </tr>\n",
              "    <tr>\n",
              "      <th>male</th>\n",
              "      <td>4169.42</td>\n",
              "      <td>8201.5875</td>\n",
              "      <td>45</td>\n",
              "    </tr>\n",
              "    <tr>\n",
              "      <th rowspan=\"2\" valign=\"top\">Second</th>\n",
              "      <th>female</th>\n",
              "      <td>2125.50</td>\n",
              "      <td>1669.7292</td>\n",
              "      <td>70</td>\n",
              "    </tr>\n",
              "    <tr>\n",
              "      <th>male</th>\n",
              "      <td>3043.33</td>\n",
              "      <td>2132.1125</td>\n",
              "      <td>17</td>\n",
              "    </tr>\n",
              "    <tr>\n",
              "      <th rowspan=\"2\" valign=\"top\">Third</th>\n",
              "      <th>female</th>\n",
              "      <td>2218.50</td>\n",
              "      <td>2321.1086</td>\n",
              "      <td>72</td>\n",
              "    </tr>\n",
              "    <tr>\n",
              "      <th>male</th>\n",
              "      <td>6706.42</td>\n",
              "      <td>4393.5865</td>\n",
              "      <td>47</td>\n",
              "    </tr>\n",
              "  </tbody>\n",
              "</table>\n",
              "</div>"
            ],
            "text/plain": [
              "                   age       fare  survived\n",
              "class  sex                                 \n",
              "First  female  2942.00  9975.8250        91\n",
              "       male    4169.42  8201.5875        45\n",
              "Second female  2125.50  1669.7292        70\n",
              "       male    3043.33  2132.1125        17\n",
              "Third  female  2218.50  2321.1086        72\n",
              "       male    6706.42  4393.5865        47"
            ]
          },
          "metadata": {
            "tags": []
          },
          "execution_count": 283
        }
      ]
    },
    {
      "cell_type": "code",
      "metadata": {
        "colab": {
          "base_uri": "https://localhost:8080/",
          "height": 265
        },
        "id": "TqUTT3e3JRSv",
        "outputId": "5a360a5b-9f8a-44ef-96c9-8662e88421e8"
      },
      "source": [
        "df_g.mean().loc[ ('First', 'female') ]"
      ],
      "execution_count": null,
      "outputs": [
        {
          "output_type": "execute_result",
          "data": {
            "text/html": [
              "<div>\n",
              "<style scoped>\n",
              "    .dataframe tbody tr th:only-of-type {\n",
              "        vertical-align: middle;\n",
              "    }\n",
              "\n",
              "    .dataframe tbody tr th {\n",
              "        vertical-align: top;\n",
              "    }\n",
              "\n",
              "    .dataframe thead th {\n",
              "        text-align: right;\n",
              "    }\n",
              "</style>\n",
              "<table border=\"1\" class=\"dataframe\">\n",
              "  <thead>\n",
              "    <tr style=\"text-align: right;\">\n",
              "      <th></th>\n",
              "      <th></th>\n",
              "      <th>age</th>\n",
              "      <th>fare</th>\n",
              "      <th>survived</th>\n",
              "    </tr>\n",
              "    <tr>\n",
              "      <th>class</th>\n",
              "      <th>sex</th>\n",
              "      <th></th>\n",
              "      <th></th>\n",
              "      <th></th>\n",
              "    </tr>\n",
              "  </thead>\n",
              "  <tbody>\n",
              "    <tr>\n",
              "      <th rowspan=\"2\" valign=\"top\">First</th>\n",
              "      <th>female</th>\n",
              "      <td>34.611765</td>\n",
              "      <td>106.125798</td>\n",
              "      <td>0.968085</td>\n",
              "    </tr>\n",
              "    <tr>\n",
              "      <th>male</th>\n",
              "      <td>41.281386</td>\n",
              "      <td>67.226127</td>\n",
              "      <td>0.368852</td>\n",
              "    </tr>\n",
              "    <tr>\n",
              "      <th rowspan=\"2\" valign=\"top\">Second</th>\n",
              "      <th>female</th>\n",
              "      <td>28.722973</td>\n",
              "      <td>21.970121</td>\n",
              "      <td>0.921053</td>\n",
              "    </tr>\n",
              "    <tr>\n",
              "      <th>male</th>\n",
              "      <td>30.740707</td>\n",
              "      <td>19.741782</td>\n",
              "      <td>0.157407</td>\n",
              "    </tr>\n",
              "    <tr>\n",
              "      <th rowspan=\"2\" valign=\"top\">Third</th>\n",
              "      <th>female</th>\n",
              "      <td>21.750000</td>\n",
              "      <td>16.118810</td>\n",
              "      <td>0.500000</td>\n",
              "    </tr>\n",
              "    <tr>\n",
              "      <th>male</th>\n",
              "      <td>26.507589</td>\n",
              "      <td>12.661633</td>\n",
              "      <td>0.135447</td>\n",
              "    </tr>\n",
              "  </tbody>\n",
              "</table>\n",
              "</div>"
            ],
            "text/plain": [
              "                     age        fare  survived\n",
              "class  sex                                    \n",
              "First  female  34.611765  106.125798  0.968085\n",
              "       male    41.281386   67.226127  0.368852\n",
              "Second female  28.722973   21.970121  0.921053\n",
              "       male    30.740707   19.741782  0.157407\n",
              "Third  female  21.750000   16.118810  0.500000\n",
              "       male    26.507589   12.661633  0.135447"
            ]
          },
          "metadata": {
            "tags": []
          },
          "execution_count": 285
        }
      ]
    },
    {
      "cell_type": "code",
      "metadata": {
        "colab": {
          "base_uri": "https://localhost:8080/",
          "height": 172
        },
        "id": "P1XPvbWFJml2",
        "outputId": "1d1eaa7d-5b83-4596-c037-6f072032514b"
      },
      "source": [
        "df_g.mean().xs('male', level = 'sex')"
      ],
      "execution_count": null,
      "outputs": [
        {
          "output_type": "execute_result",
          "data": {
            "text/html": [
              "<div>\n",
              "<style scoped>\n",
              "    .dataframe tbody tr th:only-of-type {\n",
              "        vertical-align: middle;\n",
              "    }\n",
              "\n",
              "    .dataframe tbody tr th {\n",
              "        vertical-align: top;\n",
              "    }\n",
              "\n",
              "    .dataframe thead th {\n",
              "        text-align: right;\n",
              "    }\n",
              "</style>\n",
              "<table border=\"1\" class=\"dataframe\">\n",
              "  <thead>\n",
              "    <tr style=\"text-align: right;\">\n",
              "      <th></th>\n",
              "      <th>age</th>\n",
              "      <th>fare</th>\n",
              "      <th>survived</th>\n",
              "    </tr>\n",
              "    <tr>\n",
              "      <th>class</th>\n",
              "      <th></th>\n",
              "      <th></th>\n",
              "      <th></th>\n",
              "    </tr>\n",
              "  </thead>\n",
              "  <tbody>\n",
              "    <tr>\n",
              "      <th>First</th>\n",
              "      <td>41.281386</td>\n",
              "      <td>67.226127</td>\n",
              "      <td>0.368852</td>\n",
              "    </tr>\n",
              "    <tr>\n",
              "      <th>Second</th>\n",
              "      <td>30.740707</td>\n",
              "      <td>19.741782</td>\n",
              "      <td>0.157407</td>\n",
              "    </tr>\n",
              "    <tr>\n",
              "      <th>Third</th>\n",
              "      <td>26.507589</td>\n",
              "      <td>12.661633</td>\n",
              "      <td>0.135447</td>\n",
              "    </tr>\n",
              "  </tbody>\n",
              "</table>\n",
              "</div>"
            ],
            "text/plain": [
              "              age       fare  survived\n",
              "class                                 \n",
              "First   41.281386  67.226127  0.368852\n",
              "Second  30.740707  19.741782  0.157407\n",
              "Third   26.507589  12.661633  0.135447"
            ]
          },
          "metadata": {
            "tags": []
          },
          "execution_count": 286
        }
      ]
    },
    {
      "cell_type": "markdown",
      "metadata": {
        "id": "2bcvr0BTExKv"
      },
      "source": [
        "## 데이터 사전 처리"
      ]
    },
    {
      "cell_type": "markdown",
      "metadata": {
        "id": "xSg1VfSrE3ma"
      },
      "source": [
        "### 결측치(누락 데이터) 처리"
      ]
    },
    {
      "cell_type": "code",
      "metadata": {
        "colab": {
          "base_uri": "https://localhost:8080/"
        },
        "id": "tba9n5jaE8zy",
        "outputId": "1377f317-d0a3-4b6b-9891-b34dcafa346b"
      },
      "source": [
        "import pandas as pd\n",
        "import seaborn as sns\n",
        "\n",
        "df = sns.load_dataset('titanic')\n",
        "df.info()"
      ],
      "execution_count": null,
      "outputs": [
        {
          "output_type": "stream",
          "text": [
            "<class 'pandas.core.frame.DataFrame'>\n",
            "RangeIndex: 891 entries, 0 to 890\n",
            "Data columns (total 15 columns):\n",
            " #   Column       Non-Null Count  Dtype   \n",
            "---  ------       --------------  -----   \n",
            " 0   survived     891 non-null    int64   \n",
            " 1   pclass       891 non-null    int64   \n",
            " 2   sex          891 non-null    object  \n",
            " 3   age          714 non-null    float64 \n",
            " 4   sibsp        891 non-null    int64   \n",
            " 5   parch        891 non-null    int64   \n",
            " 6   fare         891 non-null    float64 \n",
            " 7   embarked     889 non-null    object  \n",
            " 8   class        891 non-null    category\n",
            " 9   who          891 non-null    object  \n",
            " 10  adult_male   891 non-null    bool    \n",
            " 11  deck         203 non-null    category\n",
            " 12  embark_town  889 non-null    object  \n",
            " 13  alive        891 non-null    object  \n",
            " 14  alone        891 non-null    bool    \n",
            "dtypes: bool(2), category(2), float64(2), int64(4), object(5)\n",
            "memory usage: 80.6+ KB\n"
          ],
          "name": "stdout"
        }
      ]
    },
    {
      "cell_type": "code",
      "metadata": {
        "colab": {
          "base_uri": "https://localhost:8080/"
        },
        "id": "bYRQML4OFkr3",
        "outputId": "d8a5e827-b9f4-4a98-a6fd-d4d1e46519c2"
      },
      "source": [
        "df['deck'].value_counts(dropna=False)"
      ],
      "execution_count": null,
      "outputs": [
        {
          "output_type": "execute_result",
          "data": {
            "text/plain": [
              "NaN    688\n",
              "C       59\n",
              "B       47\n",
              "D       33\n",
              "E       32\n",
              "A       15\n",
              "F       13\n",
              "G        4\n",
              "Name: deck, dtype: int64"
            ]
          },
          "metadata": {
            "tags": []
          },
          "execution_count": 6
        }
      ]
    },
    {
      "cell_type": "code",
      "metadata": {
        "colab": {
          "base_uri": "https://localhost:8080/",
          "height": 225
        },
        "id": "BtkPruaTF8yg",
        "outputId": "9f4e0247-2c64-4c7e-c883-ab955302bc32"
      },
      "source": [
        "df.head().isnull()"
      ],
      "execution_count": null,
      "outputs": [
        {
          "output_type": "execute_result",
          "data": {
            "text/html": [
              "<div>\n",
              "<style scoped>\n",
              "    .dataframe tbody tr th:only-of-type {\n",
              "        vertical-align: middle;\n",
              "    }\n",
              "\n",
              "    .dataframe tbody tr th {\n",
              "        vertical-align: top;\n",
              "    }\n",
              "\n",
              "    .dataframe thead th {\n",
              "        text-align: right;\n",
              "    }\n",
              "</style>\n",
              "<table border=\"1\" class=\"dataframe\">\n",
              "  <thead>\n",
              "    <tr style=\"text-align: right;\">\n",
              "      <th></th>\n",
              "      <th>survived</th>\n",
              "      <th>pclass</th>\n",
              "      <th>sex</th>\n",
              "      <th>age</th>\n",
              "      <th>sibsp</th>\n",
              "      <th>parch</th>\n",
              "      <th>fare</th>\n",
              "      <th>embarked</th>\n",
              "      <th>class</th>\n",
              "      <th>who</th>\n",
              "      <th>adult_male</th>\n",
              "      <th>deck</th>\n",
              "      <th>embark_town</th>\n",
              "      <th>alive</th>\n",
              "      <th>alone</th>\n",
              "    </tr>\n",
              "  </thead>\n",
              "  <tbody>\n",
              "    <tr>\n",
              "      <th>0</th>\n",
              "      <td>False</td>\n",
              "      <td>False</td>\n",
              "      <td>False</td>\n",
              "      <td>False</td>\n",
              "      <td>False</td>\n",
              "      <td>False</td>\n",
              "      <td>False</td>\n",
              "      <td>False</td>\n",
              "      <td>False</td>\n",
              "      <td>False</td>\n",
              "      <td>False</td>\n",
              "      <td>True</td>\n",
              "      <td>False</td>\n",
              "      <td>False</td>\n",
              "      <td>False</td>\n",
              "    </tr>\n",
              "    <tr>\n",
              "      <th>1</th>\n",
              "      <td>False</td>\n",
              "      <td>False</td>\n",
              "      <td>False</td>\n",
              "      <td>False</td>\n",
              "      <td>False</td>\n",
              "      <td>False</td>\n",
              "      <td>False</td>\n",
              "      <td>False</td>\n",
              "      <td>False</td>\n",
              "      <td>False</td>\n",
              "      <td>False</td>\n",
              "      <td>False</td>\n",
              "      <td>False</td>\n",
              "      <td>False</td>\n",
              "      <td>False</td>\n",
              "    </tr>\n",
              "    <tr>\n",
              "      <th>2</th>\n",
              "      <td>False</td>\n",
              "      <td>False</td>\n",
              "      <td>False</td>\n",
              "      <td>False</td>\n",
              "      <td>False</td>\n",
              "      <td>False</td>\n",
              "      <td>False</td>\n",
              "      <td>False</td>\n",
              "      <td>False</td>\n",
              "      <td>False</td>\n",
              "      <td>False</td>\n",
              "      <td>True</td>\n",
              "      <td>False</td>\n",
              "      <td>False</td>\n",
              "      <td>False</td>\n",
              "    </tr>\n",
              "    <tr>\n",
              "      <th>3</th>\n",
              "      <td>False</td>\n",
              "      <td>False</td>\n",
              "      <td>False</td>\n",
              "      <td>False</td>\n",
              "      <td>False</td>\n",
              "      <td>False</td>\n",
              "      <td>False</td>\n",
              "      <td>False</td>\n",
              "      <td>False</td>\n",
              "      <td>False</td>\n",
              "      <td>False</td>\n",
              "      <td>False</td>\n",
              "      <td>False</td>\n",
              "      <td>False</td>\n",
              "      <td>False</td>\n",
              "    </tr>\n",
              "    <tr>\n",
              "      <th>4</th>\n",
              "      <td>False</td>\n",
              "      <td>False</td>\n",
              "      <td>False</td>\n",
              "      <td>False</td>\n",
              "      <td>False</td>\n",
              "      <td>False</td>\n",
              "      <td>False</td>\n",
              "      <td>False</td>\n",
              "      <td>False</td>\n",
              "      <td>False</td>\n",
              "      <td>False</td>\n",
              "      <td>True</td>\n",
              "      <td>False</td>\n",
              "      <td>False</td>\n",
              "      <td>False</td>\n",
              "    </tr>\n",
              "  </tbody>\n",
              "</table>\n",
              "</div>"
            ],
            "text/plain": [
              "   survived  pclass    sex    age  ...   deck  embark_town  alive  alone\n",
              "0     False   False  False  False  ...   True        False  False  False\n",
              "1     False   False  False  False  ...  False        False  False  False\n",
              "2     False   False  False  False  ...   True        False  False  False\n",
              "3     False   False  False  False  ...  False        False  False  False\n",
              "4     False   False  False  False  ...   True        False  False  False\n",
              "\n",
              "[5 rows x 15 columns]"
            ]
          },
          "metadata": {
            "tags": []
          },
          "execution_count": 7
        }
      ]
    },
    {
      "cell_type": "code",
      "metadata": {
        "colab": {
          "base_uri": "https://localhost:8080/"
        },
        "id": "PBJSVqDAGLYp",
        "outputId": "be34f569-e0dc-4004-f875-3b462f3a60de"
      },
      "source": [
        "df.isnull().sum()"
      ],
      "execution_count": null,
      "outputs": [
        {
          "output_type": "execute_result",
          "data": {
            "text/plain": [
              "survived         0\n",
              "pclass           0\n",
              "sex              0\n",
              "age            177\n",
              "sibsp            0\n",
              "parch            0\n",
              "fare             0\n",
              "embarked         2\n",
              "class            0\n",
              "who              0\n",
              "adult_male       0\n",
              "deck           688\n",
              "embark_town      2\n",
              "alive            0\n",
              "alone            0\n",
              "dtype: int64"
            ]
          },
          "metadata": {
            "tags": []
          },
          "execution_count": 8
        }
      ]
    },
    {
      "cell_type": "markdown",
      "metadata": {
        "id": "keJ56O25Gfrg"
      },
      "source": [
        "누락 데이터 제거"
      ]
    },
    {
      "cell_type": "code",
      "metadata": {
        "colab": {
          "base_uri": "https://localhost:8080/",
          "height": 143
        },
        "id": "MDmsXewEGhsB",
        "outputId": "d713c070-e2e7-4898-bf6a-61aac09c217b"
      },
      "source": [
        "df_rc = pd.DataFrame({'name':['kim', 'lee', 'park'],\n",
        "                      'age':[10, 20, 30],\n",
        "                      'height':[170, 160, 180]})\n",
        "df_rc.drop([0, 1], axis=0)\n",
        "df_rc.drop(['name'], axis=1)"
      ],
      "execution_count": null,
      "outputs": [
        {
          "output_type": "execute_result",
          "data": {
            "text/html": [
              "<div>\n",
              "<style scoped>\n",
              "    .dataframe tbody tr th:only-of-type {\n",
              "        vertical-align: middle;\n",
              "    }\n",
              "\n",
              "    .dataframe tbody tr th {\n",
              "        vertical-align: top;\n",
              "    }\n",
              "\n",
              "    .dataframe thead th {\n",
              "        text-align: right;\n",
              "    }\n",
              "</style>\n",
              "<table border=\"1\" class=\"dataframe\">\n",
              "  <thead>\n",
              "    <tr style=\"text-align: right;\">\n",
              "      <th></th>\n",
              "      <th>age</th>\n",
              "      <th>height</th>\n",
              "    </tr>\n",
              "  </thead>\n",
              "  <tbody>\n",
              "    <tr>\n",
              "      <th>0</th>\n",
              "      <td>10</td>\n",
              "      <td>170</td>\n",
              "    </tr>\n",
              "    <tr>\n",
              "      <th>1</th>\n",
              "      <td>20</td>\n",
              "      <td>160</td>\n",
              "    </tr>\n",
              "    <tr>\n",
              "      <th>2</th>\n",
              "      <td>30</td>\n",
              "      <td>180</td>\n",
              "    </tr>\n",
              "  </tbody>\n",
              "</table>\n",
              "</div>"
            ],
            "text/plain": [
              "   age  height\n",
              "0   10     170\n",
              "1   20     160\n",
              "2   30     180"
            ]
          },
          "metadata": {
            "tags": []
          },
          "execution_count": 12
        }
      ]
    },
    {
      "cell_type": "code",
      "metadata": {
        "colab": {
          "base_uri": "https://localhost:8080/",
          "height": 163
        },
        "id": "7fiBl47LJ8AM",
        "outputId": "1ba60a86-b617-4834-9022-a4aa1369f010"
      },
      "source": [
        "# 데이터가 500개 이상 있는 경우를 제외하고는 삭제\n",
        "df.dropna(axis=1, thresh=500).head(3)"
      ],
      "execution_count": null,
      "outputs": [
        {
          "output_type": "execute_result",
          "data": {
            "text/html": [
              "<div>\n",
              "<style scoped>\n",
              "    .dataframe tbody tr th:only-of-type {\n",
              "        vertical-align: middle;\n",
              "    }\n",
              "\n",
              "    .dataframe tbody tr th {\n",
              "        vertical-align: top;\n",
              "    }\n",
              "\n",
              "    .dataframe thead th {\n",
              "        text-align: right;\n",
              "    }\n",
              "</style>\n",
              "<table border=\"1\" class=\"dataframe\">\n",
              "  <thead>\n",
              "    <tr style=\"text-align: right;\">\n",
              "      <th></th>\n",
              "      <th>survived</th>\n",
              "      <th>pclass</th>\n",
              "      <th>sex</th>\n",
              "      <th>age</th>\n",
              "      <th>sibsp</th>\n",
              "      <th>parch</th>\n",
              "      <th>fare</th>\n",
              "      <th>embarked</th>\n",
              "      <th>class</th>\n",
              "      <th>who</th>\n",
              "      <th>adult_male</th>\n",
              "      <th>embark_town</th>\n",
              "      <th>alive</th>\n",
              "      <th>alone</th>\n",
              "    </tr>\n",
              "  </thead>\n",
              "  <tbody>\n",
              "    <tr>\n",
              "      <th>0</th>\n",
              "      <td>0</td>\n",
              "      <td>3</td>\n",
              "      <td>male</td>\n",
              "      <td>22.0</td>\n",
              "      <td>1</td>\n",
              "      <td>0</td>\n",
              "      <td>7.2500</td>\n",
              "      <td>S</td>\n",
              "      <td>Third</td>\n",
              "      <td>man</td>\n",
              "      <td>True</td>\n",
              "      <td>Southampton</td>\n",
              "      <td>no</td>\n",
              "      <td>False</td>\n",
              "    </tr>\n",
              "    <tr>\n",
              "      <th>1</th>\n",
              "      <td>1</td>\n",
              "      <td>1</td>\n",
              "      <td>female</td>\n",
              "      <td>38.0</td>\n",
              "      <td>1</td>\n",
              "      <td>0</td>\n",
              "      <td>71.2833</td>\n",
              "      <td>C</td>\n",
              "      <td>First</td>\n",
              "      <td>woman</td>\n",
              "      <td>False</td>\n",
              "      <td>Cherbourg</td>\n",
              "      <td>yes</td>\n",
              "      <td>False</td>\n",
              "    </tr>\n",
              "    <tr>\n",
              "      <th>2</th>\n",
              "      <td>1</td>\n",
              "      <td>3</td>\n",
              "      <td>female</td>\n",
              "      <td>26.0</td>\n",
              "      <td>0</td>\n",
              "      <td>0</td>\n",
              "      <td>7.9250</td>\n",
              "      <td>S</td>\n",
              "      <td>Third</td>\n",
              "      <td>woman</td>\n",
              "      <td>False</td>\n",
              "      <td>Southampton</td>\n",
              "      <td>yes</td>\n",
              "      <td>True</td>\n",
              "    </tr>\n",
              "  </tbody>\n",
              "</table>\n",
              "</div>"
            ],
            "text/plain": [
              "   survived  pclass     sex   age  ...  adult_male  embark_town  alive  alone\n",
              "0         0       3    male  22.0  ...        True  Southampton     no  False\n",
              "1         1       1  female  38.0  ...       False    Cherbourg    yes  False\n",
              "2         1       3  female  26.0  ...       False  Southampton    yes   True\n",
              "\n",
              "[3 rows x 14 columns]"
            ]
          },
          "metadata": {
            "tags": []
          },
          "execution_count": 19
        }
      ]
    },
    {
      "cell_type": "markdown",
      "metadata": {
        "id": "3JKFd5dYKxtQ"
      },
      "source": [
        "누락 데이터 치환"
      ]
    },
    {
      "cell_type": "code",
      "metadata": {
        "colab": {
          "base_uri": "https://localhost:8080/"
        },
        "id": "yL84mu8eK1g_",
        "outputId": "8af0f9da-e86a-4f1d-e52a-0eea560ecbfa"
      },
      "source": [
        "# 평균으로 누락 데이터 치환\n",
        "df['age'].value_counts(dropna=False)\n",
        "\n",
        "age_mean = df['age'].mean()\n",
        "df['age'].fillna(age_mean, inplace=True)\n",
        "\n",
        "df['age'].value_counts(dropna=False)"
      ],
      "execution_count": null,
      "outputs": [
        {
          "output_type": "execute_result",
          "data": {
            "text/plain": [
              "29.699118    177\n",
              "24.000000     30\n",
              "22.000000     27\n",
              "18.000000     26\n",
              "28.000000     25\n",
              "            ... \n",
              "55.500000      1\n",
              "53.000000      1\n",
              "20.500000      1\n",
              "23.500000      1\n",
              "0.420000       1\n",
              "Name: age, Length: 89, dtype: int64"
            ]
          },
          "metadata": {
            "tags": []
          },
          "execution_count": 23
        }
      ]
    },
    {
      "cell_type": "code",
      "metadata": {
        "colab": {
          "base_uri": "https://localhost:8080/"
        },
        "id": "TfOPcX7yLu3l",
        "outputId": "7366c78b-cb58-434b-f434-59561abf0822"
      },
      "source": [
        "# 빈도수로 누락 데이터 치환\n",
        "embark_town_idxmax = df['embark_town'].value_counts().idxmax()\n",
        "df['embark_town'].fillna(embark_town_idxmax, inplace=True)\n",
        "df.isnull().sum()"
      ],
      "execution_count": null,
      "outputs": [
        {
          "output_type": "execute_result",
          "data": {
            "text/plain": [
              "survived         0\n",
              "pclass           0\n",
              "sex              0\n",
              "age              0\n",
              "sibsp            0\n",
              "parch            0\n",
              "fare             0\n",
              "embarked         2\n",
              "class            0\n",
              "who              0\n",
              "adult_male       0\n",
              "deck           688\n",
              "embark_town      0\n",
              "alive            0\n",
              "alone            0\n",
              "dtype: int64"
            ]
          },
          "metadata": {
            "tags": []
          },
          "execution_count": 28
        }
      ]
    },
    {
      "cell_type": "code",
      "metadata": {
        "colab": {
          "base_uri": "https://localhost:8080/"
        },
        "id": "Y_RIoYMpM-DJ",
        "outputId": "58bb642e-56bc-4f29-e740-a237dcec11c2"
      },
      "source": [
        "# 이웃하는 값으로 치환\n",
        "df['embarked'].fillna(method='ffill', inplace=True)\n",
        "df.isnull().sum()"
      ],
      "execution_count": null,
      "outputs": [
        {
          "output_type": "execute_result",
          "data": {
            "text/plain": [
              "survived         0\n",
              "pclass           0\n",
              "sex              0\n",
              "age              0\n",
              "sibsp            0\n",
              "parch            0\n",
              "fare             0\n",
              "embarked         0\n",
              "class            0\n",
              "who              0\n",
              "adult_male       0\n",
              "deck           688\n",
              "embark_town      0\n",
              "alive            0\n",
              "alone            0\n",
              "dtype: int64"
            ]
          },
          "metadata": {
            "tags": []
          },
          "execution_count": 29
        }
      ]
    },
    {
      "cell_type": "markdown",
      "metadata": {
        "id": "StK0sWygNpKy"
      },
      "source": [
        "### 중복 데이터 처리"
      ]
    },
    {
      "cell_type": "code",
      "metadata": {
        "colab": {
          "base_uri": "https://localhost:8080/"
        },
        "id": "L9OMOdOjNwL2",
        "outputId": "f194ae10-b115-4d17-ce34-0e3a3c60da43"
      },
      "source": [
        "# 중복 데이터 확인\n",
        "df_dup = pd.DataFrame({'c1':['a', 'a', 'b', 'a', 'b'],\n",
        "                       'c2':[1, 1, 1, 2, 2],\n",
        "                       'c3':[1, 1, 2, 2, 2]})\n",
        "df_dup.duplicated()"
      ],
      "execution_count": null,
      "outputs": [
        {
          "output_type": "execute_result",
          "data": {
            "text/plain": [
              "0    False\n",
              "1     True\n",
              "2    False\n",
              "3    False\n",
              "4    False\n",
              "dtype: bool"
            ]
          },
          "metadata": {
            "tags": []
          },
          "execution_count": 33
        }
      ]
    },
    {
      "cell_type": "code",
      "metadata": {
        "colab": {
          "base_uri": "https://localhost:8080/",
          "height": 174
        },
        "id": "1k3d9_hAOhxq",
        "outputId": "26bf228a-0dff-4648-ec1b-a9460f8c0943"
      },
      "source": [
        "# 중복 데이터 제거\n",
        "df_dup.drop_duplicates(inplace=True)\n",
        "df_dup"
      ],
      "execution_count": null,
      "outputs": [
        {
          "output_type": "execute_result",
          "data": {
            "text/html": [
              "<div>\n",
              "<style scoped>\n",
              "    .dataframe tbody tr th:only-of-type {\n",
              "        vertical-align: middle;\n",
              "    }\n",
              "\n",
              "    .dataframe tbody tr th {\n",
              "        vertical-align: top;\n",
              "    }\n",
              "\n",
              "    .dataframe thead th {\n",
              "        text-align: right;\n",
              "    }\n",
              "</style>\n",
              "<table border=\"1\" class=\"dataframe\">\n",
              "  <thead>\n",
              "    <tr style=\"text-align: right;\">\n",
              "      <th></th>\n",
              "      <th>c1</th>\n",
              "      <th>c2</th>\n",
              "      <th>c3</th>\n",
              "    </tr>\n",
              "  </thead>\n",
              "  <tbody>\n",
              "    <tr>\n",
              "      <th>0</th>\n",
              "      <td>a</td>\n",
              "      <td>1</td>\n",
              "      <td>1</td>\n",
              "    </tr>\n",
              "    <tr>\n",
              "      <th>2</th>\n",
              "      <td>b</td>\n",
              "      <td>1</td>\n",
              "      <td>2</td>\n",
              "    </tr>\n",
              "    <tr>\n",
              "      <th>3</th>\n",
              "      <td>a</td>\n",
              "      <td>2</td>\n",
              "      <td>2</td>\n",
              "    </tr>\n",
              "    <tr>\n",
              "      <th>4</th>\n",
              "      <td>b</td>\n",
              "      <td>2</td>\n",
              "      <td>2</td>\n",
              "    </tr>\n",
              "  </tbody>\n",
              "</table>\n",
              "</div>"
            ],
            "text/plain": [
              "  c1  c2  c3\n",
              "0  a   1   1\n",
              "2  b   1   2\n",
              "3  a   2   2\n",
              "4  b   2   2"
            ]
          },
          "metadata": {
            "tags": []
          },
          "execution_count": 36
        }
      ]
    },
    {
      "cell_type": "markdown",
      "metadata": {
        "id": "nmQ7GK_KPOIW"
      },
      "source": [
        "### 데이터 표준화\n",
        "\n",
        "- 데이터 포맷을 일관성 있게 표준화"
      ]
    },
    {
      "cell_type": "code",
      "metadata": {
        "id": "K7LrIn9DPWQl"
      },
      "source": [
        "# 단위환산 -> 단위통일\n",
        "# mpg(mile per galion) -> kpl(killometer per liter)\n",
        "mpg_to_kpl = 1.60934 / 3.78541\n",
        "mpg_to_kpl\n",
        "\n",
        "df['age'].round(2)"
      ],
      "execution_count": null,
      "outputs": []
    },
    {
      "cell_type": "code",
      "metadata": {
        "id": "dHe7tPXEQmao"
      },
      "source": [
        "# 자료형 변환\n"
      ],
      "execution_count": null,
      "outputs": []
    },
    {
      "cell_type": "markdown",
      "metadata": {
        "id": "LH69b1i0Qw9t"
      },
      "source": [
        "### 범주형(카테고리) 데이터 처리"
      ]
    },
    {
      "cell_type": "markdown",
      "metadata": {
        "id": "ijOxDqGDQ4qm"
      },
      "source": [
        "구간 분할\n",
        " - 연속 데이터를 그대로 사용하지 않고 일정 구간(bin)으로 나눠서 분석 -> 효율적일 경우\n",
        "\n",
        "원핫인코딩\n",
        " - 번주형 데이터를 0과 1로만 구성된 것으로 변환(원핫벡터)"
      ]
    },
    {
      "cell_type": "markdown",
      "metadata": {
        "id": "RBlNVAXnR4H3"
      },
      "source": [
        "### 정규화\n",
        "\n",
        "- 숫자 데이터의 상대적인 크기 차이를 제거"
      ]
    },
    {
      "cell_type": "code",
      "metadata": {
        "colab": {
          "base_uri": "https://localhost:8080/"
        },
        "id": "tcXD8GRqSIWE",
        "outputId": "7c93b92f-22be-4da0-82c9-43877bfab91c"
      },
      "source": [
        "df = sns.load_dataset('mpg')\n",
        "df['horsepower'] / abs( df['horsepower'].max() )"
      ],
      "execution_count": null,
      "outputs": [
        {
          "output_type": "execute_result",
          "data": {
            "text/plain": [
              "0      0.565217\n",
              "1      0.717391\n",
              "2      0.652174\n",
              "3      0.652174\n",
              "4      0.608696\n",
              "         ...   \n",
              "393    0.373913\n",
              "394    0.226087\n",
              "395    0.365217\n",
              "396    0.343478\n",
              "397    0.356522\n",
              "Name: horsepower, Length: 398, dtype: float64"
            ]
          },
          "metadata": {
            "tags": []
          },
          "execution_count": 43
        }
      ]
    },
    {
      "cell_type": "code",
      "metadata": {
        "colab": {
          "base_uri": "https://localhost:8080/"
        },
        "id": "4X7utLGfTOBi",
        "outputId": "3d8f3ba6-529a-4bac-b1d7-6d3243c0a4fc"
      },
      "source": [
        "min_x = df['horsepower'] - df['horsepower'].min()\n",
        "min_x.max()"
      ],
      "execution_count": null,
      "outputs": [
        {
          "output_type": "execute_result",
          "data": {
            "text/plain": [
              "184.0"
            ]
          },
          "metadata": {
            "tags": []
          },
          "execution_count": 46
        }
      ]
    },
    {
      "cell_type": "markdown",
      "metadata": {
        "id": "zAhJjuwefdKU"
      },
      "source": [
        "## 판다스 시계열 데이터 처리\n",
        "\n",
        "- 판다스 시간 표시 유형\n",
        "  1. Timestamp : 특정한 시점을 기록\n",
        "  2. Peroid : 두 시점 사이의 일정한 기간을 표시"
      ]
    }
  ]
}