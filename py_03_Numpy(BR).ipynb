{
  "nbformat": 4,
  "nbformat_minor": 0,
  "metadata": {
    "colab": {
      "name": "py_03_Numpy(BR).ipynb",
      "provenance": [],
      "collapsed_sections": []
    },
    "kernelspec": {
      "name": "python3",
      "display_name": "Python 3"
    }
  },
  "cells": [
    {
      "cell_type": "markdown",
      "metadata": {
        "id": "_r0l51R-X1FV"
      },
      "source": [
        "### 구글드라이브 연동\n",
        "\n"
      ]
    },
    {
      "cell_type": "code",
      "metadata": {
        "id": "GQk2rKa8HLiG"
      },
      "source": [
        "# 구글드라이브 연동\n",
        "from google.colab import drive\n",
        "drive.mount('/gdrive', force_remount=True)\n",
        "\n",
        "# 구글 드라이브 파일 확인\n",
        "!ls '/gdrive/My Drive/temp/'\n",
        "\n",
        "# 반복되는 드라이브 경로 변수화\n",
        "drive_path = '/gdrive/My Drive/temp/'"
      ],
      "execution_count": null,
      "outputs": []
    },
    {
      "cell_type": "markdown",
      "metadata": {
        "id": "eLakI-RDZZjX"
      },
      "source": [
        "### 파이썬 머신러닝을 위한 모듈(라이브러리)\n"
      ]
    },
    {
      "cell_type": "markdown",
      "metadata": {
        "id": "K9CLJpX8ZeZK"
      },
      "source": [
        "* 머신러닝 라이브러리\n",
        " * 사이킷런(Scikit-Learn)\n",
        "* 행렬/선형대수/통계 라이브러리\n",
        "  * **넘파이(NumPy): 고성능 과학계산을 위한 데이터 분석**(행렬, 선형대수)\n",
        "  * 사이파이(SciPy): 자연과학, 통계\n",
        "* 데이터 핸들링\n",
        " * 판다스(Pandas): 행과 열로 구성된 표 형식의 데이터(2차원 데이터 처리)\n",
        "* 시각화\n",
        " * 맷플롯립(Matplotlib): 2D 그래프로 시각화\n",
        " * 시본(Seaborn): 다양한 색상 테마로 시각화"
      ]
    },
    {
      "cell_type": "markdown",
      "metadata": {
        "collapsed": true,
        "id": "4VbNtUCVa9hn"
      },
      "source": [
        "# Numpy (Numerical Python)\n",
        "- 벡터 및 행렬 연산에 있어서 매우 편리한 기능을 제공\n",
        "- 빠르고 효율적인 벡터 산술연산을 제공하는 n 차원 배열 (ndarray)\n",
        "- 반복문 없이 전체 데이터 배열 연산이 가능한 표준 수학 함수 (sum(), sqrt(), mean())\n",
        "- 선형대수, 난수 생성, 푸리에 변환"
      ]
    },
    {
      "cell_type": "markdown",
      "metadata": {
        "id": "PKEIAPgaaYjK"
      },
      "source": [
        "## Numpy 기초\n"
      ]
    },
    {
      "cell_type": "code",
      "metadata": {
        "id": "yRpo3bf_aiy2"
      },
      "source": [
        "# Numpy 모듈(라이브러리)를 import하고 np 라는 이름으로 부르는 것이 관례\n",
        "import numpy as np"
      ],
      "execution_count": null,
      "outputs": []
    },
    {
      "cell_type": "code",
      "metadata": {
        "colab": {
          "base_uri": "https://localhost:8080/",
          "height": 35
        },
        "id": "XD9kSl4cbKnv",
        "outputId": "8eca081f-37b0-4f31-ab21-3f04d976b04a"
      },
      "source": [
        "np.__version__"
      ],
      "execution_count": null,
      "outputs": [
        {
          "output_type": "execute_result",
          "data": {
            "application/vnd.google.colaboratory.intrinsic+json": {
              "type": "string"
            },
            "text/plain": [
              "'1.19.5'"
            ]
          },
          "metadata": {
            "tags": []
          },
          "execution_count": 2
        }
      ]
    },
    {
      "cell_type": "markdown",
      "metadata": {
        "id": "EwbbaXIkbKMy"
      },
      "source": [
        "**numpy.ndarray (N-dimensional array)**\n",
        "\n",
        "- 동일한 자료형을 가지는 값들이 배열 형태로 존재함\n",
        "- N 차원 형태로 구성이 가능하다.\n",
        "- 각 값들은 양의 정수로 색인(index)가 부여되어 있다.\n",
        "- Numpy에서 차원(Dimension)을 rank, axis라고 부르기도 한다.\n",
        "- ndarray를 줄여서 array로 표현한다.\n",
        "\n",
        "<br>\n",
        "\n",
        "- 리스트와 비슷하지만, ndarray는 다차원 배열이다.\n",
        "- Numpy의 array는 고정된 크기를 갖는다.\n",
        "- array는 유형이 모두 동일하고 크기가 고정된 컨테이너이다."
      ]
    },
    {
      "cell_type": "code",
      "metadata": {
        "id": "73ewlJKG-FLg",
        "colab": {
          "base_uri": "https://localhost:8080/"
        },
        "outputId": "50a54daf-c5bb-4307-a0e2-6d5d844fd28b"
      },
      "source": [
        "list = [1, 2, 3]\n",
        "array1 = np.array(list)\n",
        "print(type(array1), array1.shape) # 1차원, 크기 3의 array\n",
        "\n",
        "array2 = np.array([[1,2,3],\n",
        "                   [4,5,6]])\n",
        "print(type(array2), array2.shape) # 2차원, 2행 3열\n",
        "\n",
        "array3 = np.array([[1,2,3]])\n",
        "print(array3.shape) # 2차원, 1행 3열"
      ],
      "execution_count": null,
      "outputs": [
        {
          "output_type": "stream",
          "text": [
            "<class 'numpy.ndarray'> (3,)\n",
            "<class 'numpy.ndarray'> (2, 3)\n",
            "(1, 3)\n"
          ],
          "name": "stdout"
        }
      ]
    },
    {
      "cell_type": "markdown",
      "metadata": {
        "id": "I2T6p8UydKPf"
      },
      "source": [
        "ndarray.shape\n",
        "\n",
        "해당 array의 크기를 알 수 있다.\n",
        "\n",
        "- ndarray의 차원과 크기를 튜플(tuple) 형태로 출력\n",
        "\n",
        "- shape 을 확인함으로써 몇개의 데이터가 있는지, 몇 차원으로 존재하는지 등을 확인할 수 있다.\n",
        "\n",
        "- 위에서 array1.shape의 결과는 (3,) 으로써, 1차원의 데이터이며 총 3이라는 크기를 갖고 있음을 알 수 있다.\n",
        "\n",
        "- array2.shape의 결과는 (2,3) 으로써, 2차원의 데이터이며 2 * 3 크기를 갖고 있는 array 이다.\n"
      ]
    },
    {
      "cell_type": "code",
      "metadata": {
        "id": "IsCuGZgA-HOH",
        "colab": {
          "base_uri": "https://localhost:8080/"
        },
        "outputId": "b931aefe-824a-4c0c-c27e-563309977606"
      },
      "source": [
        "# array 차원(Dimension) 확인\n",
        "\n",
        "array1.ndim, array2.ndim, array3.ndim"
      ],
      "execution_count": null,
      "outputs": [
        {
          "output_type": "execute_result",
          "data": {
            "text/plain": [
              "(1, 2, 2)"
            ]
          },
          "metadata": {
            "tags": []
          },
          "execution_count": 11
        }
      ]
    },
    {
      "cell_type": "code",
      "metadata": {
        "colab": {
          "base_uri": "https://localhost:8080/"
        },
        "id": "tXFm1gDdt_L5",
        "outputId": "b4ea9d0c-11f2-4bb0-8a62-f06f03329eee"
      },
      "source": [
        "# array의 사이즈 확인\n",
        "\n",
        "array1.size, array2.size, array3.size \n",
        "# array1 : 1차원, 크기 3\n",
        "# array2 : 2차원, 2행 3열 (2 * 3 = 6)\n",
        "# array3 : 2차원, 1행 3열 (1 * 3 = 3)"
      ],
      "execution_count": null,
      "outputs": [
        {
          "output_type": "execute_result",
          "data": {
            "text/plain": [
              "(3, 6, 3)"
            ]
          },
          "metadata": {
            "tags": []
          },
          "execution_count": 12
        }
      ]
    },
    {
      "cell_type": "markdown",
      "metadata": {
        "id": "J6Cp3YuUe4Pe"
      },
      "source": [
        "numpy에서 사용되는 자료형\n",
        "\n",
        "- 부호가 있는 정수 int(8, 16, 32, 64)\n",
        "- 부호가 없는 정수 uint(8 ,16, 32, 54)\n",
        "- 실수 float(16, 32, 64, 128)\n",
        "- 복소수 complex(64, 128, 256)\n",
        "- 불리언 bool\n",
        "- 문자열 string_\n",
        "- 파이썬 오프젝트 object\n",
        "- 유니코드 unicode_\n"
      ]
    },
    {
      "cell_type": "code",
      "metadata": {
        "id": "hsBT6cYS-Kz_",
        "colab": {
          "base_uri": "https://localhost:8080/"
        },
        "outputId": "1ceacb6a-0abe-4059-e37c-05e99a5a0dfc"
      },
      "source": [
        "# numpy에서 데이터의 종류는 한 가지 종류여야 한다.\n",
        "\n",
        "list1 = [1, 2, 3]\n",
        "print(type(list1))\n",
        "\n",
        "array = np.array(list1)\n",
        "array1.dtype # 데이터 타입 확인"
      ],
      "execution_count": null,
      "outputs": [
        {
          "output_type": "stream",
          "text": [
            "<class 'list'>\n"
          ],
          "name": "stdout"
        },
        {
          "output_type": "execute_result",
          "data": {
            "text/plain": [
              "dtype('int64')"
            ]
          },
          "metadata": {
            "tags": []
          },
          "execution_count": 13
        }
      ]
    },
    {
      "cell_type": "code",
      "metadata": {
        "colab": {
          "base_uri": "https://localhost:8080/"
        },
        "id": "SddNK1dhva6d",
        "outputId": "287a32cc-73d5-46b7-8315-0508d4edc581"
      },
      "source": [
        "list2 = [1, 2, 'test']\n",
        "print(type(list2))\n",
        "\n",
        "array2 = np.array(list2) # list2의 리스트가 전부 문자열로 바뀌게 됨\n",
        "array2.dtype, array2 # 데이터 타입 확인"
      ],
      "execution_count": null,
      "outputs": [
        {
          "output_type": "stream",
          "text": [
            "<class 'list'>\n"
          ],
          "name": "stdout"
        },
        {
          "output_type": "execute_result",
          "data": {
            "text/plain": [
              "(dtype('<U21'), array(['1', '2', 'test'], dtype='<U21'))"
            ]
          },
          "metadata": {
            "tags": []
          },
          "execution_count": 18
        }
      ]
    },
    {
      "cell_type": "code",
      "metadata": {
        "colab": {
          "base_uri": "https://localhost:8080/"
        },
        "id": "YS5YCN_9v34F",
        "outputId": "1147b059-7fda-44d5-84dc-3872836f32a7"
      },
      "source": [
        "list3 = [1, 2, 3.0]\n",
        "print(type(list3))\n",
        "\n",
        "array3 = np.array(list3)\n",
        "print('array3', array3.dtype, array3)"
      ],
      "execution_count": null,
      "outputs": [
        {
          "output_type": "stream",
          "text": [
            "<class 'list'>\n",
            "array3 float64 [1. 2. 3.]\n"
          ],
          "name": "stdout"
        }
      ]
    },
    {
      "cell_type": "markdown",
      "metadata": {
        "id": "puoGBh3phGZK"
      },
      "source": [
        "- 리스트와 다르게 ndarray는 같은 데이터 타입만 가능.\n",
        "- 서로 다른 데이터 타입이 섞여 있을 경우 큰 데이터 타입으로 형 변환을 일괄 적용"
      ]
    },
    {
      "cell_type": "code",
      "metadata": {
        "id": "lY6uJC2R-MuW",
        "colab": {
          "base_uri": "https://localhost:8080/"
        },
        "outputId": "63ae8178-57a7-4a2f-8a85-600a646f5ab4"
      },
      "source": [
        "array_int = np.array([1, 2, 3])\n",
        "print(array_int, array_int.dtype)\n",
        "\n",
        "array_float = array_int.astype('float64') # int type 변경\n",
        "print(array_float, array_float.dtype)"
      ],
      "execution_count": null,
      "outputs": [
        {
          "output_type": "stream",
          "text": [
            "[1 2 3] int64\n",
            "[1. 2. 3.] float64\n"
          ],
          "name": "stdout"
        }
      ]
    },
    {
      "cell_type": "code",
      "metadata": {
        "colab": {
          "base_uri": "https://localhost:8080/"
        },
        "id": "qsoz5Sh1xddA",
        "outputId": "98c6aea7-5caa-4578-b80b-27bdeac53b32"
      },
      "source": [
        "# 타입을 지정하여 생성\n",
        "array_int = np.array([1.1, 2.1, 3.1] , dtype = np.int64)\n",
        "print(array_int, array_int.dtype)"
      ],
      "execution_count": null,
      "outputs": [
        {
          "output_type": "stream",
          "text": [
            "[1 2 3] int64\n"
          ],
          "name": "stdout"
        }
      ]
    },
    {
      "cell_type": "markdown",
      "metadata": {
        "id": "g1hWpxYolBGe"
      },
      "source": [
        "#### Numpy 예제 01\n",
        "Numpy를 이용해 다음과 같은 3차원 배열을 만들고 배열의 크기, 차원, 전체 요소 개수을 확인해보자 \n",
        "```\n",
        "array([[[1,2],\n",
        "        [3,4]],\n",
        "        \n",
        "       [[5,6],\n",
        "        [7,8]]])\n",
        "```\n",
        "```\n",
        "배열의 크기: (2, 2, 2)\n",
        "배열의 차원: 3\n",
        "배열의 개수: 8\n",
        "```\n"
      ]
    },
    {
      "cell_type": "code",
      "metadata": {
        "id": "9tbuaoVE-OSO",
        "colab": {
          "base_uri": "https://localhost:8080/"
        },
        "outputId": "2587b169-b5dc-452c-dd2b-a634ef7acb22"
      },
      "source": [
        "array_t = np. array([[[1,2],\n",
        "                      [3,4]],\n",
        "                \n",
        "                      [[5,6],\n",
        "                       [7,8]]])\n",
        "\n",
        "print(\"배열의 크기 :\", array_t.shape)\n",
        "print(\"배열의 차원 :\", array_t.ndim)\n",
        "print(\"배열의 개수 :\", array_t.size)"
      ],
      "execution_count": null,
      "outputs": [
        {
          "output_type": "stream",
          "text": [
            "배열의 크기 : (2, 2, 2)\n",
            "배열의 차원 : 3\n",
            "배열의 개수 : 8\n"
          ],
          "name": "stdout"
        }
      ]
    },
    {
      "cell_type": "markdown",
      "metadata": {
        "id": "tE_voqsBmuHl"
      },
      "source": [
        "### ndarray 생성"
      ]
    },
    {
      "cell_type": "code",
      "metadata": {
        "id": "bm3kKxiv-Rks",
        "colab": {
          "base_uri": "https://localhost:8080/"
        },
        "outputId": "d8c67b19-5bfa-444e-c66b-dc2870e94c5c"
      },
      "source": [
        "# 연속값으로 생성\n",
        "seq_array = np.arange(10) # 연속된 값을 만들어준다\n",
        "seq_array, seq_array.dtype, seq_array.shape"
      ],
      "execution_count": null,
      "outputs": [
        {
          "output_type": "execute_result",
          "data": {
            "text/plain": [
              "(array([0, 1, 2, 3, 4, 5, 6, 7, 8, 9]), dtype('int64'), (10,))"
            ]
          },
          "metadata": {
            "tags": []
          },
          "execution_count": 34
        }
      ]
    },
    {
      "cell_type": "code",
      "metadata": {
        "colab": {
          "base_uri": "https://localhost:8080/"
        },
        "id": "e5FpB2Ua0wFA",
        "outputId": "dbe979c7-0723-4984-972a-5734e5d40794"
      },
      "source": [
        "# 초기화\n",
        "zero_array = np.zeros((3,2), dtype = np.int32)\n",
        "zero_array, zero_array.shape"
      ],
      "execution_count": null,
      "outputs": [
        {
          "output_type": "execute_result",
          "data": {
            "text/plain": [
              "(array([[0, 0],\n",
              "        [0, 0],\n",
              "        [0, 0]], dtype=int32), (3, 2))"
            ]
          },
          "metadata": {
            "tags": []
          },
          "execution_count": 36
        }
      ]
    },
    {
      "cell_type": "code",
      "metadata": {
        "colab": {
          "base_uri": "https://localhost:8080/"
        },
        "id": "mqSuBsd31YPq",
        "outputId": "1bb2d01f-c4a6-4ff0-a946-d8b81c6d4f6c"
      },
      "source": [
        "one_array = np.ones( (3,2), dtype = np.int32 ) # np.ones() : 1로 채워줌\n",
        "one_array"
      ],
      "execution_count": null,
      "outputs": [
        {
          "output_type": "execute_result",
          "data": {
            "text/plain": [
              "array([[1, 1],\n",
              "       [1, 1],\n",
              "       [1, 1]], dtype=int32)"
            ]
          },
          "metadata": {
            "tags": []
          },
          "execution_count": 37
        }
      ]
    },
    {
      "cell_type": "code",
      "metadata": {
        "colab": {
          "base_uri": "https://localhost:8080/"
        },
        "id": "GK8zxMPXNx60",
        "outputId": "b4c8350a-511b-4d4f-857e-329fd67d2d2f"
      },
      "source": [
        "# 특정 값으로 초기화\n",
        "\n",
        "np.full((5, 5), 7)"
      ],
      "execution_count": null,
      "outputs": [
        {
          "output_type": "execute_result",
          "data": {
            "text/plain": [
              "array([[7, 7, 7, 7, 7],\n",
              "       [7, 7, 7, 7, 7],\n",
              "       [7, 7, 7, 7, 7],\n",
              "       [7, 7, 7, 7, 7],\n",
              "       [7, 7, 7, 7, 7]])"
            ]
          },
          "metadata": {
            "tags": []
          },
          "execution_count": 39
        }
      ]
    },
    {
      "cell_type": "code",
      "metadata": {
        "colab": {
          "base_uri": "https://localhost:8080/"
        },
        "id": "OAt4jyGhOJVt",
        "outputId": "1cc2c15b-aebe-44c0-c584-484d1b6ab757"
      },
      "source": [
        "full_array = np.full((5, 5), 7) # 변수에 저장\n",
        "full_array.shape"
      ],
      "execution_count": null,
      "outputs": [
        {
          "output_type": "execute_result",
          "data": {
            "text/plain": [
              "(5, 5)"
            ]
          },
          "metadata": {
            "tags": []
          },
          "execution_count": 43
        }
      ]
    },
    {
      "cell_type": "code",
      "metadata": {
        "id": "if4dmDuoOyXo"
      },
      "source": [
        "# 랜덤 초기화 (seed 값을 한정함)\n",
        "\n",
        "np.random.seed(10) "
      ],
      "execution_count": null,
      "outputs": []
    },
    {
      "cell_type": "code",
      "metadata": {
        "colab": {
          "base_uri": "https://localhost:8080/"
        },
        "id": "HTW2a5rMOVX8",
        "outputId": "4ae24aea-43e5-4b46-813b-1b43b01a0a8c"
      },
      "source": [
        "# (2, 3)의 형태로 2와 10 사이의 int형 숫자 중 랜덤으로 값 생성\n",
        "\n",
        "a = np.random.randint(2, 10, size = (2, 3)) # 2 * 3 의 행렬을 랜덤으로 값 생성\n",
        "print(a, a.dtype)"
      ],
      "execution_count": null,
      "outputs": [
        {
          "output_type": "stream",
          "text": [
            "[[2 9 9]\n",
            " [5 9 8]] int64\n"
          ],
          "name": "stdout"
        }
      ]
    },
    {
      "cell_type": "markdown",
      "metadata": {
        "id": "uwkaaf-8dLud"
      },
      "source": [
        "#### Numpy 예제 02\n",
        "1,2,3,....,50 이 담긴 배열을 생성하시오."
      ]
    },
    {
      "cell_type": "code",
      "metadata": {
        "id": "i7Hpj1la-ULj",
        "colab": {
          "base_uri": "https://localhost:8080/"
        },
        "outputId": "2dc97ac3-889e-48be-929f-5db6a64ea4d7"
      },
      "source": [
        "ex2 = np.arange(1, 51)\n",
        "ex2"
      ],
      "execution_count": null,
      "outputs": [
        {
          "output_type": "execute_result",
          "data": {
            "text/plain": [
              "array([ 1,  2,  3,  4,  5,  6,  7,  8,  9, 10, 11, 12, 13, 14, 15, 16, 17,\n",
              "       18, 19, 20, 21, 22, 23, 24, 25, 26, 27, 28, 29, 30, 31, 32, 33, 34,\n",
              "       35, 36, 37, 38, 39, 40, 41, 42, 43, 44, 45, 46, 47, 48, 49, 50])"
            ]
          },
          "metadata": {
            "tags": []
          },
          "execution_count": 53
        }
      ]
    },
    {
      "cell_type": "markdown",
      "metadata": {
        "id": "Jck1YMkXeYPB"
      },
      "source": [
        "### ndarray 차원과 크기 변경"
      ]
    },
    {
      "cell_type": "code",
      "metadata": {
        "id": "Ga3KNSi1-WpG",
        "colab": {
          "base_uri": "https://localhost:8080/"
        },
        "outputId": "eca84edb-de9e-4de3-b161-d78031c3a2aa"
      },
      "source": [
        "array1 = np.arange(1, 13)\n",
        "print(array1)\n",
        "\n",
        "array2 = array1.reshape(3, 4) # 차원 변경\n",
        "print(array2)\n",
        "\n",
        "array3 = array1.reshape (2, 6) # size와 동일하지 않음\n",
        "print(array3)"
      ],
      "execution_count": null,
      "outputs": [
        {
          "output_type": "stream",
          "text": [
            "[ 1  2  3  4  5  6  7  8  9 10 11 12]\n",
            "[[ 1  2  3  4]\n",
            " [ 5  6  7  8]\n",
            " [ 9 10 11 12]]\n",
            "[[ 1  2  3  4  5  6]\n",
            " [ 7  8  9 10 11 12]]\n"
          ],
          "name": "stdout"
        }
      ]
    },
    {
      "cell_type": "code",
      "metadata": {
        "colab": {
          "base_uri": "https://localhost:8080/"
        },
        "id": "P9hQCMGkRjun",
        "outputId": "c0d74a27-3336-4a14-cd92-f7a8d76e693d"
      },
      "source": [
        "# 자동변환 \n",
        "# 마이너스(-)를 자동으로 호환 가능하게 변경 (약수를 넣어주어야 한다)\n",
        "\n",
        "array2 = array1.reshape(-1, 6)\n",
        "print(array2)\n",
        "\n",
        "array3 = array1.reshape(-1, 2)\n",
        "print(array3)"
      ],
      "execution_count": null,
      "outputs": [
        {
          "output_type": "stream",
          "text": [
            "[[ 1  2  3  4  5  6]\n",
            " [ 7  8  9 10 11 12]]\n",
            "[[ 1  2]\n",
            " [ 3  4]\n",
            " [ 5  6]\n",
            " [ 7  8]\n",
            " [ 9 10]\n",
            " [11 12]]\n"
          ],
          "name": "stdout"
        }
      ]
    },
    {
      "cell_type": "code",
      "metadata": {
        "colab": {
          "base_uri": "https://localhost:8080/"
        },
        "id": "euASqQwfRwq_",
        "outputId": "e074a3ec-213a-4006-9173-1cfe64df1520"
      },
      "source": [
        "array1 = np.arange(8)\n",
        "array3d = array1.reshape( (2, 2, 2) )\n",
        "print(array3d.tolist()) # 리스트 타입으로 변환\n",
        "\n",
        "# (8, 1)로 차원 변환\n",
        "array5 = array3d.reshape(8, 1) # 모르겠을 때, (-1, 1)\n",
        "print(array5)\n",
        "print(array1.reshape(-1,1))"
      ],
      "execution_count": null,
      "outputs": [
        {
          "output_type": "stream",
          "text": [
            "[[[0, 1], [2, 3]], [[4, 5], [6, 7]]]\n",
            "[[0]\n",
            " [1]\n",
            " [2]\n",
            " [3]\n",
            " [4]\n",
            " [5]\n",
            " [6]\n",
            " [7]]\n",
            "[[0]\n",
            " [1]\n",
            " [2]\n",
            " [3]\n",
            " [4]\n",
            " [5]\n",
            " [6]\n",
            " [7]]\n"
          ],
          "name": "stdout"
        }
      ]
    },
    {
      "cell_type": "markdown",
      "metadata": {
        "id": "8aB0WahjrMEf"
      },
      "source": [
        "### ndarray 인덱싱 & 슬라이싱\n",
        "- 특정 데이터 추출\n",
        "- 슬라이싱(Slicing) : 연속된 데이터 추출\n",
        "- 팬시 인덱싱(Fancy Indexing) : 리스트 또는 ndarray 형태의 인덱싱 집합을 이용하여 여러 데이터를 추출\n",
        "- 불린 인덱싱(Boolean Indexing) : True/False 값 인덱싱 집합을 이용하여 해당 인덱스 위치에 있는 데이터를 추출"
      ]
    },
    {
      "cell_type": "code",
      "metadata": {
        "id": "uu1Lzh6r-Zed",
        "colab": {
          "base_uri": "https://localhost:8080/"
        },
        "outputId": "687e7260-8031-4567-daa3-d475830e00ea"
      },
      "source": [
        "array = np.arange(1, 10)\n",
        "print(array)"
      ],
      "execution_count": null,
      "outputs": [
        {
          "output_type": "stream",
          "text": [
            "[1 2 3 4 5 6 7 8 9]\n"
          ],
          "name": "stdout"
        }
      ]
    },
    {
      "cell_type": "code",
      "metadata": {
        "colab": {
          "base_uri": "https://localhost:8080/"
        },
        "id": "Ewmcg_M_UWUs",
        "outputId": "56fd3b6e-2570-4313-ae90-bb640ea1fc0c"
      },
      "source": [
        "array[-1], array[-2]"
      ],
      "execution_count": null,
      "outputs": [
        {
          "output_type": "execute_result",
          "data": {
            "text/plain": [
              "(9, 8)"
            ]
          },
          "metadata": {
            "tags": []
          },
          "execution_count": 84
        }
      ]
    },
    {
      "cell_type": "code",
      "metadata": {
        "colab": {
          "base_uri": "https://localhost:8080/"
        },
        "id": "pEY6fTOWUsyD",
        "outputId": "be4b99db-629e-4d6f-e3c7-0bd9c80f64b9"
      },
      "source": [
        "array[0] = 10\n",
        "array[7] = 0\n",
        "array"
      ],
      "execution_count": null,
      "outputs": [
        {
          "output_type": "execute_result",
          "data": {
            "text/plain": [
              "array([10,  2,  3,  4,  5,  6,  7,  0,  9])"
            ]
          },
          "metadata": {
            "tags": []
          },
          "execution_count": 86
        }
      ]
    },
    {
      "cell_type": "code",
      "metadata": {
        "colab": {
          "base_uri": "https://localhost:8080/"
        },
        "id": "h8ZuwpmoU0g7",
        "outputId": "7cfef45c-85f9-4f94-db21-4fa0beac7102"
      },
      "source": [
        "# 리스트 1차원 접근\n",
        "\n",
        "array1d = np.arange(1, 10)\n",
        "array2d = array1d.reshape(3, 3) # 2차원 형태로 변환\n",
        "print(array2d)\n",
        "print(array2d[0])"
      ],
      "execution_count": null,
      "outputs": [
        {
          "output_type": "stream",
          "text": [
            "[[1 2 3]\n",
            " [4 5 6]\n",
            " [7 8 9]]\n",
            "[1 2 3]\n"
          ],
          "name": "stdout"
        }
      ]
    },
    {
      "cell_type": "code",
      "metadata": {
        "colab": {
          "base_uri": "https://localhost:8080/"
        },
        "id": "I8kbJicVVmTx",
        "outputId": "37051c75-94a9-4cb1-dda8-094181e05adb"
      },
      "source": [
        "print(array2d[1][1])\n",
        "print(array2d[1, 1])\n",
        "\n",
        "print(array2d[0, 1]) # row = 0, column = 1"
      ],
      "execution_count": null,
      "outputs": [
        {
          "output_type": "stream",
          "text": [
            "5\n",
            "5\n",
            "2\n"
          ],
          "name": "stdout"
        }
      ]
    },
    {
      "cell_type": "markdown",
      "metadata": {
        "id": "7wJD8jMM2ZJa"
      },
      "source": [
        "슬라이싱\n",
        "- ':' 기호 앞에 시작 인덱스를 생략하면 맨 처음 인덱스인 0으로 간주\n",
        "- ':' 기호 뒤에 종료 인덱스를 생략하면 맨 마지막 인덱스로 간주\n",
        "- ':' 기호 앞/뒤에 시작/종료 인덱스를 생략하면 맨 처음/마지막 인덱스로 간주\n",
        "\n"
      ]
    },
    {
      "cell_type": "code",
      "metadata": {
        "id": "H4B6fC3E-dUh",
        "colab": {
          "base_uri": "https://localhost:8080/"
        },
        "outputId": "db245680-750c-456e-d8f0-cc6027701dff"
      },
      "source": [
        "arr = np.arange(1, 10)\n",
        "print(arr)\n",
        "\n",
        "print(arr[1:5])\n",
        "print(arr[:3])\n",
        "print(arr[3:])\n",
        "print(arr[:]) # all"
      ],
      "execution_count": null,
      "outputs": [
        {
          "output_type": "stream",
          "text": [
            "[1 2 3 4 5 6 7 8 9]\n",
            "[2 3 4 5]\n",
            "[1 2 3]\n",
            "[4 5 6 7 8 9]\n",
            "[1 2 3 4 5 6 7 8 9]\n"
          ],
          "name": "stdout"
        }
      ]
    },
    {
      "cell_type": "code",
      "metadata": {
        "colab": {
          "base_uri": "https://localhost:8080/"
        },
        "id": "ZOySfp-CXONa",
        "outputId": "823a2add-65d1-4b5e-81dc-67f5b4463ec0"
      },
      "source": [
        "# 2차원 슬라이싱\n",
        "\n",
        "arr = np.arange(1,10).reshape(3, 3)\n",
        "print(arr)"
      ],
      "execution_count": null,
      "outputs": [
        {
          "output_type": "stream",
          "text": [
            "[[1 2 3]\n",
            " [4 5 6]\n",
            " [7 8 9]]\n"
          ],
          "name": "stdout"
        }
      ]
    },
    {
      "cell_type": "code",
      "metadata": {
        "colab": {
          "base_uri": "https://localhost:8080/"
        },
        "id": "CG3eHD5XbYdC",
        "outputId": "9e97e889-1427-4dc7-8eab-37bb2fe81def"
      },
      "source": [
        "print(arr[:2, :2])  # print(arr[0:2, 0:2])"
      ],
      "execution_count": null,
      "outputs": [
        {
          "output_type": "stream",
          "text": [
            "[[1 2]\n",
            " [4 5]]\n"
          ],
          "name": "stdout"
        }
      ]
    },
    {
      "cell_type": "code",
      "metadata": {
        "colab": {
          "base_uri": "https://localhost:8080/"
        },
        "id": "JBuT4VEjbZNb",
        "outputId": "13fc7eab-2d3f-4bad-861c-17df4cf269ed"
      },
      "source": [
        "print(arr[1: , :])"
      ],
      "execution_count": null,
      "outputs": [
        {
          "output_type": "stream",
          "text": [
            "[[4 5 6]\n",
            " [7 8 9]]\n"
          ],
          "name": "stdout"
        }
      ]
    },
    {
      "cell_type": "code",
      "metadata": {
        "colab": {
          "base_uri": "https://localhost:8080/"
        },
        "id": "TonoXzHecJ4s",
        "outputId": "4e013981-e2c3-4ff2-b581-21223e9a9ff9"
      },
      "source": [
        "print(arr[1: , 1:2])\n",
        "print(arr[1: , 1])\n",
        "print(arr[1: , 1:-1])"
      ],
      "execution_count": null,
      "outputs": [
        {
          "output_type": "stream",
          "text": [
            "[[5]\n",
            " [8]]\n",
            "[5 8]\n",
            "[[5]\n",
            " [8]]\n"
          ],
          "name": "stdout"
        }
      ]
    },
    {
      "cell_type": "code",
      "metadata": {
        "colab": {
          "base_uri": "https://localhost:8080/"
        },
        "id": "aDXo0I58dXPf",
        "outputId": "16b301c9-1b55-459c-ebcc-adf42649f4ba"
      },
      "source": [
        "print(arr[:2 , 1:])"
      ],
      "execution_count": null,
      "outputs": [
        {
          "output_type": "stream",
          "text": [
            "[[2 3]\n",
            " [5 6]]\n"
          ],
          "name": "stdout"
        }
      ]
    },
    {
      "cell_type": "markdown",
      "metadata": {
        "id": "HrYA28Fyd6SM"
      },
      "source": [
        "#### 팬시 인덱싱\n",
        "\n",
        "- 팬시 인덱싱(Fancy Indexing) : 리스트 또는 ndarray 형태의 인덱싱 집합을 이용하여 여러 데이터를 추출"
      ]
    },
    {
      "cell_type": "code",
      "metadata": {
        "colab": {
          "base_uri": "https://localhost:8080/"
        },
        "id": "N4q1m6qeeBwS",
        "outputId": "c1db8c93-fe5f-411d-b053-c78725ad9845"
      },
      "source": [
        "# 1차원\n",
        "\n",
        "arr = np.arange(1,10)\n",
        "print(arr)\n",
        "print(arr[[2, 4, 7]]) # 인덱스를 연속으로 제공"
      ],
      "execution_count": null,
      "outputs": [
        {
          "output_type": "stream",
          "text": [
            "[1 2 3 4 5 6 7 8 9]\n",
            "[3 5 8]\n"
          ],
          "name": "stdout"
        }
      ]
    },
    {
      "cell_type": "code",
      "metadata": {
        "colab": {
          "base_uri": "https://localhost:8080/"
        },
        "id": "PK0KpdiieyW1",
        "outputId": "fc61e15d-b4bc-409c-e520-5dee33a6033f"
      },
      "source": [
        "# 2차원\n",
        "\n",
        "arr = np.arange(1, 10). reshape(3, 3)\n",
        "print(arr)\n",
        "print(arr[[0, 2], [2]])\n",
        "print(arr[[0, 2], :2])\n",
        "print(arr[[0, 2], [2,1]])"
      ],
      "execution_count": null,
      "outputs": [
        {
          "output_type": "stream",
          "text": [
            "[[1 2 3]\n",
            " [4 5 6]\n",
            " [7 8 9]]\n",
            "[3 9]\n",
            "[[1 2]\n",
            " [7 8]]\n",
            "[3 8]\n"
          ],
          "name": "stdout"
        }
      ]
    },
    {
      "cell_type": "code",
      "metadata": {
        "colab": {
          "base_uri": "https://localhost:8080/"
        },
        "id": "4QRqBrlMfnoA",
        "outputId": "4ad3fca7-14df-43b6-bdf9-880888558848"
      },
      "source": [
        "arr = np.arange(1, 10). reshape(3, 3)\n",
        "print(arr)"
      ],
      "execution_count": null,
      "outputs": [
        {
          "output_type": "stream",
          "text": [
            "[[1 2 3]\n",
            " [4 5 6]\n",
            " [7 8 9]]\n"
          ],
          "name": "stdout"
        }
      ]
    },
    {
      "cell_type": "code",
      "metadata": {
        "colab": {
          "base_uri": "https://localhost:8080/"
        },
        "id": "4AUCbQ7IftHQ",
        "outputId": "2111a852-0d72-42d6-c97c-e52dcaa2dc03"
      },
      "source": [
        "print(arr[[0,2], :])"
      ],
      "execution_count": null,
      "outputs": [
        {
          "output_type": "stream",
          "text": [
            "[[1 2 3]\n",
            " [7 8 9]]\n"
          ],
          "name": "stdout"
        }
      ]
    },
    {
      "cell_type": "markdown",
      "metadata": {
        "id": "56qILwHAgUxp"
      },
      "source": [
        "#### 불린 인덱싱(Boolean Indexing)\n",
        "\n",
        "- 불린 인덱싱(Boolean Indexing) : True/False 값 인덱싱 집합을 이용하여 해당 인덱스 위치에 있는 데이터를 추출"
      ]
    },
    {
      "cell_type": "code",
      "metadata": {
        "colab": {
          "base_uri": "https://localhost:8080/"
        },
        "id": "KwLdcViYgc1e",
        "outputId": "f52e757a-3be8-453d-b0e6-1a702a21edb8"
      },
      "source": [
        "# 1차원\n",
        "\n",
        "arr = np.arange(1, 10)\n",
        "print(arr)"
      ],
      "execution_count": null,
      "outputs": [
        {
          "output_type": "stream",
          "text": [
            "[1 2 3 4 5 6 7 8 9]\n"
          ],
          "name": "stdout"
        }
      ]
    },
    {
      "cell_type": "code",
      "metadata": {
        "colab": {
          "base_uri": "https://localhost:8080/"
        },
        "id": "NjKKS5-Mgi3c",
        "outputId": "89ef6f8f-e027-44b8-936d-a23e8a7fa49c"
      },
      "source": [
        "print(arr[arr > 5])"
      ],
      "execution_count": null,
      "outputs": [
        {
          "output_type": "stream",
          "text": [
            "[6 7 8 9]\n"
          ],
          "name": "stdout"
        }
      ]
    },
    {
      "cell_type": "code",
      "metadata": {
        "colab": {
          "base_uri": "https://localhost:8080/"
        },
        "id": "5LqegPe_gpxm",
        "outputId": "6e539215-cc0f-4b11-ea42-2dd96d34c247"
      },
      "source": [
        "print(arr > 5)"
      ],
      "execution_count": null,
      "outputs": [
        {
          "output_type": "stream",
          "text": [
            "[False False False False False  True  True  True  True]\n"
          ],
          "name": "stdout"
        }
      ]
    },
    {
      "cell_type": "code",
      "metadata": {
        "colab": {
          "base_uri": "https://localhost:8080/"
        },
        "id": "RnvT-NnTg-0z",
        "outputId": "44469cfb-f1c9-43a5-be5a-f9a3d1bd4d13"
      },
      "source": [
        "name = np.array(['홍길동', '박철수', '이혜수', '김영원', '을지문덕'])\n",
        "name_score = np.array( [[60, 60], [70, 70], [80, 80], [90, 90], [100, 100]] )\n",
        "print(name_score)"
      ],
      "execution_count": null,
      "outputs": [
        {
          "output_type": "stream",
          "text": [
            "[[ 60  60]\n",
            " [ 70  70]\n",
            " [ 80  80]\n",
            " [ 90  90]\n",
            " [100 100]]\n"
          ],
          "name": "stdout"
        }
      ]
    },
    {
      "cell_type": "code",
      "metadata": {
        "colab": {
          "base_uri": "https://localhost:8080/"
        },
        "id": "UkIe0et6h8h8",
        "outputId": "56394a72-f758-44d8-fd00-f7284de6ca6e"
      },
      "source": [
        "print(name == '홍길동')"
      ],
      "execution_count": null,
      "outputs": [
        {
          "output_type": "stream",
          "text": [
            "[ True False False False False]\n"
          ],
          "name": "stdout"
        }
      ]
    },
    {
      "cell_type": "code",
      "metadata": {
        "colab": {
          "base_uri": "https://localhost:8080/"
        },
        "id": "tWu8w6VXiWZg",
        "outputId": "d56045f8-ac94-415d-8c54-995c4e915a53"
      },
      "source": [
        "print(name_score[name == '홍길동'])"
      ],
      "execution_count": null,
      "outputs": [
        {
          "output_type": "stream",
          "text": [
            "[[60 60]]\n"
          ],
          "name": "stdout"
        }
      ]
    },
    {
      "cell_type": "markdown",
      "metadata": {
        "id": "xZy_t6sQHWzM"
      },
      "source": [
        "#### Numpy 예제 03 \n",
        "\n",
        "BMI 구하기\n",
        "\n",
        "10명에 대한 키와 몸무게가 들어있는 파일 ‘height_weight.txt’을 읽어 각 사람별 BMI 지수를 구하시오.\n",
        "```\n",
        "data = np.loadtxt(drive_path + \"height_weight.txt\", delimiter = \",\") # delimiter : 구분자\n",
        "data\n",
        "```\n",
        "  \\\\( BMI지수=\\frac { 몸무게(kg) }{ 키(m) \\times 키(m) } \\\\)\n",
        "```\n",
        "# 제곱 계산\n",
        "# **2 or np.square()\n",
        "```"
      ]
    },
    {
      "cell_type": "code",
      "metadata": {
        "id": "9OBevrBV-gq9",
        "colab": {
          "base_uri": "https://localhost:8080/"
        },
        "outputId": "8817efb1-8b21-423b-ca8b-7db346be8bf2"
      },
      "source": [
        "# 구글드라이브 연동\n",
        "from google.colab import drive\n",
        "drive.mount('/gdrive', force_remount=True)\n",
        "\n",
        "# 구글 드라이브 파일 확인\n",
        "!ls '/gdrive/My Drive/temp/'\n",
        "\n",
        "# 반복되는 드라이브 경로 변수화\n",
        "drive_path = '/gdrive/My Drive/temp/'"
      ],
      "execution_count": null,
      "outputs": [
        {
          "output_type": "stream",
          "text": [
            "Mounted at /gdrive\n",
            " 매수종목1.txt\t\t   lenna.png\t\t   score.csv\n",
            " 매수종목2.txt\t\t   little-char.png\t   sonar.csv\n",
            " adult.data\t\t   ml_class.png\t\t   stock-data.csv\n",
            " auto-mpg.csv\t\t   pca_1.png\t\t  'stock price.xlsx'\n",
            " bmi_500.csv\t\t   pca_2.png\t\t  'stock valuation.xlsx'\n",
            " citibike.csv\t\t   pca_3.png\t\t   test.db.db\n",
            " 매수종목.csv\t\t   Picture1.png\t\t   test.txt\n",
            " data_mine.csv\t\t   population_number.csv   ThoraricSurgery.csv\n",
            " data_population.csv\t   ram_price.csv\t   titanic.xls\n",
            " data_studentlist_en.csv   ratings_small.txt\t   tmdb_5000_credits.csv\n",
            " demo.docx\t\t   ratings_test.txt\t   tmdb_5000_movies.csv\n",
            " diabetes.csv\t\t   ratings_train.txt\t   Traffic_Accident_2017.csv\n",
            " example.docx\t\t   sample1.pdf\t\t   train.csv\n",
            " height_weight.txt\t   sample2.pdf\t\t   user_id_mean.csv\n",
            "'Hello World.xlsx'\t   sample.docx\t\t   wine.csv\n",
            " HelloWorld.xlsx\t   sample_merge.pdf\t   주가데이터.xlsx\n",
            " house_price.csv\t   sample.xlsx\t\t   남북한발전전력량.xlsx\n"
          ],
          "name": "stdout"
        }
      ]
    },
    {
      "cell_type": "code",
      "metadata": {
        "colab": {
          "base_uri": "https://localhost:8080/"
        },
        "id": "FsBpUzSDjRCg",
        "outputId": "d7040e2d-3446-4cc6-ecfe-6d89e65f2411"
      },
      "source": [
        "data = np.loadtxt(drive_path + \"height_weight.txt\", delimiter = \",\") # delimiter : 구분자\n",
        "data"
      ],
      "execution_count": null,
      "outputs": [
        {
          "output_type": "execute_result",
          "data": {
            "text/plain": [
              "array([[175.2, 180.3, 175. , 169.2, 185.2, 188. , 177.6, 178.2, 177. ,\n",
              "        179. ],\n",
              "       [ 65.6,  88. ,  79.2,  69.3,  55. ,  71.2,  73. ,  68.9,  74. ,\n",
              "         82. ]])"
            ]
          },
          "metadata": {
            "tags": []
          },
          "execution_count": 151
        }
      ]
    },
    {
      "cell_type": "code",
      "metadata": {
        "colab": {
          "base_uri": "https://localhost:8080/"
        },
        "id": "AjRLpGxTjafY",
        "outputId": "52069cfa-85fa-468a-a5bb-98c26ddc47bf"
      },
      "source": [
        "data.ndim"
      ],
      "execution_count": null,
      "outputs": [
        {
          "output_type": "execute_result",
          "data": {
            "text/plain": [
              "2"
            ]
          },
          "metadata": {
            "tags": []
          },
          "execution_count": 153
        }
      ]
    },
    {
      "cell_type": "markdown",
      "metadata": {
        "id": "C51Eold9jpPp"
      },
      "source": [
        "  \\\\( BMI지수=\\frac { 몸무게(kg) }{ 키(m) \\times 키(m) } \\\\)\n",
        "```\n",
        "# 제곱 계산\n",
        "# **2 or np.square()\n",
        "```"
      ]
    },
    {
      "cell_type": "code",
      "metadata": {
        "colab": {
          "base_uri": "https://localhost:8080/"
        },
        "id": "eivYDBpzjy2x",
        "outputId": "974c3acf-6249-4e48-9a59-021a17454c14"
      },
      "source": [
        "print(data[0])"
      ],
      "execution_count": null,
      "outputs": [
        {
          "output_type": "stream",
          "text": [
            "[175.2 180.3 175.  169.2 185.2 188.  177.6 178.2 177.  179. ]\n"
          ],
          "name": "stdout"
        }
      ]
    },
    {
      "cell_type": "code",
      "metadata": {
        "colab": {
          "base_uri": "https://localhost:8080/"
        },
        "id": "kIoXfkjplAWq",
        "outputId": "ac352bd3-1ba7-4f00-9408-c0cb3ea71e37"
      },
      "source": [
        "print(data[0,0])"
      ],
      "execution_count": null,
      "outputs": [
        {
          "output_type": "stream",
          "text": [
            "175.2\n"
          ],
          "name": "stdout"
        }
      ]
    },
    {
      "cell_type": "code",
      "metadata": {
        "colab": {
          "base_uri": "https://localhost:8080/"
        },
        "id": "RzGpcQP5pCcu",
        "outputId": "894b08a5-36ed-4c9f-f217-194973ddabaa"
      },
      "source": [
        "# 1 / 리스트 방식\n",
        "bmi = []\n",
        "for i in range(0, 10) :\n",
        "  bmi.append( data[1,i] / (data[0,i] / 100) **2 )\n",
        "\n",
        "bmi"
      ],
      "execution_count": null,
      "outputs": [
        {
          "output_type": "execute_result",
          "data": {
            "text/plain": [
              "[21.371531035633122,\n",
              " 27.070184683258837,\n",
              " 25.86122448979592,\n",
              " 24.206528846637497,\n",
              " 16.035434227896758,\n",
              " 20.144861928474423,\n",
              " 23.143920947975,\n",
              " 21.697206508280214,\n",
              " 23.620287912158062,\n",
              " 25.592209980961893]"
            ]
          },
          "metadata": {
            "tags": []
          },
          "execution_count": 179
        }
      ]
    },
    {
      "cell_type": "code",
      "metadata": {
        "colab": {
          "base_uri": "https://localhost:8080/"
        },
        "id": "_mM798KJqCkZ",
        "outputId": "a94cf8b3-fb9c-44c0-c6d8-b9751a041ca9"
      },
      "source": [
        "# 2 / for문 축약형\n",
        "\n",
        "bmi = [ data[1, i] / ((data[0, i] / 100)**2) for i in range(0, 10) ]\n",
        "bmi"
      ],
      "execution_count": null,
      "outputs": [
        {
          "output_type": "execute_result",
          "data": {
            "text/plain": [
              "[21.371531035633122,\n",
              " 27.070184683258837,\n",
              " 25.86122448979592,\n",
              " 24.206528846637497,\n",
              " 16.035434227896758,\n",
              " 20.144861928474423,\n",
              " 23.143920947975,\n",
              " 21.697206508280214,\n",
              " 23.620287912158062,\n",
              " 25.592209980961893]"
            ]
          },
          "metadata": {
            "tags": []
          },
          "execution_count": 184
        }
      ]
    },
    {
      "cell_type": "code",
      "metadata": {
        "colab": {
          "base_uri": "https://localhost:8080/"
        },
        "id": "yKAWUs6XqaY0",
        "outputId": "9a60ec8f-60e8-468e-e4bb-1e1d805fa0b4"
      },
      "source": [
        "# 3 /numpy 사용\n",
        "\n",
        "height = data[0] / 100\n",
        "weight = data[1]\n",
        "\n",
        "BMI = weight / height ** 2\n",
        "BMI"
      ],
      "execution_count": null,
      "outputs": [
        {
          "output_type": "execute_result",
          "data": {
            "text/plain": [
              "array([21.37153104, 27.07018468, 25.86122449, 24.20652885, 16.03543423,\n",
              "       20.14486193, 23.14392095, 21.69720651, 23.62028791, 25.59220998])"
            ]
          },
          "metadata": {
            "tags": []
          },
          "execution_count": 185
        }
      ]
    },
    {
      "cell_type": "code",
      "metadata": {
        "colab": {
          "base_uri": "https://localhost:8080/"
        },
        "id": "vGPKSlwblIAV",
        "outputId": "a20cb25a-89cd-4d02-c16f-e57433cf100c"
      },
      "source": [
        "BMI = data[1] / ((data[0] / 100 ) ** 2)\n",
        "BMI"
      ],
      "execution_count": null,
      "outputs": [
        {
          "output_type": "execute_result",
          "data": {
            "text/plain": [
              "array([21.37153104, 27.07018468, 25.86122449, 24.20652885, 16.03543423,\n",
              "       20.14486193, 23.14392095, 21.69720651, 23.62028791, 25.59220998])"
            ]
          },
          "metadata": {
            "tags": []
          },
          "execution_count": 176
        }
      ]
    },
    {
      "cell_type": "markdown",
      "metadata": {
        "id": "7nozJyiiQo1I"
      },
      "source": [
        "### 행렬의 정렬\n",
        "- sort() : 정렬\n",
        "- argsort() : 정렬된 행렬의 원본 행렬 원소에 대한 인덱스를 반환"
      ]
    },
    {
      "cell_type": "code",
      "metadata": {
        "id": "a-lSRMRD-lPl",
        "colab": {
          "base_uri": "https://localhost:8080/"
        },
        "outputId": "9b99f85f-5fb8-4215-ce28-c5934e5ce177"
      },
      "source": [
        "org_array = np.array( [3, 1, 8, 5])\n",
        "sort_array = np.sort(org_array)\n",
        "print(org_array)\n",
        "print(sort_array)"
      ],
      "execution_count": null,
      "outputs": [
        {
          "output_type": "stream",
          "text": [
            "[3 1 8 5]\n",
            "[1 3 5 8]\n"
          ],
          "name": "stdout"
        }
      ]
    },
    {
      "cell_type": "code",
      "metadata": {
        "colab": {
          "base_uri": "https://localhost:8080/"
        },
        "id": "zWBjhxnfr9f6",
        "outputId": "3bdffacd-90f7-4c75-d3cf-8db5ee4a47e9"
      },
      "source": [
        "sort_array = org_array.sort() # 원본이 바뀜\n",
        "print(org_array)\n",
        "print(sort_array)"
      ],
      "execution_count": null,
      "outputs": [
        {
          "output_type": "stream",
          "text": [
            "[1 3 5 8]\n",
            "None\n"
          ],
          "name": "stdout"
        }
      ]
    },
    {
      "cell_type": "code",
      "metadata": {
        "colab": {
          "base_uri": "https://localhost:8080/"
        },
        "id": "g-muBus6sbdi",
        "outputId": "b1c29b59-b1fe-4239-fe82-c1d1ae4e2ee0"
      },
      "source": [
        "org_array = np.array( [3, 1, 8, 5])\n",
        "org_array[::-1] # 증감 연산자 역순 정렬 효과"
      ],
      "execution_count": null,
      "outputs": [
        {
          "output_type": "execute_result",
          "data": {
            "text/plain": [
              "array([5, 8, 1, 3])"
            ]
          },
          "metadata": {
            "tags": []
          },
          "execution_count": 191
        }
      ]
    },
    {
      "cell_type": "code",
      "metadata": {
        "colab": {
          "base_uri": "https://localhost:8080/"
        },
        "id": "Zi3JsMiys6sl",
        "outputId": "21bd8921-2d1e-4a96-9f15-83715ac3d19d"
      },
      "source": [
        "# 2차원 정렬\n",
        "\n",
        "array = np.array([[8, 12], \n",
        "                  [7, 1]])\n",
        "print(array)"
      ],
      "execution_count": null,
      "outputs": [
        {
          "output_type": "stream",
          "text": [
            "[[ 8 12]\n",
            " [ 7  1]]\n",
            "[[ 8 12]\n",
            " [ 1  7]]\n"
          ],
          "name": "stdout"
        }
      ]
    },
    {
      "cell_type": "code",
      "metadata": {
        "colab": {
          "base_uri": "https://localhost:8080/"
        },
        "id": "GAM7Ms5qtrTX",
        "outputId": "451c985e-771f-4fa3-a6cf-8727280dc620"
      },
      "source": [
        "# axis : 축 / axis = 0 열 방향  axis = 1 횡 방향\n",
        "np.sort(array, axis = 0)"
      ],
      "execution_count": null,
      "outputs": [
        {
          "output_type": "execute_result",
          "data": {
            "text/plain": [
              "array([[ 7,  1],\n",
              "       [ 8, 12]])"
            ]
          },
          "metadata": {
            "tags": []
          },
          "execution_count": 200
        }
      ]
    },
    {
      "cell_type": "code",
      "metadata": {
        "colab": {
          "base_uri": "https://localhost:8080/"
        },
        "id": "IkMXepTftwEv",
        "outputId": "bdc37f2b-ec2f-45f9-f92a-4ace7994c453"
      },
      "source": [
        "org_array = np.array( [3, 1, 8, 5])\n",
        "np.argsort(org_array) # 정렬 후의 인덱스 번호 출력"
      ],
      "execution_count": null,
      "outputs": [
        {
          "output_type": "execute_result",
          "data": {
            "text/plain": [
              "array([1, 0, 3, 2])"
            ]
          },
          "metadata": {
            "tags": []
          },
          "execution_count": 201
        }
      ]
    },
    {
      "cell_type": "code",
      "metadata": {
        "colab": {
          "base_uri": "https://localhost:8080/"
        },
        "id": "9wuPoPZpuBF8",
        "outputId": "44c38def-45b8-4009-abc1-52f8b389c157"
      },
      "source": [
        "name = np.array(['홍길동', '박철수', '이혜수', '김영원', '을지문덕'])\n",
        "name_score = np.array( [[78, 96, 84, 98, 88]] )\n",
        "\n",
        "sort_index = np.argsort(name_score)[::-1]\n",
        "print(sort_index)\n",
        "print(name[sort_index])"
      ],
      "execution_count": null,
      "outputs": [
        {
          "output_type": "stream",
          "text": [
            "[[0 2 4 1 3]]\n",
            "[['홍길동' '이혜수' '을지문덕' '박철수' '김영원']]\n"
          ],
          "name": "stdout"
        }
      ]
    },
    {
      "cell_type": "markdown",
      "metadata": {
        "id": "QBO6DurIejVc"
      },
      "source": [
        "### ndarray 연산\n",
        "- 일반연산 : 산술연산, 비교연산 ...\n",
        "- 선형대수 연산 : 행렬 내적과 전치 행렬"
      ]
    },
    {
      "cell_type": "code",
      "metadata": {
        "id": "fymYlKLH-oZA",
        "colab": {
          "base_uri": "https://localhost:8080/"
        },
        "outputId": "62d8c4ac-4ef8-4245-9a6d-63b3ade1ec97"
      },
      "source": [
        "array = np.array([1, 2, 3])\n",
        "array + 100"
      ],
      "execution_count": null,
      "outputs": [
        {
          "output_type": "execute_result",
          "data": {
            "text/plain": [
              "array([101, 102, 103])"
            ]
          },
          "metadata": {
            "tags": []
          },
          "execution_count": 206
        }
      ]
    },
    {
      "cell_type": "code",
      "metadata": {
        "colab": {
          "base_uri": "https://localhost:8080/"
        },
        "id": "pqmS2xoAwF-V",
        "outputId": "5f6e167a-a96b-4d09-a1f1-cca2795f4b48"
      },
      "source": [
        "array + array"
      ],
      "execution_count": null,
      "outputs": [
        {
          "output_type": "execute_result",
          "data": {
            "text/plain": [
              "array([2, 4, 6])"
            ]
          },
          "metadata": {
            "tags": []
          },
          "execution_count": 207
        }
      ]
    },
    {
      "cell_type": "code",
      "metadata": {
        "colab": {
          "base_uri": "https://localhost:8080/"
        },
        "id": "8Vs7b9Q2wSLN",
        "outputId": "aad45b3a-bde4-4d89-ae80-f1d8dcdb0892"
      },
      "source": [
        "array * array # 요소들끼리 곱셈이 됨"
      ],
      "execution_count": null,
      "outputs": [
        {
          "output_type": "execute_result",
          "data": {
            "text/plain": [
              "array([1, 4, 9])"
            ]
          },
          "metadata": {
            "tags": []
          },
          "execution_count": 208
        }
      ]
    },
    {
      "cell_type": "code",
      "metadata": {
        "colab": {
          "base_uri": "https://localhost:8080/"
        },
        "id": "FHGM7ctiwc46",
        "outputId": "72b14d2f-87e9-486f-8406-a8ec8b551d0d"
      },
      "source": [
        "array - array"
      ],
      "execution_count": null,
      "outputs": [
        {
          "output_type": "execute_result",
          "data": {
            "text/plain": [
              "array([0, 0, 0])"
            ]
          },
          "metadata": {
            "tags": []
          },
          "execution_count": 209
        }
      ]
    },
    {
      "cell_type": "code",
      "metadata": {
        "colab": {
          "base_uri": "https://localhost:8080/"
        },
        "id": "jWERDYchwpsu",
        "outputId": "020744c2-ddd5-4d84-83bb-08911c2a9442"
      },
      "source": [
        "np.subtract(array, array) # array - array 와 같다"
      ],
      "execution_count": null,
      "outputs": [
        {
          "output_type": "execute_result",
          "data": {
            "text/plain": [
              "array([0, 0, 0])"
            ]
          },
          "metadata": {
            "tags": []
          },
          "execution_count": 210
        }
      ]
    },
    {
      "cell_type": "code",
      "metadata": {
        "colab": {
          "base_uri": "https://localhost:8080/"
        },
        "id": "34YgD082wv4G",
        "outputId": "31cc9162-ab8e-4e1c-87eb-b86d174079fa"
      },
      "source": [
        "array == 1 # 불린"
      ],
      "execution_count": null,
      "outputs": [
        {
          "output_type": "execute_result",
          "data": {
            "text/plain": [
              "array([ True, False, False])"
            ]
          },
          "metadata": {
            "tags": []
          },
          "execution_count": 211
        }
      ]
    },
    {
      "cell_type": "code",
      "metadata": {
        "colab": {
          "base_uri": "https://localhost:8080/"
        },
        "id": "sgMeWbUixC6c",
        "outputId": "5954b88c-1c10-4e67-ff16-af571dadfef2"
      },
      "source": [
        "array == array"
      ],
      "execution_count": null,
      "outputs": [
        {
          "output_type": "execute_result",
          "data": {
            "text/plain": [
              "array([ True,  True,  True])"
            ]
          },
          "metadata": {
            "tags": []
          },
          "execution_count": 212
        }
      ]
    },
    {
      "cell_type": "code",
      "metadata": {
        "colab": {
          "base_uri": "https://localhost:8080/"
        },
        "id": "GLeyvyOTxD9B",
        "outputId": "04efc00d-18bf-4820-e0ac-3a54370af928"
      },
      "source": [
        "# numpy.dot(a, b)\n",
        "# 두 입력 배열의 내적을 계산\n",
        "# a와 b가 모두 0차원 (scalar)이면, 곱 연산과 같다.\n",
        "# a와 b가 모두 1차원 array 면, 두 벡터의 내적 (Dot product)이 된다.\n",
        "# a와 b가 모두 2차원 array 면, 행렬곱 (Matrix multiplication)이 된다. 하지만 numpy.matmul을 사용하는 것을 권장\n",
        "\n",
        "np.dot(array, array) # 1*1 + 2*2 + 3*3 = 14"
      ],
      "execution_count": null,
      "outputs": [
        {
          "output_type": "execute_result",
          "data": {
            "text/plain": [
              "14"
            ]
          },
          "metadata": {
            "tags": []
          },
          "execution_count": 213
        }
      ]
    },
    {
      "cell_type": "code",
      "metadata": {
        "colab": {
          "base_uri": "https://localhost:8080/"
        },
        "id": "zoGMq_57x_W0",
        "outputId": "48e9da5d-9e27-4e75-b3a4-46a3fb4de35e"
      },
      "source": [
        "a = np.array([[1, 2, 3],\n",
        "              [4, 5, 6]])\n",
        "b = np.array([[7, 8],\n",
        "              [9, 10],\n",
        "              [11, 12]])\n",
        "np.dot(a, b)"
      ],
      "execution_count": null,
      "outputs": [
        {
          "output_type": "execute_result",
          "data": {
            "text/plain": [
              "array([[ 58,  64],\n",
              "       [139, 154]])"
            ]
          },
          "metadata": {
            "tags": []
          },
          "execution_count": 214
        }
      ]
    },
    {
      "cell_type": "code",
      "metadata": {
        "colab": {
          "base_uri": "https://localhost:8080/"
        },
        "id": "HH-ZOxm3yyX9",
        "outputId": "1d35a40b-308d-48fb-df94-226e3664b015"
      },
      "source": [
        "# 전치행렬 : 행과 열의 위치를 바꿔줌\n",
        "\n",
        "np.transpose(a)"
      ],
      "execution_count": null,
      "outputs": [
        {
          "output_type": "execute_result",
          "data": {
            "text/plain": [
              "array([[1, 4],\n",
              "       [2, 5],\n",
              "       [3, 6]])"
            ]
          },
          "metadata": {
            "tags": []
          },
          "execution_count": 216
        }
      ]
    },
    {
      "cell_type": "code",
      "metadata": {
        "colab": {
          "base_uri": "https://localhost:8080/"
        },
        "id": "bupNrM5ey6yK",
        "outputId": "44d1c3d9-7262-4e34-e3b8-78ec5d9c00a3"
      },
      "source": [
        "# 전치행렬 : 행과 열의 위치 교환\n",
        "\n",
        "a.T"
      ],
      "execution_count": null,
      "outputs": [
        {
          "output_type": "execute_result",
          "data": {
            "text/plain": [
              "array([[1, 4],\n",
              "       [2, 5],\n",
              "       [3, 6]])"
            ]
          },
          "metadata": {
            "tags": []
          },
          "execution_count": 217
        }
      ]
    },
    {
      "cell_type": "markdown",
      "metadata": {
        "id": "iJ8ZGnMWaF_t"
      },
      "source": [
        "### Universal 함수\n",
        "- sin(), cos() 다양한 수학함수를 제공\n",
        "- 스칼라값을 입력으로 하는 math 패키지와 달리 배열에 대해 요소별로 적용"
      ]
    },
    {
      "cell_type": "code",
      "metadata": {
        "id": "UbAo9wHL-qOO",
        "colab": {
          "base_uri": "https://localhost:8080/"
        },
        "outputId": "ce663d47-f97d-438b-bae1-88ddf0d159b5"
      },
      "source": [
        "# 합계 구하기 / sum()\n",
        "\n",
        "array = np.arange(1, 11)\n",
        "array.sum()"
      ],
      "execution_count": null,
      "outputs": [
        {
          "output_type": "execute_result",
          "data": {
            "text/plain": [
              "55"
            ]
          },
          "metadata": {
            "tags": []
          },
          "execution_count": 219
        }
      ]
    },
    {
      "cell_type": "code",
      "metadata": {
        "colab": {
          "base_uri": "https://localhost:8080/"
        },
        "id": "RaneLlUMz5S0",
        "outputId": "8b95419c-dd29-4612-a868-cd7e27ff96dc"
      },
      "source": [
        "# 평균값 구하기\n",
        "\n",
        "array.mean()"
      ],
      "execution_count": null,
      "outputs": [
        {
          "output_type": "execute_result",
          "data": {
            "text/plain": [
              "5.5"
            ]
          },
          "metadata": {
            "tags": []
          },
          "execution_count": 220
        }
      ]
    },
    {
      "cell_type": "code",
      "metadata": {
        "colab": {
          "base_uri": "https://localhost:8080/"
        },
        "id": "wZKoUIiE0FR-",
        "outputId": "7fcd9875-a8c0-4940-b072-e6895e1d0177"
      },
      "source": [
        "array = np.array( [-1, -2, 3, 4, -5] )\n",
        "np.abs(array)"
      ],
      "execution_count": null,
      "outputs": [
        {
          "output_type": "execute_result",
          "data": {
            "text/plain": [
              "array([1, 2, 3, 4, 5])"
            ]
          },
          "metadata": {
            "tags": []
          },
          "execution_count": 222
        }
      ]
    },
    {
      "cell_type": "markdown",
      "metadata": {
        "id": "KvMs00LYdYeH"
      },
      "source": [
        "#### Numpy 예제 04\n",
        "\n",
        "영화평점 데이터 분석"
      ]
    },
    {
      "cell_type": "code",
      "metadata": {
        "id": "vIYsPAMb-raO",
        "colab": {
          "base_uri": "https://localhost:8080/"
        },
        "outputId": "47859c2c-2ac1-4baf-9f23-d399e9783e82"
      },
      "source": [
        "data = np.loadtxt(drive_path + \"ratings_small.txt\", \n",
        "                  delimiter = \"::\", dtype = np.int64)\n",
        "data"
      ],
      "execution_count": null,
      "outputs": [
        {
          "output_type": "execute_result",
          "data": {
            "text/plain": [
              "array([[        1,      1193,         5, 978300760],\n",
              "       [        1,       661,         3, 978302109],\n",
              "       [        1,       914,         3, 978301968],\n",
              "       ...,\n",
              "       [     1779,      2502,         4, 998699749],\n",
              "       [     1779,      3160,         5, 977032398],\n",
              "       [     1779,      3168,         4, 977033232]])"
            ]
          },
          "metadata": {
            "tags": []
          },
          "execution_count": 226
        }
      ]
    },
    {
      "cell_type": "markdown",
      "metadata": {
        "id": "0u4drffYV294"
      },
      "source": [
        "##### 데이터 분석하기\n",
        "```\n",
        "print(data.ndim)\n",
        "print(data.shape)\n",
        "print(data.size)\n",
        "```"
      ]
    },
    {
      "cell_type": "code",
      "metadata": {
        "colab": {
          "base_uri": "https://localhost:8080/"
        },
        "id": "ye3eI4gh2qr8",
        "outputId": "9ae16258-8a4f-46e7-ed88-081f1e1f7d34"
      },
      "source": [
        "print(data.ndim)\n",
        "print(data.shape)\n",
        "print(data.size)"
      ],
      "execution_count": null,
      "outputs": [
        {
          "output_type": "stream",
          "text": [
            "2\n",
            "(300001, 4)\n",
            "1200004\n"
          ],
          "name": "stdout"
        }
      ]
    },
    {
      "cell_type": "markdown",
      "metadata": {
        "id": "4555yr6wV-qB"
      },
      "source": [
        "##### 전체 평점 평균 구하기\n",
        "1. 평점 데이터만 추출 (인덱싱, 슬라이싱)\n",
        "2. 평균 구하기 (mean)"
      ]
    },
    {
      "cell_type": "code",
      "metadata": {
        "id": "bsI6QnTw-w2N",
        "colab": {
          "base_uri": "https://localhost:8080/"
        },
        "outputId": "4862c3e0-39ae-4cd8-dd62-c6b5bc75bb74"
      },
      "source": [
        "rating_all = data[:, 2]\n",
        "rating_all.mean()"
      ],
      "execution_count": null,
      "outputs": [
        {
          "output_type": "execute_result",
          "data": {
            "text/plain": [
              "3.5613081289729034"
            ]
          },
          "metadata": {
            "tags": []
          },
          "execution_count": 236
        }
      ]
    },
    {
      "cell_type": "code",
      "metadata": {
        "colab": {
          "base_uri": "https://localhost:8080/"
        },
        "id": "uMrN7MZV3hyL",
        "outputId": "66cb534f-5f30-464c-a001-30f8f5a41528"
      },
      "source": [
        "np.mean( data[:, 2] )"
      ],
      "execution_count": null,
      "outputs": [
        {
          "output_type": "execute_result",
          "data": {
            "text/plain": [
              "3.5613081289729034"
            ]
          },
          "metadata": {
            "tags": []
          },
          "execution_count": 238
        }
      ]
    },
    {
      "cell_type": "markdown",
      "metadata": {
        "id": "NyWvFfFpWhXF"
      },
      "source": [
        "##### 각 사용자별 평점 평균 구하기\n",
        "1번 사용자의 평균 평점 구하기\n",
        "1. 1번 사용자의 데이터만 Boolean Indexing 추출\n",
        "2. 1번 사용자의 데이터에서 평점만 추출 (인덱싱, 슬라이싱)\n",
        "3. 평균 구하기\n",
        "\n",
        "참고\n",
        "```\n",
        "# 중복된 성분을 제외한 array를 반환\n",
        "np.unique( ndarray )\n",
        "```"
      ]
    },
    {
      "cell_type": "code",
      "metadata": {
        "id": "CFGxQIME-z_s",
        "colab": {
          "base_uri": "https://localhost:8080/"
        },
        "outputId": "3e7a2b1e-4323-4dd7-9fde-876a2b3da668"
      },
      "source": [
        "user1 = data[ data[:, 0] == 1 ]\n",
        "user1"
      ],
      "execution_count": null,
      "outputs": [
        {
          "output_type": "execute_result",
          "data": {
            "text/plain": [
              "array([[        1,      1193,         5, 978300760],\n",
              "       [        1,       661,         3, 978302109],\n",
              "       [        1,       914,         3, 978301968],\n",
              "       [        1,      3408,         4, 978300275],\n",
              "       [        1,      2355,         5, 978824291],\n",
              "       [        1,      1197,         3, 978302268],\n",
              "       [        1,      1287,         5, 978302039],\n",
              "       [        1,      2804,         5, 978300719],\n",
              "       [        1,       594,         4, 978302268],\n",
              "       [        1,       919,         4, 978301368],\n",
              "       [        1,       595,         5, 978824268],\n",
              "       [        1,       938,         4, 978301752],\n",
              "       [        1,      2398,         4, 978302281],\n",
              "       [        1,      2918,         4, 978302124],\n",
              "       [        1,      1035,         5, 978301753],\n",
              "       [        1,      2791,         4, 978302188],\n",
              "       [        1,      2687,         3, 978824268],\n",
              "       [        1,      2018,         4, 978301777],\n",
              "       [        1,      3105,         5, 978301713],\n",
              "       [        1,      2797,         4, 978302039],\n",
              "       [        1,      2321,         3, 978302205],\n",
              "       [        1,       720,         3, 978300760],\n",
              "       [        1,      1270,         5, 978300055],\n",
              "       [        1,       527,         5, 978824195],\n",
              "       [        1,      2340,         3, 978300103],\n",
              "       [        1,        48,         5, 978824351],\n",
              "       [        1,      1097,         4, 978301953],\n",
              "       [        1,      1721,         4, 978300055],\n",
              "       [        1,      1545,         4, 978824139],\n",
              "       [        1,       745,         3, 978824268],\n",
              "       [        1,      2294,         4, 978824291],\n",
              "       [        1,      3186,         4, 978300019],\n",
              "       [        1,      1566,         4, 978824330],\n",
              "       [        1,       588,         4, 978824268],\n",
              "       [        1,      1907,         4, 978824330],\n",
              "       [        1,       783,         4, 978824291],\n",
              "       [        1,      1836,         5, 978300172],\n",
              "       [        1,      1022,         5, 978300055],\n",
              "       [        1,      2762,         4, 978302091],\n",
              "       [        1,       150,         5, 978301777],\n",
              "       [        1,         1,         5, 978824268],\n",
              "       [        1,      1961,         5, 978301590],\n",
              "       [        1,      1962,         4, 978301753],\n",
              "       [        1,      2692,         4, 978301570],\n",
              "       [        1,       260,         4, 978300760],\n",
              "       [        1,      1028,         5, 978301777],\n",
              "       [        1,      1029,         5, 978302205],\n",
              "       [        1,      1207,         4, 978300719],\n",
              "       [        1,      2028,         5, 978301619],\n",
              "       [        1,       531,         4, 978302149],\n",
              "       [        1,      3114,         4, 978302174],\n",
              "       [        1,       608,         4, 978301398],\n",
              "       [        1,      1246,         4, 978302091]])"
            ]
          },
          "metadata": {
            "tags": []
          },
          "execution_count": 248
        }
      ]
    },
    {
      "cell_type": "code",
      "metadata": {
        "colab": {
          "base_uri": "https://localhost:8080/"
        },
        "id": "50_3on7X9Alb",
        "outputId": "9c77a612-d351-4b08-b5b2-886e411f5dfd"
      },
      "source": [
        "user_id_all = np.unique( data[:, 0] )\n",
        "user_id_all.shape"
      ],
      "execution_count": null,
      "outputs": [
        {
          "output_type": "execute_result",
          "data": {
            "text/plain": [
              "(1779,)"
            ]
          },
          "metadata": {
            "tags": []
          },
          "execution_count": 259
        }
      ]
    },
    {
      "cell_type": "code",
      "metadata": {
        "colab": {
          "base_uri": "https://localhost:8080/"
        },
        "id": "a_mEPkxM4SXK",
        "outputId": "93883b54-f322-4d3d-e855-22012103aa1f"
      },
      "source": [
        "user1_rating = r1[:, 2]\n",
        "user1_rating.mean()"
      ],
      "execution_count": null,
      "outputs": [
        {
          "output_type": "execute_result",
          "data": {
            "text/plain": [
              "4.188679245283019"
            ]
          },
          "metadata": {
            "tags": []
          },
          "execution_count": 249
        }
      ]
    },
    {
      "cell_type": "code",
      "metadata": {
        "colab": {
          "base_uri": "https://localhost:8080/"
        },
        "id": "_pibnzVS5XGS",
        "outputId": "8216b5a6-dbf4-431b-fe57-b8f5cbdfc3f6"
      },
      "source": [
        "np.mean( user1[:, 2])"
      ],
      "execution_count": null,
      "outputs": [
        {
          "output_type": "execute_result",
          "data": {
            "text/plain": [
              "4.188679245283019"
            ]
          },
          "metadata": {
            "tags": []
          },
          "execution_count": 250
        }
      ]
    },
    {
      "cell_type": "code",
      "metadata": {
        "colab": {
          "base_uri": "https://localhost:8080/"
        },
        "id": "TbXn0Ys36XOS",
        "outputId": "10ce9e0f-69ba-488f-fa91-241f4642460c"
      },
      "source": [
        "data[ data[:, 0] == 1][:, 2].mean()"
      ],
      "execution_count": null,
      "outputs": [
        {
          "output_type": "execute_result",
          "data": {
            "text/plain": [
              "4.188679245283019"
            ]
          },
          "metadata": {
            "tags": []
          },
          "execution_count": 251
        }
      ]
    },
    {
      "cell_type": "code",
      "metadata": {
        "colab": {
          "base_uri": "https://localhost:8080/"
        },
        "id": "HBywvtDJ6hp8",
        "outputId": "9bd13b09-c571-412c-dbf6-e051bf03f0cd"
      },
      "source": [
        "# 각 사용자별 평점 평균\n",
        "rate = []\n",
        "for i in range (1, 1780) :\n",
        "  rate.append(data[ data[:, 0] == i][:, 2].mean())\n",
        "\n",
        "rate"
      ],
      "execution_count": null,
      "outputs": [
        {
          "output_type": "execute_result",
          "data": {
            "text/plain": [
              "[4.188679245283019,\n",
              " 3.7131782945736433,\n",
              " 3.9019607843137254,\n",
              " 4.190476190476191,\n",
              " 3.1464646464646466,\n",
              " 3.9014084507042255,\n",
              " 4.32258064516129,\n",
              " 3.884892086330935,\n",
              " 3.7358490566037736,\n",
              " 4.114713216957606,\n",
              " 3.2773722627737225,\n",
              " 3.8260869565217392,\n",
              " 3.388888888888889,\n",
              " 3.32,\n",
              " 3.3233830845771144,\n",
              " 3.0285714285714285,\n",
              " 4.075829383886256,\n",
              " 3.6491803278688524,\n",
              " 3.5725490196078433,\n",
              " 4.083333333333333,\n",
              " 2.909090909090909,\n",
              " 3.0673400673400675,\n",
              " 3.3157894736842106,\n",
              " 3.948529411764706,\n",
              " 3.7411764705882353,\n",
              " 2.96,\n",
              " 4.171428571428572,\n",
              " 3.7570093457943927,\n",
              " 3.5833333333333335,\n",
              " 3.488372093023256,\n",
              " 3.73109243697479,\n",
              " 3.625,\n",
              " 3.498721227621483,\n",
              " 3.8658536585365852,\n",
              " 3.54040404040404,\n",
              " 4.199430199430199,\n",
              " 3.69811320754717,\n",
              " 3.58,\n",
              " 3.564516129032258,\n",
              " 3.4479166666666665,\n",
              " 3.48,\n",
              " 3.74025974025974,\n",
              " 4.125,\n",
              " 3.6321243523316062,\n",
              " 2.946127946127946,\n",
              " 4.219512195121951,\n",
              " 3.909090909090909,\n",
              " 3.068561872909699,\n",
              " 3.712962962962963,\n",
              " 3.0697674418604652,\n",
              " 3.825,\n",
              " 3.5569620253164556,\n",
              " 4.2368421052631575,\n",
              " 4.025,\n",
              " 4.12,\n",
              " 3.970149253731343,\n",
              " 2.90625,\n",
              " 3.9725400457665905,\n",
              " 3.4741784037558685,\n",
              " 3.414285714285714,\n",
              " 2.7777777777777777,\n",
              " 3.566265060240964,\n",
              " 3.4285714285714284,\n",
              " 4.148148148148148,\n",
              " 4.347107438016529,\n",
              " 3.8461538461538463,\n",
              " 4.296875,\n",
              " 3.75,\n",
              " 4.153846153846154,\n",
              " 3.7037037037037037,\n",
              " 3.7586206896551726,\n",
              " 3.697674418604651,\n",
              " 3.364705882352941,\n",
              " 4.046511627906977,\n",
              " 4.005714285714285,\n",
              " 4.172413793103448,\n",
              " 2.948717948717949,\n",
              " 3.657142857142857,\n",
              " 3.6451612903225805,\n",
              " 3.8958333333333335,\n",
              " 4.4186046511627906,\n",
              " 4.016949152542373,\n",
              " 3.5757575757575757,\n",
              " 3.838709677419355,\n",
              " 3.1025641025641026,\n",
              " 4.3125,\n",
              " 2.8135593220338984,\n",
              " 4.147058823529412,\n",
              " 3.238095238095238,\n",
              " 3.511111111111111,\n",
              " 4.704545454545454,\n",
              " 2.7581395348837208,\n",
              " 2.9727272727272727,\n",
              " 3.857142857142857,\n",
              " 3.595959595959596,\n",
              " 3.6049382716049383,\n",
              " 4.474025974025974,\n",
              " 3.8,\n",
              " 3.2149532710280373,\n",
              " 3.026315789473684,\n",
              " 4.679245283018868,\n",
              " 3.128787878787879,\n",
              " 4.052173913043478,\n",
              " 3.347826086956522,\n",
              " 4.295081967213115,\n",
              " 4.0212765957446805,\n",
              " 3.743801652892562,\n",
              " 3.135135135135135,\n",
              " 4.0,\n",
              " 3.25,\n",
              " 3.7282608695652173,\n",
              " 4.183333333333334,\n",
              " 3.5,\n",
              " 3.693877551020408,\n",
              " 3.8421052631578947,\n",
              " 3.802325581395349,\n",
              " 3.299009900990099,\n",
              " 3.767857142857143,\n",
              " 3.5428571428571427,\n",
              " 3.619047619047619,\n",
              " 4.416666666666667,\n",
              " 2.9649122807017543,\n",
              " 3.401315789473684,\n",
              " 4.173913043478261,\n",
              " 4.098591549295775,\n",
              " 4.0,\n",
              " 3.8448275862068964,\n",
              " 4.363636363636363,\n",
              " 4.025316455696203,\n",
              " 4.311111111111111,\n",
              " 3.3966101694915256,\n",
              " 3.966292134831461,\n",
              " 3.7705882352941176,\n",
              " 2.7158469945355193,\n",
              " 3.657142857142857,\n",
              " 3.074074074074074,\n",
              " 3.611940298507463,\n",
              " 4.492307692307692,\n",
              " 3.8816326530612244,\n",
              " 3.8181818181818183,\n",
              " 3.6956521739130435,\n",
              " 3.3404255319148937,\n",
              " 3.5441176470588234,\n",
              " 3.46875,\n",
              " 3.0,\n",
              " 3.7699530516431925,\n",
              " 3.5026737967914436,\n",
              " 3.733974358974359,\n",
              " 3.9408783783783785,\n",
              " 4.021551724137931,\n",
              " 3.653927813163482,\n",
              " 4.125,\n",
              " 4.076923076923077,\n",
              " 3.090909090909091,\n",
              " 2.96875,\n",
              " 4.236486486486487,\n",
              " 3.718969555035129,\n",
              " 4.0,\n",
              " 3.7777777777777777,\n",
              " 3.5,\n",
              " 4.4713804713804715,\n",
              " 4.121495327102804,\n",
              " 2.1828793774319064,\n",
              " 4.384615384615385,\n",
              " 3.981818181818182,\n",
              " 3.6878048780487807,\n",
              " 2.9310344827586206,\n",
              " 3.8461538461538463,\n",
              " 3.5670289855072466,\n",
              " 3.9885057471264367,\n",
              " 4.0,\n",
              " 3.608695652173913,\n",
              " 3.9679144385026737,\n",
              " 3.649484536082474,\n",
              " 3.9810725552050474,\n",
              " 3.6153846153846154,\n",
              " 4.113636363636363,\n",
              " 3.8434782608695652,\n",
              " 2.6545454545454548,\n",
              " 3.694915254237288,\n",
              " 3.604651162790698,\n",
              " 3.8313253012048194,\n",
              " 4.099009900990099,\n",
              " 4.083333333333333,\n",
              " 3.588235294117647,\n",
              " 4.254098360655738,\n",
              " 4.083932853717027,\n",
              " 3.1690140845070425,\n",
              " 4.0,\n",
              " 3.6993464052287583,\n",
              " 3.3333333333333335,\n",
              " 3.0914285714285716,\n",
              " 3.677685950413223,\n",
              " 3.983050847457627,\n",
              " 3.889294403892944,\n",
              " 4.0625,\n",
              " 3.909090909090909,\n",
              " 3.7493403693931397,\n",
              " 3.2761194029850746,\n",
              " 3.423076923076923,\n",
              " 3.954022988505747,\n",
              " 3.2492537313432837,\n",
              " 2.2913385826771653,\n",
              " 3.5560538116591927,\n",
              " 4.0588235294117645,\n",
              " 3.066666666666667,\n",
              " 3.5217391304347827,\n",
              " 3.652173913043478,\n",
              " 3.16,\n",
              " 4.027272727272727,\n",
              " 3.857142857142857,\n",
              " 3.8545454545454545,\n",
              " 4.2272727272727275,\n",
              " 3.1626506024096384,\n",
              " 4.5588235294117645,\n",
              " 3.2317380352644838,\n",
              " 3.7,\n",
              " 3.0930232558139537,\n",
              " 3.3333333333333335,\n",
              " 4.215686274509804,\n",
              " 3.2413793103448274,\n",
              " 4.0875,\n",
              " 3.44140625,\n",
              " 3.4019607843137254,\n",
              " 3.4330708661417324,\n",
              " 3.5714285714285716,\n",
              " 3.2857142857142856,\n",
              " 4.0,\n",
              " 3.4292452830188678,\n",
              " 4.094972067039106,\n",
              " 4.22680412371134,\n",
              " 3.566666666666667,\n",
              " 4.584905660377358,\n",
              " 4.310344827586207,\n",
              " 4.086363636363636,\n",
              " 3.693548387096774,\n",
              " 3.4036144578313254,\n",
              " 3.7868217054263567,\n",
              " 4.140845070422535,\n",
              " 3.300699300699301,\n",
              " 3.9649122807017543,\n",
              " 3.2051282051282053,\n",
              " 3.606060606060606,\n",
              " 4.105882352941176,\n",
              " 2.6714659685863875,\n",
              " 4.0,\n",
              " 3.935483870967742,\n",
              " 4.205882352941177,\n",
              " 3.9454545454545453,\n",
              " 3.75,\n",
              " 3.5753424657534247,\n",
              " 4.016666666666667,\n",
              " 3.9245283018867925,\n",
              " 3.782608695652174,\n",
              " 4.016393442622951,\n",
              " 3.8526315789473684,\n",
              " 4.452830188679245,\n",
              " 3.717241379310345,\n",
              " 4.0359712230215825,\n",
              " 3.311688311688312,\n",
              " 3.5762711864406778,\n",
              " 3.330188679245283,\n",
              " 3.6630434782608696,\n",
              " 2.785416666666667,\n",
              " 4.1938775510204085,\n",
              " 4.52,\n",
              " 3.3893129770992365,\n",
              " 3.3946360153256707,\n",
              " 3.8,\n",
              " 4.198412698412699,\n",
              " 3.9583333333333335,\n",
              " 3.6535269709543567,\n",
              " 3.727272727272727,\n",
              " 4.243243243243243,\n",
              " 4.247191011235955,\n",
              " 3.5217391304347827,\n",
              " 3.727272727272727,\n",
              " 3.9646464646464645,\n",
              " 2.872340425531915,\n",
              " 3.94,\n",
              " 3.891891891891892,\n",
              " 3.5172413793103448,\n",
              " 4.962962962962963,\n",
              " 3.021231422505308,\n",
              " 4.16546762589928,\n",
              " 3.883720930232558,\n",
              " 3.70873786407767,\n",
              " 4.589285714285714,\n",
              " 3.9054054054054053,\n",
              " 3.303030303030303,\n",
              " 4.137254901960785,\n",
              " 3.7560975609756095,\n",
              " 3.2460567823343847,\n",
              " 3.489795918367347,\n",
              " 3.764397905759162,\n",
              " 3.597938144329897,\n",
              " 4.0,\n",
              " 3.925925925925926,\n",
              " 4.163461538461538,\n",
              " 4.180722891566265,\n",
              " 3.8011204481792715,\n",
              " 2.8692893401015227,\n",
              " 3.861244019138756,\n",
              " 3.5555555555555554,\n",
              " 2.5605095541401273,\n",
              " 3.937823834196891,\n",
              " 4.593406593406593,\n",
              " 3.385996409335727,\n",
              " 4.040650406504065,\n",
              " 3.4260089686098656,\n",
              " 4.15,\n",
              " 3.736842105263158,\n",
              " 4.038461538461538,\n",
              " 3.696245733788396,\n",
              " 3.8636363636363638,\n",
              " 4.116883116883117,\n",
              " 3.8095238095238093,\n",
              " 3.9523809523809526,\n",
              " 3.263522884882108,\n",
              " 4.238095238095238,\n",
              " 3.2612612612612613,\n",
              " 4.45,\n",
              " 3.788135593220339,\n",
              " 3.3289473684210527,\n",
              " 4.046511627906977,\n",
              " 3.3350923482849604,\n",
              " 3.669491525423729,\n",
              " 3.032258064516129,\n",
              " 2.7264397905759163,\n",
              " 4.0131578947368425,\n",
              " 3.7654109589041096,\n",
              " 4.2835820895522385,\n",
              " 3.352422907488987,\n",
              " 3.9508196721311477,\n",
              " 2.5,\n",
              " 4.308411214953271,\n",
              " 3.525252525252525,\n",
              " 3.665745856353591,\n",
              " 4.024193548387097,\n",
              " 3.5277777777777777,\n",
              " 4.2,\n",
              " 3.6910569105691056,\n",
              " 4.047138047138047,\n",
              " 2.9555555555555557,\n",
              " 4.4,\n",
              " 4.307420494699647,\n",
              " 3.878787878787879,\n",
              " 3.78,\n",
              " 3.25,\n",
              " 3.9375,\n",
              " 3.7572815533980584,\n",
              " 3.4793103448275864,\n",
              " 3.9166666666666665,\n",
              " 3.586206896551724,\n",
              " 3.4463007159904535,\n",
              " 4.380952380952381,\n",
              " 3.293103448275862,\n",
              " 3.8472222222222223,\n",
              " 3.857142857142857,\n",
              " 3.6417910447761193,\n",
              " 3.5384615384615383,\n",
              " 3.290909090909091,\n",
              " 3.744186046511628,\n",
              " 3.142857142857143,\n",
              " 3.3404255319148937,\n",
              " 4.06949806949807,\n",
              " 4.25,\n",
              " 3.78125,\n",
              " 3.1954022988505746,\n",
              " 3.75,\n",
              " 3.5,\n",
              " 4.553571428571429,\n",
              " 3.5555555555555554,\n",
              " 4.403846153846154,\n",
              " 4.078431372549019,\n",
              " 4.111111111111111,\n",
              " 3.9044117647058822,\n",
              " 3.5128205128205128,\n",
              " 4.234375,\n",
              " 3.7246376811594204,\n",
              " 4.114285714285714,\n",
              " 4.017857142857143,\n",
              " 3.5714285714285716,\n",
              " 3.590909090909091,\n",
              " 3.9562043795620436,\n",
              " 3.3230769230769233,\n",
              " 3.676470588235294,\n",
              " 3.8813559322033897,\n",
              " 3.5616438356164384,\n",
              " 3.6728971962616823,\n",
              " 3.728395061728395,\n",
              " 3.4743326488706368,\n",
              " 3.581081081081081,\n",
              " 3.3421052631578947,\n",
              " 3.608695652173913,\n",
              " 3.560693641618497,\n",
              " 3.8823529411764706,\n",
              " 3.8133333333333335,\n",
              " 4.15625,\n",
              " 3.875,\n",
              " 3.871794871794872,\n",
              " 3.591549295774648,\n",
              " 3.8035714285714284,\n",
              " 4.14,\n",
              " 3.795918367346939,\n",
              " 3.306122448979592,\n",
              " 3.4375,\n",
              " 4.352564102564102,\n",
              " 3.9158249158249157,\n",
              " 3.96875,\n",
              " 3.280314960629921,\n",
              " 4.401260504201681,\n",
              " 4.404040404040404,\n",
              " 3.0701754385964914,\n",
              " 3.874538745387454,\n",
              " 3.7580645161290325,\n",
              " 4.045454545454546,\n",
              " 3.549019607843137,\n",
              " 3.962962962962963,\n",
              " 4.359375,\n",
              " 4.25,\n",
              " 3.297872340425532,\n",
              " 2.5,\n",
              " 3.735725938009788,\n",
              " 3.6613756613756614,\n",
              " 3.7573221757322175,\n",
              " 4.111111111111111,\n",
              " 3.9,\n",
              " 3.346820809248555,\n",
              " 3.9682539682539684,\n",
              " 3.630952380952381,\n",
              " 2.9863013698630136,\n",
              " 3.391304347826087,\n",
              " 4.023255813953488,\n",
              " 3.8333333333333335,\n",
              " 3.8345864661654137,\n",
              " 4.3076923076923075,\n",
              " 3.528239202657807,\n",
              " 3.902173913043478,\n",
              " 3.586206896551724,\n",
              " 3.9574468085106385,\n",
              " 3.8486997635933804,\n",
              " 3.823529411764706,\n",
              " 4.0,\n",
              " 3.3181818181818183,\n",
              " 4.8431372549019605,\n",
              " 4.837837837837838,\n",
              " 3.4347826086956523,\n",
              " 3.7222222222222223,\n",
              " 4.196078431372549,\n",
              " 4.511961722488039,\n",
              " 4.431818181818182,\n",
              " 3.66497461928934,\n",
              " 3.218045112781955,\n",
              " 4.2,\n",
              " 3.394904458598726,\n",
              " 3.7130801687763713,\n",
              " 3.5348837209302326,\n",
              " 3.6875,\n",
              " 3.3617021276595747,\n",
              " 3.224609375,\n",
              " 3.536723163841808,\n",
              " 3.0,\n",
              " 3.6097560975609757,\n",
              " 3.5405405405405403,\n",
              " 4.14070351758794,\n",
              " 3.2028985507246377,\n",
              " 3.730769230769231,\n",
              " 4.326530612244898,\n",
              " 3.8088235294117645,\n",
              " 3.6285714285714286,\n",
              " 4.022222222222222,\n",
              " 4.163265306122449,\n",
              " 3.380503144654088,\n",
              " 3.8299595141700404,\n",
              " 3.8375870069605567,\n",
              " 3.5829383886255926,\n",
              " 3.869565217391304,\n",
              " 3.827956989247312,\n",
              " 3.411214953271028,\n",
              " 3.696969696969697,\n",
              " 3.2606060606060607,\n",
              " 2.9310344827586206,\n",
              " 3.735294117647059,\n",
              " 4.044444444444444,\n",
              " 4.051282051282051,\n",
              " 3.34,\n",
              " 3.56,\n",
              " 3.3333333333333335,\n",
              " 3.7662337662337664,\n",
              " 3.68,\n",
              " 3.9375,\n",
              " 3.848101265822785,\n",
              " 4.157068062827225,\n",
              " 3.7954545454545454,\n",
              " 4.294117647058823,\n",
              " 3.5833333333333335,\n",
              " 3.6511627906976742,\n",
              " 3.9748743718592965,\n",
              " 3.633663366336634,\n",
              " 3.417910447761194,\n",
              " 4.083333333333333,\n",
              " 4.448275862068965,\n",
              " 3.8055555555555554,\n",
              " 4.217391304347826,\n",
              " 3.422222222222222,\n",
              " 3.9523809523809526,\n",
              " 3.3221476510067114,\n",
              " 3.3139695712309822,\n",
              " 3.8282828282828283,\n",
              " 3.740740740740741,\n",
              " 3.8378378378378377,\n",
              " 3.1474358974358974,\n",
              " 4.2025316455696204,\n",
              " 3.728395061728395,\n",
              " 2.931972789115646,\n",
              " 3.963855421686747,\n",
              " 4.3478260869565215,\n",
              " 3.3777777777777778,\n",
              " 3.9363057324840764,\n",
              " 4.2926829268292686,\n",
              " 3.8448275862068964,\n",
              " 4.06,\n",
              " 3.608267716535433,\n",
              " 4.025,\n",
              " 3.896551724137931,\n",
              " 4.08,\n",
              " 3.3551724137931034,\n",
              " 4.19672131147541,\n",
              " 4.0,\n",
              " 3.1591695501730106,\n",
              " 3.86046511627907,\n",
              " 3.3401015228426396,\n",
              " 3.7475728155339807,\n",
              " 3.5714285714285716,\n",
              " 3.942857142857143,\n",
              " 4.3061224489795915,\n",
              " 4.458333333333333,\n",
              " 3.9242424242424243,\n",
              " 3.230769230769231,\n",
              " 3.1894736842105265,\n",
              " 3.764705882352941,\n",
              " 4.078986587183309,\n",
              " 3.7777777777777777,\n",
              " 3.4827586206896552,\n",
              " 3.231818181818182,\n",
              " 3.858974358974359,\n",
              " 3.093220338983051,\n",
              " 3.7569444444444446,\n",
              " 3.578076525336091,\n",
              " 3.8201754385964914,\n",
              " 3.7628865979381443,\n",
              " 4.15625,\n",
              " 3.511627906976744,\n",
              " 3.8157894736842106,\n",
              " 3.5,\n",
              " 3.8793103448275863,\n",
              " 3.6804123711340204,\n",
              " 3.0,\n",
              " 3.897810218978102,\n",
              " 3.7222222222222223,\n",
              " 3.7027027027027026,\n",
              " 2.7023121387283235,\n",
              " 4.0,\n",
              " 3.44,\n",
              " 2.6273408239700373,\n",
              " 4.583333333333333,\n",
              " 4.44,\n",
              " 3.52,\n",
              " 3.329113924050633,\n",
              " 3.7054794520547945,\n",
              " 3.05,\n",
              " 3.9722222222222223,\n",
              " 4.095238095238095,\n",
              " 3.6564417177914113,\n",
              " 3.6666666666666665,\n",
              " 4.487341772151899,\n",
              " 3.9642857142857144,\n",
              " 3.8550724637681157,\n",
              " 3.347826086956522,\n",
              " 3.6666666666666665,\n",
              " 4.282051282051282,\n",
              " 4.040229885057471,\n",
              " 4.2894736842105265,\n",
              " 3.4662162162162162,\n",
              " 4.485714285714286,\n",
              " 3.0077922077922077,\n",
              " 4.057395143487859,\n",
              " 4.0,\n",
              " 4.13855421686747,\n",
              " 3.231404958677686,\n",
              " 4.391304347826087,\n",
              " 3.641509433962264,\n",
              " 4.29559748427673,\n",
              " 3.95,\n",
              " 2.9523809523809526,\n",
              " 4.473684210526316,\n",
              " 3.3157894736842106,\n",
              " 3.8518518518518516,\n",
              " 3.652173913043478,\n",
              " 3.1501340482573728,\n",
              " 3.396103896103896,\n",
              " 3.5238095238095237,\n",
              " 3.0940766550522647,\n",
              " 4.049180327868853,\n",
              " 4.03030303030303,\n",
              " 4.16,\n",
              " 3.1882352941176473,\n",
              " 4.346153846153846,\n",
              " 3.484126984126984,\n",
              " 3.9393939393939394,\n",
              " 3.5,\n",
              " 3.5849056603773586,\n",
              " 3.8333333333333335,\n",
              " 4.127659574468085,\n",
              " 3.9545454545454546,\n",
              " 4.086956521739131,\n",
              " 3.0,\n",
              " 3.909090909090909,\n",
              " 3.3240223463687153,\n",
              " 3.0416666666666665,\n",
              " 3.912280701754386,\n",
              " 4.226744186046512,\n",
              " 3.6801075268817205,\n",
              " 4.0,\n",
              " 4.055555555555555,\n",
              " 3.5625,\n",
              " 3.9038461538461537,\n",
              " 3.371308016877637,\n",
              " 4.254237288135593,\n",
              " 3.7948717948717947,\n",
              " 3.7941176470588234,\n",
              " 3.5813953488372094,\n",
              " 4.014925373134329,\n",
              " 4.3107344632768365,\n",
              " 4.058139534883721,\n",
              " 3.7559681697612732,\n",
              " 4.175438596491228,\n",
              " 3.705,\n",
              " 4.333333333333333,\n",
              " 4.008264462809917,\n",
              " 4.111111111111111,\n",
              " 2.7142857142857144,\n",
              " 3.1203703703703702,\n",
              " 4.4772727272727275,\n",
              " 3.8031496062992125,\n",
              " 3.103896103896104,\n",
              " 3.7231638418079096,\n",
              " 3.6619718309859155,\n",
              " 3.8947368421052633,\n",
              " 3.6129707112970713,\n",
              " 2.8863636363636362,\n",
              " 4.142857142857143,\n",
              " 3.4324324324324325,\n",
              " 2.733009708737864,\n",
              " 3.8700564971751414,\n",
              " 4.016949152542373,\n",
              " 3.096774193548387,\n",
              " 3.7,\n",
              " 3.0170697012802274,\n",
              " 4.647887323943662,\n",
              " 3.141732283464567,\n",
              " 3.580357142857143,\n",
              " 4.025316455696203,\n",
              " 3.5,\n",
              " 3.8932038834951457,\n",
              " 3.0935672514619883,\n",
              " 3.5833333333333335,\n",
              " 3.847255369928401,\n",
              " 3.2444444444444445,\n",
              " 4.2592592592592595,\n",
              " 3.872340425531915,\n",
              " 3.13151364764268,\n",
              " 4.2784810126582276,\n",
              " 3.3095238095238093,\n",
              " 3.128205128205128,\n",
              " 3.892682926829268,\n",
              " 3.6776776776776776,\n",
              " 3.926829268292683,\n",
              " 3.5714285714285716,\n",
              " 4.2368421052631575,\n",
              " 4.733333333333333,\n",
              " 3.586206896551724,\n",
              " 3.8947368421052633,\n",
              " 3.2357142857142858,\n",
              " 3.7777777777777777,\n",
              " 3.4873417721518987,\n",
              " 3.75,\n",
              " 3.3925925925925924,\n",
              " 4.311111111111111,\n",
              " 4.174757281553398,\n",
              " 3.8240887480190175,\n",
              " 3.8857142857142857,\n",
              " 3.625,\n",
              " 3.513089005235602,\n",
              " 3.802992518703242,\n",
              " 3.8,\n",
              " 3.551851851851852,\n",
              " 3.0534124629080117,\n",
              " 3.875,\n",
              " 3.5,\n",
              " 3.3027139874739038,\n",
              " 4.1,\n",
              " 3.081081081081081,\n",
              " 3.371212121212121,\n",
              " 3.556291390728477,\n",
              " 3.6153846153846154,\n",
              " 3.85,\n",
              " 2.8292682926829267,\n",
              " 3.4271186440677965,\n",
              " 4.0,\n",
              " 3.475177304964539,\n",
              " 3.446280991735537,\n",
              " 4.1635071090047395,\n",
              " 3.8877551020408165,\n",
              " 4.198979591836735,\n",
              " 3.1538461538461537,\n",
              " 3.775147928994083,\n",
              " 3.5,\n",
              " 2.9098712446351933,\n",
              " 3.551051051051051,\n",
              " 3.909090909090909,\n",
              " 3.8333333333333335,\n",
              " 3.643312101910828,\n",
              " 4.197530864197531,\n",
              " 3.9315068493150687,\n",
              " 3.6987951807228914,\n",
              " 3.311377245508982,\n",
              " 3.5273972602739727,\n",
              " 3.7735849056603774,\n",
              " 3.778816199376947,\n",
              " 3.4285714285714284,\n",
              " 4.05982905982906,\n",
              " 3.727272727272727,\n",
              " 3.590330788804071,\n",
              " 3.9298245614035086,\n",
              " 3.5668202764976957,\n",
              " 3.303030303030303,\n",
              " 4.354330708661418,\n",
              " 4.243243243243243,\n",
              " 3.324675324675325,\n",
              " 3.9523809523809526,\n",
              " 3.38255033557047,\n",
              " 3.3703703703703702,\n",
              " 2.64,\n",
              " 2.634433962264151,\n",
              " 3.59375,\n",
              " 3.9753086419753085,\n",
              " 3.3246187363834423,\n",
              " 4.321428571428571,\n",
              " 3.88,\n",
              " 2.8291015625,\n",
              " 3.7752293577981653,\n",
              " 3.7770700636942673,\n",
              " 4.111111111111111,\n",
              " 3.9714285714285715,\n",
              " 3.225806451612903,\n",
              " 4.0,\n",
              " 3.5876288659793816,\n",
              " 4.265625,\n",
              " 4.55,\n",
              " 3.717391304347826,\n",
              " 3.730769230769231,\n",
              " 4.525179856115108,\n",
              " 3.574626865671642,\n",
              " 3.9361702127659575,\n",
              " 4.023529411764706,\n",
              " 4.4375,\n",
              " 3.8208955223880596,\n",
              " 2.935441370223979,\n",
              " 3.769230769230769,\n",
              " 3.479591836734694,\n",
              " 3.5918367346938775,\n",
              " 3.2142857142857144,\n",
              " 4.0,\n",
              " 3.766990291262136,\n",
              " 2.5796812749003983,\n",
              " 3.785276073619632,\n",
              " 3.3333333333333335,\n",
              " 3.45703125,\n",
              " 3.1709401709401708,\n",
              " 3.4347826086956523,\n",
              " 3.5210084033613445,\n",
              " 4.066666666666666,\n",
              " 3.2358490566037736,\n",
              " 4.063492063492063,\n",
              " 3.58974358974359,\n",
              " 3.5255102040816326,\n",
              " 2.9043478260869566,\n",
              " 4.3478260869565215,\n",
              " 3.966463414634146,\n",
              " 3.4597701149425286,\n",
              " 3.486666666666667,\n",
              " 3.953488372093023,\n",
              " 3.442953020134228,\n",
              " 2.9717391304347824,\n",
              " 4.036144578313253,\n",
              " 3.149847094801223,\n",
              " 3.6,\n",
              " 3.4849624060150375,\n",
              " 3.6596491228070174,\n",
              " 3.938735177865613,\n",
              " 3.7115384615384617,\n",
              " 3.272727272727273,\n",
              " 3.835616438356164,\n",
              " 4.166666666666667,\n",
              " 3.9696969696969697,\n",
              " 3.1236363636363635,\n",
              " 4.031914893617022,\n",
              " 3.8174603174603177,\n",
              " 4.184615384615385,\n",
              " 3.739130434782609,\n",
              " 3.343283582089552,\n",
              " 4.055555555555555,\n",
              " 4.068965517241379,\n",
              " 3.6974358974358976,\n",
              " 4.010050251256281,\n",
              " 3.7251461988304095,\n",
              " 3.3225806451612905,\n",
              " 3.4134615384615383,\n",
              " 2.9523809523809526,\n",
              " 3.7226027397260273,\n",
              " 3.8677685950413223,\n",
              " 3.646103896103896,\n",
              " 3.619047619047619,\n",
              " 3.2857142857142856,\n",
              " 3.9545454545454546,\n",
              " 3.4434782608695653,\n",
              " 4.231884057971015,\n",
              " 3.6149425287356323,\n",
              " 4.105263157894737,\n",
              " 3.558139534883721,\n",
              " 4.0476190476190474,\n",
              " 4.16,\n",
              " 2.75,\n",
              " 2.4,\n",
              " 3.260869565217391,\n",
              " 4.090909090909091,\n",
              " 3.988372093023256,\n",
              " 4.219123505976095,\n",
              " 3.576923076923077,\n",
              " 3.8378378378378377,\n",
              " 3.9444444444444446,\n",
              " 3.4523809523809526,\n",
              " 3.980769230769231,\n",
              " 3.91699604743083,\n",
              " 3.6129032258064515,\n",
              " 4.178571428571429,\n",
              " 3.264957264957265,\n",
              " 3.5613718411552346,\n",
              " 3.5921052631578947,\n",
              " 4.117647058823529,\n",
              " 3.890909090909091,\n",
              " 3.027667984189723,\n",
              " 3.4126984126984126,\n",
              " 3.490566037735849,\n",
              " 4.171428571428572,\n",
              " 4.189473684210526,\n",
              " 3.450980392156863,\n",
              " 3.1666666666666665,\n",
              " 3.9375,\n",
              " 3.6724137931034484,\n",
              " 4.225806451612903,\n",
              " 4.050724637681159,\n",
              " 3.8095238095238093,\n",
              " 3.3333333333333335,\n",
              " 3.659090909090909,\n",
              " 3.6,\n",
              " 3.5154394299287413,\n",
              " 3.611111111111111,\n",
              " 3.9069767441860463,\n",
              " 3.635514018691589,\n",
              " 3.8430232558139537,\n",
              " 3.7857142857142856,\n",
              " 4.083333333333333,\n",
              " 3.828828828828829,\n",
              " 3.308056872037915,\n",
              " 4.142857142857143,\n",
              " 4.025,\n",
              " 3.4956521739130433,\n",
              " 2.9354485776805253,\n",
              " 4.0886075949367084,\n",
              " 3.4166666666666665,\n",
              " 4.01010101010101,\n",
              " 4.140625,\n",
              " 3.6285714285714286,\n",
              " 3.5104166666666665,\n",
              " 3.7777777777777777,\n",
              " 2.8405797101449277,\n",
              " 3.969298245614035,\n",
              " 3.7443946188340806,\n",
              " 3.911764705882353,\n",
              " 3.2,\n",
              " 4.442857142857143,\n",
              " 3.953125,\n",
              " 3.984375,\n",
              " 3.5566502463054186,\n",
              " 4.083333333333333,\n",
              " 3.523219814241486,\n",
              " 3.576923076923077,\n",
              " 3.606060606060606,\n",
              " 4.28,\n",
              " 3.4594594594594597,\n",
              " 3.3008130081300813,\n",
              " 3.7886178861788617,\n",
              " 3.5238095238095237,\n",
              " 3.9523809523809526,\n",
              " 3.3076923076923075,\n",
              " 3.9014084507042255,\n",
              " 3.6012269938650308,\n",
              " 3.8685714285714288,\n",
              " 3.7209302325581395,\n",
              " 3.2888888888888888,\n",
              " 4.278688524590164,\n",
              " 2.831578947368421,\n",
              " 3.9454545454545453,\n",
              " 4.068965517241379,\n",
              " 2.9583333333333335,\n",
              " 3.9355828220858897,\n",
              " 3.4615384615384617,\n",
              " 3.6962025316455698,\n",
              " 3.5830903790087465,\n",
              " 3.608695652173913,\n",
              " 3.9899497487437188,\n",
              " 3.1323529411764706,\n",
              " 4.247619047619048,\n",
              " 3.230366492146597,\n",
              " 4.3254716981132075,\n",
              " 3.6816901408450704,\n",
              " 3.0510204081632653,\n",
              " 4.031847133757962,\n",
              " 4.45,\n",
              " 3.7096774193548385,\n",
              " 2.9859437751004014,\n",
              " 3.4896907216494846,\n",
              " 3.5113636363636362,\n",
              " 3.7327586206896552,\n",
              " 3.870967741935484,\n",
              " 3.757575757575758,\n",
              " 3.1923076923076925,\n",
              " 2.2857142857142856,\n",
              " 4.04,\n",
              " 4.296296296296297,\n",
              " 3.8444444444444446,\n",
              " 3.6196319018404908,\n",
              " 4.303030303030303,\n",
              " 3.0,\n",
              " 3.7408123791102517,\n",
              " 3.9295392953929538,\n",
              " 2.963636363636364,\n",
              " 4.523809523809524,\n",
              " 3.9936305732484074,\n",
              " 4.6878306878306875,\n",
              " 3.7777777777777777,\n",
              " 3.5798816568047336,\n",
              " 3.990740740740741,\n",
              " 4.271341463414634,\n",
              " 3.9050632911392404,\n",
              " 3.7395833333333335,\n",
              " 3.9375,\n",
              " 3.74,\n",
              " 4.03921568627451,\n",
              " 3.4339622641509435,\n",
              " 3.717948717948718,\n",
              " 4.116883116883117,\n",
              " 3.5636363636363635,\n",
              " 3.5384615384615383,\n",
              " 4.131147540983607,\n",
              " 4.115384615384615,\n",
              " 3.1493624772313296,\n",
              " 3.3318385650224216,\n",
              " 3.3714285714285714,\n",
              " 3.3963133640552994,\n",
              " 3.7333333333333334,\n",
              " 3.25990099009901,\n",
              " 3.3636363636363638,\n",
              " 3.7625,\n",
              " 3.8863636363636362,\n",
              " 4.04054054054054,\n",
              " 3.2222222222222223,\n",
              " 3.3303964757709252,\n",
              " 4.176470588235294,\n",
              " 4.115384615384615,\n",
              " 3.5417867435158503,\n",
              " 4.212328767123288,\n",
              " 3.772727272727273,\n",
              " 4.017045454545454,\n",
              " 3.8493150684931505,\n",
              " 4.681818181818182,\n",
              " 3.549019607843137,\n",
              " 3.75,\n",
              " 3.4193548387096775,\n",
              " 3.3448275862068964,\n",
              " 4.153846153846154,\n",
              " 3.8979591836734695,\n",
              " 3.935810810810811,\n",
              " 3.933333333333333,\n",
              " 4.118518518518519,\n",
              " 3.186893203883495,\n",
              " 4.130952380952381,\n",
              " ...]"
            ]
          },
          "metadata": {
            "tags": []
          },
          "execution_count": 264
        }
      ]
    },
    {
      "cell_type": "code",
      "metadata": {
        "colab": {
          "base_uri": "https://localhost:8080/"
        },
        "id": "-oa-Wgb58g8B",
        "outputId": "83bdead9-49e1-49ff-96e2-0eada1933010"
      },
      "source": [
        "# 각 사용자별 평점 평균\n",
        "score_mean = []\n",
        "for i in user_id_all :\n",
        "  score_mean.append( [i, data[ data[:, 0] == i][:, 2].mean()])\n",
        "\n",
        "score_mean"
      ],
      "execution_count": null,
      "outputs": [
        {
          "output_type": "execute_result",
          "data": {
            "text/plain": [
              "[[1, 4.188679245283019],\n",
              " [2, 3.7131782945736433],\n",
              " [3, 3.9019607843137254],\n",
              " [4, 4.190476190476191],\n",
              " [5, 3.1464646464646466],\n",
              " [6, 3.9014084507042255],\n",
              " [7, 4.32258064516129],\n",
              " [8, 3.884892086330935],\n",
              " [9, 3.7358490566037736],\n",
              " [10, 4.114713216957606],\n",
              " [11, 3.2773722627737225],\n",
              " [12, 3.8260869565217392],\n",
              " [13, 3.388888888888889],\n",
              " [14, 3.32],\n",
              " [15, 3.3233830845771144],\n",
              " [16, 3.0285714285714285],\n",
              " [17, 4.075829383886256],\n",
              " [18, 3.6491803278688524],\n",
              " [19, 3.5725490196078433],\n",
              " [20, 4.083333333333333],\n",
              " [21, 2.909090909090909],\n",
              " [22, 3.0673400673400675],\n",
              " [23, 3.3157894736842106],\n",
              " [24, 3.948529411764706],\n",
              " [25, 3.7411764705882353],\n",
              " [26, 2.96],\n",
              " [27, 4.171428571428572],\n",
              " [28, 3.7570093457943927],\n",
              " [29, 3.5833333333333335],\n",
              " [30, 3.488372093023256],\n",
              " [31, 3.73109243697479],\n",
              " [32, 3.625],\n",
              " [33, 3.498721227621483],\n",
              " [34, 3.8658536585365852],\n",
              " [35, 3.54040404040404],\n",
              " [36, 4.199430199430199],\n",
              " [37, 3.69811320754717],\n",
              " [38, 3.58],\n",
              " [39, 3.564516129032258],\n",
              " [40, 3.4479166666666665],\n",
              " [41, 3.48],\n",
              " [42, 3.74025974025974],\n",
              " [43, 4.125],\n",
              " [44, 3.6321243523316062],\n",
              " [45, 2.946127946127946],\n",
              " [46, 4.219512195121951],\n",
              " [47, 3.909090909090909],\n",
              " [48, 3.068561872909699],\n",
              " [49, 3.712962962962963],\n",
              " [50, 3.0697674418604652],\n",
              " [51, 3.825],\n",
              " [52, 3.5569620253164556],\n",
              " [53, 4.2368421052631575],\n",
              " [54, 4.025],\n",
              " [55, 4.12],\n",
              " [56, 3.970149253731343],\n",
              " [57, 2.90625],\n",
              " [58, 3.9725400457665905],\n",
              " [59, 3.4741784037558685],\n",
              " [60, 3.414285714285714],\n",
              " [61, 2.7777777777777777],\n",
              " [62, 3.566265060240964],\n",
              " [63, 3.4285714285714284],\n",
              " [64, 4.148148148148148],\n",
              " [65, 4.347107438016529],\n",
              " [66, 3.8461538461538463],\n",
              " [67, 4.296875],\n",
              " [68, 3.75],\n",
              " [69, 4.153846153846154],\n",
              " [70, 3.7037037037037037],\n",
              " [71, 3.7586206896551726],\n",
              " [72, 3.697674418604651],\n",
              " [73, 3.364705882352941],\n",
              " [74, 4.046511627906977],\n",
              " [75, 4.005714285714285],\n",
              " [76, 4.172413793103448],\n",
              " [77, 2.948717948717949],\n",
              " [78, 3.657142857142857],\n",
              " [79, 3.6451612903225805],\n",
              " [80, 3.8958333333333335],\n",
              " [81, 4.4186046511627906],\n",
              " [82, 4.016949152542373],\n",
              " [83, 3.5757575757575757],\n",
              " [84, 3.838709677419355],\n",
              " [85, 3.1025641025641026],\n",
              " [86, 4.3125],\n",
              " [87, 2.8135593220338984],\n",
              " [88, 4.147058823529412],\n",
              " [89, 3.238095238095238],\n",
              " [90, 3.511111111111111],\n",
              " [91, 4.704545454545454],\n",
              " [92, 2.7581395348837208],\n",
              " [93, 2.9727272727272727],\n",
              " [94, 3.857142857142857],\n",
              " [95, 3.595959595959596],\n",
              " [96, 3.6049382716049383],\n",
              " [97, 4.474025974025974],\n",
              " [98, 3.8],\n",
              " [99, 3.2149532710280373],\n",
              " [100, 3.026315789473684],\n",
              " [101, 4.679245283018868],\n",
              " [102, 3.128787878787879],\n",
              " [103, 4.052173913043478],\n",
              " [104, 3.347826086956522],\n",
              " [105, 4.295081967213115],\n",
              " [106, 4.0212765957446805],\n",
              " [107, 3.743801652892562],\n",
              " [108, 3.135135135135135],\n",
              " [109, 4.0],\n",
              " [110, 3.25],\n",
              " [111, 3.7282608695652173],\n",
              " [112, 4.183333333333334],\n",
              " [113, 3.5],\n",
              " [114, 3.693877551020408],\n",
              " [115, 3.8421052631578947],\n",
              " [116, 3.802325581395349],\n",
              " [117, 3.299009900990099],\n",
              " [118, 3.767857142857143],\n",
              " [119, 3.5428571428571427],\n",
              " [120, 3.619047619047619],\n",
              " [121, 4.416666666666667],\n",
              " [122, 2.9649122807017543],\n",
              " [123, 3.401315789473684],\n",
              " [124, 4.173913043478261],\n",
              " [125, 4.098591549295775],\n",
              " [126, 4.0],\n",
              " [127, 3.8448275862068964],\n",
              " [128, 4.363636363636363],\n",
              " [129, 4.025316455696203],\n",
              " [130, 4.311111111111111],\n",
              " [131, 3.3966101694915256],\n",
              " [132, 3.966292134831461],\n",
              " [133, 3.7705882352941176],\n",
              " [134, 2.7158469945355193],\n",
              " [135, 3.657142857142857],\n",
              " [136, 3.074074074074074],\n",
              " [137, 3.611940298507463],\n",
              " [138, 4.492307692307692],\n",
              " [139, 3.8816326530612244],\n",
              " [140, 3.8181818181818183],\n",
              " [141, 3.6956521739130435],\n",
              " [142, 3.3404255319148937],\n",
              " [143, 3.5441176470588234],\n",
              " [144, 3.46875],\n",
              " [145, 3.0],\n",
              " [146, 3.7699530516431925],\n",
              " [147, 3.5026737967914436],\n",
              " [148, 3.733974358974359],\n",
              " [149, 3.9408783783783785],\n",
              " [150, 4.021551724137931],\n",
              " [151, 3.653927813163482],\n",
              " [152, 4.125],\n",
              " [153, 4.076923076923077],\n",
              " [154, 3.090909090909091],\n",
              " [155, 2.96875],\n",
              " [156, 4.236486486486487],\n",
              " [157, 3.718969555035129],\n",
              " [158, 4.0],\n",
              " [159, 3.7777777777777777],\n",
              " [160, 3.5],\n",
              " [161, 4.4713804713804715],\n",
              " [162, 4.121495327102804],\n",
              " [163, 2.1828793774319064],\n",
              " [164, 4.384615384615385],\n",
              " [165, 3.981818181818182],\n",
              " [166, 3.6878048780487807],\n",
              " [167, 2.9310344827586206],\n",
              " [168, 3.8461538461538463],\n",
              " [169, 3.5670289855072466],\n",
              " [170, 3.9885057471264367],\n",
              " [171, 4.0],\n",
              " [172, 3.608695652173913],\n",
              " [173, 3.9679144385026737],\n",
              " [174, 3.649484536082474],\n",
              " [175, 3.9810725552050474],\n",
              " [176, 3.6153846153846154],\n",
              " [177, 4.113636363636363],\n",
              " [178, 3.8434782608695652],\n",
              " [179, 2.6545454545454548],\n",
              " [180, 3.694915254237288],\n",
              " [181, 3.604651162790698],\n",
              " [182, 3.8313253012048194],\n",
              " [183, 4.099009900990099],\n",
              " [184, 4.083333333333333],\n",
              " [185, 3.588235294117647],\n",
              " [186, 4.254098360655738],\n",
              " [187, 4.083932853717027],\n",
              " [188, 3.1690140845070425],\n",
              " [189, 4.0],\n",
              " [190, 3.6993464052287583],\n",
              " [191, 3.3333333333333335],\n",
              " [192, 3.0914285714285716],\n",
              " [193, 3.677685950413223],\n",
              " [194, 3.983050847457627],\n",
              " [195, 3.889294403892944],\n",
              " [196, 4.0625],\n",
              " [197, 3.909090909090909],\n",
              " [198, 3.7493403693931397],\n",
              " [199, 3.2761194029850746],\n",
              " [200, 3.423076923076923],\n",
              " [201, 3.954022988505747],\n",
              " [202, 3.2492537313432837],\n",
              " [203, 2.2913385826771653],\n",
              " [204, 3.5560538116591927],\n",
              " [205, 4.0588235294117645],\n",
              " [206, 3.066666666666667],\n",
              " [207, 3.5217391304347827],\n",
              " [208, 3.652173913043478],\n",
              " [209, 3.16],\n",
              " [210, 4.027272727272727],\n",
              " [211, 3.857142857142857],\n",
              " [212, 3.8545454545454545],\n",
              " [213, 4.2272727272727275],\n",
              " [214, 3.1626506024096384],\n",
              " [215, 4.5588235294117645],\n",
              " [216, 3.2317380352644838],\n",
              " [217, 3.7],\n",
              " [218, 3.0930232558139537],\n",
              " [219, 3.3333333333333335],\n",
              " [220, 4.215686274509804],\n",
              " [221, 3.2413793103448274],\n",
              " [222, 4.0875],\n",
              " [223, 3.44140625],\n",
              " [224, 3.4019607843137254],\n",
              " [225, 3.4330708661417324],\n",
              " [226, 3.5714285714285716],\n",
              " [227, 3.2857142857142856],\n",
              " [228, 4.0],\n",
              " [229, 3.4292452830188678],\n",
              " [230, 4.094972067039106],\n",
              " [231, 4.22680412371134],\n",
              " [232, 3.566666666666667],\n",
              " [233, 4.584905660377358],\n",
              " [234, 4.310344827586207],\n",
              " [235, 4.086363636363636],\n",
              " [236, 3.693548387096774],\n",
              " [237, 3.4036144578313254],\n",
              " [238, 3.7868217054263567],\n",
              " [239, 4.140845070422535],\n",
              " [240, 3.300699300699301],\n",
              " [241, 3.9649122807017543],\n",
              " [242, 3.2051282051282053],\n",
              " [243, 3.606060606060606],\n",
              " [244, 4.105882352941176],\n",
              " [245, 2.6714659685863875],\n",
              " [246, 4.0],\n",
              " [247, 3.935483870967742],\n",
              " [248, 4.205882352941177],\n",
              " [249, 3.9454545454545453],\n",
              " [250, 3.75],\n",
              " [251, 3.5753424657534247],\n",
              " [252, 4.016666666666667],\n",
              " [253, 3.9245283018867925],\n",
              " [254, 3.782608695652174],\n",
              " [255, 4.016393442622951],\n",
              " [256, 3.8526315789473684],\n",
              " [257, 4.452830188679245],\n",
              " [258, 3.717241379310345],\n",
              " [259, 4.0359712230215825],\n",
              " [260, 3.311688311688312],\n",
              " [261, 3.5762711864406778],\n",
              " [262, 3.330188679245283],\n",
              " [263, 3.6630434782608696],\n",
              " [264, 2.785416666666667],\n",
              " [265, 4.1938775510204085],\n",
              " [266, 4.52],\n",
              " [267, 3.3893129770992365],\n",
              " [268, 3.3946360153256707],\n",
              " [269, 3.8],\n",
              " [270, 4.198412698412699],\n",
              " [271, 3.9583333333333335],\n",
              " [272, 3.6535269709543567],\n",
              " [273, 3.727272727272727],\n",
              " [274, 4.243243243243243],\n",
              " [275, 4.247191011235955],\n",
              " [276, 3.5217391304347827],\n",
              " [277, 3.727272727272727],\n",
              " [278, 3.9646464646464645],\n",
              " [279, 2.872340425531915],\n",
              " [280, 3.94],\n",
              " [281, 3.891891891891892],\n",
              " [282, 3.5172413793103448],\n",
              " [283, 4.962962962962963],\n",
              " [284, 3.021231422505308],\n",
              " [285, 4.16546762589928],\n",
              " [286, 3.883720930232558],\n",
              " [287, 3.70873786407767],\n",
              " [288, 4.589285714285714],\n",
              " [289, 3.9054054054054053],\n",
              " [290, 3.303030303030303],\n",
              " [291, 4.137254901960785],\n",
              " [292, 3.7560975609756095],\n",
              " [293, 3.2460567823343847],\n",
              " [294, 3.489795918367347],\n",
              " [295, 3.764397905759162],\n",
              " [296, 3.597938144329897],\n",
              " [297, 4.0],\n",
              " [298, 3.925925925925926],\n",
              " [299, 4.163461538461538],\n",
              " [300, 4.180722891566265],\n",
              " [301, 3.8011204481792715],\n",
              " [302, 2.8692893401015227],\n",
              " [303, 3.861244019138756],\n",
              " [304, 3.5555555555555554],\n",
              " [305, 2.5605095541401273],\n",
              " [306, 3.937823834196891],\n",
              " [307, 4.593406593406593],\n",
              " [308, 3.385996409335727],\n",
              " [309, 4.040650406504065],\n",
              " [310, 3.4260089686098656],\n",
              " [311, 4.15],\n",
              " [312, 3.736842105263158],\n",
              " [313, 4.038461538461538],\n",
              " [314, 3.696245733788396],\n",
              " [315, 3.8636363636363638],\n",
              " [316, 4.116883116883117],\n",
              " [317, 3.8095238095238093],\n",
              " [318, 3.9523809523809526],\n",
              " [319, 3.263522884882108],\n",
              " [320, 4.238095238095238],\n",
              " [321, 3.2612612612612613],\n",
              " [322, 4.45],\n",
              " [323, 3.788135593220339],\n",
              " [324, 3.3289473684210527],\n",
              " [325, 4.046511627906977],\n",
              " [326, 3.3350923482849604],\n",
              " [327, 3.669491525423729],\n",
              " [328, 3.032258064516129],\n",
              " [329, 2.7264397905759163],\n",
              " [330, 4.0131578947368425],\n",
              " [331, 3.7654109589041096],\n",
              " [332, 4.2835820895522385],\n",
              " [333, 3.352422907488987],\n",
              " [334, 3.9508196721311477],\n",
              " [335, 2.5],\n",
              " [336, 4.308411214953271],\n",
              " [337, 3.525252525252525],\n",
              " [338, 3.665745856353591],\n",
              " [339, 4.024193548387097],\n",
              " [340, 3.5277777777777777],\n",
              " [341, 4.2],\n",
              " [342, 3.6910569105691056],\n",
              " [343, 4.047138047138047],\n",
              " [344, 2.9555555555555557],\n",
              " [345, 4.4],\n",
              " [346, 4.307420494699647],\n",
              " [347, 3.878787878787879],\n",
              " [348, 3.78],\n",
              " [349, 3.25],\n",
              " [350, 3.9375],\n",
              " [351, 3.7572815533980584],\n",
              " [352, 3.4793103448275864],\n",
              " [353, 3.9166666666666665],\n",
              " [354, 3.586206896551724],\n",
              " [355, 3.4463007159904535],\n",
              " [356, 4.380952380952381],\n",
              " [357, 3.293103448275862],\n",
              " [358, 3.8472222222222223],\n",
              " [359, 3.857142857142857],\n",
              " [360, 3.6417910447761193],\n",
              " [361, 3.5384615384615383],\n",
              " [362, 3.290909090909091],\n",
              " [363, 3.744186046511628],\n",
              " [364, 3.142857142857143],\n",
              " [365, 3.3404255319148937],\n",
              " [366, 4.06949806949807],\n",
              " [367, 4.25],\n",
              " [368, 3.78125],\n",
              " [369, 3.1954022988505746],\n",
              " [370, 3.75],\n",
              " [371, 3.5],\n",
              " [372, 4.553571428571429],\n",
              " [373, 3.5555555555555554],\n",
              " [374, 4.403846153846154],\n",
              " [375, 4.078431372549019],\n",
              " [376, 4.111111111111111],\n",
              " [377, 3.9044117647058822],\n",
              " [378, 3.5128205128205128],\n",
              " [379, 4.234375],\n",
              " [380, 3.7246376811594204],\n",
              " [381, 4.114285714285714],\n",
              " [382, 4.017857142857143],\n",
              " [383, 3.5714285714285716],\n",
              " [384, 3.590909090909091],\n",
              " [385, 3.9562043795620436],\n",
              " [386, 3.3230769230769233],\n",
              " [387, 3.676470588235294],\n",
              " [388, 3.8813559322033897],\n",
              " [389, 3.5616438356164384],\n",
              " [390, 3.6728971962616823],\n",
              " [391, 3.728395061728395],\n",
              " [392, 3.4743326488706368],\n",
              " [393, 3.581081081081081],\n",
              " [394, 3.3421052631578947],\n",
              " [395, 3.608695652173913],\n",
              " [396, 3.560693641618497],\n",
              " [397, 3.8823529411764706],\n",
              " [398, 3.8133333333333335],\n",
              " [399, 4.15625],\n",
              " [400, 3.875],\n",
              " [401, 3.871794871794872],\n",
              " [402, 3.591549295774648],\n",
              " [403, 3.8035714285714284],\n",
              " [404, 4.14],\n",
              " [405, 3.795918367346939],\n",
              " [406, 3.306122448979592],\n",
              " [407, 3.4375],\n",
              " [408, 4.352564102564102],\n",
              " [409, 3.9158249158249157],\n",
              " [410, 3.96875],\n",
              " [411, 3.280314960629921],\n",
              " [412, 4.401260504201681],\n",
              " [413, 4.404040404040404],\n",
              " [414, 3.0701754385964914],\n",
              " [415, 3.874538745387454],\n",
              " [416, 3.7580645161290325],\n",
              " [417, 4.045454545454546],\n",
              " [418, 3.549019607843137],\n",
              " [419, 3.962962962962963],\n",
              " [420, 4.359375],\n",
              " [421, 4.25],\n",
              " [422, 3.297872340425532],\n",
              " [423, 2.5],\n",
              " [424, 3.735725938009788],\n",
              " [425, 3.6613756613756614],\n",
              " [426, 3.7573221757322175],\n",
              " [427, 4.111111111111111],\n",
              " [428, 3.9],\n",
              " [429, 3.346820809248555],\n",
              " [430, 3.9682539682539684],\n",
              " [431, 3.630952380952381],\n",
              " [432, 2.9863013698630136],\n",
              " [433, 3.391304347826087],\n",
              " [434, 4.023255813953488],\n",
              " [435, 3.8333333333333335],\n",
              " [436, 3.8345864661654137],\n",
              " [437, 4.3076923076923075],\n",
              " [438, 3.528239202657807],\n",
              " [439, 3.902173913043478],\n",
              " [440, 3.586206896551724],\n",
              " [441, 3.9574468085106385],\n",
              " [442, 3.8486997635933804],\n",
              " [443, 3.823529411764706],\n",
              " [444, 4.0],\n",
              " [445, 3.3181818181818183],\n",
              " [446, 4.8431372549019605],\n",
              " [447, 4.837837837837838],\n",
              " [448, 3.4347826086956523],\n",
              " [449, 3.7222222222222223],\n",
              " [450, 4.196078431372549],\n",
              " [451, 4.511961722488039],\n",
              " [452, 4.431818181818182],\n",
              " [453, 3.66497461928934],\n",
              " [454, 3.218045112781955],\n",
              " [455, 4.2],\n",
              " [456, 3.394904458598726],\n",
              " [457, 3.7130801687763713],\n",
              " [458, 3.5348837209302326],\n",
              " [459, 3.6875],\n",
              " [460, 3.3617021276595747],\n",
              " [461, 3.224609375],\n",
              " [462, 3.536723163841808],\n",
              " [463, 3.0],\n",
              " [464, 3.6097560975609757],\n",
              " [465, 3.5405405405405403],\n",
              " [466, 4.14070351758794],\n",
              " [467, 3.2028985507246377],\n",
              " [468, 3.730769230769231],\n",
              " [469, 4.326530612244898],\n",
              " [470, 3.8088235294117645],\n",
              " [471, 3.6285714285714286],\n",
              " [472, 4.022222222222222],\n",
              " [473, 4.163265306122449],\n",
              " [474, 3.380503144654088],\n",
              " [475, 3.8299595141700404],\n",
              " [476, 3.8375870069605567],\n",
              " [477, 3.5829383886255926],\n",
              " [478, 3.869565217391304],\n",
              " [479, 3.827956989247312],\n",
              " [480, 3.411214953271028],\n",
              " [481, 3.696969696969697],\n",
              " [482, 3.2606060606060607],\n",
              " [483, 2.9310344827586206],\n",
              " [484, 3.735294117647059],\n",
              " [485, 4.044444444444444],\n",
              " [486, 4.051282051282051],\n",
              " [487, 3.34],\n",
              " [488, 3.56],\n",
              " [489, 3.3333333333333335],\n",
              " [490, 3.7662337662337664],\n",
              " [491, 3.68],\n",
              " [492, 3.9375],\n",
              " [493, 3.848101265822785],\n",
              " [494, 4.157068062827225],\n",
              " [495, 3.7954545454545454],\n",
              " [496, 4.294117647058823],\n",
              " [497, 3.5833333333333335],\n",
              " [498, 3.6511627906976742],\n",
              " [499, 3.9748743718592965],\n",
              " [500, 3.633663366336634],\n",
              " [501, 3.417910447761194],\n",
              " [502, 4.083333333333333],\n",
              " [503, 4.448275862068965],\n",
              " [504, 3.8055555555555554],\n",
              " [505, 4.217391304347826],\n",
              " [506, 3.422222222222222],\n",
              " [507, 3.9523809523809526],\n",
              " [508, 3.3221476510067114],\n",
              " [509, 3.3139695712309822],\n",
              " [510, 3.8282828282828283],\n",
              " [511, 3.740740740740741],\n",
              " [512, 3.8378378378378377],\n",
              " [513, 3.1474358974358974],\n",
              " [514, 4.2025316455696204],\n",
              " [515, 3.728395061728395],\n",
              " [516, 2.931972789115646],\n",
              " [517, 3.963855421686747],\n",
              " [518, 4.3478260869565215],\n",
              " [519, 3.3777777777777778],\n",
              " [520, 3.9363057324840764],\n",
              " [521, 4.2926829268292686],\n",
              " [522, 3.8448275862068964],\n",
              " [523, 4.06],\n",
              " [524, 3.608267716535433],\n",
              " [525, 4.025],\n",
              " [526, 3.896551724137931],\n",
              " [527, 4.08],\n",
              " [528, 3.3551724137931034],\n",
              " [529, 4.19672131147541],\n",
              " [530, 4.0],\n",
              " [531, 3.1591695501730106],\n",
              " [532, 3.86046511627907],\n",
              " [533, 3.3401015228426396],\n",
              " [534, 3.7475728155339807],\n",
              " [535, 3.5714285714285716],\n",
              " [536, 3.942857142857143],\n",
              " [537, 4.3061224489795915],\n",
              " [538, 4.458333333333333],\n",
              " [539, 3.9242424242424243],\n",
              " [540, 3.230769230769231],\n",
              " [541, 3.1894736842105265],\n",
              " [542, 3.764705882352941],\n",
              " [543, 4.078986587183309],\n",
              " [544, 3.7777777777777777],\n",
              " [545, 3.4827586206896552],\n",
              " [546, 3.231818181818182],\n",
              " [547, 3.858974358974359],\n",
              " [548, 3.093220338983051],\n",
              " [549, 3.7569444444444446],\n",
              " [550, 3.578076525336091],\n",
              " [551, 3.8201754385964914],\n",
              " [552, 3.7628865979381443],\n",
              " [553, 4.15625],\n",
              " [554, 3.511627906976744],\n",
              " [555, 3.8157894736842106],\n",
              " [556, 3.5],\n",
              " [557, 3.8793103448275863],\n",
              " [558, 3.6804123711340204],\n",
              " [559, 3.0],\n",
              " [560, 3.897810218978102],\n",
              " [561, 3.7222222222222223],\n",
              " [562, 3.7027027027027026],\n",
              " [563, 2.7023121387283235],\n",
              " [564, 4.0],\n",
              " [565, 3.44],\n",
              " [566, 2.6273408239700373],\n",
              " [567, 4.583333333333333],\n",
              " [568, 4.44],\n",
              " [569, 3.52],\n",
              " [570, 3.329113924050633],\n",
              " [571, 3.7054794520547945],\n",
              " [572, 3.05],\n",
              " [573, 3.9722222222222223],\n",
              " [574, 4.095238095238095],\n",
              " [575, 3.6564417177914113],\n",
              " [576, 3.6666666666666665],\n",
              " [577, 4.487341772151899],\n",
              " [578, 3.9642857142857144],\n",
              " [579, 3.8550724637681157],\n",
              " [580, 3.347826086956522],\n",
              " [581, 3.6666666666666665],\n",
              " [582, 4.282051282051282],\n",
              " [583, 4.040229885057471],\n",
              " [584, 4.2894736842105265],\n",
              " [585, 3.4662162162162162],\n",
              " [586, 4.485714285714286],\n",
              " [587, 3.0077922077922077],\n",
              " [588, 4.057395143487859],\n",
              " [589, 4.0],\n",
              " [590, 4.13855421686747],\n",
              " [591, 3.231404958677686],\n",
              " [592, 4.391304347826087],\n",
              " [593, 3.641509433962264],\n",
              " [594, 4.29559748427673],\n",
              " [595, 3.95],\n",
              " [596, 2.9523809523809526],\n",
              " [597, 4.473684210526316],\n",
              " [598, 3.3157894736842106],\n",
              " [599, 3.8518518518518516],\n",
              " [600, 3.652173913043478],\n",
              " [601, 3.1501340482573728],\n",
              " [602, 3.396103896103896],\n",
              " [603, 3.5238095238095237],\n",
              " [604, 3.0940766550522647],\n",
              " [605, 4.049180327868853],\n",
              " [606, 4.03030303030303],\n",
              " [607, 4.16],\n",
              " [608, 3.1882352941176473],\n",
              " [609, 4.346153846153846],\n",
              " [610, 3.484126984126984],\n",
              " [611, 3.9393939393939394],\n",
              " [612, 3.5],\n",
              " [613, 3.5849056603773586],\n",
              " [614, 3.8333333333333335],\n",
              " [615, 4.127659574468085],\n",
              " [616, 3.9545454545454546],\n",
              " [617, 4.086956521739131],\n",
              " [618, 3.0],\n",
              " [619, 3.909090909090909],\n",
              " [620, 3.3240223463687153],\n",
              " [621, 3.0416666666666665],\n",
              " [622, 3.912280701754386],\n",
              " [623, 4.226744186046512],\n",
              " [624, 3.6801075268817205],\n",
              " [625, 4.0],\n",
              " [626, 4.055555555555555],\n",
              " [627, 3.5625],\n",
              " [628, 3.9038461538461537],\n",
              " [629, 3.371308016877637],\n",
              " [630, 4.254237288135593],\n",
              " [631, 3.7948717948717947],\n",
              " [632, 3.7941176470588234],\n",
              " [633, 3.5813953488372094],\n",
              " [634, 4.014925373134329],\n",
              " [635, 4.3107344632768365],\n",
              " [636, 4.058139534883721],\n",
              " [637, 3.7559681697612732],\n",
              " [638, 4.175438596491228],\n",
              " [639, 3.705],\n",
              " [640, 4.333333333333333],\n",
              " [641, 4.008264462809917],\n",
              " [642, 4.111111111111111],\n",
              " [643, 2.7142857142857144],\n",
              " [644, 3.1203703703703702],\n",
              " [645, 4.4772727272727275],\n",
              " [646, 3.8031496062992125],\n",
              " [647, 3.103896103896104],\n",
              " [648, 3.7231638418079096],\n",
              " [649, 3.6619718309859155],\n",
              " [650, 3.8947368421052633],\n",
              " [651, 3.6129707112970713],\n",
              " [652, 2.8863636363636362],\n",
              " [653, 4.142857142857143],\n",
              " [654, 3.4324324324324325],\n",
              " [655, 2.733009708737864],\n",
              " [656, 3.8700564971751414],\n",
              " [657, 4.016949152542373],\n",
              " [658, 3.096774193548387],\n",
              " [659, 3.7],\n",
              " [660, 3.0170697012802274],\n",
              " [661, 4.647887323943662],\n",
              " [662, 3.141732283464567],\n",
              " [663, 3.580357142857143],\n",
              " [664, 4.025316455696203],\n",
              " [665, 3.5],\n",
              " [666, 3.8932038834951457],\n",
              " [667, 3.0935672514619883],\n",
              " [668, 3.5833333333333335],\n",
              " [669, 3.847255369928401],\n",
              " [670, 3.2444444444444445],\n",
              " [671, 4.2592592592592595],\n",
              " [672, 3.872340425531915],\n",
              " [673, 3.13151364764268],\n",
              " [674, 4.2784810126582276],\n",
              " [675, 3.3095238095238093],\n",
              " [676, 3.128205128205128],\n",
              " [677, 3.892682926829268],\n",
              " [678, 3.6776776776776776],\n",
              " [679, 3.926829268292683],\n",
              " [680, 3.5714285714285716],\n",
              " [681, 4.2368421052631575],\n",
              " [682, 4.733333333333333],\n",
              " [683, 3.586206896551724],\n",
              " [684, 3.8947368421052633],\n",
              " [685, 3.2357142857142858],\n",
              " [686, 3.7777777777777777],\n",
              " [687, 3.4873417721518987],\n",
              " [688, 3.75],\n",
              " [689, 3.3925925925925924],\n",
              " [690, 4.311111111111111],\n",
              " [691, 4.174757281553398],\n",
              " [692, 3.8240887480190175],\n",
              " [693, 3.8857142857142857],\n",
              " [694, 3.625],\n",
              " [695, 3.513089005235602],\n",
              " [696, 3.802992518703242],\n",
              " [697, 3.8],\n",
              " [698, 3.551851851851852],\n",
              " [699, 3.0534124629080117],\n",
              " [700, 3.875],\n",
              " [701, 3.5],\n",
              " [702, 3.3027139874739038],\n",
              " [703, 4.1],\n",
              " [704, 3.081081081081081],\n",
              " [705, 3.371212121212121],\n",
              " [706, 3.556291390728477],\n",
              " [707, 3.6153846153846154],\n",
              " [708, 3.85],\n",
              " [709, 2.8292682926829267],\n",
              " [710, 3.4271186440677965],\n",
              " [711, 4.0],\n",
              " [712, 3.475177304964539],\n",
              " [713, 3.446280991735537],\n",
              " [714, 4.1635071090047395],\n",
              " [715, 3.8877551020408165],\n",
              " [716, 4.198979591836735],\n",
              " [717, 3.1538461538461537],\n",
              " [718, 3.775147928994083],\n",
              " [719, 3.5],\n",
              " [720, 2.9098712446351933],\n",
              " [721, 3.551051051051051],\n",
              " [722, 3.909090909090909],\n",
              " [723, 3.8333333333333335],\n",
              " [724, 3.643312101910828],\n",
              " [725, 4.197530864197531],\n",
              " [726, 3.9315068493150687],\n",
              " [727, 3.6987951807228914],\n",
              " [728, 3.311377245508982],\n",
              " [729, 3.5273972602739727],\n",
              " [730, 3.7735849056603774],\n",
              " [731, 3.778816199376947],\n",
              " [732, 3.4285714285714284],\n",
              " [733, 4.05982905982906],\n",
              " [734, 3.727272727272727],\n",
              " [735, 3.590330788804071],\n",
              " [736, 3.9298245614035086],\n",
              " [737, 3.5668202764976957],\n",
              " [738, 3.303030303030303],\n",
              " [739, 4.354330708661418],\n",
              " [740, 4.243243243243243],\n",
              " [741, 3.324675324675325],\n",
              " [742, 3.9523809523809526],\n",
              " [743, 3.38255033557047],\n",
              " [744, 3.3703703703703702],\n",
              " [745, 2.64],\n",
              " [746, 2.634433962264151],\n",
              " [747, 3.59375],\n",
              " [748, 3.9753086419753085],\n",
              " [749, 3.3246187363834423],\n",
              " [750, 4.321428571428571],\n",
              " [751, 3.88],\n",
              " [752, 2.8291015625],\n",
              " [753, 3.7752293577981653],\n",
              " [754, 3.7770700636942673],\n",
              " [755, 4.111111111111111],\n",
              " [756, 3.9714285714285715],\n",
              " [757, 3.225806451612903],\n",
              " [758, 4.0],\n",
              " [759, 3.5876288659793816],\n",
              " [760, 4.265625],\n",
              " [761, 4.55],\n",
              " [762, 3.717391304347826],\n",
              " [763, 3.730769230769231],\n",
              " [764, 4.525179856115108],\n",
              " [765, 3.574626865671642],\n",
              " [766, 3.9361702127659575],\n",
              " [767, 4.023529411764706],\n",
              " [768, 4.4375],\n",
              " [769, 3.8208955223880596],\n",
              " [770, 2.935441370223979],\n",
              " [771, 3.769230769230769],\n",
              " [772, 3.479591836734694],\n",
              " [773, 3.5918367346938775],\n",
              " [774, 3.2142857142857144],\n",
              " [775, 4.0],\n",
              " [776, 3.766990291262136],\n",
              " [777, 2.5796812749003983],\n",
              " [778, 3.785276073619632],\n",
              " [779, 3.3333333333333335],\n",
              " [780, 3.45703125],\n",
              " [781, 3.1709401709401708],\n",
              " [782, 3.4347826086956523],\n",
              " [783, 3.5210084033613445],\n",
              " [784, 4.066666666666666],\n",
              " [785, 3.2358490566037736],\n",
              " [786, 4.063492063492063],\n",
              " [787, 3.58974358974359],\n",
              " [788, 3.5255102040816326],\n",
              " [789, 2.9043478260869566],\n",
              " [790, 4.3478260869565215],\n",
              " [791, 3.966463414634146],\n",
              " [792, 3.4597701149425286],\n",
              " [793, 3.486666666666667],\n",
              " [794, 3.953488372093023],\n",
              " [795, 3.442953020134228],\n",
              " [796, 2.9717391304347824],\n",
              " [797, 4.036144578313253],\n",
              " [798, 3.149847094801223],\n",
              " [799, 3.6],\n",
              " [800, 3.4849624060150375],\n",
              " [801, 3.6596491228070174],\n",
              " [802, 3.938735177865613],\n",
              " [803, 3.7115384615384617],\n",
              " [804, 3.272727272727273],\n",
              " [805, 3.835616438356164],\n",
              " [806, 4.166666666666667],\n",
              " [807, 3.9696969696969697],\n",
              " [808, 3.1236363636363635],\n",
              " [809, 4.031914893617022],\n",
              " [810, 3.8174603174603177],\n",
              " [811, 4.184615384615385],\n",
              " [812, 3.739130434782609],\n",
              " [813, 3.343283582089552],\n",
              " [814, 4.055555555555555],\n",
              " [815, 4.068965517241379],\n",
              " [816, 3.6974358974358976],\n",
              " [817, 4.010050251256281],\n",
              " [818, 3.7251461988304095],\n",
              " [819, 3.3225806451612905],\n",
              " [820, 3.4134615384615383],\n",
              " [821, 2.9523809523809526],\n",
              " [822, 3.7226027397260273],\n",
              " [823, 3.8677685950413223],\n",
              " [824, 3.646103896103896],\n",
              " [825, 3.619047619047619],\n",
              " [826, 3.2857142857142856],\n",
              " [827, 3.9545454545454546],\n",
              " [828, 3.4434782608695653],\n",
              " [829, 4.231884057971015],\n",
              " [830, 3.6149425287356323],\n",
              " [831, 4.105263157894737],\n",
              " [832, 3.558139534883721],\n",
              " [833, 4.0476190476190474],\n",
              " [834, 4.16],\n",
              " [835, 2.75],\n",
              " [836, 2.4],\n",
              " [837, 3.260869565217391],\n",
              " [838, 4.090909090909091],\n",
              " [839, 3.988372093023256],\n",
              " [840, 4.219123505976095],\n",
              " [841, 3.576923076923077],\n",
              " [842, 3.8378378378378377],\n",
              " [843, 3.9444444444444446],\n",
              " [844, 3.4523809523809526],\n",
              " [845, 3.980769230769231],\n",
              " [846, 3.91699604743083],\n",
              " [847, 3.6129032258064515],\n",
              " [848, 4.178571428571429],\n",
              " [849, 3.264957264957265],\n",
              " [850, 3.5613718411552346],\n",
              " [851, 3.5921052631578947],\n",
              " [852, 4.117647058823529],\n",
              " [853, 3.890909090909091],\n",
              " [854, 3.027667984189723],\n",
              " [855, 3.4126984126984126],\n",
              " [856, 3.490566037735849],\n",
              " [857, 4.171428571428572],\n",
              " [858, 4.189473684210526],\n",
              " [859, 3.450980392156863],\n",
              " [860, 3.1666666666666665],\n",
              " [861, 3.9375],\n",
              " [862, 3.6724137931034484],\n",
              " [863, 4.225806451612903],\n",
              " [864, 4.050724637681159],\n",
              " [865, 3.8095238095238093],\n",
              " [866, 3.3333333333333335],\n",
              " [867, 3.659090909090909],\n",
              " [868, 3.6],\n",
              " [869, 3.5154394299287413],\n",
              " [870, 3.611111111111111],\n",
              " [871, 3.9069767441860463],\n",
              " [872, 3.635514018691589],\n",
              " [873, 3.8430232558139537],\n",
              " [874, 3.7857142857142856],\n",
              " [875, 4.083333333333333],\n",
              " [876, 3.828828828828829],\n",
              " [877, 3.308056872037915],\n",
              " [878, 4.142857142857143],\n",
              " [879, 4.025],\n",
              " [880, 3.4956521739130433],\n",
              " [881, 2.9354485776805253],\n",
              " [882, 4.0886075949367084],\n",
              " [883, 3.4166666666666665],\n",
              " [884, 4.01010101010101],\n",
              " [885, 4.140625],\n",
              " [886, 3.6285714285714286],\n",
              " [887, 3.5104166666666665],\n",
              " [888, 3.7777777777777777],\n",
              " [889, 2.8405797101449277],\n",
              " [890, 3.969298245614035],\n",
              " [891, 3.7443946188340806],\n",
              " [892, 3.911764705882353],\n",
              " [893, 3.2],\n",
              " [894, 4.442857142857143],\n",
              " [895, 3.953125],\n",
              " [896, 3.984375],\n",
              " [897, 3.5566502463054186],\n",
              " [898, 4.083333333333333],\n",
              " [899, 3.523219814241486],\n",
              " [900, 3.576923076923077],\n",
              " [901, 3.606060606060606],\n",
              " [902, 4.28],\n",
              " [903, 3.4594594594594597],\n",
              " [904, 3.3008130081300813],\n",
              " [905, 3.7886178861788617],\n",
              " [906, 3.5238095238095237],\n",
              " [907, 3.9523809523809526],\n",
              " [908, 3.3076923076923075],\n",
              " [909, 3.9014084507042255],\n",
              " [910, 3.6012269938650308],\n",
              " [911, 3.8685714285714288],\n",
              " [912, 3.7209302325581395],\n",
              " [913, 3.2888888888888888],\n",
              " [914, 4.278688524590164],\n",
              " [915, 2.831578947368421],\n",
              " [916, 3.9454545454545453],\n",
              " [917, 4.068965517241379],\n",
              " [918, 2.9583333333333335],\n",
              " [919, 3.9355828220858897],\n",
              " [920, 3.4615384615384617],\n",
              " [921, 3.6962025316455698],\n",
              " [922, 3.5830903790087465],\n",
              " [923, 3.608695652173913],\n",
              " [924, 3.9899497487437188],\n",
              " [925, 3.1323529411764706],\n",
              " [926, 4.247619047619048],\n",
              " [927, 3.230366492146597],\n",
              " [928, 4.3254716981132075],\n",
              " [929, 3.6816901408450704],\n",
              " [930, 3.0510204081632653],\n",
              " [931, 4.031847133757962],\n",
              " [932, 4.45],\n",
              " [933, 3.7096774193548385],\n",
              " [934, 2.9859437751004014],\n",
              " [935, 3.4896907216494846],\n",
              " [936, 3.5113636363636362],\n",
              " [937, 3.7327586206896552],\n",
              " [938, 3.870967741935484],\n",
              " [939, 3.757575757575758],\n",
              " [940, 3.1923076923076925],\n",
              " [941, 2.2857142857142856],\n",
              " [942, 4.04],\n",
              " [943, 4.296296296296297],\n",
              " [944, 3.8444444444444446],\n",
              " [945, 3.6196319018404908],\n",
              " [946, 4.303030303030303],\n",
              " [947, 3.0],\n",
              " [948, 3.7408123791102517],\n",
              " [949, 3.9295392953929538],\n",
              " [950, 2.963636363636364],\n",
              " [951, 4.523809523809524],\n",
              " [952, 3.9936305732484074],\n",
              " [953, 4.6878306878306875],\n",
              " [954, 3.7777777777777777],\n",
              " [955, 3.5798816568047336],\n",
              " [956, 3.990740740740741],\n",
              " [957, 4.271341463414634],\n",
              " [958, 3.9050632911392404],\n",
              " [959, 3.7395833333333335],\n",
              " [960, 3.9375],\n",
              " [961, 3.74],\n",
              " [962, 4.03921568627451],\n",
              " [963, 3.4339622641509435],\n",
              " [964, 3.717948717948718],\n",
              " [965, 4.116883116883117],\n",
              " [966, 3.5636363636363635],\n",
              " [967, 3.5384615384615383],\n",
              " [968, 4.131147540983607],\n",
              " [969, 4.115384615384615],\n",
              " [970, 3.1493624772313296],\n",
              " [971, 3.3318385650224216],\n",
              " [972, 3.3714285714285714],\n",
              " [973, 3.3963133640552994],\n",
              " [974, 3.7333333333333334],\n",
              " [975, 3.25990099009901],\n",
              " [976, 3.3636363636363638],\n",
              " [977, 3.7625],\n",
              " [978, 3.8863636363636362],\n",
              " [979, 4.04054054054054],\n",
              " [980, 3.2222222222222223],\n",
              " [981, 3.3303964757709252],\n",
              " [982, 4.176470588235294],\n",
              " [983, 4.115384615384615],\n",
              " [984, 3.5417867435158503],\n",
              " [985, 4.212328767123288],\n",
              " [986, 3.772727272727273],\n",
              " [987, 4.017045454545454],\n",
              " [988, 3.8493150684931505],\n",
              " [989, 4.681818181818182],\n",
              " [990, 3.549019607843137],\n",
              " [991, 3.75],\n",
              " [992, 3.4193548387096775],\n",
              " [993, 3.3448275862068964],\n",
              " [994, 4.153846153846154],\n",
              " [995, 3.8979591836734695],\n",
              " [996, 3.935810810810811],\n",
              " [997, 3.933333333333333],\n",
              " [998, 4.118518518518519],\n",
              " [999, 3.186893203883495],\n",
              " [1000, 4.130952380952381],\n",
              " ...]"
            ]
          },
          "metadata": {
            "tags": []
          },
          "execution_count": 269
        }
      ]
    },
    {
      "cell_type": "code",
      "metadata": {
        "colab": {
          "base_uri": "https://localhost:8080/"
        },
        "id": "u5ID5K2N-6Ee",
        "outputId": "a3c842b2-1893-440f-f3a4-d2352ec64d12"
      },
      "source": [
        "score_array = np.array(score_mean)\n",
        "user_4 = score_array[score_array[:, 1] >= 4]\n",
        "mat = user_4[:, 0].astype('int')\n",
        "mat"
      ],
      "execution_count": null,
      "outputs": [
        {
          "output_type": "execute_result",
          "data": {
            "text/plain": [
              "array([   1,    4,    7,   10,   17,   20,   27,   36,   43,   46,   53,\n",
              "         54,   55,   64,   65,   67,   69,   74,   75,   76,   81,   82,\n",
              "         86,   88,   91,   97,  101,  103,  105,  106,  109,  112,  121,\n",
              "        124,  125,  126,  128,  129,  130,  138,  150,  152,  153,  156,\n",
              "        158,  161,  162,  164,  171,  177,  183,  184,  186,  187,  189,\n",
              "        196,  205,  210,  213,  215,  220,  222,  228,  230,  231,  233,\n",
              "        234,  235,  239,  244,  246,  248,  252,  255,  257,  259,  265,\n",
              "        266,  270,  274,  275,  283,  285,  288,  291,  297,  299,  300,\n",
              "        307,  309,  311,  313,  316,  320,  322,  325,  330,  332,  336,\n",
              "        339,  341,  343,  345,  346,  356,  366,  367,  372,  374,  375,\n",
              "        376,  379,  381,  382,  399,  404,  408,  412,  413,  417,  420,\n",
              "        421,  427,  434,  437,  444,  446,  447,  450,  451,  452,  455,\n",
              "        466,  469,  472,  473,  485,  486,  494,  496,  502,  503,  505,\n",
              "        514,  518,  521,  523,  525,  527,  529,  530,  537,  538,  543,\n",
              "        553,  564,  567,  568,  574,  577,  582,  583,  584,  586,  588,\n",
              "        589,  590,  592,  594,  597,  605,  606,  607,  609,  615,  617,\n",
              "        623,  625,  626,  630,  634,  635,  636,  638,  640,  641,  642,\n",
              "        645,  653,  657,  661,  664,  671,  674,  681,  682,  690,  691,\n",
              "        703,  711,  714,  716,  725,  733,  739,  740,  750,  755,  758,\n",
              "        760,  761,  764,  767,  768,  775,  784,  786,  790,  797,  806,\n",
              "        809,  811,  814,  815,  817,  829,  831,  833,  834,  838,  840,\n",
              "        848,  852,  857,  858,  863,  864,  875,  878,  879,  882,  884,\n",
              "        885,  894,  898,  902,  914,  917,  926,  928,  931,  932,  942,\n",
              "        943,  946,  951,  953,  957,  962,  965,  968,  969,  979,  982,\n",
              "        983,  985,  987,  989,  994,  998, 1000, 1002, 1003, 1005, 1007,\n",
              "       1018, 1021, 1023, 1026, 1031, 1036, 1040, 1041, 1048, 1052, 1062,\n",
              "       1063, 1071, 1072, 1073, 1075, 1077, 1081, 1082, 1089, 1092, 1095,\n",
              "       1098, 1108, 1110, 1111, 1129, 1131, 1132, 1134, 1143, 1157, 1170,\n",
              "       1171, 1175, 1176, 1180, 1186, 1188, 1190, 1191, 1192, 1197, 1208,\n",
              "       1213, 1215, 1217, 1224, 1225, 1229, 1232, 1234, 1241, 1245, 1250,\n",
              "       1252, 1254, 1256, 1258, 1268, 1269, 1271, 1275, 1276, 1278, 1282,\n",
              "       1289, 1290, 1302, 1305, 1306, 1307, 1315, 1320, 1322, 1324, 1330,\n",
              "       1336, 1338, 1343, 1349, 1351, 1355, 1361, 1363, 1364, 1368, 1371,\n",
              "       1378, 1382, 1388, 1393, 1400, 1401, 1402, 1407, 1409, 1410, 1423,\n",
              "       1428, 1430, 1437, 1443, 1446, 1452, 1456, 1459, 1469, 1477, 1479,\n",
              "       1481, 1488, 1490, 1507, 1511, 1513, 1518, 1520, 1526, 1528, 1532,\n",
              "       1536, 1539, 1541, 1555, 1558, 1561, 1568, 1569, 1577, 1578, 1586,\n",
              "       1588, 1590, 1591, 1595, 1602, 1604, 1618, 1619, 1623, 1638, 1643,\n",
              "       1645, 1654, 1663, 1668, 1670, 1673, 1681, 1682, 1684, 1692, 1697,\n",
              "       1699, 1702, 1703, 1704, 1707, 1718, 1720, 1722, 1724, 1727, 1728,\n",
              "       1732, 1734, 1740, 1744, 1746, 1751, 1764, 1771])"
            ]
          },
          "metadata": {
            "tags": []
          },
          "execution_count": 278
        }
      ]
    },
    {
      "cell_type": "code",
      "metadata": {
        "id": "2AH_Gxjc_udj",
        "colab": {
          "base_uri": "https://localhost:8080/"
        },
        "outputId": "1cac3a8f-f37d-4afe-dd6f-d30701cd35a3"
      },
      "source": [
        "len(mat)"
      ],
      "execution_count": null,
      "outputs": [
        {
          "output_type": "execute_result",
          "data": {
            "text/plain": [
              "448"
            ]
          },
          "metadata": {
            "tags": []
          },
          "execution_count": 279
        }
      ]
    },
    {
      "cell_type": "markdown",
      "metadata": {
        "id": "Ewew5imqcJhc"
      },
      "source": [
        "##### 각 사용자 별 평균 평점이 4점 이상인 사용자 구하기\n",
        "- 리스트는 Boolean Indexing이 안되니 배열로 변환해야 인덱싱, 슬라이싱 가능"
      ]
    },
    {
      "cell_type": "code",
      "metadata": {
        "id": "xFK75MPR-1xk",
        "colab": {
          "base_uri": "https://localhost:8080/"
        },
        "outputId": "482bf0d6-af12-433c-c28d-5a39c8e00714"
      },
      "source": [
        "for j in range(user_id_all) :\n",
        "  if   "
      ],
      "execution_count": null,
      "outputs": [
        {
          "output_type": "execute_result",
          "data": {
            "text/plain": [
              "array([[        1,      1193,         5, 978300760],\n",
              "       [        1,      2355,         5, 978824291],\n",
              "       [        1,      1287,         5, 978302039],\n",
              "       ...,\n",
              "       [     1779,      1374,         5, 977033172],\n",
              "       [     1779,      2324,         5, 977033829],\n",
              "       [     1779,      3160,         5, 977032398]])"
            ]
          },
          "metadata": {
            "tags": []
          },
          "execution_count": 267
        }
      ]
    },
    {
      "cell_type": "markdown",
      "metadata": {
        "id": "5eaan4N6asRb"
      },
      "source": [
        "###### 질문\n",
        "\n",
        "평점 4점이 넘는 사용자만 구하려면,\n",
        "user_rate_avg의 결과 값을 리스트로 모은 후 ndarray 형식으로 바꾸는 방법밖에 없나요?"
      ]
    },
    {
      "cell_type": "code",
      "metadata": {
        "id": "fW8OiNDR-4c9",
        "colab": {
          "base_uri": "https://localhost:8080/",
          "height": 169
        },
        "outputId": "64fb84b4-c128-4160-cedd-c09ad74b75af"
      },
      "source": [
        ""
      ],
      "execution_count": null,
      "outputs": [
        {
          "output_type": "error",
          "ename": "TypeError",
          "evalue": "ignored",
          "traceback": [
            "\u001b[0;31m---------------------------------------------------------------------------\u001b[0m",
            "\u001b[0;31mTypeError\u001b[0m                                 Traceback (most recent call last)",
            "\u001b[0;32m<ipython-input-268-e29f59e59d7f>\u001b[0m in \u001b[0;36m<module>\u001b[0;34m()\u001b[0m\n\u001b[0;32m----> 1\u001b[0;31m \u001b[0mfour\u001b[0m \u001b[0;34m=\u001b[0m \u001b[0mscore_mean\u001b[0m \u001b[0;34m>\u001b[0m \u001b[0;36m4\u001b[0m\u001b[0;34m\u001b[0m\u001b[0;34m\u001b[0m\u001b[0m\n\u001b[0m",
            "\u001b[0;31mTypeError\u001b[0m: '>' not supported between instances of 'list' and 'int'"
          ]
        }
      ]
    },
    {
      "cell_type": "markdown",
      "metadata": {
        "id": "JGFR9J-ZeGfH"
      },
      "source": [
        "##### CSV 파일로 저장\n",
        "- np.savetxt() 이용"
      ]
    },
    {
      "cell_type": "code",
      "metadata": {
        "id": "-DTvy_Mo-5a2"
      },
      "source": [
        "np.savetxt(drive_path + 'user_id_mean.csv', score_mean, \n",
        "           delimiter = ', ', fmt = '%.3f') # delimiter : 구분자, fmt :소수점 3자리까지"
      ],
      "execution_count": null,
      "outputs": []
    },
    {
      "cell_type": "markdown",
      "metadata": {
        "id": "h2jB8C-SaUSt"
      },
      "source": [
        "## Numpy 요약"
      ]
    },
    {
      "cell_type": "code",
      "metadata": {
        "id": "shHIpx0va9hq"
      },
      "source": [
        "import numpy as np"
      ],
      "execution_count": null,
      "outputs": []
    },
    {
      "cell_type": "markdown",
      "metadata": {
        "id": "64MG7DwEXZYe"
      },
      "source": [
        "## 보충 학습"
      ]
    },
    {
      "cell_type": "markdown",
      "metadata": {
        "id": "Zk2r96mdZwPs"
      },
      "source": [
        "#### np.newaxis\n",
        "\n",
        "- 각 newaxis 객체는 지정된 위치에서 축을 하나 추가함으로써 차원을 확장하는 역\n",
        "할을 한다.\n",
        "\n",
        "<img src = \"https://img1.daumcdn.net/thumb/R1280x0/?scode=mtistory2&fname=https%3A%2F%2Fblog.kakaocdn.net%2Fdn%2FcSoMOs%2Fbtqt0a2Dc2y%2FQhkfwhiWqeUKvNfsM2H29K%2Fimg.png\">"
      ]
    }
  ]
}