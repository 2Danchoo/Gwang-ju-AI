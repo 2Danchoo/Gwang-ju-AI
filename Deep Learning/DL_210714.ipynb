{
  "nbformat": 4,
  "nbformat_minor": 0,
  "metadata": {
    "colab": {
      "name": "DL_210714.ipynb",
      "provenance": []
    },
    "kernelspec": {
      "name": "python3",
      "display_name": "Python 3"
    },
    "language_info": {
      "name": "python"
    }
  },
  "cells": [
    {
      "cell_type": "code",
      "metadata": {
        "id": "S2w-4EoY2RF8"
      },
      "source": [
        "import tensorflow as tf\n",
        "import pandas as pd\n",
        "import numpy as np\n",
        "import matplotlib.pyplot as plt\n"
      ],
      "execution_count": null,
      "outputs": []
    },
    {
      "cell_type": "code",
      "metadata": {
        "colab": {
          "base_uri": "https://localhost:8080/"
        },
        "id": "HvqtkjEf9OZw",
        "outputId": "9cc9da12-b0f0-49bd-c3a0-7bd664c511fb"
      },
      "source": [
        "df_dataset = pd.read_csv('/content/faults.csv')\n",
        "df_dataset.info()"
      ],
      "execution_count": null,
      "outputs": [
        {
          "output_type": "stream",
          "text": [
            "<class 'pandas.core.frame.DataFrame'>\n",
            "RangeIndex: 1941 entries, 0 to 1940\n",
            "Data columns (total 34 columns):\n",
            " #   Column                 Non-Null Count  Dtype  \n",
            "---  ------                 --------------  -----  \n",
            " 0   X_Minimum              1941 non-null   int64  \n",
            " 1   X_Maximum              1941 non-null   int64  \n",
            " 2   Y_Minimum              1941 non-null   int64  \n",
            " 3   Y_Maximum              1941 non-null   int64  \n",
            " 4   Pixels_Areas           1941 non-null   int64  \n",
            " 5   X_Perimeter            1941 non-null   int64  \n",
            " 6   Y_Perimeter            1941 non-null   int64  \n",
            " 7   Sum_of_Luminosity      1941 non-null   int64  \n",
            " 8   Minimum_of_Luminosity  1941 non-null   int64  \n",
            " 9   Maximum_of_Luminosity  1941 non-null   int64  \n",
            " 10  Length_of_Conveyer     1941 non-null   int64  \n",
            " 11  TypeOfSteel_A300       1941 non-null   int64  \n",
            " 12  TypeOfSteel_A400       1941 non-null   int64  \n",
            " 13  Steel_Plate_Thickness  1941 non-null   int64  \n",
            " 14  Edges_Index            1941 non-null   float64\n",
            " 15  Empty_Index            1941 non-null   float64\n",
            " 16  Square_Index           1941 non-null   float64\n",
            " 17  Outside_X_Index        1941 non-null   float64\n",
            " 18  Edges_X_Index          1941 non-null   float64\n",
            " 19  Edges_Y_Index          1941 non-null   float64\n",
            " 20  Outside_Global_Index   1941 non-null   float64\n",
            " 21  LogOfAreas             1941 non-null   float64\n",
            " 22  Log_X_Index            1941 non-null   float64\n",
            " 23  Log_Y_Index            1941 non-null   float64\n",
            " 24  Orientation_Index      1941 non-null   float64\n",
            " 25  Luminosity_Index       1941 non-null   float64\n",
            " 26  SigmoidOfAreas         1941 non-null   float64\n",
            " 27  Pastry                 1941 non-null   int64  \n",
            " 28  Z_Scratch              1941 non-null   int64  \n",
            " 29  K_Scatch               1941 non-null   int64  \n",
            " 30  Stains                 1941 non-null   int64  \n",
            " 31  Dirtiness              1941 non-null   int64  \n",
            " 32  Bumps                  1941 non-null   int64  \n",
            " 33  Other_Faults           1941 non-null   int64  \n",
            "dtypes: float64(13), int64(21)\n",
            "memory usage: 515.7 KB\n"
          ],
          "name": "stdout"
        }
      ]
    },
    {
      "cell_type": "markdown",
      "metadata": {
        "id": "4Jcl183pL42T"
      },
      "source": [
        ""
      ]
    },
    {
      "cell_type": "code",
      "metadata": {
        "id": "mBvglYlW9V7b"
      },
      "source": [
        "df_dataset.describe()"
      ],
      "execution_count": null,
      "outputs": []
    },
    {
      "cell_type": "markdown",
      "metadata": {
        "id": "igsjl0yo_DAA"
      },
      "source": [
        "![image.png](data:image/png;base64,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)"
      ]
    },
    {
      "cell_type": "code",
      "metadata": {
        "id": "kmg73zaN9t54"
      },
      "source": [
        "faults_norm = (df_dataset - df_dataset.min()) / (df_dataset.max() - df_dataset.min()) "
      ],
      "execution_count": null,
      "outputs": []
    },
    {
      "cell_type": "code",
      "metadata": {
        "colab": {
          "base_uri": "https://localhost:8080/",
          "height": 315
        },
        "id": "q7p7wRUl_MiE",
        "outputId": "1992e676-581d-46d7-c002-8dacb3ba3a12"
      },
      "source": [
        "faults_norm.describe()"
      ],
      "execution_count": null,
      "outputs": [
        {
          "output_type": "execute_result",
          "data": {
            "text/html": [
              "<div>\n",
              "<style scoped>\n",
              "    .dataframe tbody tr th:only-of-type {\n",
              "        vertical-align: middle;\n",
              "    }\n",
              "\n",
              "    .dataframe tbody tr th {\n",
              "        vertical-align: top;\n",
              "    }\n",
              "\n",
              "    .dataframe thead th {\n",
              "        text-align: right;\n",
              "    }\n",
              "</style>\n",
              "<table border=\"1\" class=\"dataframe\">\n",
              "  <thead>\n",
              "    <tr style=\"text-align: right;\">\n",
              "      <th></th>\n",
              "      <th>X_Minimum</th>\n",
              "      <th>X_Maximum</th>\n",
              "      <th>Y_Minimum</th>\n",
              "      <th>Y_Maximum</th>\n",
              "      <th>Pixels_Areas</th>\n",
              "      <th>X_Perimeter</th>\n",
              "      <th>Y_Perimeter</th>\n",
              "      <th>Sum_of_Luminosity</th>\n",
              "      <th>Minimum_of_Luminosity</th>\n",
              "      <th>Maximum_of_Luminosity</th>\n",
              "      <th>Length_of_Conveyer</th>\n",
              "      <th>TypeOfSteel_A300</th>\n",
              "      <th>TypeOfSteel_A400</th>\n",
              "      <th>Steel_Plate_Thickness</th>\n",
              "      <th>Edges_Index</th>\n",
              "      <th>Empty_Index</th>\n",
              "      <th>Square_Index</th>\n",
              "      <th>Outside_X_Index</th>\n",
              "      <th>Edges_X_Index</th>\n",
              "      <th>Edges_Y_Index</th>\n",
              "      <th>Outside_Global_Index</th>\n",
              "      <th>LogOfAreas</th>\n",
              "      <th>Log_X_Index</th>\n",
              "      <th>Log_Y_Index</th>\n",
              "      <th>Orientation_Index</th>\n",
              "      <th>Luminosity_Index</th>\n",
              "      <th>SigmoidOfAreas</th>\n",
              "      <th>Pastry</th>\n",
              "      <th>Z_Scratch</th>\n",
              "      <th>K_Scatch</th>\n",
              "      <th>Stains</th>\n",
              "      <th>Dirtiness</th>\n",
              "      <th>Bumps</th>\n",
              "      <th>Other_Faults</th>\n",
              "    </tr>\n",
              "  </thead>\n",
              "  <tbody>\n",
              "    <tr>\n",
              "      <th>count</th>\n",
              "      <td>1941.000000</td>\n",
              "      <td>1941.000000</td>\n",
              "      <td>1941.000000</td>\n",
              "      <td>1941.000000</td>\n",
              "      <td>1941.000000</td>\n",
              "      <td>1941.000000</td>\n",
              "      <td>1941.000000</td>\n",
              "      <td>1941.000000</td>\n",
              "      <td>1941.000000</td>\n",
              "      <td>1941.000000</td>\n",
              "      <td>1941.000000</td>\n",
              "      <td>1941.000000</td>\n",
              "      <td>1941.000000</td>\n",
              "      <td>1941.000000</td>\n",
              "      <td>1941.000000</td>\n",
              "      <td>1941.000000</td>\n",
              "      <td>1941.000000</td>\n",
              "      <td>1941.000000</td>\n",
              "      <td>1941.000000</td>\n",
              "      <td>1941.000000</td>\n",
              "      <td>1941.000000</td>\n",
              "      <td>1941.000000</td>\n",
              "      <td>1941.000000</td>\n",
              "      <td>1941.000000</td>\n",
              "      <td>1941.000000</td>\n",
              "      <td>1941.000000</td>\n",
              "      <td>1941.000000</td>\n",
              "      <td>1941.000000</td>\n",
              "      <td>1941.000000</td>\n",
              "      <td>1941.000000</td>\n",
              "      <td>1941.000000</td>\n",
              "      <td>1941.000000</td>\n",
              "      <td>1941.000000</td>\n",
              "      <td>1941.000000</td>\n",
              "    </tr>\n",
              "    <tr>\n",
              "      <th>mean</th>\n",
              "      <td>0.334977</td>\n",
              "      <td>0.359254</td>\n",
              "      <td>0.126645</td>\n",
              "      <td>0.126648</td>\n",
              "      <td>0.012393</td>\n",
              "      <td>0.010515</td>\n",
              "      <td>0.004516</td>\n",
              "      <td>0.017778</td>\n",
              "      <td>0.416496</td>\n",
              "      <td>0.431452</td>\n",
              "      <td>0.409454</td>\n",
              "      <td>0.400309</td>\n",
              "      <td>0.599691</td>\n",
              "      <td>0.148991</td>\n",
              "      <td>0.333315</td>\n",
              "      <td>0.438821</td>\n",
              "      <td>0.567175</td>\n",
              "      <td>0.036438</td>\n",
              "      <td>0.604838</td>\n",
              "      <td>0.803985</td>\n",
              "      <td>0.575734</td>\n",
              "      <td>0.448807</td>\n",
              "      <td>0.373115</td>\n",
              "      <td>0.329507</td>\n",
              "      <td>0.541831</td>\n",
              "      <td>0.528699</td>\n",
              "      <td>0.529422</td>\n",
              "      <td>0.081401</td>\n",
              "      <td>0.097888</td>\n",
              "      <td>0.201443</td>\n",
              "      <td>0.037094</td>\n",
              "      <td>0.028336</td>\n",
              "      <td>0.207110</td>\n",
              "      <td>0.346728</td>\n",
              "    </tr>\n",
              "    <tr>\n",
              "      <th>std</th>\n",
              "      <td>0.305390</td>\n",
              "      <td>0.291180</td>\n",
              "      <td>0.136706</td>\n",
              "      <td>0.136707</td>\n",
              "      <td>0.033858</td>\n",
              "      <td>0.028832</td>\n",
              "      <td>0.023496</td>\n",
              "      <td>0.044197</td>\n",
              "      <td>0.158297</td>\n",
              "      <td>0.086532</td>\n",
              "      <td>0.254987</td>\n",
              "      <td>0.490087</td>\n",
              "      <td>0.490087</td>\n",
              "      <td>0.211869</td>\n",
              "      <td>0.301157</td>\n",
              "      <td>0.145420</td>\n",
              "      <td>0.273327</td>\n",
              "      <td>0.067430</td>\n",
              "      <td>0.246831</td>\n",
              "      <td>0.246189</td>\n",
              "      <td>0.482352</td>\n",
              "      <td>0.161577</td>\n",
              "      <td>0.173673</td>\n",
              "      <td>0.106686</td>\n",
              "      <td>0.252619</td>\n",
              "      <td>0.090656</td>\n",
              "      <td>0.385303</td>\n",
              "      <td>0.273521</td>\n",
              "      <td>0.297239</td>\n",
              "      <td>0.401181</td>\n",
              "      <td>0.189042</td>\n",
              "      <td>0.165973</td>\n",
              "      <td>0.405339</td>\n",
              "      <td>0.476051</td>\n",
              "    </tr>\n",
              "    <tr>\n",
              "      <th>min</th>\n",
              "      <td>0.000000</td>\n",
              "      <td>0.000000</td>\n",
              "      <td>0.000000</td>\n",
              "      <td>0.000000</td>\n",
              "      <td>0.000000</td>\n",
              "      <td>0.000000</td>\n",
              "      <td>0.000000</td>\n",
              "      <td>0.000000</td>\n",
              "      <td>0.000000</td>\n",
              "      <td>0.000000</td>\n",
              "      <td>0.000000</td>\n",
              "      <td>0.000000</td>\n",
              "      <td>0.000000</td>\n",
              "      <td>0.000000</td>\n",
              "      <td>0.000000</td>\n",
              "      <td>0.000000</td>\n",
              "      <td>0.000000</td>\n",
              "      <td>0.000000</td>\n",
              "      <td>0.000000</td>\n",
              "      <td>0.000000</td>\n",
              "      <td>0.000000</td>\n",
              "      <td>0.000000</td>\n",
              "      <td>0.000000</td>\n",
              "      <td>0.000000</td>\n",
              "      <td>0.000000</td>\n",
              "      <td>0.000000</td>\n",
              "      <td>0.000000</td>\n",
              "      <td>0.000000</td>\n",
              "      <td>0.000000</td>\n",
              "      <td>0.000000</td>\n",
              "      <td>0.000000</td>\n",
              "      <td>0.000000</td>\n",
              "      <td>0.000000</td>\n",
              "      <td>0.000000</td>\n",
              "    </tr>\n",
              "    <tr>\n",
              "      <th>25%</th>\n",
              "      <td>0.029912</td>\n",
              "      <td>0.110006</td>\n",
              "      <td>0.035786</td>\n",
              "      <td>0.035788</td>\n",
              "      <td>0.000537</td>\n",
              "      <td>0.001244</td>\n",
              "      <td>0.000661</td>\n",
              "      <td>0.000800</td>\n",
              "      <td>0.310345</td>\n",
              "      <td>0.402778</td>\n",
              "      <td>0.231041</td>\n",
              "      <td>0.000000</td>\n",
              "      <td>0.000000</td>\n",
              "      <td>0.000000</td>\n",
              "      <td>0.060691</td>\n",
              "      <td>0.334569</td>\n",
              "      <td>0.355954</td>\n",
              "      <td>0.005833</td>\n",
              "      <td>0.403206</td>\n",
              "      <td>0.576293</td>\n",
              "      <td>0.000000</td>\n",
              "      <td>0.332459</td>\n",
              "      <td>0.252064</td>\n",
              "      <td>0.253411</td>\n",
              "      <td>0.331719</td>\n",
              "      <td>0.489884</td>\n",
              "      <td>0.146652</td>\n",
              "      <td>0.000000</td>\n",
              "      <td>0.000000</td>\n",
              "      <td>0.000000</td>\n",
              "      <td>0.000000</td>\n",
              "      <td>0.000000</td>\n",
              "      <td>0.000000</td>\n",
              "      <td>0.000000</td>\n",
              "    </tr>\n",
              "    <tr>\n",
              "      <th>50%</th>\n",
              "      <td>0.255132</td>\n",
              "      <td>0.270919</td>\n",
              "      <td>0.092244</td>\n",
              "      <td>0.092244</td>\n",
              "      <td>0.001127</td>\n",
              "      <td>0.002297</td>\n",
              "      <td>0.001322</td>\n",
              "      <td>0.001635</td>\n",
              "      <td>0.443350</td>\n",
              "      <td>0.416667</td>\n",
              "      <td>0.241623</td>\n",
              "      <td>0.000000</td>\n",
              "      <td>1.000000</td>\n",
              "      <td>0.115385</td>\n",
              "      <td>0.228396</td>\n",
              "      <td>0.436593</td>\n",
              "      <td>0.551881</td>\n",
              "      <td>0.009835</td>\n",
              "      <td>0.631088</td>\n",
              "      <td>0.944725</td>\n",
              "      <td>1.000000</td>\n",
              "      <td>0.397239</td>\n",
              "      <td>0.315567</td>\n",
              "      <td>0.310470</td>\n",
              "      <td>0.547839</td>\n",
              "      <td>0.527666</td>\n",
              "      <td>0.439614</td>\n",
              "      <td>0.000000</td>\n",
              "      <td>0.000000</td>\n",
              "      <td>0.000000</td>\n",
              "      <td>0.000000</td>\n",
              "      <td>0.000000</td>\n",
              "      <td>0.000000</td>\n",
              "      <td>0.000000</td>\n",
              "    </tr>\n",
              "    <tr>\n",
              "      <th>75%</th>\n",
              "      <td>0.617595</td>\n",
              "      <td>0.624927</td>\n",
              "      <td>0.167658</td>\n",
              "      <td>0.167658</td>\n",
              "      <td>0.005372</td>\n",
              "      <td>0.007849</td>\n",
              "      <td>0.004518</td>\n",
              "      <td>0.007140</td>\n",
              "      <td>0.522167</td>\n",
              "      <td>0.476852</td>\n",
              "      <td>0.746032</td>\n",
              "      <td>1.000000</td>\n",
              "      <td>1.000000</td>\n",
              "      <td>0.153846</td>\n",
              "      <td>0.576568</td>\n",
              "      <td>0.531412</td>\n",
              "      <td>0.816678</td>\n",
              "      <td>0.025160</td>\n",
              "      <td>0.797078</td>\n",
              "      <td>1.000000</td>\n",
              "      <td>1.000000</td>\n",
              "      <td>0.535339</td>\n",
              "      <td>0.439039</td>\n",
              "      <td>0.406791</td>\n",
              "      <td>0.757855</td>\n",
              "      <td>0.568129</td>\n",
              "      <td>0.999773</td>\n",
              "      <td>0.000000</td>\n",
              "      <td>0.000000</td>\n",
              "      <td>0.000000</td>\n",
              "      <td>0.000000</td>\n",
              "      <td>0.000000</td>\n",
              "      <td>0.000000</td>\n",
              "      <td>1.000000</td>\n",
              "    </tr>\n",
              "    <tr>\n",
              "      <th>max</th>\n",
              "      <td>1.000000</td>\n",
              "      <td>1.000000</td>\n",
              "      <td>1.000000</td>\n",
              "      <td>1.000000</td>\n",
              "      <td>1.000000</td>\n",
              "      <td>1.000000</td>\n",
              "      <td>1.000000</td>\n",
              "      <td>1.000000</td>\n",
              "      <td>1.000000</td>\n",
              "      <td>1.000000</td>\n",
              "      <td>1.000000</td>\n",
              "      <td>1.000000</td>\n",
              "      <td>1.000000</td>\n",
              "      <td>1.000000</td>\n",
              "      <td>1.000000</td>\n",
              "      <td>1.000000</td>\n",
              "      <td>1.000000</td>\n",
              "      <td>1.000000</td>\n",
              "      <td>1.000000</td>\n",
              "      <td>1.000000</td>\n",
              "      <td>1.000000</td>\n",
              "      <td>1.000000</td>\n",
              "      <td>1.000000</td>\n",
              "      <td>1.000000</td>\n",
              "      <td>1.000000</td>\n",
              "      <td>1.000000</td>\n",
              "      <td>1.000000</td>\n",
              "      <td>1.000000</td>\n",
              "      <td>1.000000</td>\n",
              "      <td>1.000000</td>\n",
              "      <td>1.000000</td>\n",
              "      <td>1.000000</td>\n",
              "      <td>1.000000</td>\n",
              "      <td>1.000000</td>\n",
              "    </tr>\n",
              "  </tbody>\n",
              "</table>\n",
              "</div>"
            ],
            "text/plain": [
              "         X_Minimum    X_Maximum  ...        Bumps  Other_Faults\n",
              "count  1941.000000  1941.000000  ...  1941.000000   1941.000000\n",
              "mean      0.334977     0.359254  ...     0.207110      0.346728\n",
              "std       0.305390     0.291180  ...     0.405339      0.476051\n",
              "min       0.000000     0.000000  ...     0.000000      0.000000\n",
              "25%       0.029912     0.110006  ...     0.000000      0.000000\n",
              "50%       0.255132     0.270919  ...     0.000000      0.000000\n",
              "75%       0.617595     0.624927  ...     0.000000      1.000000\n",
              "max       1.000000     1.000000  ...     1.000000      1.000000\n",
              "\n",
              "[8 rows x 34 columns]"
            ]
          },
          "metadata": {
            "tags": []
          },
          "execution_count": 5
        }
      ]
    },
    {
      "cell_type": "code",
      "metadata": {
        "colab": {
          "base_uri": "https://localhost:8080/"
        },
        "id": "4x00vyyr_PYp",
        "outputId": "cd531840-4743-43c0-d5c6-618f5ef41117"
      },
      "source": [
        "faults_shuffle = faults_norm.sample(frac = 1)\n",
        "print(faults_shuffle[:5])"
      ],
      "execution_count": null,
      "outputs": [
        {
          "output_type": "stream",
          "text": [
            "      X_Minimum  X_Maximum  Y_Minimum  ...  Dirtiness  Bumps  Other_Faults\n",
            "198    0.412317   0.417788   0.047101  ...        0.0    0.0           0.0\n",
            "1128   0.439296   0.447045   0.025451  ...        0.0    1.0           0.0\n",
            "1333   0.584751   0.588063   0.070400  ...        0.0    0.0           1.0\n",
            "1122   0.773021   0.775307   0.175683  ...        0.0    1.0           0.0\n",
            "1411   0.602346   0.603862   0.217941  ...        0.0    0.0           1.0\n",
            "\n",
            "[5 rows x 34 columns]\n"
          ],
          "name": "stdout"
        }
      ]
    },
    {
      "cell_type": "code",
      "metadata": {
        "colab": {
          "base_uri": "https://localhost:8080/"
        },
        "id": "G2DS_JKX_zJz",
        "outputId": "bf9dfa02-f0d0-4a1c-bad6-c215f8157fb3"
      },
      "source": [
        "faults_np = faults_shuffle.to_numpy()\n",
        "print(type(faults_np))"
      ],
      "execution_count": null,
      "outputs": [
        {
          "output_type": "stream",
          "text": [
            "<class 'numpy.ndarray'>\n"
          ],
          "name": "stdout"
        }
      ]
    },
    {
      "cell_type": "code",
      "metadata": {
        "id": "n4ehZUWN_8co"
      },
      "source": [
        "train_ratio = 0.93\n",
        "input_cnt   = 27\n",
        "output_cnt  = 7"
      ],
      "execution_count": null,
      "outputs": []
    },
    {
      "cell_type": "code",
      "metadata": {
        "colab": {
          "base_uri": "https://localhost:8080/"
        },
        "id": "avzdC3ytAKbO",
        "outputId": "13807d73-1956-4c37-eea4-b5c0bffb23f0"
      },
      "source": [
        "test_begin_index = int(len(faults_np) * train_ratio)\n",
        "print(\"test_begin_index : \", test_begin_index)"
      ],
      "execution_count": null,
      "outputs": [
        {
          "output_type": "stream",
          "text": [
            "test_begin_index :  1805\n"
          ],
          "name": "stdout"
        }
      ]
    },
    {
      "cell_type": "code",
      "metadata": {
        "colab": {
          "base_uri": "https://localhost:8080/"
        },
        "id": "rosOgkREAZP2",
        "outputId": "a6c9e5cb-d1cb-42fc-8013-b236ec146aa2"
      },
      "source": [
        "# train_X, train_Y = faults_np[ 행 , 열 ]\n",
        "train_X, train_Y = faults_np[ :test_begin_index , : -output_cnt], faults_np[ :test_begin_index , -output_cnt: ]\n",
        "test_X, test_Y   = faults_np[ test_begin_index: , : -output_cnt], faults_np[ test_begin_index: , -output_cnt: ]\n",
        "print(train_X.shape)\n",
        "print(train_Y.shape)\n",
        "print(test_X.shape)\n",
        "print(test_Y.shape)"
      ],
      "execution_count": null,
      "outputs": [
        {
          "output_type": "stream",
          "text": [
            "(1805, 27)\n",
            "(1805, 7)\n",
            "(136, 27)\n",
            "(136, 7)\n"
          ],
          "name": "stdout"
        }
      ]
    },
    {
      "cell_type": "markdown",
      "metadata": {
        "id": "2jSFYlUZjpSt"
      },
      "source": [
        "![image.png](data:image/png;base64,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)"
      ]
    },
    {
      "cell_type": "code",
      "metadata": {
        "id": "1AAd5VjhAenO"
      },
      "source": [
        "GJ_NET_MODEL = tf.keras.Sequential([\n",
        "                                    tf.keras.layers.Dense(units = 48,\n",
        "                                                          activation = 'elu',\n",
        "                                                          input_shape = (27,)),\n",
        "                                    tf.keras.layers.Dense(units = 24,\n",
        "                                                          activation = 'elu'),\n",
        "                                    tf.keras.layers.Dense(units = 12,\n",
        "                                                          activation = 'elu'),\n",
        "                                    tf.keras.layers.Dense(units = 7,\n",
        "                                                          activation = 'softmax')\n",
        "])"
      ],
      "execution_count": null,
      "outputs": []
    },
    {
      "cell_type": "code",
      "metadata": {
        "colab": {
          "base_uri": "https://localhost:8080/"
        },
        "id": "fyGbYwr4C98c",
        "outputId": "157e2303-f7a1-4ed3-cd76-bb6e850c15ec"
      },
      "source": [
        "GJ_NET_MODEL.summary()"
      ],
      "execution_count": null,
      "outputs": [
        {
          "output_type": "stream",
          "text": [
            "Model: \"sequential\"\n",
            "_________________________________________________________________\n",
            "Layer (type)                 Output Shape              Param #   \n",
            "=================================================================\n",
            "dense (Dense)                (None, 48)                1344      \n",
            "_________________________________________________________________\n",
            "dense_1 (Dense)              (None, 24)                1176      \n",
            "_________________________________________________________________\n",
            "dense_2 (Dense)              (None, 12)                300       \n",
            "_________________________________________________________________\n",
            "dense_3 (Dense)              (None, 7)                 91        \n",
            "=================================================================\n",
            "Total params: 2,911\n",
            "Trainable params: 2,911\n",
            "Non-trainable params: 0\n",
            "_________________________________________________________________\n"
          ],
          "name": "stdout"
        }
      ]
    },
    {
      "cell_type": "code",
      "metadata": {
        "id": "ekKKT3XkDv3d"
      },
      "source": [
        "GJ_NET_MODEL.compile(optimizer=tf.keras.optimizers.Adam(learning_rate=0.01),\n",
        "                     loss = 'categorical_crossentropy')"
      ],
      "execution_count": null,
      "outputs": []
    },
    {
      "cell_type": "code",
      "metadata": {
        "id": "mH1-2wuGEJSA"
      },
      "source": [
        "history_1 = GJ_NET_MODEL.fit(train_X, train_Y,\n",
        "                             epochs = 300, batch_size = 10)"
      ],
      "execution_count": null,
      "outputs": []
    },
    {
      "cell_type": "code",
      "metadata": {
        "colab": {
          "base_uri": "https://localhost:8080/",
          "height": 236
        },
        "id": "lxng3_JNEnkE",
        "outputId": "4dca815e-35e7-4bb8-bff5-57b2d6af6c0e"
      },
      "source": [
        "plt.figure(figsize=(20,4))\n",
        "plt.plot(history_1.history['loss'], '--o', color = 'green', label = 'loss')\n",
        "plt.xlabel(\"Epochs\")\n",
        "plt.ylabel('Loss')\n",
        "plt.legend()\n",
        "plt.grid()\n",
        "\n",
        "plt.show()"
      ],
      "execution_count": null,
      "outputs": [
        {
          "output_type": "display_data",
          "data": {
            "image/png": "[encoded data removed]",
            "text/plain": [
              "<Figure size 1440x288 with 1 Axes>"
            ]
          },
          "metadata": {
            "tags": [],
            "needs_background": "light"
          }
        }
      ]
    },
    {
      "cell_type": "code",
      "metadata": {
        "id": "1io2wHcwFjYF"
      },
      "source": [
        "pred_Y = GJ_NET_MODEL.predict(test_X)\n",
        "print(pred_Y)"
      ],
      "execution_count": null,
      "outputs": []
    },
    {
      "cell_type": "code",
      "metadata": {
        "colab": {
          "base_uri": "https://localhost:8080/"
        },
        "id": "PSINQBbRF6bc",
        "outputId": "91fa0deb-5db8-4734-ca78-ff47d8288bae"
      },
      "source": [
        "pred_Y = np.argmax(pred_Y, axis = 1)\n",
        "print(pred_Y)"
      ],
      "execution_count": null,
      "outputs": [
        {
          "output_type": "stream",
          "text": [
            "[4 5 2 0 6 2 2 3 6 6 6 2 2 6 6 2 2 2 6 2 5 6 6 1 5 6 2 5 5 6 5 2 6 5 1 5 3\n",
            " 6 6 6 2 0 3 2 5 5 1 3 1 5 2 5 6 6 6 0 3 6 5 5 5 1 6 2 2 5 5 5 2 5 6 5 1 1\n",
            " 2 6 2 6 6 1 3 6 1 6 1 0 6 2 6 6 6 5 3 5 1 2 5 2 5 6 5 6 0 5 5 6 6 1 2 0 5\n",
            " 6 6 5 5 2 6 5 2 0 6 6 3 2 4 2 2 2 2 1 1 1 2 6 1 6]\n"
          ],
          "name": "stdout"
        }
      ]
    },
    {
      "cell_type": "code",
      "metadata": {
        "colab": {
          "base_uri": "https://localhost:8080/"
        },
        "id": "3DyiOEpGGLBl",
        "outputId": "5776bbb4-2632-4d5e-b7b9-716d5e8d7048"
      },
      "source": [
        "test_Y = np.argmax(test_Y, axis=1)\n",
        "print(test_Y)"
      ],
      "execution_count": null,
      "outputs": [
        {
          "output_type": "stream",
          "text": [
            "[4 5 2 4 5 2 2 3 6 6 5 2 2 6 0 2 6 2 6 2 5 5 5 1 6 5 2 5 5 5 5 2 5 6 1 5 3\n",
            " 5 3 6 2 0 3 2 5 5 1 3 6 6 2 5 4 6 2 0 3 6 6 5 5 1 5 2 2 5 6 5 2 4 6 0 1 6\n",
            " 2 6 2 5 0 1 3 0 1 6 1 0 6 2 6 6 6 6 3 5 1 2 5 2 6 6 6 6 6 5 5 1 4 1 2 6 5\n",
            " 6 6 5 1 2 6 5 2 6 6 5 6 2 4 2 2 2 2 1 1 1 2 6 1 6]\n"
          ],
          "name": "stdout"
        }
      ]
    },
    {
      "cell_type": "code",
      "metadata": {
        "id": "GSxqQvkGGR-M"
      },
      "source": [
        "acc = np.mean(np.equal(pred_Y, test_Y))"
      ],
      "execution_count": null,
      "outputs": []
    },
    {
      "cell_type": "code",
      "metadata": {
        "colab": {
          "base_uri": "https://localhost:8080/"
        },
        "id": "J1r2jcimGkzT",
        "outputId": "7c531fde-d3ac-4d87-f9ca-eef36e38375a"
      },
      "source": [
        "print(\"GJ_NET_MODEL ACC : {} %\".format(np.round(acc * 100,2)))"
      ],
      "execution_count": null,
      "outputs": [
        {
          "output_type": "stream",
          "text": [
            "GJ_NET_MODEL ACC : 72.06 %\n"
          ],
          "name": "stdout"
        }
      ]
    },
    {
      "cell_type": "code",
      "metadata": {
        "colab": {
          "base_uri": "https://localhost:8080/"
        },
        "id": "ao6wbTGgGzs-",
        "outputId": "bc22fb2f-8cbc-48c5-88b9-e4191e349365"
      },
      "source": [
        "GJ_NET_MODEL.weights[0]"
      ],
      "execution_count": null,
      "outputs": [
        {
          "output_type": "execute_result",
          "data": {
            "text/plain": [
              "<tf.Variable 'dense/kernel:0' shape=(27, 48) dtype=float32, numpy=\n",
              "array([[-0.8912321 ,  1.8214372 , -0.21117614, ..., -0.05640367,\n",
              "         0.56969225, -0.20172994],\n",
              "       [-0.488667  ,  1.5082209 , -0.54143155, ...,  0.05089623,\n",
              "         0.40869102, -0.31649432],\n",
              "       [ 1.1086965 , -6.249013  , -0.27939522, ..., -0.62885803,\n",
              "         2.9507318 ,  2.2508233 ],\n",
              "       ...,\n",
              "       [ 1.3771594 ,  0.42769873,  0.04637877, ..., -2.5650022 ,\n",
              "        -0.83469373,  2.1271386 ],\n",
              "       [-0.06090142,  1.4575622 , -0.07960727, ..., -0.71253735,\n",
              "         2.9061058 , -2.3874323 ],\n",
              "       [ 1.3229275 ,  1.0360996 ,  0.55184186, ...,  1.8289934 ,\n",
              "        -2.5127463 ,  1.1290734 ]], dtype=float32)>"
            ]
          },
          "metadata": {
            "tags": []
          },
          "execution_count": 29
        }
      ]
    },
    {
      "cell_type": "code",
      "metadata": {
        "colab": {
          "base_uri": "https://localhost:8080/"
        },
        "id": "5fbIGn8sIg8g",
        "outputId": "ce2c22cc-5355-4ffd-9177-f8eef11e6617"
      },
      "source": [
        "GJ_NET_MODEL.weights[5]"
      ],
      "execution_count": null,
      "outputs": [
        {
          "output_type": "execute_result",
          "data": {
            "text/plain": [
              "<tf.Variable 'dense_2/bias:0' shape=(12,) dtype=float32, numpy=\n",
              "array([ 0.04790867, -0.58302754, -4.7168126 , -1.9259015 , -4.0354843 ,\n",
              "       -1.1408004 , -4.3205285 , -4.707156  , -1.4490173 , -4.8598533 ,\n",
              "       -7.0692043 , -1.5440916 ], dtype=float32)>"
            ]
          },
          "metadata": {
            "tags": []
          },
          "execution_count": 33
        }
      ]
    },
    {
      "cell_type": "markdown",
      "metadata": {
        "id": "-TvrbOCSL5xt"
      },
      "source": [
        "![image.png](data:image/png;base64,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)"
      ]
    },
    {
      "cell_type": "code",
      "metadata": {
        "colab": {
          "base_uri": "https://localhost:8080/"
        },
        "id": "Z9FPDLnjKLqi",
        "outputId": "24d82035-306b-42bd-b944-0c0ca8435e25"
      },
      "source": [
        "df = pd.read_csv('/content/abalone.csv')\n",
        "df.info()"
      ],
      "execution_count": null,
      "outputs": [
        {
          "output_type": "stream",
          "text": [
            "<class 'pandas.core.frame.DataFrame'>\n",
            "RangeIndex: 4177 entries, 0 to 4176\n",
            "Data columns (total 9 columns):\n",
            " #   Column          Non-Null Count  Dtype  \n",
            "---  ------          --------------  -----  \n",
            " 0   Sex             4177 non-null   object \n",
            " 1   Length          4177 non-null   float64\n",
            " 2   Diameter        4177 non-null   float64\n",
            " 3   Height          4177 non-null   float64\n",
            " 4   Whole weight    4177 non-null   float64\n",
            " 5   Shucked weight  4177 non-null   float64\n",
            " 6   Viscera weight  4177 non-null   float64\n",
            " 7   Shell weight    4177 non-null   float64\n",
            " 8   Rings           4177 non-null   int64  \n",
            "dtypes: float64(7), int64(1), object(1)\n",
            "memory usage: 293.8+ KB\n"
          ],
          "name": "stdout"
        }
      ]
    },
    {
      "cell_type": "code",
      "metadata": {
        "colab": {
          "base_uri": "https://localhost:8080/",
          "height": 295
        },
        "id": "Z89DZ3jdMzSj",
        "outputId": "108c126d-88e4-48ff-dcdf-6d39a2aa8ac3"
      },
      "source": [
        "df.describe()"
      ],
      "execution_count": null,
      "outputs": [
        {
          "output_type": "execute_result",
          "data": {
            "text/html": [
              "<div>\n",
              "<style scoped>\n",
              "    .dataframe tbody tr th:only-of-type {\n",
              "        vertical-align: middle;\n",
              "    }\n",
              "\n",
              "    .dataframe tbody tr th {\n",
              "        vertical-align: top;\n",
              "    }\n",
              "\n",
              "    .dataframe thead th {\n",
              "        text-align: right;\n",
              "    }\n",
              "</style>\n",
              "<table border=\"1\" class=\"dataframe\">\n",
              "  <thead>\n",
              "    <tr style=\"text-align: right;\">\n",
              "      <th></th>\n",
              "      <th>Length</th>\n",
              "      <th>Diameter</th>\n",
              "      <th>Height</th>\n",
              "      <th>Whole weight</th>\n",
              "      <th>Shucked weight</th>\n",
              "      <th>Viscera weight</th>\n",
              "      <th>Shell weight</th>\n",
              "      <th>Rings</th>\n",
              "    </tr>\n",
              "  </thead>\n",
              "  <tbody>\n",
              "    <tr>\n",
              "      <th>count</th>\n",
              "      <td>4177.000000</td>\n",
              "      <td>4177.000000</td>\n",
              "      <td>4177.000000</td>\n",
              "      <td>4177.000000</td>\n",
              "      <td>4177.000000</td>\n",
              "      <td>4177.000000</td>\n",
              "      <td>4177.000000</td>\n",
              "      <td>4177.000000</td>\n",
              "    </tr>\n",
              "    <tr>\n",
              "      <th>mean</th>\n",
              "      <td>0.523992</td>\n",
              "      <td>0.407881</td>\n",
              "      <td>0.139516</td>\n",
              "      <td>0.828742</td>\n",
              "      <td>0.359367</td>\n",
              "      <td>0.180594</td>\n",
              "      <td>0.238831</td>\n",
              "      <td>9.933684</td>\n",
              "    </tr>\n",
              "    <tr>\n",
              "      <th>std</th>\n",
              "      <td>0.120093</td>\n",
              "      <td>0.099240</td>\n",
              "      <td>0.041827</td>\n",
              "      <td>0.490389</td>\n",
              "      <td>0.221963</td>\n",
              "      <td>0.109614</td>\n",
              "      <td>0.139203</td>\n",
              "      <td>3.224169</td>\n",
              "    </tr>\n",
              "    <tr>\n",
              "      <th>min</th>\n",
              "      <td>0.075000</td>\n",
              "      <td>0.055000</td>\n",
              "      <td>0.000000</td>\n",
              "      <td>0.002000</td>\n",
              "      <td>0.001000</td>\n",
              "      <td>0.000500</td>\n",
              "      <td>0.001500</td>\n",
              "      <td>1.000000</td>\n",
              "    </tr>\n",
              "    <tr>\n",
              "      <th>25%</th>\n",
              "      <td>0.450000</td>\n",
              "      <td>0.350000</td>\n",
              "      <td>0.115000</td>\n",
              "      <td>0.441500</td>\n",
              "      <td>0.186000</td>\n",
              "      <td>0.093500</td>\n",
              "      <td>0.130000</td>\n",
              "      <td>8.000000</td>\n",
              "    </tr>\n",
              "    <tr>\n",
              "      <th>50%</th>\n",
              "      <td>0.545000</td>\n",
              "      <td>0.425000</td>\n",
              "      <td>0.140000</td>\n",
              "      <td>0.799500</td>\n",
              "      <td>0.336000</td>\n",
              "      <td>0.171000</td>\n",
              "      <td>0.234000</td>\n",
              "      <td>9.000000</td>\n",
              "    </tr>\n",
              "    <tr>\n",
              "      <th>75%</th>\n",
              "      <td>0.615000</td>\n",
              "      <td>0.480000</td>\n",
              "      <td>0.165000</td>\n",
              "      <td>1.153000</td>\n",
              "      <td>0.502000</td>\n",
              "      <td>0.253000</td>\n",
              "      <td>0.329000</td>\n",
              "      <td>11.000000</td>\n",
              "    </tr>\n",
              "    <tr>\n",
              "      <th>max</th>\n",
              "      <td>0.815000</td>\n",
              "      <td>0.650000</td>\n",
              "      <td>1.130000</td>\n",
              "      <td>2.825500</td>\n",
              "      <td>1.488000</td>\n",
              "      <td>0.760000</td>\n",
              "      <td>1.005000</td>\n",
              "      <td>29.000000</td>\n",
              "    </tr>\n",
              "  </tbody>\n",
              "</table>\n",
              "</div>"
            ],
            "text/plain": [
              "            Length     Diameter  ...  Shell weight        Rings\n",
              "count  4177.000000  4177.000000  ...   4177.000000  4177.000000\n",
              "mean      0.523992     0.407881  ...      0.238831     9.933684\n",
              "std       0.120093     0.099240  ...      0.139203     3.224169\n",
              "min       0.075000     0.055000  ...      0.001500     1.000000\n",
              "25%       0.450000     0.350000  ...      0.130000     8.000000\n",
              "50%       0.545000     0.425000  ...      0.234000     9.000000\n",
              "75%       0.615000     0.480000  ...      0.329000    11.000000\n",
              "max       0.815000     0.650000  ...      1.005000    29.000000\n",
              "\n",
              "[8 rows x 8 columns]"
            ]
          },
          "metadata": {
            "tags": []
          },
          "execution_count": 35
        }
      ]
    },
    {
      "cell_type": "code",
      "metadata": {
        "id": "o9EQcBBbMD7V"
      },
      "source": [
        "import csv \n",
        "\n",
        "with open('/content/abalone.csv') as csvfile:\n",
        "    csvreader = csv.reader(csvfile)\n",
        "    next(csvreader)\n",
        "\n",
        "    rows = []\n",
        "    for row in csvreader:\n",
        "        rows.append(row)"
      ],
      "execution_count": null,
      "outputs": []
    },
    {
      "cell_type": "code",
      "metadata": {
        "colab": {
          "base_uri": "https://localhost:8080/"
        },
        "id": "gKkiRVglNpT-",
        "outputId": "c3796b77-6329-4708-d7c6-0faea9707080"
      },
      "source": [
        "rows[:5]"
      ],
      "execution_count": null,
      "outputs": [
        {
          "output_type": "execute_result",
          "data": {
            "text/plain": [
              "[['M', '0.455', '0.365', '0.095', '0.514', '0.2245', '0.101', '0.15', '15'],\n",
              " ['M', '0.35', '0.265', '0.09', '0.2255', '0.0995', '0.0485', '0.07', '7'],\n",
              " ['F', '0.53', '0.42', '0.135', '0.677', '0.2565', '0.1415', '0.21', '9'],\n",
              " ['M', '0.44', '0.365', '0.125', '0.516', '0.2155', '0.114', '0.155', '10'],\n",
              " ['I', '0.33', '0.255', '0.08', '0.205', '0.0895', '0.0395', '0.055', '7']]"
            ]
          },
          "metadata": {
            "tags": []
          },
          "execution_count": 41
        }
      ]
    },
    {
      "cell_type": "code",
      "metadata": {
        "colab": {
          "base_uri": "https://localhost:8080/"
        },
        "id": "upVSpWCjNrBK",
        "outputId": "bbc60a3d-9fcc-42c2-b752-6d50bec6bc3d"
      },
      "source": [
        "input_cnt  = 10\n",
        "output_cnt = 1\n",
        "\n",
        "data = np.zeros([len(rows), input_cnt + output_cnt])\n",
        "print(data.shape)"
      ],
      "execution_count": null,
      "outputs": [
        {
          "output_type": "stream",
          "text": [
            "(4177, 11)\n"
          ],
          "name": "stdout"
        }
      ]
    },
    {
      "cell_type": "code",
      "metadata": {
        "id": "a8Yx5VazOFhM"
      },
      "source": [
        "for n,row in enumerate(rows):\n",
        "    if row[0] == 'M' : data[n,0] = 1\n",
        "    if row[0] == 'F' : data[n,1] = 1\n",
        "    if row[0] == 'I' : data[n,2] = 1\n",
        "    data[n,3 :] = row[1:]"
      ],
      "execution_count": null,
      "outputs": []
    },
    {
      "cell_type": "code",
      "metadata": {
        "colab": {
          "base_uri": "https://localhost:8080/"
        },
        "id": "Bq9cREjrOmmF",
        "outputId": "56ba96bf-a2af-4da8-8098-abb3c7a75034"
      },
      "source": [
        "data[:5]"
      ],
      "execution_count": null,
      "outputs": [
        {
          "output_type": "execute_result",
          "data": {
            "text/plain": [
              "array([[ 1.    ,  0.    ,  0.    ,  0.455 ,  0.365 ,  0.095 ,  0.514 ,\n",
              "         0.2245,  0.101 ,  0.15  , 15.    ],\n",
              "       [ 1.    ,  0.    ,  0.    ,  0.35  ,  0.265 ,  0.09  ,  0.2255,\n",
              "         0.0995,  0.0485,  0.07  ,  7.    ],\n",
              "       [ 0.    ,  1.    ,  0.    ,  0.53  ,  0.42  ,  0.135 ,  0.677 ,\n",
              "         0.2565,  0.1415,  0.21  ,  9.    ],\n",
              "       [ 1.    ,  0.    ,  0.    ,  0.44  ,  0.365 ,  0.125 ,  0.516 ,\n",
              "         0.2155,  0.114 ,  0.155 , 10.    ],\n",
              "       [ 0.    ,  0.    ,  1.    ,  0.33  ,  0.255 ,  0.08  ,  0.205 ,\n",
              "         0.0895,  0.0395,  0.055 ,  7.    ]])"
            ]
          },
          "metadata": {
            "tags": []
          },
          "execution_count": 47
        }
      ]
    },
    {
      "cell_type": "code",
      "metadata": {
        "id": "tV6rykA5OnOc"
      },
      "source": [
        "train_ratio = 0.8\n"
      ],
      "execution_count": null,
      "outputs": []
    },
    {
      "cell_type": "code",
      "metadata": {
        "colab": {
          "base_uri": "https://localhost:8080/"
        },
        "id": "XdnAxLDDO62E",
        "outputId": "67681a27-dc67-4096-f636-d1df954a5ea9"
      },
      "source": [
        "test_begin_index = int(data.shape[0] * train_ratio)\n",
        "print(\"test_begin_index : \", test_begin_index)"
      ],
      "execution_count": null,
      "outputs": [
        {
          "output_type": "stream",
          "text": [
            "test_begin_index :  3884\n"
          ],
          "name": "stdout"
        }
      ]
    },
    {
      "cell_type": "code",
      "metadata": {
        "colab": {
          "base_uri": "https://localhost:8080/"
        },
        "id": "5gsd3kaBO7z8",
        "outputId": "36a7b22a-d17e-4fd3-b434-2cb4d7579d25"
      },
      "source": [
        "shuffle_map = np.arange(data.shape[0])\n",
        "np.random.shuffle(shuffle_map)\n",
        "print(shuffle_map[:5])"
      ],
      "execution_count": null,
      "outputs": [
        {
          "output_type": "stream",
          "text": [
            "[ 749 3245  564 3366  111]\n"
          ],
          "name": "stdout"
        }
      ]
    },
    {
      "cell_type": "code",
      "metadata": {
        "colab": {
          "base_uri": "https://localhost:8080/"
        },
        "id": "8byF2VSYPKcW",
        "outputId": "3cc0b91f-5c57-4418-ad51-3469dbdd9f19"
      },
      "source": [
        "train_data = data[shuffle_map[:test_begin_index]]\n",
        "print(train_data.shape)"
      ],
      "execution_count": null,
      "outputs": [
        {
          "output_type": "stream",
          "text": [
            "(3884, 11)\n"
          ],
          "name": "stdout"
        }
      ]
    },
    {
      "cell_type": "code",
      "metadata": {
        "colab": {
          "base_uri": "https://localhost:8080/"
        },
        "id": "QWLwAXIPPamM",
        "outputId": "ee508ede-ea70-45c1-bddc-d6fc0016adbc"
      },
      "source": [
        "test_data = data[shuffle_map[test_begin_index:]]\n",
        "print(test_data.shape)"
      ],
      "execution_count": null,
      "outputs": [
        {
          "output_type": "stream",
          "text": [
            "(293, 11)\n"
          ],
          "name": "stdout"
        }
      ]
    },
    {
      "cell_type": "code",
      "metadata": {
        "id": "ECZdpQFaPvjp"
      },
      "source": [
        "train_X, train_Y = train_data[:,:-output_cnt], train_data[:,-output_cnt : ]\n",
        "test_X, test_Y   = test_data[:,:-output_cnt], test_data[:,-output_cnt : ]"
      ],
      "execution_count": null,
      "outputs": []
    },
    {
      "cell_type": "code",
      "metadata": {
        "colab": {
          "base_uri": "https://localhost:8080/"
        },
        "id": "AlphhUn2P-TD",
        "outputId": "b7e74f6b-59b6-4817-af6e-11f6962c9fa8"
      },
      "source": [
        "print(train_X.shape)\n",
        "print(train_Y.shape)\n",
        "\n",
        "print(test_X.shape)\n",
        "print(test_Y.shape)"
      ],
      "execution_count": null,
      "outputs": [
        {
          "output_type": "stream",
          "text": [
            "(3884, 10)\n",
            "(3884, 1)\n",
            "(293, 10)\n",
            "(293, 1)\n"
          ],
          "name": "stdout"
        }
      ]
    }
  ]
}