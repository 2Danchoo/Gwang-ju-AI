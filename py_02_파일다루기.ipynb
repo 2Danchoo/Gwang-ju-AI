{
  "nbformat": 4,
  "nbformat_minor": 0,
  "metadata": {
    "colab": {
      "name": "py_02-파일다루기.ipynb",
      "provenance": [],
      "collapsed_sections": []
    },
    "kernelspec": {
      "name": "python3",
      "display_name": "Python 3"
    },
    "language_info": {
      "name": "python"
    }
  },
  "cells": [
    {
      "cell_type": "code",
      "metadata": {
        "id": "U-CIfalLhI72",
        "colab": {
          "base_uri": "https://localhost:8080/"
        },
        "outputId": "fa312391-5fbf-4a6b-863d-6c90c9a91c82"
      },
      "source": [
        "# 구글드라이브 연동\n",
        "from google.colab import drive\n",
        "drive.mount('/gdrive', force_remount=True)"
      ],
      "execution_count": null,
      "outputs": [
        {
          "output_type": "stream",
          "text": [
            "Mounted at /gdrive\n"
          ],
          "name": "stdout"
        }
      ]
    },
    {
      "cell_type": "code",
      "metadata": {
        "colab": {
          "base_uri": "https://localhost:8080/"
        },
        "id": "vi-4rlILVi5P",
        "outputId": "74d3ce46-971a-4141-ae1f-94e6e7bf4cc7"
      },
      "source": [
        "!ls '/gdrive'"
      ],
      "execution_count": null,
      "outputs": [
        {
          "output_type": "stream",
          "text": [
            "MyDrive\n"
          ],
          "name": "stdout"
        }
      ]
    },
    {
      "cell_type": "code",
      "metadata": {
        "id": "DE_sCukSUOvQ"
      },
      "source": [
        "# 구글 드라이브 파일 확인\n",
        "!ls '/gdrive/My Drive/temp/'"
      ],
      "execution_count": null,
      "outputs": []
    },
    {
      "cell_type": "code",
      "metadata": {
        "id": "haeacl_gUNPy"
      },
      "source": [
        "# 반복되는 드라이브 경로 변수화\n",
        "drive_path = '/gdrive/My Drive/temp/'"
      ],
      "execution_count": null,
      "outputs": []
    },
    {
      "cell_type": "markdown",
      "metadata": {
        "id": "xAUIvkvSbQ4J"
      },
      "source": [
        "# 파일 다루기 1\n"
      ]
    },
    {
      "cell_type": "markdown",
      "metadata": {
        "id": "cRHR82f9YpBV"
      },
      "source": [
        "## 파일 생성\n",
        "\n",
        "* 쓰기 모드('w')\n",
        "* 추가 모드('a')\n",
        "* 읽기 모드('r')"
      ]
    },
    {
      "cell_type": "code",
      "metadata": {
        "id": "AnhddEBp6r5b"
      },
      "source": [
        "f = open('test.csv', 'w')\n",
        "f.write('1,2,3,4,5 \\n')\n",
        "f.close()"
      ],
      "execution_count": null,
      "outputs": []
    },
    {
      "cell_type": "code",
      "metadata": {
        "colab": {
          "base_uri": "https://localhost:8080/"
        },
        "id": "5qrWrr1DirbS",
        "outputId": "88ac9501-ae10-4670-97ee-99e3c1694d9b"
      },
      "source": [
        "!cat test.csv"
      ],
      "execution_count": null,
      "outputs": [
        {
          "output_type": "stream",
          "text": [
            "1,2,3,4,5 \n"
          ],
          "name": "stdout"
        }
      ]
    },
    {
      "cell_type": "code",
      "metadata": {
        "id": "hy45DC1_jlBO"
      },
      "source": [
        "with open(\"test.csv\", 'a') as f:\n",
        "  f.write(\"1,2,3,4,5 \\n\")\n",
        "  f.write(\"1,2,3,4,5 \\n\")\n",
        "  f.write(\"1,2,3,4,5 \\n\")"
      ],
      "execution_count": null,
      "outputs": []
    },
    {
      "cell_type": "markdown",
      "metadata": {
        "id": "gjfkx85vSzV8"
      },
      "source": [
        "with문을 사용하면 with 블록을 벗어나는 순간 열린 파일 객체 f가 자동으로 close되어 편리하다.\n",
        "\n"
      ]
    },
    {
      "cell_type": "code",
      "metadata": {
        "colab": {
          "base_uri": "https://localhost:8080/"
        },
        "id": "idraux-mjA9B",
        "outputId": "e0954584-690a-4357-c11c-16425807f6c6"
      },
      "source": [
        "with open(\"test.csv\", 'r') as f:\n",
        "  for line in f:\n",
        "    print(line, end='')"
      ],
      "execution_count": null,
      "outputs": [
        {
          "output_type": "stream",
          "text": [
            "1,2,3,4,5 \n",
            "1,2,3,4,5 \n",
            "1,2,3,4,5 \n",
            "1,2,3,4,5 \n"
          ],
          "name": "stdout"
        }
      ]
    },
    {
      "cell_type": "markdown",
      "metadata": {
        "id": "MBpwsDF8YpBp"
      },
      "source": [
        "## 옵션\n",
        "'r'\tOpen a file for reading. (default)  \n",
        "'w'\tOpen a file for writing. Creates a new file if it does not exist or truncates the file if it exists.  \n",
        "'x'\tOpen a file for exclusive creation. If the file already exists, the operation fails.  \n",
        "'a'\tOpen for appending at the end of the file without truncating it.   Creates a new file if it does not exist.\n",
        "'t'\tOpen in text mode. (default)  \n",
        "'b'\tOpen in binary mode.  \n",
        "'+'\tOpen a file for updating (reading and writing)  "
      ]
    },
    {
      "cell_type": "code",
      "metadata": {
        "id": "xfR5flSz6zkS"
      },
      "source": [
        "with open(\"test2.txt\", \"w\") as f:\n",
        "  f.write(\"file writer \\n\")\n",
        "  for i in range(1, 11):\n",
        "    data = '%d number \\n' % i\n",
        "    f.write(data)\n",
        "                 "
      ],
      "execution_count": null,
      "outputs": []
    },
    {
      "cell_type": "code",
      "metadata": {
        "colab": {
          "base_uri": "https://localhost:8080/"
        },
        "id": "oIuctjj2k8We",
        "outputId": "d72cb5f9-a3f6-4ffd-e209-a828ba4b50a6"
      },
      "source": [
        "!cat test2.txt"
      ],
      "execution_count": null,
      "outputs": [
        {
          "output_type": "stream",
          "text": [
            "file writer \n",
            "1 number \n",
            "2 number \n",
            "3 number \n",
            "4 number \n",
            "5 number \n",
            "6 number \n",
            "7 number \n",
            "8 number \n",
            "9 number \n",
            "10 number \n"
          ],
          "name": "stdout"
        }
      ]
    },
    {
      "cell_type": "code",
      "metadata": {
        "colab": {
          "base_uri": "https://localhost:8080/"
        },
        "id": "q24rz05IlY6p",
        "outputId": "b7d39268-f0ea-49bf-acbb-76a1b6c8d913"
      },
      "source": [
        "with open(\"test2.txt\", 'r') as f:\n",
        "  for line in f:\n",
        "    print(line, end='')"
      ],
      "execution_count": null,
      "outputs": [
        {
          "output_type": "stream",
          "text": [
            "file writer \n",
            "1 number \n",
            "2 number \n",
            "3 number \n",
            "4 number \n",
            "5 number \n",
            "6 number \n",
            "7 number \n",
            "8 number \n",
            "9 number \n",
            "10 number \n"
          ],
          "name": "stdout"
        }
      ]
    },
    {
      "cell_type": "markdown",
      "metadata": {
        "id": "oYqZUzKofqae"
      },
      "source": [
        "result.txt 에 평균값을 저장하세요.\n",
        "```\n",
        "평균 값: ....\n",
        "```"
      ]
    },
    {
      "cell_type": "code",
      "metadata": {
        "id": "Qlu9__TDl6KR"
      },
      "source": [
        "with open(\"sample.csv\", \"w\") as f:\n",
        "  f.write('70\\n')\n",
        "  f.write('60\\n')\n",
        "  f.write('55\\n')\n",
        "  f.write('75\\n')\n",
        "  f.write('95\\n')\n",
        "  f.write('90\\n')\n",
        "  f.write('80\\n')\n",
        "  f.write('80\\n')\n",
        "  f.write('85\\n')\n",
        "  f.write('100\\n')"
      ],
      "execution_count": null,
      "outputs": []
    },
    {
      "cell_type": "code",
      "metadata": {
        "colab": {
          "base_uri": "https://localhost:8080/"
        },
        "id": "DUbVSw_BmT7i",
        "outputId": "1611f7c2-7eb4-4f51-f750-2993c4ccf7e1"
      },
      "source": [
        "!cat sample.csv"
      ],
      "execution_count": null,
      "outputs": [
        {
          "output_type": "stream",
          "text": [
            "70\n",
            "60\n",
            "55\n",
            "75\n",
            "95\n",
            "90\n",
            "80\n",
            "80\n",
            "85\n",
            "100\n"
          ],
          "name": "stdout"
        }
      ]
    },
    {
      "cell_type": "code",
      "metadata": {
        "id": "KCPfIhPboQV5"
      },
      "source": [
        "sum = 0\n",
        "count = 0\n",
        "with open(\"sample.csv\", 'r') as f:\n",
        "  for line in f:\n",
        "    sum += int(line)\n",
        "    count += 1\n",
        "\n",
        "avg = sum / count\n",
        "\n",
        "with open(\"result.txt\", \"w\") as f:\n",
        "  f.write('평균 값: %d' % avg)"
      ],
      "execution_count": null,
      "outputs": []
    },
    {
      "cell_type": "code",
      "metadata": {
        "colab": {
          "base_uri": "https://localhost:8080/"
        },
        "id": "rJRFcoZKpY1E",
        "outputId": "0f7e2acf-3760-4b66-edfc-a82a22b55629"
      },
      "source": [
        "!cat result.txt"
      ],
      "execution_count": null,
      "outputs": [
        {
          "output_type": "stream",
          "text": [
            "평균 값: 79"
          ],
          "name": "stdout"
        }
      ]
    },
    {
      "cell_type": "markdown",
      "metadata": {
        "id": "2oCb5lAYYpCN"
      },
      "source": [
        "## 디렉토리"
      ]
    },
    {
      "cell_type": "code",
      "metadata": {
        "id": "JF8qp_VY6-Ck",
        "colab": {
          "base_uri": "https://localhost:8080/",
          "height": 34
        },
        "outputId": "acd2c70a-2c27-46a2-f4ee-65ce810944ee"
      },
      "source": [
        "import os\n",
        "os.getcwd()"
      ],
      "execution_count": null,
      "outputs": [
        {
          "output_type": "execute_result",
          "data": {
            "application/vnd.google.colaboratory.intrinsic+json": {
              "type": "string"
            },
            "text/plain": [
              "'/content'"
            ]
          },
          "metadata": {
            "tags": []
          },
          "execution_count": 30
        }
      ]
    },
    {
      "cell_type": "code",
      "metadata": {
        "colab": {
          "base_uri": "https://localhost:8080/"
        },
        "id": "_E2unDwhtCEH",
        "outputId": "77dc971d-0da5-4901-c174-c4702319ab38"
      },
      "source": [
        "!pwd"
      ],
      "execution_count": null,
      "outputs": [
        {
          "output_type": "stream",
          "text": [
            "/content\n"
          ],
          "name": "stdout"
        }
      ]
    },
    {
      "cell_type": "code",
      "metadata": {
        "colab": {
          "base_uri": "https://localhost:8080/",
          "height": 34
        },
        "id": "gH5UogektK2I",
        "outputId": "80eeebe5-1bdb-4d4d-bfc7-cac3a82d2fde"
      },
      "source": [
        "os.chdir('/content/sample_data')\n",
        "os.getcwd()"
      ],
      "execution_count": null,
      "outputs": [
        {
          "output_type": "execute_result",
          "data": {
            "application/vnd.google.colaboratory.intrinsic+json": {
              "type": "string"
            },
            "text/plain": [
              "'/content/sample_data'"
            ]
          },
          "metadata": {
            "tags": []
          },
          "execution_count": 32
        }
      ]
    },
    {
      "cell_type": "code",
      "metadata": {
        "colab": {
          "base_uri": "https://localhost:8080/"
        },
        "id": "tnE0e_jAtgNA",
        "outputId": "b39541ca-1930-4e1d-8a68-a7b7dcc3a628"
      },
      "source": [
        "os.listdir()"
      ],
      "execution_count": null,
      "outputs": [
        {
          "output_type": "execute_result",
          "data": {
            "text/plain": [
              "['anscombe.json',\n",
              " 'README.md',\n",
              " 'california_housing_test.csv',\n",
              " 'mnist_test.csv',\n",
              " 'california_housing_train.csv',\n",
              " 'mnist_train_small.csv']"
            ]
          },
          "metadata": {
            "tags": []
          },
          "execution_count": 33
        }
      ]
    },
    {
      "cell_type": "code",
      "metadata": {
        "colab": {
          "base_uri": "https://localhost:8080/",
          "height": 34
        },
        "id": "OEiDwLGuuAwC",
        "outputId": "7be5decd-55a8-40d1-af2f-69eca2863634"
      },
      "source": [
        "os.chdir('/content')\n",
        "os.getcwd()"
      ],
      "execution_count": null,
      "outputs": [
        {
          "output_type": "execute_result",
          "data": {
            "application/vnd.google.colaboratory.intrinsic+json": {
              "type": "string"
            },
            "text/plain": [
              "'/content'"
            ]
          },
          "metadata": {
            "tags": []
          },
          "execution_count": 36
        }
      ]
    },
    {
      "cell_type": "code",
      "metadata": {
        "colab": {
          "base_uri": "https://localhost:8080/"
        },
        "id": "NH67LMbAuXVo",
        "outputId": "28f987dc-1c54-4635-a313-18d527b034ef"
      },
      "source": [
        "os.mkdir('test')\n",
        "os.listdir()"
      ],
      "execution_count": null,
      "outputs": [
        {
          "output_type": "execute_result",
          "data": {
            "text/plain": [
              "['.config',\n",
              " 'sample.csv',\n",
              " 'result.txt',\n",
              " 'test.csv',\n",
              " 'test',\n",
              " 'test2.txt',\n",
              " 'sample_data']"
            ]
          },
          "metadata": {
            "tags": []
          },
          "execution_count": 37
        }
      ]
    },
    {
      "cell_type": "code",
      "metadata": {
        "id": "ZbuJhVnwvDdQ"
      },
      "source": [
        "import json"
      ],
      "execution_count": null,
      "outputs": []
    },
    {
      "cell_type": "code",
      "metadata": {
        "id": "7nETBhZ4YpCr"
      },
      "source": [
        "# json은 python에서처럼 '으로 하면 안된다. 현재 \"\"\"로 감싸 문자열로 저장되어 있기 때문에 \n",
        "# javascript에서는 '를 string 값으로 인식하지 않아서 에러 발생\n",
        "obj = \"\"\"\n",
        "{\n",
        "    \"name\": \"Kim\",\n",
        "    \"places_lived\": [\"Seoul\", \"Korea\"],\n",
        "    \"pet\": null, \"siblings\": [{\"name\": \"Scott\", \"age\":25, \"pet\":\"Zuko\"}]\n",
        "}\n",
        "\"\"\""
      ],
      "execution_count": null,
      "outputs": []
    },
    {
      "cell_type": "code",
      "metadata": {
        "colab": {
          "base_uri": "https://localhost:8080/"
        },
        "id": "XYKO6ZuvvzoK",
        "outputId": "6638d75e-3bec-42ed-e41a-92b916b1dc7d"
      },
      "source": [
        "result = json.loads(obj)\n",
        "result"
      ],
      "execution_count": null,
      "outputs": [
        {
          "output_type": "execute_result",
          "data": {
            "text/plain": [
              "{'name': 'Kim',\n",
              " 'pet': None,\n",
              " 'places_lived': ['Seoul', 'Korea'],\n",
              " 'siblings': [{'age': 25, 'name': 'Scott', 'pet': 'Zuko'}]}"
            ]
          },
          "metadata": {
            "tags": []
          },
          "execution_count": 40
        }
      ]
    },
    {
      "cell_type": "code",
      "metadata": {
        "colab": {
          "base_uri": "https://localhost:8080/",
          "height": 52
        },
        "id": "1JzuXGS_wJmg",
        "outputId": "2a45a477-bfff-4df3-ad13-3feefd8c1591"
      },
      "source": [
        "txt = json.dumps(result)\n",
        "txt"
      ],
      "execution_count": null,
      "outputs": [
        {
          "output_type": "execute_result",
          "data": {
            "application/vnd.google.colaboratory.intrinsic+json": {
              "type": "string"
            },
            "text/plain": [
              "'{\"name\": \"Kim\", \"places_lived\": [\"Seoul\", \"Korea\"], \"pet\": null, \"siblings\": [{\"name\": \"Scott\", \"age\": 25, \"pet\": \"Zuko\"}]}'"
            ]
          },
          "metadata": {
            "tags": []
          },
          "execution_count": 41
        }
      ]
    },
    {
      "cell_type": "markdown",
      "metadata": {
        "id": "iOfHDITLcs2s"
      },
      "source": [
        "# 파일 다루기 2\n",
        "파이썬 라이브러리\n",
        "os\n",
        "pickle\n",
        "shelve\n",
        "...\n"
      ]
    },
    {
      "cell_type": "markdown",
      "metadata": {
        "id": "Bmys17_bdoly"
      },
      "source": [
        "## 파이썬 라이브러리\n",
        "파이썬 사용자들이 만든 유용한 프로그램을 모아 놓은 것\n",
        "\n",
        "모든 라이브러리를 다 알 필요는 없고 어떤 일을 할 때 어떤 라이브러리를 사용해야 한다는 정도만 알면 된다.\n",
        "\n",
        "※ 파이썬 라이브러리는 파이썬을 설치할 때 자동으로 컴퓨터에 설치한다."
      ]
    },
    {
      "cell_type": "markdown",
      "metadata": {
        "id": "kwppl9b0eLLA"
      },
      "source": [
        "## sys\n",
        "파이썬 인터프리터가 제공하는 변수와 함수를 직접 제어할 수 있게 해주는 모듈이다.\n",
        "\n",
        "명령 행에서 인수 전달하기 - sys.argv\n",
        "```\n",
        "C:/User/home>python argv_test.py you need python\n",
        "```\n",
        "python 명령어 뒤의 모든 것들이 공백을 기준으로 나뉘어서 sys.argv 리스트의 요소가 된다.\n",
        "\n",
        "|argv_test.py| you| need| python|\n",
        "|---|---|---|---|\n",
        "|argv[0]|argv[1]|argv[2]|argv[3]|\n"
      ]
    },
    {
      "cell_type": "code",
      "metadata": {
        "id": "H4nanrlSerGq",
        "colab": {
          "base_uri": "https://localhost:8080/"
        },
        "outputId": "8c69aa4c-72ff-4bca-b361-e601af04d501"
      },
      "source": [
        "# argv_test.py\n",
        "import sys\n",
        "print(sys.argv)  # ['argv_test.py', 'you', 'need', 'python']"
      ],
      "execution_count": null,
      "outputs": [
        {
          "output_type": "stream",
          "text": [
            "['/usr/local/lib/python3.7/dist-packages/ipykernel_launcher.py', '-f', '/root/.local/share/jupyter/runtime/kernel-a39d773f-aad8-40a7-877c-fdce9442f393.json']\n"
          ],
          "name": "stdout"
        }
      ]
    },
    {
      "cell_type": "markdown",
      "metadata": {
        "id": "BIAcerLlfZUO"
      },
      "source": [
        "강제로 스크립트 종료하기 - sys.exit\n",
        "```\n",
        ">>> sys.exit()\n",
        "```\n",
        "sys.exit는 Ctrl+Z나 Ctrl+D를 눌러서 대화형 인터프리터를 종료하는 것과 같은 기능을 한다. 프로그램 파일 안에서 사용하면 프로그램을 중단시킨다."
      ]
    },
    {
      "cell_type": "markdown",
      "metadata": {
        "id": "ehsPJj6WfuEk"
      },
      "source": [
        "자신이 만든 모듈 불러와 사용하기 - sys.path\n",
        "\n",
        "sys.path는 파이썬 모듈들이 저장되어 있는 위치를 나타낸다. 즉 이 위치에 있는 파이썬 모듈은 경로에 상관없이 어디에서나 불러올 수 있다."
      ]
    },
    {
      "cell_type": "markdown",
      "metadata": {
        "id": "8n83Gi4-c0cA"
      },
      "source": [
        "## os\n",
        "환경 변수나 디렉터리, 파일 등의 OS 자원을 제어할 수 있게 해주는 모듈이다."
      ]
    },
    {
      "cell_type": "code",
      "metadata": {
        "id": "b4nJuqLPkQfy",
        "colab": {
          "base_uri": "https://localhost:8080/"
        },
        "outputId": "46170710-3d2b-4060-e570-e9a4f50595fc"
      },
      "source": [
        "import sys\n",
        "sys.path"
      ],
      "execution_count": null,
      "outputs": [
        {
          "output_type": "execute_result",
          "data": {
            "text/plain": [
              "['',\n",
              " '/content',\n",
              " '/env/python',\n",
              " '/usr/lib/python37.zip',\n",
              " '/usr/lib/python3.7',\n",
              " '/usr/lib/python3.7/lib-dynload',\n",
              " '/usr/local/lib/python3.7/dist-packages',\n",
              " '/usr/lib/python3/dist-packages',\n",
              " '/usr/local/lib/python3.7/dist-packages/IPython/extensions',\n",
              " '/root/.ipython']"
            ]
          },
          "metadata": {
            "tags": []
          },
          "execution_count": 43
        }
      ]
    },
    {
      "cell_type": "code",
      "metadata": {
        "colab": {
          "base_uri": "https://localhost:8080/"
        },
        "id": "0u35QRbXxseC",
        "outputId": "49426237-ebe4-45ba-a9de-9c182489a59d"
      },
      "source": [
        "sys.builtin_module_names"
      ],
      "execution_count": null,
      "outputs": [
        {
          "output_type": "execute_result",
          "data": {
            "text/plain": [
              "('_abc',\n",
              " '_ast',\n",
              " '_bisect',\n",
              " '_blake2',\n",
              " '_codecs',\n",
              " '_collections',\n",
              " '_datetime',\n",
              " '_elementtree',\n",
              " '_functools',\n",
              " '_heapq',\n",
              " '_imp',\n",
              " '_io',\n",
              " '_locale',\n",
              " '_md5',\n",
              " '_operator',\n",
              " '_pickle',\n",
              " '_posixsubprocess',\n",
              " '_random',\n",
              " '_sha1',\n",
              " '_sha256',\n",
              " '_sha3',\n",
              " '_sha512',\n",
              " '_signal',\n",
              " '_socket',\n",
              " '_sre',\n",
              " '_stat',\n",
              " '_string',\n",
              " '_struct',\n",
              " '_symtable',\n",
              " '_thread',\n",
              " '_tracemalloc',\n",
              " '_warnings',\n",
              " '_weakref',\n",
              " 'array',\n",
              " 'atexit',\n",
              " 'binascii',\n",
              " 'builtins',\n",
              " 'errno',\n",
              " 'faulthandler',\n",
              " 'fcntl',\n",
              " 'gc',\n",
              " 'grp',\n",
              " 'itertools',\n",
              " 'marshal',\n",
              " 'math',\n",
              " 'posix',\n",
              " 'pwd',\n",
              " 'pyexpat',\n",
              " 'select',\n",
              " 'spwd',\n",
              " 'sys',\n",
              " 'syslog',\n",
              " 'time',\n",
              " 'unicodedata',\n",
              " 'xxsubtype',\n",
              " 'zipimport',\n",
              " 'zlib')"
            ]
          },
          "metadata": {
            "tags": []
          },
          "execution_count": 44
        }
      ]
    },
    {
      "cell_type": "code",
      "metadata": {
        "colab": {
          "base_uri": "https://localhost:8080/",
          "height": 52
        },
        "id": "iDv_0qJEx88S",
        "outputId": "5ce650f9-7e3b-4e98-d8d6-ba3be1084272"
      },
      "source": [
        "import os\n",
        "os.environ['PATH']"
      ],
      "execution_count": null,
      "outputs": [
        {
          "output_type": "execute_result",
          "data": {
            "application/vnd.google.colaboratory.intrinsic+json": {
              "type": "string"
            },
            "text/plain": [
              "'/usr/local/nvidia/bin:/usr/local/cuda/bin:/usr/local/sbin:/usr/local/bin:/usr/sbin:/usr/bin:/sbin:/bin:/tools/node/bin:/tools/google-cloud-sdk/bin:/opt/bin'"
            ]
          },
          "metadata": {
            "tags": []
          },
          "execution_count": 46
        }
      ]
    },
    {
      "cell_type": "code",
      "metadata": {
        "colab": {
          "base_uri": "https://localhost:8080/"
        },
        "id": "4mNfbsSQyZcs",
        "outputId": "678ef9d2-4d5e-49ee-ebb5-87de8d429c3a"
      },
      "source": [
        "import platform\n",
        "\n",
        "if platform.system() == 'Linux':\n",
        "  print('Linux')"
      ],
      "execution_count": null,
      "outputs": [
        {
          "output_type": "stream",
          "text": [
            "Linux\n"
          ],
          "name": "stdout"
        }
      ]
    },
    {
      "cell_type": "markdown",
      "metadata": {
        "id": "cGRJr0tcgYzC"
      },
      "source": [
        "## pickle\n",
        "객체의 형태를 그대로 유지하면서 파일에 저장하고 불러올 수 있게 하는 모듈이다."
      ]
    },
    {
      "cell_type": "code",
      "metadata": {
        "id": "iQFnEHoFhZxK"
      },
      "source": [
        "# 딕셔너리 객체인 data를 그대로 파일에 저장\n",
        "import pickle\n",
        "\n",
        "with open('test.txt', mode='wb') as f:\n",
        "  data = {1:'python', 2:'you need'}\n",
        "  pickle.dump(data, f)"
      ],
      "execution_count": null,
      "outputs": []
    },
    {
      "cell_type": "code",
      "metadata": {
        "id": "vxJU2TAP0Vpm"
      },
      "source": [
        "os.listdir()"
      ],
      "execution_count": null,
      "outputs": []
    },
    {
      "cell_type": "code",
      "metadata": {
        "colab": {
          "base_uri": "https://localhost:8080/"
        },
        "id": "HOQ_Ej7UznIA",
        "outputId": "97fd460e-4723-4afe-87ed-28758e0c1b03"
      },
      "source": [
        "with open('test.txt', mode='rb') as f:\n",
        "  data2 = pickle.load(f)\n",
        "\n",
        "data2"
      ],
      "execution_count": null,
      "outputs": [
        {
          "output_type": "execute_result",
          "data": {
            "text/plain": [
              "{1: 'python', 2: 'you need'}"
            ]
          },
          "metadata": {
            "tags": []
          },
          "execution_count": 67
        }
      ]
    },
    {
      "cell_type": "markdown",
      "metadata": {
        "id": "amew8FZLpqeK"
      },
      "source": [
        "## shelve\n",
        "pickle과 같이 객체를 파일에 저장하고 불러올 수 있게 하는 모듈이다.\n",
        "\n",
        "shelve는 저장 시 key값과 매치시켜 저장되기 때문에 shelve.open() 하면 다음부터는 단순히 key값을 변수에 Access할 수 있어 편리하다. 큰 용량의 데이터를 save, access하기 좀 더 쉽다"
      ]
    },
    {
      "cell_type": "code",
      "metadata": {
        "id": "CzxxC9nCsJGH"
      },
      "source": [
        "import shelve\n",
        "data1 = ['elsar', 24, 171]\n",
        "data2 = ['peter', 31, 176]\n",
        "\n",
        "with shelve.open('test.db') as f:\n",
        "  f['ob1'] = data1\n",
        "  f['ob2'] = data2"
      ],
      "execution_count": null,
      "outputs": []
    },
    {
      "cell_type": "code",
      "metadata": {
        "colab": {
          "base_uri": "https://localhost:8080/"
        },
        "id": "0mAkHDvr1yhm",
        "outputId": "d6d379c6-0846-4f54-cef5-4d638c91835b"
      },
      "source": [
        "with shelve.open('test.db') as f:\n",
        "  print(f['ob1'])"
      ],
      "execution_count": null,
      "outputs": [
        {
          "output_type": "stream",
          "text": [
            "['elsar', 24, 171]\n"
          ],
          "name": "stdout"
        }
      ]
    },
    {
      "cell_type": "markdown",
      "metadata": {
        "id": "SnpJYFAloylh"
      },
      "source": [
        "## shutil\n",
        "파일을 복사해 주는 모듈이다.\n",
        "```\n",
        ">>> import shutil\n",
        ">>> shutil.copy(\"src.txt\", \"dst.txt\")\n",
        "```\n",
        "동일한 파일 이름이 있을 경우에는 덮어쓴다."
      ]
    },
    {
      "cell_type": "markdown",
      "metadata": {
        "id": "BZCbLlvwo_vA"
      },
      "source": [
        "## glob\n",
        "디렉터리에 있는 파일들을 리스트로 만들어 주는 모듈이다.\n",
        "```\n",
        ">>> import glob\n",
        ">>> glob.glob(\"c:/python/mark*\")\n",
        "['c:/python\\\\marks1.py', 'c:/python\\\\marks2.py', 'c:/python\\\\marks3.py']\n",
        ">>>\n",
        "```\n",
        "*, ? 등 메타 문자를 써서 원하는 파일만 읽어 들일 수도 있다."
      ]
    },
    {
      "cell_type": "markdown",
      "metadata": {
        "id": "ndmnrfF6oLDu"
      },
      "source": [
        "## tempfile\n",
        "중복되지 않는 임시 파일의 이름을 무작위로 만들어서 돌려주는 모듈이다.\n",
        "```\n",
        ">>> import tempfile\n",
        ">>> f = tempfile.TemporaryFile()\n",
        ">>> f.close()\n",
        "```\n",
        "기본적으로 바이너리 쓰기 모드(wb)를 갖는다.\n",
        "\n",
        "f.close()가 호출되면 이 파일 객체는 자동으로 사라진다."
      ]
    },
    {
      "cell_type": "markdown",
      "metadata": {
        "id": "513GOyFIt75k"
      },
      "source": [
        "# 파일 다루기 3\n",
        "Excel, Word, PDF 컨트롤\n",
        "\n",
        "openpyxl\n",
        "docx\n",
        "PyPDF2"
      ]
    },
    {
      "cell_type": "markdown",
      "metadata": {
        "id": "voYXWyqAl9Pt"
      },
      "source": [
        "## [OpenPyXL](https://openpyxl.readthedocs.io/en/stable/)\n",
        "Excel 2010 xlsx / xlsm 파일을 읽고 쓰는 Python 라이브러리\n",
        "\n",
        "엑셀 용어\n",
        "* workbook (워크북):\t엑셀 파일(통합 문서)을 의미합니다.\n",
        "* sheet (시트):\t엑셀 파일 내 컨텐츠를 분할하는 데 사용되며, 여러개의 시트가 있을 수 있습니다.\n",
        "* cell (셀):\t엑셀에서 가장 작은 단위로, 열을 나타내는 문자와 행을 나타내는 숫자의 조합으로 표시합니다. (A1)"
      ]
    },
    {
      "cell_type": "code",
      "metadata": {
        "id": "YeajpxSjm9jG"
      },
      "source": [
        "# 파일을 만들고 'A1' 셀에 'Hello World'라고 입력\n",
        "import openpyxl\n",
        "\n",
        "wb = openpyxl.Workbook()\n",
        "sheet = wb.active\n",
        "sheet['A1'] = 'Hello world'\n",
        "wb.save(drive_path + 'HelloWorld.xlsx')"
      ],
      "execution_count": null,
      "outputs": []
    },
    {
      "cell_type": "code",
      "metadata": {
        "colab": {
          "base_uri": "https://localhost:8080/"
        },
        "id": "kPEAhY7fUo7F",
        "outputId": "a73ca303-a2f0-40e7-cf09-c0d0392fe6af"
      },
      "source": [
        "wb = openpyxl.load_workbook(drive_path + 'HelloWorld.xlsx')\n",
        "print(wb.sheetnames)\n",
        "print(wb.active.title)"
      ],
      "execution_count": null,
      "outputs": [
        {
          "output_type": "stream",
          "text": [
            "['Sheet']\n",
            "Sheet\n"
          ],
          "name": "stdout"
        }
      ]
    },
    {
      "cell_type": "code",
      "metadata": {
        "id": "wXkX19SKVHhu"
      },
      "source": [
        "sheet_last = wb.create_sheet('NewSheet')\n",
        "sheet_first = wb.create_sheet('NewSheet0', 0)\n",
        "sheet = wb['NewSheet']\n",
        "wb.save(drive_path + 'HelloWorld.xlsx')"
      ],
      "execution_count": null,
      "outputs": []
    },
    {
      "cell_type": "code",
      "metadata": {
        "colab": {
          "base_uri": "https://localhost:8080/"
        },
        "id": "iTi79w43V7pG",
        "outputId": "5f3baf98-bb05-41c8-c1b7-199bf5bfabeb"
      },
      "source": [
        "sheet['A1'] = '한글'\n",
        "sheet['A1'].value = '한글1'\n",
        "\n",
        "sheet['A1']"
      ],
      "execution_count": null,
      "outputs": [
        {
          "output_type": "execute_result",
          "data": {
            "text/plain": [
              "<Cell 'NewSheet'.A1>"
            ]
          },
          "metadata": {
            "tags": []
          },
          "execution_count": 13
        }
      ]
    },
    {
      "cell_type": "markdown",
      "metadata": {
        "id": "xAbTnHeypyK_"
      },
      "source": [
        "#### 판다스 데이터프레임으로 변환하는 방법"
      ]
    },
    {
      "cell_type": "code",
      "metadata": {
        "id": "C94GJ-kFq-V5"
      },
      "source": [
        "import openpyxl\n",
        "import pandas as pd\n",
        "\n"
      ],
      "execution_count": null,
      "outputs": []
    },
    {
      "cell_type": "markdown",
      "metadata": {
        "id": "NL4qzf7itv2J"
      },
      "source": [
        "## [python-docx](https://python-docx.readthedocs.io/en/latest/)\n",
        "Microsoft Word (.docx) 파일을 만들고 업데이트하기위한 Python 라이브러리\n",
        "```\n",
        "pip install python-docx\n",
        "```\n",
        "파이썬 버전 3은 python-docx를 설치 할 것, 만약 실수로 docx를 설치했다면 아래와 같이 삭제해준다.\n",
        "```\n",
        "pip uninstall docx\n",
        "```"
      ]
    },
    {
      "cell_type": "code",
      "metadata": {
        "id": "V6wCEg1L1zdm"
      },
      "source": [
        "!pip list"
      ],
      "execution_count": null,
      "outputs": []
    },
    {
      "cell_type": "code",
      "metadata": {
        "id": "Oa4BHV8h17tI"
      },
      "source": [
        "!pip install python-docx"
      ],
      "execution_count": null,
      "outputs": []
    },
    {
      "cell_type": "code",
      "metadata": {
        "id": "dK4hKDKf1XAW"
      },
      "source": [
        "# 워드파일 생성\n",
        "import docx\n"
      ],
      "execution_count": null,
      "outputs": []
    },
    {
      "cell_type": "code",
      "metadata": {
        "id": "sO2bu05620nK"
      },
      "source": [
        "# 워드파일에 text입력\n"
      ],
      "execution_count": null,
      "outputs": []
    },
    {
      "cell_type": "code",
      "metadata": {
        "id": "UTpb8-i83XYl"
      },
      "source": [
        "# 한글은 폰트적용\n"
      ],
      "execution_count": null,
      "outputs": []
    },
    {
      "cell_type": "code",
      "metadata": {
        "id": "aD6iaTHl063q"
      },
      "source": [
        "from docx import Document\n",
        "from docx.shared import Inches  # 이미지 추가를 위해\n",
        "\n",
        "document = Document() # 문서를 선언\n",
        "\n",
        "document.add_heading('Document Title', 0)  # title\n",
        "\n",
        "p = document.add_paragraph('A plain paragraph having some ')  # 문단추가\n",
        "p.add_run('bold').bold = True\n",
        "p.add_run(' and some ')\n",
        "p.add_run('italic.').italic = True\n",
        "\n",
        "document.add_heading('Heading, level 1', level=1)\n",
        "document.add_paragraph('Intense quote', style='Intense Quote')\n",
        "\n",
        "document.add_paragraph(\n",
        "    'first item in unordered list', style='List Bullet'\n",
        ")\n",
        "document.add_paragraph(\n",
        "    'first item in ordered list', style='List Number'\n",
        ")\n",
        "\n",
        "document.add_picture(drive_path + 'little-char.png', width=Inches(1.25))\n",
        "\n",
        "records = (\n",
        "    (3, '101', 'Spam'),\n",
        "    (7, '422', 'Eggs'),\n",
        "    (4, '631', 'Spam, spam, eggs, and spam')\n",
        ")\n",
        "\n",
        "table = document.add_table(rows=1, cols=3)\n",
        "hdr_cells = table.rows[0].cells\n",
        "hdr_cells[0].text = 'Qty'\n",
        "hdr_cells[1].text = 'Id'\n",
        "hdr_cells[2].text = 'Desc'\n",
        "for qty, id, desc in records:\n",
        "    row_cells = table.add_row().cells\n",
        "    row_cells[0].text = str(qty)\n",
        "    row_cells[1].text = id\n",
        "    row_cells[2].text = desc\n",
        "\n",
        "document.add_page_break()\n",
        "\n",
        "document.save(drive_path + 'demo.docx')"
      ],
      "execution_count": null,
      "outputs": []
    },
    {
      "cell_type": "code",
      "metadata": {
        "id": "dt2Tv_uBD4V6"
      },
      "source": [
        "# 문자 크기 변경, 문단 정렬\n",
        "import docx\n",
        "from docx.shared import Pt\n",
        "from docx.enum.text import WD_ALIGN_PARAGRAPH\n",
        "\n",
        "doc = docx.Document(drive_path + 'demo.docx')\n",
        "\n",
        "# word 문서 전체의 내용을 파이썬에서 확인\n",
        "for x, paragraph in enumerate(doc.paragraphs):\n",
        "    print(str(x) + \" : \" + paragraph.text)\n",
        "\n",
        "# word 문서의 중간에 새로운  paragraph 삽입\n",
        "doc.paragraphs[6].insert_paragraph_before(\"문장을 삽입.\")\n",
        "\n",
        "# word 내의  표(table) 읽기\n",
        "# 표는 별도 관리\n",
        "tables = doc.tables\n",
        "for t in tables:\n",
        "  for row in t.rows:\n",
        "    for cell in row.cells:\n",
        "      for p in cell.paragraphs:\n",
        "        print(p.text)\n",
        "\n",
        "doc.save(drive_path + 'demo.docx')"
      ],
      "execution_count": null,
      "outputs": []
    },
    {
      "cell_type": "markdown",
      "metadata": {
        "id": "nhhrunniHTRf"
      },
      "source": [
        "## [PyPDF2](https://pythonhosted.org/PyPDF2/)\n",
        "바이트 스트림으로 파일을 열어서, PDF의 파일 정보와 텍스트를 가져올 수 있는 Python 라이브러리\n",
        "\n",
        "\n"
      ]
    },
    {
      "cell_type": "code",
      "metadata": {
        "id": "wDpWCJm3L8Dc",
        "colab": {
          "base_uri": "https://localhost:8080/"
        },
        "outputId": "0729bb45-2ddd-4b53-a37f-b16c35fee1d3"
      },
      "source": [
        "!pip install PyPDF2"
      ],
      "execution_count": null,
      "outputs": [
        {
          "output_type": "stream",
          "text": [
            "Collecting PyPDF2\n",
            "\u001b[?25l  Downloading https://files.pythonhosted.org/packages/b4/01/68fcc0d43daf4c6bdbc6b33cc3f77bda531c86b174cac56ef0ffdb96faab/PyPDF2-1.26.0.tar.gz (77kB)\n",
            "\r\u001b[K     |████▎                           | 10kB 12.8MB/s eta 0:00:01\r\u001b[K     |████████▌                       | 20kB 17.6MB/s eta 0:00:01\r\u001b[K     |████████████▊                   | 30kB 11.9MB/s eta 0:00:01\r\u001b[K     |█████████████████               | 40kB 9.8MB/s eta 0:00:01\r\u001b[K     |█████████████████████▏          | 51kB 5.1MB/s eta 0:00:01\r\u001b[K     |█████████████████████████▍      | 61kB 5.7MB/s eta 0:00:01\r\u001b[K     |█████████████████████████████▋  | 71kB 5.6MB/s eta 0:00:01\r\u001b[K     |████████████████████████████████| 81kB 3.3MB/s \n",
            "\u001b[?25hBuilding wheels for collected packages: PyPDF2\n",
            "  Building wheel for PyPDF2 (setup.py) ... \u001b[?25l\u001b[?25hdone\n",
            "  Created wheel for PyPDF2: filename=PyPDF2-1.26.0-cp37-none-any.whl size=61085 sha256=24703003917cf2d7ab566da270a23c68e6afb8e6f8a606f54a2081bd59f32b66\n",
            "  Stored in directory: /root/.cache/pip/wheels/53/84/19/35bc977c8bf5f0c23a8a011aa958acd4da4bbd7a229315c1b7\n",
            "Successfully built PyPDF2\n",
            "Installing collected packages: PyPDF2\n",
            "Successfully installed PyPDF2-1.26.0\n"
          ],
          "name": "stdout"
        }
      ]
    },
    {
      "cell_type": "code",
      "metadata": {
        "id": "HFUJrGoNLxKD"
      },
      "source": [
        "from PyPDF2 import PdfFileReader, PdfFileWriter\n",
        "\n"
      ],
      "execution_count": null,
      "outputs": []
    },
    {
      "cell_type": "code",
      "metadata": {
        "id": "ehI2r7-X3Af6",
        "colab": {
          "base_uri": "https://localhost:8080/"
        },
        "outputId": "1178df0e-bf7f-4614-c018-d46943ffeea3"
      },
      "source": [
        "# PDF 파일을 읽어온 후 회전시켜 별도의 파일로 저장\n",
        "from PyPDF2 import PdfFileReader, PdfFileWriter\n"
      ],
      "execution_count": null,
      "outputs": [
        {
          "output_type": "stream",
          "text": [
            "1\n"
          ],
          "name": "stdout"
        }
      ]
    },
    {
      "cell_type": "code",
      "metadata": {
        "id": "tVd2ks6T37Ao"
      },
      "source": [
        "# 여러 PDF 파일을 병합\n",
        "from PyPDF2 import PdfFileMerger\n",
        "\n"
      ],
      "execution_count": null,
      "outputs": []
    },
    {
      "cell_type": "markdown",
      "metadata": {
        "id": "ch0U3RuE5UMT"
      },
      "source": [
        "#### 첫 표지 페이지를 제거하는 예제"
      ]
    },
    {
      "cell_type": "code",
      "metadata": {
        "id": "bRKK6XUeJ-60"
      },
      "source": [
        "import os\n",
        "from PyPDF2 import PdfFileReader, PdfFileWriter\n",
        "\n",
        "# pdf가 있는 경로\n",
        "path = r'C:\\Users\\home\\Desktop\\새 폴더'\n",
        "\n",
        "# 각각의 pdf를 불러오기\n",
        "for item in os.listdir(path):\n",
        "    item_path = os.path.join(path, item)\n",
        "    pdf = PdfFileReader(open(item_path, 'rb'))\n",
        "    \n",
        "    numberPages = pdf.getNumPages()  # pdf 페이지수\n",
        "    \n",
        "    pdf_writer = PdfFileWriter()  # 빈 pdf 생성\n",
        "    for page in range(1, numberPages):\n",
        "\n",
        "        # 두번째 페이지부터 마지막 페이지까지 빈 pdf에 추가하기\n",
        "        pdf_writer.addPage(pdf.getPage(page))\n",
        "        output_name = 'new_{}'.format(item)\n",
        "        save_path = os.path.join(path, output_name)\n",
        "\n",
        "        # 파일 쓰기하면서 저장\n",
        "        with open(save_path, 'wb') as f:\n",
        "            pdf_writer.write(f)"
      ],
      "execution_count": null,
      "outputs": []
    },
    {
      "cell_type": "markdown",
      "metadata": {
        "id": "XkTM6qD6IfIE"
      },
      "source": [
        "#### [pdftotext](https://github.com/jalan/pdftotext)\n",
        "PDF문서의 텍스트만 필요하다고 하면 pdftotext 패키지를 사용하면 된다.\n",
        "```\n",
        "import pdftotext\n",
        " \n",
        "file = open(\"./sample.pdf\", 'rb')\n",
        "fileReader = pdftotext.PDF(file)\n",
        "\n",
        "print(\"총 페이지수는 {}입니다.\".format(len(fileReader)))\n",
        "print(\"첫페이지의 텍스트:\", fileReader[0])\n",
        "```\n",
        "\n",
        "#### [PDFMiner](https://github.com/euske/pdfminer)\n",
        "pdf문서를 text나 html로 변경해주는 모듈\n",
        "> 이미지나 표 등의 다른 구성요소들까지 추출하고 싶을 때"
      ]
    }
  ]
}