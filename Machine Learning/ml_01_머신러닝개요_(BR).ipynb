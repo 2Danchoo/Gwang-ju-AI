{
  "nbformat": 4,
  "nbformat_minor": 0,
  "metadata": {
    "colab": {
      "name": "ml_01_머신러닝개요 (BR).ipynb",
      "provenance": [],
      "collapsed_sections": []
    },
    "kernelspec": {
      "name": "python3",
      "display_name": "Python 3"
    }
  },
  "cells": [
    {
      "cell_type": "markdown",
      "metadata": {
        "id": "Hv85-XvEcKaa"
      },
      "source": [
        "### 구글드라이브 연동"
      ]
    },
    {
      "cell_type": "code",
      "metadata": {
        "id": "pmqLJy7icJ4g",
        "colab": {
          "base_uri": "https://localhost:8080/"
        },
        "outputId": "ebee3e02-2b00-4693-b83b-bb3acc2fd056"
      },
      "source": [
        "# 구글드라이브 연동\n",
        "from google.colab import drive\n",
        "drive.mount('/gdrive', force_remount=True)\n",
        "\n",
        "# 구글 드라이브 파일 확인\n",
        "!ls '/gdrive/My Drive/temp/'\n",
        "\n",
        "# 반복되는 드라이브 경로 변수화\n",
        "drive_path = '/gdrive/My Drive/temp/'"
      ],
      "execution_count": 1,
      "outputs": [
        {
          "output_type": "stream",
          "text": [
            "Mounted at /gdrive\n",
            " 매수종목1.txt\t\t   lenna.png\t\t   score.csv\n",
            " 매수종목2.txt\t\t   little-char.png\t   sonar.csv\n",
            " adult.data\t\t   ml_class.png\t\t   stock-data.csv\n",
            " auto-mpg.csv\t\t   pca_1.png\t\t  'stock price.xlsx'\n",
            " bmi_500.csv\t\t   pca_2.png\t\t  'stock valuation.xlsx'\n",
            " citibike.csv\t\t   pca_3.png\t\t   test.db.db\n",
            " 매수종목.csv\t\t   Picture1.png\t\t   test.txt\n",
            " data_mine.csv\t\t   population_number.csv   ThoraricSurgery.csv\n",
            " data_population.csv\t   ram_price.csv\t   titanic.xls\n",
            " data_studentlist_en.csv   ratings_small.txt\t   tmdb_5000_credits.csv\n",
            " demo.docx\t\t   ratings_test.txt\t   tmdb_5000_movies.csv\n",
            " diabetes.csv\t\t   ratings_train.txt\t   Traffic_Accident_2017.csv\n",
            " example.docx\t\t   sample1.pdf\t\t   train.csv\n",
            " height_weight.txt\t   sample2.pdf\t\t   user_id_mean.csv\n",
            "'Hello World.xlsx'\t   sample.docx\t\t   wine.csv\n",
            " HelloWorld.xlsx\t   sample_merge.pdf\t   주가데이터.xlsx\n",
            " house_price.csv\t   sample.xlsx\t\t   남북한발전전력량.xlsx\n"
          ],
          "name": "stdout"
        }
      ]
    },
    {
      "cell_type": "markdown",
      "metadata": {
        "id": "83-BXRyoTPQv"
      },
      "source": [
        "### 머신러닝(Machine Learning) 종류\n",
        "\n",
        "- 지도학습 (Supervised Learning)\n",
        "- 비지도학습 (Unsupervised Learning)\n",
        "- 강화학습 (Reinforcement Learning)\n"
      ]
    },
    {
      "cell_type": "markdown",
      "metadata": {
        "id": "UFEBkpUCToVw"
      },
      "source": [
        "지도학습 (Supervised Learning)\n",
        "\n",
        "- 데이터에 대한 Label(명시적인 답)이 주어진 상태에서 컴퓨터를 학습시키는 방법. \n",
        "\n",
        "- 분류(Classification)와 회귀(Regression)로 나뉘어진다.\n",
        "> (ex. 스팸 메일 분류, 집 가격 예측, 손글씨 숫자 판별, 신용카드 의심거래 감지, 의료영상 이미지기반 종양판단)\n"
      ]
    },
    {
      "cell_type": "markdown",
      "metadata": {
        "id": "lVyfBjNjT8Xt"
      },
      "source": [
        "비지도학습 (Unsupervised Learning)\n",
        "\n",
        "- 데이터에 대한 Label(명시적인 답)이 없는 상태에서 컴퓨터를 학습시키는 방법.\n",
        "\n",
        "- 데이터의 숨겨진 특징, 구조, 패턴 파악.\n",
        "\n",
        "- 데이터를 비슷한 특성끼리 묶는 클러스터링(Clustering)과 차원축소(Dimensionality Reduction)등이 있다.\n",
        "> (ex. 블로그 글 주제구분, 고객 취향별 그룹화, 웹사이트 비정상 접근 탐지, 이미지 감색 처리, 소비자 그룹 마케팅)\n",
        "\n",
        "좋은 입력 데이터를 만들어내는 방법 -> 특성추출(특성공학)\n"
      ]
    },
    {
      "cell_type": "markdown",
      "metadata": {
        "id": "kcXUmDjUUTjO"
      },
      "source": [
        "강화학습 (Reinforcement Learning)\n",
        "\n",
        "- 지도학습과 비슷하지만 완전한 답(Label)을 제공하지 않는 특징이 있다.\n",
        "\n",
        "- 기계는 더 많은 보상을 얻을 수 있는 방향으로 행동을 학습\n",
        "\n",
        "> (ex. 게임이나 로봇 학습)\n"
      ]
    },
    {
      "cell_type": "markdown",
      "metadata": {
        "id": "EiJ3i6uloi8c"
      },
      "source": [
        "머신러닝 vs 딥러닝\n",
        "\n",
        "|구분| Machine Learning| Deep Learning|\n",
        "|---|---|---|\n",
        "|훈련 데이터 크기| 작음| 큼|\n",
        "|시스템 성능| 저 사양| 고 사양|\n",
        "|feature 선택| 전문가 (사람) |알고리즘|\n",
        "|feature 수| 많음 |적음|\n",
        "|문제 해결 접근법| 문제를 분리 -> 각각 답을 얻음 -> 결과 통합| end-to-end (결과를 바로 얻음)|\n",
        "|실행 시간| 짧음 |김|\n",
        "|해석력 |해석 가능| 해석 어려움|"
      ]
    },
    {
      "cell_type": "markdown",
      "metadata": {
        "id": "Wf4lQ1hzUmsx"
      },
      "source": [
        "### [scikit-learn](https://scikit-learn.org/stable/index.html)\n",
        "\n",
        "- 파이썬에 머신러닝 프레임워크 라이브러리\n",
        "\n",
        "- 회귀, 분류, 군집, 차원축소, 특성공학, 전처리, 교차검증, 파이프라인 등 머신러닝에 필요한 기능 제공\n",
        "\n",
        "- 학습을 위한 샘플 데이터 제공\n"
      ]
    },
    {
      "cell_type": "markdown",
      "metadata": {
        "id": "1jePDfQLiMJM"
      },
      "source": [
        "#### scikit-learn으로 XOR 연산 학습해보기\n",
        "\n",
        "XOR연산?\n",
        "\n",
        "- 두값이 서로 같으면 0, 다르면 1  (배타적 논리 합)\n",
        "\n",
        "|P(입력)| Q(입력)| R(출력)|\n",
        "|---|---|---|\n",
        "| 0| 0| 0|\n",
        "| 0| 1| 1|\n",
        "| 1| 0| 1|\n",
        "| 1| 1| 0|\n"
      ]
    },
    {
      "cell_type": "code",
      "metadata": {
        "id": "2xAnNAbTTLo_",
        "colab": {
          "base_uri": "https://localhost:8080/"
        },
        "outputId": "f74c6103-eb13-4533-f68a-a472ddee2919"
      },
      "source": [
        "from sklearn import svm\n",
        "\n",
        "# XOR의 계산 결과 데이터\n",
        "\n",
        "xor_input = [\n",
        "             # P, Q, Result\n",
        "             [0, 0, 0],\n",
        "             [0, 1, 1],\n",
        "             [1, 0, 1],\n",
        "             [1, 1, 0]\n",
        "]\n",
        "\n",
        "# 학습을 위해 데이터와 레이블 분리하기 --- (※1)\n",
        "\n",
        "xor_data = [] # 문제\n",
        "xor_label = [] # 답\n",
        "\n",
        "for [p, q, r] in xor_input :\n",
        "    xor_data.append( [p, q] )\n",
        "    xor_label.append(r)\n",
        "\n",
        "# for row in xor_input :\n",
        "#     print(row)\n",
        "#     p = row[0]\n",
        "#     q = row[1]\n",
        "#     r = row[2]\n",
        "#     xor_data.append( [p, q] )\n",
        "#     xor_label.append(r)\n",
        "\n",
        "xor_data, xor_label\n",
        "\n",
        "# 데이터 학습시키기 --- (※2)\n",
        "\n",
        "model = svm.SVC()\n",
        "model.fit(xor_data, xor_label)\n",
        "\n",
        "# 데이터 예측하기 --- (※3)\n",
        "\n",
        "pre = model.predict(xor_data)\n",
        "print(\"예측데이터 : \", xor_data)\n",
        "print(\"예측 결과 : \", pre)\n",
        "\n",
        "# 결과 확인하기 --- (※4)\n",
        "ok = 0\n",
        "for idx, answer in enumerate(xor_label) :\n",
        "    p = pre[idx]\n",
        "    if p == answer :\n",
        "        ok += 1\n",
        "\n",
        "print(\"정답률 : \", ok, \"/\", 4, \"=\", ok/4)"
      ],
      "execution_count": null,
      "outputs": [
        {
          "output_type": "stream",
          "text": [
            "예측데이터 :  [[0, 0], [0, 1], [1, 0], [1, 1]]\n",
            "예측 결과 :  [0 1 1 0]\n",
            "정답률 :  4 / 4 = 1.0\n"
          ],
          "name": "stdout"
        }
      ]
    },
    {
      "cell_type": "code",
      "metadata": {
        "id": "b5tr1SAwlhJe",
        "colab": {
          "base_uri": "https://localhost:8080/"
        },
        "outputId": "aa82b061-4dac-47d8-f3f0-e2e2b6d0728e"
      },
      "source": [
        "# pandas 라이브러리를 사용하여 코드 간략화\n",
        "import pandas as pd\n",
        "from sklearn import svm, metrics\n",
        "\n",
        "# XOR 연산\n",
        "\n",
        "xor_input = [\n",
        "             [0, 0, 0],\n",
        "             [0, 1, 1],\n",
        "             [1, 0, 1],\n",
        "             [1, 1, 0]\n",
        "]\n",
        "\n",
        "# 입력을 학습 전용 데이터와 테스트 전용 데이터로 분류하기 --- (※1)\n",
        "\n",
        "xor_df = pd.DataFrame(xor_input)\n",
        "xor_data = xor_df[ [0, 1]]\n",
        "xor_label = xor_df[2]\n",
        "\n",
        "# 데이터 학습과 예측하기 --- (※2)\n",
        "\n",
        "model = svm.SVC()\n",
        "model.fit(xor_data, xor_label)\n",
        "pre = model.predict(xor_data)\n",
        "\n",
        "# 정답률 구하기 --- (※3)\n",
        "\n",
        "ac_score = metrics.accuracy_score(xor_label, pre)\n",
        "print(\"정답률 :\", ac_score)\n"
      ],
      "execution_count": null,
      "outputs": [
        {
          "output_type": "stream",
          "text": [
            "정답률 : 1.0\n"
          ],
          "name": "stdout"
        }
      ]
    },
    {
      "cell_type": "markdown",
      "metadata": {
        "id": "_5wxBtsFHZPH"
      },
      "source": [
        "#### XOR 데이터 시각화"
      ]
    },
    {
      "cell_type": "code",
      "metadata": {
        "id": "jqsQ7xylFt_4"
      },
      "source": [
        "!pip install mglearn"
      ],
      "execution_count": null,
      "outputs": []
    },
    {
      "cell_type": "code",
      "metadata": {
        "colab": {
          "base_uri": "https://localhost:8080/",
          "height": 252
        },
        "id": "kWfrNITcFX2p",
        "outputId": "55bb520a-8867-4081-cb12-53f4925498c0"
      },
      "source": [
        "import numpy as np\n",
        "\n",
        "import mglearn\n",
        "import matplotlib.pyplot as plt\n",
        "\n",
        "X = np.array(xor_data)\n",
        "y = np.array(xor_label)\n",
        "mglearn.discrete_scatter(X[:, 0], X[:, 1], xor_label)\n",
        "mglearn.plots.plot_2d_separator(model, X, fill=True, eps=0.5, alpha=.4)"
      ],
      "execution_count": null,
      "outputs": [
        {
          "output_type": "display_data",
          "data": {
            "image/png": "[encoded data removed]",
            "text/plain": [
              "<Figure size 432x288 with 1 Axes>"
            ]
          },
          "metadata": {
            "tags": []
          }
        }
      ]
    },
    {
      "cell_type": "code",
      "metadata": {
        "id": "u_RAOvk1pZsd",
        "colab": {
          "base_uri": "https://localhost:8080/"
        },
        "outputId": "699fe98e-3f2d-4537-f686-77dfccd8a5bd"
      },
      "source": [
        "# KNN 분류 모델을 이용\n",
        "\n",
        "# pandas 라이브러리를 사용하여 코드 간략화\n",
        "import pandas as pd\n",
        "from sklearn import svm, metrics\n",
        "from sklearn.neighbors import KNeighborsClassifier\n",
        "\n",
        "# XOR 연산\n",
        "\n",
        "xor_input = [\n",
        "             [0, 0, 0],\n",
        "             [0, 1, 1],\n",
        "             [1, 0, 1],\n",
        "             [1, 1, 0]\n",
        "]\n",
        "\n",
        "# 입력을 학습 전용 데이터와 테스트 전용 데이터로 분류하기 --- (※1)\n",
        "\n",
        "xor_df = pd.DataFrame(xor_input)\n",
        "xor_data = xor_df[ [0, 1]]\n",
        "xor_label = xor_df[2]\n",
        "\n",
        "# 데이터 학습과 예측하기 --- (※2)\n",
        "\n",
        "model = KNeighborsClassifier(n_neighbors = 1) # 모델만 바꿔주면 됨\n",
        "model.fit(xor_data, xor_label)\n",
        "pre = model.predict(xor_data)\n",
        "\n",
        "# 정답률 구하기 --- (※3)\n",
        "\n",
        "ac_score = metrics.accuracy_score(xor_label, pre)\n",
        "print(\"정답률 :\", ac_score)\n"
      ],
      "execution_count": null,
      "outputs": [
        {
          "output_type": "stream",
          "text": [
            "정답률 : 1.0\n"
          ],
          "name": "stdout"
        }
      ]
    },
    {
      "cell_type": "markdown",
      "metadata": {
        "id": "Bz0d-Lj4qovy"
      },
      "source": [
        "진행순서\n",
        "\n",
        ">1. model = 머신러닝모델 생성  # svm.SVC() or KNeighborsClassifier(n_neighbors=1) \n",
        "1. model.fit(문제 , 답)\n",
        "1. 예측결과 = model.predict(값을 얻고 싶은 데이터 )\n",
        "1. ac_score = metrics.accuracy_score(실제답, 예측결과)\n",
        "\n",
        "clf (classifier) - scikit-learn 에서 [Estimator](https://en.wikipedia.org/wiki/Estimator) 인스턴스인 분류기를 지칭\n"
      ]
    },
    {
      "cell_type": "markdown",
      "metadata": {
        "id": "AfJQYJV5u_8R"
      },
      "source": [
        "[머신러닝 용어집](https://developers.google.com/machine-learning/glossary)"
      ]
    },
    {
      "cell_type": "markdown",
      "metadata": {
        "id": "Q_kZVFHf1SxC"
      },
      "source": [
        "#### 모델 저장과 불러오기 - pickle"
      ]
    },
    {
      "cell_type": "code",
      "metadata": {
        "id": "-AGaQ43_1PXw"
      },
      "source": [
        "import pickle\n",
        "\n",
        "with open('xor_model.pkl', 'wb') as f : # pkl 확장자로 많이 저장, wb : write binary\n",
        "    pickle.dump(model, f) # 실행하면 폴더에 저장됨"
      ],
      "execution_count": null,
      "outputs": []
    },
    {
      "cell_type": "code",
      "metadata": {
        "colab": {
          "base_uri": "https://localhost:8080/"
        },
        "id": "fP9PJMeorCYg",
        "outputId": "d3eb31e6-9ee2-4e5c-a2a7-7e667d5b2423"
      },
      "source": [
        "import pickle\n",
        "\n",
        "with open('xor_model.pkl', 'rb') as f : # rb : read binary \n",
        "    model = pickle.load(f)\n",
        "\n",
        "pre = model.predict([[1, 1], [1, 0]])\n",
        "pre[0], pre[1]"
      ],
      "execution_count": null,
      "outputs": [
        {
          "output_type": "execute_result",
          "data": {
            "text/plain": [
              "(0, 1)"
            ]
          },
          "metadata": {
            "tags": []
          },
          "execution_count": 41
        }
      ]
    },
    {
      "cell_type": "code",
      "metadata": {
        "colab": {
          "base_uri": "https://localhost:8080/"
        },
        "id": "YyLmL_R5r_9x",
        "outputId": "2f01e61e-beee-4c8e-f57b-2efdb9de15ee"
      },
      "source": [
        "import pickle\n",
        "\n",
        "with open('xor_model.pkl', 'rb') as f:\n",
        "  model = pickle.load(f)\n",
        "\n",
        "x_test = [[1, 1], [1, 0]]\n",
        "\n",
        "pre = model.predict(x_test)\n",
        "pre[0], pre[1]"
      ],
      "execution_count": null,
      "outputs": [
        {
          "output_type": "execute_result",
          "data": {
            "text/plain": [
              "(0, 1)"
            ]
          },
          "metadata": {
            "tags": []
          },
          "execution_count": 42
        }
      ]
    },
    {
      "cell_type": "markdown",
      "metadata": {
        "id": "9kBBb96z3egM"
      },
      "source": [
        "#### 모델 저장과 불러오기 - joblib"
      ]
    },
    {
      "cell_type": "code",
      "metadata": {
        "id": "abR36aP63BvO",
        "colab": {
          "base_uri": "https://localhost:8080/"
        },
        "outputId": "defd3dc2-3a29-4284-f963-b2cf0349098c"
      },
      "source": [
        "from sklearn.externals import joblib\n",
        "\n",
        "joblib.dump(model, 'xor_model_2.pkl')"
      ],
      "execution_count": null,
      "outputs": [
        {
          "output_type": "execute_result",
          "data": {
            "text/plain": [
              "['xor_model_2.pkl']"
            ]
          },
          "metadata": {
            "tags": []
          },
          "execution_count": 44
        }
      ]
    },
    {
      "cell_type": "code",
      "metadata": {
        "colab": {
          "base_uri": "https://localhost:8080/"
        },
        "id": "qDrG6vZvsKbX",
        "outputId": "7b4f3913-17aa-4f0a-9713-e4170022cd0a"
      },
      "source": [
        "from sklearn.externals import joblib\n",
        "\n",
        "model = joblib.load('xor_model_2.pkl')\n",
        "\n",
        "pre = model.predict( [[1, 1], [1, 0]] )\n",
        "pre[0], pre[1]"
      ],
      "execution_count": null,
      "outputs": [
        {
          "output_type": "execute_result",
          "data": {
            "text/plain": [
              "(0, 1)"
            ]
          },
          "metadata": {
            "tags": []
          },
          "execution_count": 48
        }
      ]
    },
    {
      "cell_type": "markdown",
      "metadata": {
        "id": "l12FSyxUw0IX"
      },
      "source": [
        "#### scikit-learn 연습 01\n",
        "\n",
        "AND 연산 모델 작성\n",
        "\n",
        "AND연산?\n",
        "\n",
        "- 두값이 서로 참이면 1, 아니면 0 \n",
        "\n",
        "|P(입력)| Q(입력)| R(출력)|\n",
        "|---|---|---|\n",
        "| 0| 0| 0|\n",
        "| 0| 1| 0|\n",
        "| 1| 0| 0|\n",
        "| 1| 1| 1|"
      ]
    },
    {
      "cell_type": "code",
      "metadata": {
        "id": "fI8JO2JWalgC",
        "colab": {
          "base_uri": "https://localhost:8080/"
        },
        "outputId": "15471636-d49e-49df-e01a-5787941827f2"
      },
      "source": [
        "# KNN 분류 모델을 이용\n",
        "import pandas as pd\n",
        "from sklearn import svm, metrics\n",
        "from sklearn.neighbors import KNeighborsClassifier\n",
        "\n",
        "# AND 연산\n",
        "\n",
        "and_input = [\n",
        "             [0, 0, 0],\n",
        "             [0, 1, 0],\n",
        "             [1, 0, 0],\n",
        "             [1, 1, 1]\n",
        "]\n",
        "\n",
        "# 입력을 학습 전용 데이터와 테스트 전용 데이터로 분류하기 --- (※1)\n",
        "\n",
        "and_df = pd.DataFrame(and_input)\n",
        "and_data = and_df[ [0, 1]]\n",
        "and_label = and_df[2]\n",
        "\n",
        "# 데이터 학습과 예측하기 --- (※2)\n",
        "\n",
        "model = KNeighborsClassifier(n_neighbors = 1) # 모델만 바꿔주면 됨\n",
        "model.fit(and_data, and_label)\n",
        "pre = model.predict(and_data)\n",
        "\n",
        "# 정답률 구하기 --- (※3)\n",
        "\n",
        "and_score = metrics.accuracy_score(and_label, pre)\n",
        "print(\"정답률 :\", and_score)"
      ],
      "execution_count": null,
      "outputs": [
        {
          "output_type": "stream",
          "text": [
            "정답률 : 1.0\n"
          ],
          "name": "stdout"
        }
      ]
    },
    {
      "cell_type": "markdown",
      "metadata": {
        "id": "UohtQMQOkFGS"
      },
      "source": [
        "#### 분류? 회귀?\n",
        "\n",
        "- 같은 종류의 꽃(붓꽃)을 세 품종 중 하나로 예측하는 것\n",
        "- 이메일에서 스팸 메일을 예측하는 것\n",
        "- 웹사이트의 글로부터 어떤 언어의 웹사이트인지 예측하는 것\n",
        "- 어떤 사람의 교육수준, 나이, 주거지를 바탕으로 연간 소득을 예측하는 것\n",
        "- 옥수수 농장에서 전년도 수확량과 날씨, 고용 인원수 등으로 올해 수확량을 예측하는 것\n",
        "- 다음 학기 성적 점수를 예측하는 것\n",
        "- 키와 몸무게를 가지고 비만도를 예측하는 것"
      ]
    },
    {
      "cell_type": "markdown",
      "metadata": {
        "id": "ulNYSJJHbeXU"
      },
      "source": [
        "#### scikit-learn 연습 02\n",
        "\n",
        "비만도 데이터 학습\n",
        "\n",
        "- 500명의 키와 몸무게, 비만도 라벨을 이용해 비만을 판단하는 모델을 만들어보자."
      ]
    },
    {
      "cell_type": "code",
      "metadata": {
        "id": "i1-0LDC0uvS6"
      },
      "source": [
        "# 구글드라이브 연동\n",
        "from google.colab import drive\n",
        "drive.mount('/gdrive', force_remount=True)\n",
        "\n",
        "# 구글 드라이브 파일 확인\n",
        "!ls '/gdrive/My Drive/temp/'\n",
        "\n",
        "# 반복되는 드라이브 경로 변수화\n",
        "drive_path = '/gdrive/My Drive/temp/'"
      ],
      "execution_count": null,
      "outputs": []
    },
    {
      "cell_type": "code",
      "metadata": {
        "id": "3LOS1fxAcD8Z",
        "colab": {
          "base_uri": "https://localhost:8080/",
          "height": 233
        },
        "outputId": "212538c1-42e8-4be0-c4d7-e04e2e407c8c"
      },
      "source": [
        "import pandas as pd\n",
        "import matplotlib.pyplot as plt\n",
        "from sklearn.neighbors import KNeighborsClassifier\n",
        "from sklearn import metrics # 평가를 위한 모듈\n",
        "\n",
        "# 'bmi_500.csv'\n",
        "\n",
        "df = pd.read_csv(drive_path + 'bmi_500.csv', index_col='Label')\n",
        "df.head()"
      ],
      "execution_count": 2,
      "outputs": [
        {
          "output_type": "execute_result",
          "data": {
            "text/html": [
              "<div>\n",
              "<style scoped>\n",
              "    .dataframe tbody tr th:only-of-type {\n",
              "        vertical-align: middle;\n",
              "    }\n",
              "\n",
              "    .dataframe tbody tr th {\n",
              "        vertical-align: top;\n",
              "    }\n",
              "\n",
              "    .dataframe thead th {\n",
              "        text-align: right;\n",
              "    }\n",
              "</style>\n",
              "<table border=\"1\" class=\"dataframe\">\n",
              "  <thead>\n",
              "    <tr style=\"text-align: right;\">\n",
              "      <th></th>\n",
              "      <th>Gender</th>\n",
              "      <th>Height</th>\n",
              "      <th>Weight</th>\n",
              "    </tr>\n",
              "    <tr>\n",
              "      <th>Label</th>\n",
              "      <th></th>\n",
              "      <th></th>\n",
              "      <th></th>\n",
              "    </tr>\n",
              "  </thead>\n",
              "  <tbody>\n",
              "    <tr>\n",
              "      <th>Obesity</th>\n",
              "      <td>Male</td>\n",
              "      <td>174</td>\n",
              "      <td>96</td>\n",
              "    </tr>\n",
              "    <tr>\n",
              "      <th>Normal</th>\n",
              "      <td>Male</td>\n",
              "      <td>189</td>\n",
              "      <td>87</td>\n",
              "    </tr>\n",
              "    <tr>\n",
              "      <th>Obesity</th>\n",
              "      <td>Female</td>\n",
              "      <td>185</td>\n",
              "      <td>110</td>\n",
              "    </tr>\n",
              "    <tr>\n",
              "      <th>Overweight</th>\n",
              "      <td>Female</td>\n",
              "      <td>195</td>\n",
              "      <td>104</td>\n",
              "    </tr>\n",
              "    <tr>\n",
              "      <th>Overweight</th>\n",
              "      <td>Male</td>\n",
              "      <td>149</td>\n",
              "      <td>61</td>\n",
              "    </tr>\n",
              "  </tbody>\n",
              "</table>\n",
              "</div>"
            ],
            "text/plain": [
              "            Gender  Height  Weight\n",
              "Label                             \n",
              "Obesity       Male     174      96\n",
              "Normal        Male     189      87\n",
              "Obesity     Female     185     110\n",
              "Overweight  Female     195     104\n",
              "Overweight    Male     149      61"
            ]
          },
          "metadata": {
            "tags": []
          },
          "execution_count": 2
        }
      ]
    },
    {
      "cell_type": "code",
      "metadata": {
        "colab": {
          "base_uri": "https://localhost:8080/"
        },
        "id": "nb6lLef8vftq",
        "outputId": "075db88b-a74e-4049-905b-4a868e1f90d0"
      },
      "source": [
        "df.info()"
      ],
      "execution_count": 3,
      "outputs": [
        {
          "output_type": "stream",
          "text": [
            "<class 'pandas.core.frame.DataFrame'>\n",
            "Index: 500 entries, Obesity to Extreme Obesity\n",
            "Data columns (total 3 columns):\n",
            " #   Column  Non-Null Count  Dtype \n",
            "---  ------  --------------  ----- \n",
            " 0   Gender  500 non-null    object\n",
            " 1   Height  500 non-null    int64 \n",
            " 2   Weight  500 non-null    int64 \n",
            "dtypes: int64(2), object(1)\n",
            "memory usage: 15.6+ KB\n"
          ],
          "name": "stdout"
        }
      ]
    },
    {
      "cell_type": "markdown",
      "metadata": {
        "id": "9yNTjMdXEE9K"
      },
      "source": [
        "0   Gender  500 non-null    object   \n",
        "1   Height  500 non-null    int64    \n",
        "2   Weight  500 non-null    int64    "
      ]
    },
    {
      "cell_type": "code",
      "metadata": {
        "colab": {
          "base_uri": "https://localhost:8080/",
          "height": 446
        },
        "id": "ieeRjm8sETUS",
        "outputId": "6965d5f6-2bab-4d46-c576-6dcb0a44b03e"
      },
      "source": [
        "df.loc['Normal']"
      ],
      "execution_count": 6,
      "outputs": [
        {
          "output_type": "execute_result",
          "data": {
            "text/html": [
              "<div>\n",
              "<style scoped>\n",
              "    .dataframe tbody tr th:only-of-type {\n",
              "        vertical-align: middle;\n",
              "    }\n",
              "\n",
              "    .dataframe tbody tr th {\n",
              "        vertical-align: top;\n",
              "    }\n",
              "\n",
              "    .dataframe thead th {\n",
              "        text-align: right;\n",
              "    }\n",
              "</style>\n",
              "<table border=\"1\" class=\"dataframe\">\n",
              "  <thead>\n",
              "    <tr style=\"text-align: right;\">\n",
              "      <th></th>\n",
              "      <th>Gender</th>\n",
              "      <th>Height</th>\n",
              "      <th>Weight</th>\n",
              "    </tr>\n",
              "    <tr>\n",
              "      <th>Label</th>\n",
              "      <th></th>\n",
              "      <th></th>\n",
              "      <th></th>\n",
              "    </tr>\n",
              "  </thead>\n",
              "  <tbody>\n",
              "    <tr>\n",
              "      <th>Normal</th>\n",
              "      <td>Male</td>\n",
              "      <td>189</td>\n",
              "      <td>87</td>\n",
              "    </tr>\n",
              "    <tr>\n",
              "      <th>Normal</th>\n",
              "      <td>Male</td>\n",
              "      <td>195</td>\n",
              "      <td>81</td>\n",
              "    </tr>\n",
              "    <tr>\n",
              "      <th>Normal</th>\n",
              "      <td>Male</td>\n",
              "      <td>155</td>\n",
              "      <td>51</td>\n",
              "    </tr>\n",
              "    <tr>\n",
              "      <th>Normal</th>\n",
              "      <td>Male</td>\n",
              "      <td>191</td>\n",
              "      <td>79</td>\n",
              "    </tr>\n",
              "    <tr>\n",
              "      <th>Normal</th>\n",
              "      <td>Female</td>\n",
              "      <td>172</td>\n",
              "      <td>67</td>\n",
              "    </tr>\n",
              "    <tr>\n",
              "      <th>...</th>\n",
              "      <td>...</td>\n",
              "      <td>...</td>\n",
              "      <td>...</td>\n",
              "    </tr>\n",
              "    <tr>\n",
              "      <th>Normal</th>\n",
              "      <td>Female</td>\n",
              "      <td>178</td>\n",
              "      <td>65</td>\n",
              "    </tr>\n",
              "    <tr>\n",
              "      <th>Normal</th>\n",
              "      <td>Male</td>\n",
              "      <td>167</td>\n",
              "      <td>64</td>\n",
              "    </tr>\n",
              "    <tr>\n",
              "      <th>Normal</th>\n",
              "      <td>Female</td>\n",
              "      <td>151</td>\n",
              "      <td>55</td>\n",
              "    </tr>\n",
              "    <tr>\n",
              "      <th>Normal</th>\n",
              "      <td>Male</td>\n",
              "      <td>187</td>\n",
              "      <td>80</td>\n",
              "    </tr>\n",
              "    <tr>\n",
              "      <th>Normal</th>\n",
              "      <td>Female</td>\n",
              "      <td>164</td>\n",
              "      <td>59</td>\n",
              "    </tr>\n",
              "  </tbody>\n",
              "</table>\n",
              "<p>69 rows × 3 columns</p>\n",
              "</div>"
            ],
            "text/plain": [
              "        Gender  Height  Weight\n",
              "Label                         \n",
              "Normal    Male     189      87\n",
              "Normal    Male     195      81\n",
              "Normal    Male     155      51\n",
              "Normal    Male     191      79\n",
              "Normal  Female     172      67\n",
              "...        ...     ...     ...\n",
              "Normal  Female     178      65\n",
              "Normal    Male     167      64\n",
              "Normal  Female     151      55\n",
              "Normal    Male     187      80\n",
              "Normal  Female     164      59\n",
              "\n",
              "[69 rows x 3 columns]"
            ]
          },
          "metadata": {
            "tags": []
          },
          "execution_count": 6
        }
      ]
    },
    {
      "cell_type": "code",
      "metadata": {
        "colab": {
          "base_uri": "https://localhost:8080/"
        },
        "id": "VG3JQ9rnvgei",
        "outputId": "0ffc2467-85b8-47d9-c05f-2090de5ae6ea"
      },
      "source": [
        "df.loc['Normal']\n",
        "df.index.unique() # 라벨링 (카테고리) 확인"
      ],
      "execution_count": 5,
      "outputs": [
        {
          "output_type": "execute_result",
          "data": {
            "text/plain": [
              "Index(['Obesity', 'Normal', 'Overweight', 'Extreme Obesity', 'Weak',\n",
              "       'Extremely Weak'],\n",
              "      dtype='object', name='Label')"
            ]
          },
          "metadata": {
            "tags": []
          },
          "execution_count": 5
        }
      ]
    },
    {
      "cell_type": "markdown",
      "metadata": {
        "id": "3DdvxqBtEYh7"
      },
      "source": [
        "Index(['Obesity', 'Normal', 'Overweight', 'Extreme Obesity', 'Weak',       'Extremely Weak'],\n",
        "      dtype='object', name='Label')\n",
        "\n",
        "6가지 index로 구성되어 있음을 확인 할 수 있음"
      ]
    },
    {
      "cell_type": "code",
      "metadata": {
        "colab": {
          "base_uri": "https://localhost:8080/",
          "height": 320
        },
        "id": "H9lXZoi9EfSO",
        "outputId": "f7ddce0f-af5c-464e-a48b-2c5a33f3aafd"
      },
      "source": [
        "# 각 비만도 등급별 시각화 (분류가 가능한지 확인하고자)\n",
        "import matplotlib.pyplot as plt\n",
        "\n",
        "plt.figure(figsize=(5,5))\n",
        "t = df.loc['Extreme Obesity']# 산점도 도식화\n",
        "plt.scatter(t['Weight'], t['Height'], c = 'black', label = 'Extreme Obesity')\n",
        "t = df.loc['Weak']\n",
        "plt.scatter(t['Weight'], t['Height'], c = 'blue', label = 'Weak')\n",
        "t = df.loc['Normal']\n",
        "plt.scatter(t['Weight'], t['Height'], c = 'green', label = 'Normal')\n",
        "\n",
        "plt.legend() # 라벨 나오게\n",
        "plt.show()"
      ],
      "execution_count": 14,
      "outputs": [
        {
          "output_type": "display_data",
          "data": {
            "image/png": "[encoded data removed]",
            "text/plain": [
              "<Figure size 360x360 with 1 Axes>"
            ]
          },
          "metadata": {
            "tags": [],
            "needs_background": "light"
          }
        }
      ]
    },
    {
      "cell_type": "markdown",
      "metadata": {
        "id": "y22zEgrGFyqa"
      },
      "source": [
        "머신러닝 하기에 좋은 데이터인지 확인"
      ]
    },
    {
      "cell_type": "code",
      "metadata": {
        "colab": {
          "base_uri": "https://localhost:8080/",
          "height": 320
        },
        "id": "nXnGegEUGCqm",
        "outputId": "05366cdc-8af7-4b5e-a9f1-a56a19274b16"
      },
      "source": [
        "# 각 비만도 등급별 시각화 (분류가 가능한지 확인하고자)\n",
        "import matplotlib.pyplot as plt\n",
        "\n",
        "def easy_scatter(label, color) :\n",
        "    t = df.loc[label]\n",
        "    plt.scatter(t['Weight'], t['Height'], c = color, label = label)\n",
        "\n",
        "plt.figure( figsize=(5,5) )\n",
        "\n",
        "easy_scatter('Extreme Obesity', 'black')\n",
        "easy_scatter('Weak', 'blue')\n",
        "easy_scatter('Normal', 'green')\n",
        "easy_scatter('Overweight', 'pink')\n",
        "easy_scatter('Obesity', 'purple')\n",
        "easy_scatter('Extremely Weak', 'red')\n",
        "\n",
        "plt.legend() # 라벨 나오게\n",
        "plt.show()"
      ],
      "execution_count": 17,
      "outputs": [
        {
          "output_type": "display_data",
          "data": {
            "image/png": "[encoded data removed]",
            "text/plain": [
              "<Figure size 360x360 with 1 Axes>"
            ]
          },
          "metadata": {
            "tags": [],
            "needs_background": "light"
          }
        }
      ]
    },
    {
      "cell_type": "markdown",
      "metadata": {
        "id": "C7ty2IjNe6vu"
      },
      "source": [
        "모델링\n",
        "\n",
        "1. 문제와 답으로 분리\n",
        "\n",
        "2. 훈련셋과 평가셋으로 분리\n",
        "\n",
        "3. 모델생성 및 하이퍼파라미터 조정\n",
        "\n",
        "4. 학습 및 평가"
      ]
    },
    {
      "cell_type": "code",
      "metadata": {
        "id": "uL4d_3oP5fT8",
        "colab": {
          "base_uri": "https://localhost:8080/"
        },
        "outputId": "7241f27a-b2f4-43d9-b515-9e0b0b5dfc5a"
      },
      "source": [
        "# 데이터 모델링\n",
        "\n",
        "data = pd.read_csv(drive_path + 'bmi_500.csv')\n",
        "\n",
        "X = data.loc[:, 'Height':'Weight']\n",
        "y = data.loc[:, 'Label']\n",
        "\n",
        "print(X.shape)\n",
        "print(y.shape)\n",
        "\n",
        "X_train = X.iloc[:350, :]\n",
        "X_test = X.iloc[350:, :]\n",
        "y_train = y.iloc[:350]\n",
        "y_test = y.iloc[350:]\n",
        "\n",
        "bmi_model = KNeighborsClassifier(n_neighbors=15) # n_neighbors 하이퍼파라미터 조절\n",
        "bmi_model.fit(X_train, y_train) # 학습 데이터의 문제와 결과를 넣어줌\n",
        "pre = bmi_model.predict(X_test)\n",
        "metrics.accuracy_score(y_test, pre) # 결과 확인 및 검증"
      ],
      "execution_count": 22,
      "outputs": [
        {
          "output_type": "stream",
          "text": [
            "(500, 2)\n",
            "(500,)\n"
          ],
          "name": "stdout"
        },
        {
          "output_type": "execute_result",
          "data": {
            "text/plain": [
              "0.9066666666666666"
            ]
          },
          "metadata": {
            "tags": []
          },
          "execution_count": 22
        }
      ]
    },
    {
      "cell_type": "markdown",
      "metadata": {
        "id": "78ukD-195M_p"
      },
      "source": [
        "### 머신러닝(Machine Learning) 진행 과정\n",
        "\n",
        "1. ProblemIdentification (문제정의)\n",
        "2. Data Collect(데이터 수집)\n",
        "3. Data Preprocessing(데이터 전처리)\n",
        "4. EDA(탐색적 데이터분석)\n",
        "5. Model 선택, Hyper Parameter 조정\n",
        "6. 학습\n",
        "7. 모델 Evaluation(평가)\n"
      ]
    },
    {
      "cell_type": "markdown",
      "metadata": {
        "id": "-I4zA6pOMk9Z"
      },
      "source": [
        "1. 문제정의\n",
        " - 지도학습 : 분류, 회귀\n",
        " - 비지도학습 : 군집, 차원축소\n",
        " - 강화학습\n",
        "\n",
        "2. 데이터 수집\n",
        " - File Data, Database, 공공데이터, kaggle\n",
        " - Web Crawler (뉴스, SNS, 블로그)\n",
        " - IoT 센서를 통한 수집\n",
        "\n",
        "3. 데이터 전처리\n",
        " - 결측치, 이상치 수정\n",
        " - Encoding : Categorical Data를 수치 데이터로 변경, 원핫인코딩\n",
        " - Feature Engineering (특성공학) : 단위 변환, 새로운 속성 추가 (MinMaxScaler, StandardScaler, RobustScaler)\n",
        "\n",
        "4. EDA\n",
        " - 시각화를 통해 특성 선택 : (scatterplot, pairplot, boxplot, heatmap)\n",
        " - 사용할 Feature 선택 : 전처리 전략수립\n",
        "\n",
        "5. Model 선택, Hyper Parameter 조정\n",
        " - 목적에 맞는 적절한 모델 선택\n",
        "  - 지도학습\n",
        "\t - 분류 : knn, Logistic Regression, SVM, Decision Tree, RandomForest, GradientBoosting\n",
        "\t - 회귀 : knn, Linear Regression, Lasso, Ridge, Decision Tree, RandomForest, GradientBoosting\n",
        " - 하이퍼파라미터 튜닝\n",
        "\n",
        "6. 학습\n",
        " - model.fit(X_train, y_train) : train 데이터와 test 데이터를 7:3 정도로 나눔 (train_test_split)\n",
        " - model.predict(X_test) :  (cross_val_score)\n",
        "\n",
        "7. 평가\n",
        " -\t지도학습\n",
        "\t - 분류 : 정확도, 정밀도, 재현율, f1-score\n",
        "\t - 회귀 : R^2, MSE, RMSE\n",
        "\n",
        " -\t비지도학습\n",
        "\t- ARI 값"
      ]
    }
  ]
}