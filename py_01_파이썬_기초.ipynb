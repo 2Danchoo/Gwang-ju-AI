{
  "nbformat": 4,
  "nbformat_minor": 0,
  "metadata": {
    "colab": {
      "name": "py_01-파이썬 기초.ipynb",
      "provenance": [],
      "collapsed_sections": []
    },
    "kernelspec": {
      "name": "python3",
      "display_name": "Python 3"
    },
    "language_info": {
      "name": "python"
    }
  },
  "cells": [
    {
      "cell_type": "markdown",
      "metadata": {
        "id": "HPWscbjywIh-"
      },
      "source": [
        "2021-06-17 (Thu) ~ 2021-06-21 (Mon)"
      ]
    },
    {
      "cell_type": "markdown",
      "metadata": {
        "id": "0Szep_rLTVgH"
      },
      "source": [
        "## 윤년 구하기\n",
        "\n",
        "- 4로 나누어 떨어지는 해를 윤년   \n",
        "- 100으로 나누어 떨어지는 해는 평년   \n",
        "- 400으로 나누어 떨어지는 해는 윤년   "
      ]
    },
    {
      "cell_type": "code",
      "metadata": {
        "colab": {
          "base_uri": "https://localhost:8080/"
        },
        "id": "JuzN5comWKxs",
        "outputId": "fef99bf1-8197-4703-fa54-65d292be146c"
      },
      "source": [
        "def isLeepYear(year) :\n",
        "  if year % 400 == 0 :\n",
        "    return False\n",
        "  if year % 100 == 0 :\n",
        "    return False\n",
        "  if year % 4 == 0 :\n",
        "    return True\n",
        "  \n",
        "  return False\n",
        "\n",
        "print( isLeepYear(2004) )\n",
        "print( isLeepYear(2008) )\n",
        "print( isLeepYear(2100) )\n",
        "print( isLeepYear(2000) )\n",
        "print( isLeepYear(2021) )"
      ],
      "execution_count": null,
      "outputs": [
        {
          "output_type": "stream",
          "text": [
            "True\n",
            "True\n",
            "False\n",
            "False\n",
            "False\n"
          ],
          "name": "stdout"
        }
      ]
    },
    {
      "cell_type": "code",
      "metadata": {
        "colab": {
          "base_uri": "https://localhost:8080/"
        },
        "id": "aRebST2wZktb",
        "outputId": "d50e8c10-b14b-4825-d634-974710a871b1"
      },
      "source": [
        "def isLeepYear(year) :\n",
        "  if year % 400 == 0 :\n",
        "    return False\n",
        "  if year % 100 == 0 :\n",
        "    return False\n",
        "  if year % 4 == 0 :\n",
        "    return True\n",
        "  \n",
        "  return False\n",
        "\n",
        "def printLeepYear(year) :\n",
        "  print(year, isLeepYear(year))\n",
        "\n",
        "printLeepYear(2004)\n",
        "printLeepYear(2008)\n",
        "printLeepYear(2000)\n",
        "printLeepYear(2100)\n",
        "printLeepYear(2021)"
      ],
      "execution_count": null,
      "outputs": [
        {
          "output_type": "stream",
          "text": [
            "2004 True\n",
            "2008 True\n",
            "2000 False\n",
            "2100 False\n",
            "2021 False\n"
          ],
          "name": "stdout"
        }
      ]
    },
    {
      "cell_type": "markdown",
      "metadata": {
        "id": "AJ4tJuClcXB5"
      },
      "source": [
        "## 딕셔너리"
      ]
    },
    {
      "cell_type": "code",
      "metadata": {
        "colab": {
          "base_uri": "https://localhost:8080/"
        },
        "id": "BbNLKHFQhb7_",
        "outputId": "7a9ce285-6162-40de-8897-d136839817c1"
      },
      "source": [
        "  medal_bag = ['Bronze', 'Gold', 'Gold', 'Gold', 'Silver', 'Gold', 'Gold', 'Gold', 'Silver', 'Silver', 'Silver', 'Bronze', 'Bronze']\n",
        "  medal_bag.count('Gold')"
      ],
      "execution_count": null,
      "outputs": [
        {
          "output_type": "execute_result",
          "data": {
            "text/plain": [
              "6"
            ]
          },
          "metadata": {
            "tags": []
          },
          "execution_count": 23
        }
      ]
    },
    {
      "cell_type": "code",
      "metadata": {
        "colab": {
          "base_uri": "https://localhost:8080/"
        },
        "id": "0fTHCrUHiudP",
        "outputId": "4ae99be2-41c3-454a-d173-6a8ef5a5305d"
      },
      "source": [
        "# 주어진 count_individual()함수, make_dictionary(), init()함수 직접 수정 불가\n",
        "# 출력 결과 : {'Gold': 6, 'Silver': 4, 'Bronze': 3}\n",
        "\n",
        "def count_individual(medal_bag):\n",
        "  gold_count = 0\n",
        "  silver_count = 0\n",
        "  bronze_count = 0\n",
        "\n",
        "  for medal in medal_bag :\n",
        "    if medal == 'Gold':\n",
        "      gold_count += 1\n",
        "    \n",
        "    elif medal == 'Silver':\n",
        "      silver_count += 1\n",
        "    \n",
        "    elif medal == 'Bronze':\n",
        "      bronze_count += 1\n",
        "\n",
        "  return gold_count, silver_count, bronze_count\n",
        "\n",
        "def make_dictionary(gold_count, silver_count, bronze_count):\n",
        "  medal_dict = {\n",
        "      'Gold' : gold_count,\n",
        "      'Silver' : silver_count,\n",
        "      'Bronze' : bronze_count\n",
        "  }\n",
        "\n",
        "  return medal_dict\n",
        "\n",
        "def init():\n",
        "  medal_bag = ['Bronze', 'Gold', 'Gold', 'Gold', 'Silver', 'Gold', 'Gold', 'Gold', 'Silver', 'Silver', 'Silver', 'Bronze', 'Bronze']\n",
        "\n",
        "  gold_count, silver_count, bronze_count = count_individual(medal_bag)\n",
        "  medal_dict = make_dictionary(gold_count, silver_count, bronze_count)\n",
        "\n",
        "  print(medal_dict)\n",
        "\n",
        "init()"
      ],
      "execution_count": null,
      "outputs": [
        {
          "output_type": "stream",
          "text": [
            "{'Gold': 6, 'Silver': 4, 'Bronze': 3}\n"
          ],
          "name": "stdout"
        }
      ]
    },
    {
      "cell_type": "code",
      "metadata": {
        "colab": {
          "base_uri": "https://localhost:8080/"
        },
        "id": "E_JvY1LrcbeW",
        "outputId": "998ef6f2-d088-4da0-88e3-ab54b46a9fd5"
      },
      "source": [
        "# 주어진 count_individual()함수, make_dictionary(), init()함수 직접 수정 불가\n",
        "# 출력 결과 : {'Gold': 6, 'Silver': 4, 'Bronze': 3}\n",
        "\n",
        "def count_individual(medal_bag) :\n",
        "  return medal_bag.count('Gold'), medal_bag.count('Silver'), medal_bag.count('Bronze')\n",
        "\n",
        "def make_dictionary(gold_count, silver_count, bronze_count) :\n",
        "  return {'Gold' : gold_count, 'Silver' : silver_count, 'Bronze' : bronze_count}\n",
        "\n",
        "def init() :\n",
        "  medal_bag = ['Bronze', 'Gold', 'Gold', 'Gold', 'Silver', 'Gold', 'Gold', 'Gold', 'Silver', 'Silver', 'Silver', 'Bronze', 'Bronze']\n",
        "\n",
        "  gold_count, silver_count, bronze_count = count_individual(medal_bag)\n",
        "  medal_dict = make_dictionary(gold_count, silver_count, bronze_count)\n",
        "\n",
        "  print(medal_dict)\n",
        "\n",
        "init()"
      ],
      "execution_count": null,
      "outputs": [
        {
          "output_type": "stream",
          "text": [
            "{'Gold': 6, 'Silver': 4, 'Bronze': 3}\n"
          ],
          "name": "stdout"
        }
      ]
    },
    {
      "cell_type": "markdown",
      "metadata": {
        "id": "jFWaqQ2VjNI1"
      },
      "source": [
        "## Class"
      ]
    },
    {
      "cell_type": "code",
      "metadata": {
        "colab": {
          "base_uri": "https://localhost:8080/"
        },
        "id": "JW6HZSd0jXAz",
        "outputId": "dfeb0b7c-f58f-4cb8-8192-57f51b64e60c"
      },
      "source": [
        "x = 1\n",
        "print(type(x))"
      ],
      "execution_count": null,
      "outputs": [
        {
          "output_type": "stream",
          "text": [
            "<class 'int'>\n"
          ],
          "name": "stdout"
        }
      ]
    },
    {
      "cell_type": "code",
      "metadata": {
        "colab": {
          "base_uri": "https://localhost:8080/"
        },
        "id": "FQFYinwujnTH",
        "outputId": "7fcaff7d-5422-43a3-f48d-db6e998cd26f"
      },
      "source": [
        "def hello() :\n",
        "  print('hello')\n",
        "\n",
        "print(type(hello))"
      ],
      "execution_count": null,
      "outputs": [
        {
          "output_type": "stream",
          "text": [
            "<class 'function'>\n"
          ],
          "name": "stdout"
        }
      ]
    },
    {
      "cell_type": "code",
      "metadata": {
        "colab": {
          "base_uri": "https://localhost:8080/",
          "height": 204
        },
        "id": "yv0hjM5lkLyX",
        "outputId": "4d3a0708-59b1-431b-b571-6d7efd62a927"
      },
      "source": [
        "x = 1\n",
        "y = 'hello'\n",
        "\n",
        "print(x + y)"
      ],
      "execution_count": null,
      "outputs": [
        {
          "output_type": "error",
          "ename": "TypeError",
          "evalue": "ignored",
          "traceback": [
            "\u001b[0;31m---------------------------------------------------------------------------\u001b[0m",
            "\u001b[0;31mTypeError\u001b[0m                                 Traceback (most recent call last)",
            "\u001b[0;32m<ipython-input-33-415fc3dbbf97>\u001b[0m in \u001b[0;36m<module>\u001b[0;34m()\u001b[0m\n\u001b[1;32m      2\u001b[0m \u001b[0my\u001b[0m \u001b[0;34m=\u001b[0m \u001b[0;34m'hello'\u001b[0m\u001b[0;34m\u001b[0m\u001b[0;34m\u001b[0m\u001b[0m\n\u001b[1;32m      3\u001b[0m \u001b[0;34m\u001b[0m\u001b[0m\n\u001b[0;32m----> 4\u001b[0;31m \u001b[0mprint\u001b[0m\u001b[0;34m(\u001b[0m\u001b[0mx\u001b[0m \u001b[0;34m+\u001b[0m \u001b[0my\u001b[0m\u001b[0;34m)\u001b[0m\u001b[0;34m\u001b[0m\u001b[0;34m\u001b[0m\u001b[0m\n\u001b[0m",
            "\u001b[0;31mTypeError\u001b[0m: unsupported operand type(s) for +: 'int' and 'str'"
          ]
        }
      ]
    },
    {
      "cell_type": "code",
      "metadata": {
        "colab": {
          "base_uri": "https://localhost:8080/"
        },
        "id": "Z4y-t1oRlKe0",
        "outputId": "a032fd7f-39b2-4a75-d1ab-61d55cb42835"
      },
      "source": [
        "x = 1\n",
        "y = 2\n",
        "\n",
        "print(x + y)"
      ],
      "execution_count": null,
      "outputs": [
        {
          "output_type": "stream",
          "text": [
            "3\n"
          ],
          "name": "stdout"
        }
      ]
    },
    {
      "cell_type": "code",
      "metadata": {
        "colab": {
          "base_uri": "https://localhost:8080/"
        },
        "id": "Pkvo61v5lNAp",
        "outputId": "b1ca6133-a226-4605-e846-544a44808784"
      },
      "source": [
        "str = \"hello\"\n",
        "print(str.upper())"
      ],
      "execution_count": null,
      "outputs": [
        {
          "output_type": "stream",
          "text": [
            "HELLO\n"
          ],
          "name": "stdout"
        }
      ]
    },
    {
      "cell_type": "code",
      "metadata": {
        "colab": {
          "base_uri": "https://localhost:8080/",
          "height": 186
        },
        "id": "7t1tQfwOlzAz",
        "outputId": "b40c0ddb-2133-44bc-92f4-f6e313b29de8"
      },
      "source": [
        "x = 1\n",
        "print(x.upper())"
      ],
      "execution_count": null,
      "outputs": [
        {
          "output_type": "error",
          "ename": "AttributeError",
          "evalue": "ignored",
          "traceback": [
            "\u001b[0;31m---------------------------------------------------------------------------\u001b[0m",
            "\u001b[0;31mAttributeError\u001b[0m                            Traceback (most recent call last)",
            "\u001b[0;32m<ipython-input-38-0b4b7f85eccd>\u001b[0m in \u001b[0;36m<module>\u001b[0;34m()\u001b[0m\n\u001b[1;32m      1\u001b[0m \u001b[0mx\u001b[0m \u001b[0;34m=\u001b[0m \u001b[0;36m1\u001b[0m\u001b[0;34m\u001b[0m\u001b[0;34m\u001b[0m\u001b[0m\n\u001b[0;32m----> 2\u001b[0;31m \u001b[0mprint\u001b[0m\u001b[0;34m(\u001b[0m\u001b[0mx\u001b[0m\u001b[0;34m.\u001b[0m\u001b[0mupper\u001b[0m\u001b[0;34m(\u001b[0m\u001b[0;34m)\u001b[0m\u001b[0;34m)\u001b[0m\u001b[0;34m\u001b[0m\u001b[0;34m\u001b[0m\u001b[0m\n\u001b[0m",
            "\u001b[0;31mAttributeError\u001b[0m: 'int' object has no attribute 'upper'"
          ]
        }
      ]
    },
    {
      "cell_type": "code",
      "metadata": {
        "colab": {
          "base_uri": "https://localhost:8080/"
        },
        "id": "3D_51xd7mA6-",
        "outputId": "45ecd74d-5575-4c5d-d9c5-02cda4712d9e"
      },
      "source": [
        "class Dog :\n",
        "  def meong(self) :\n",
        "    print('멍')\n",
        "\n",
        "d = Dog()\n",
        "print(type(d))  # <class '__main__.Dog'> : 모듈명\n",
        "d.meong()"
      ],
      "execution_count": null,
      "outputs": [
        {
          "output_type": "stream",
          "text": [
            "<class '__main__.Dog'>\n",
            "멍\n"
          ],
          "name": "stdout"
        }
      ]
    },
    {
      "cell_type": "code",
      "metadata": {
        "colab": {
          "base_uri": "https://localhost:8080/"
        },
        "id": "XlMc2SoPn4Kl",
        "outputId": "622498d8-34e8-457e-c117-1ba1049ddc3b"
      },
      "source": [
        "class Dog :\n",
        "  def meong(self) :\n",
        "    print('멍')\n",
        "  \n",
        "  def add_one(self, x) :\n",
        "    return x + 1  \n",
        "\n",
        "d = Dog()\n",
        "print(type(d))  # <class '__main__.Dog'> : 모듈명\n",
        "d.meong()\n",
        "print(d.add_one(5))"
      ],
      "execution_count": null,
      "outputs": [
        {
          "output_type": "stream",
          "text": [
            "<class '__main__.Dog'>\n",
            "멍\n",
            "6\n"
          ],
          "name": "stdout"
        }
      ]
    },
    {
      "cell_type": "markdown",
      "metadata": {
        "id": "CvhAtq01pD_u"
      },
      "source": [
        "초기화"
      ]
    },
    {
      "cell_type": "code",
      "metadata": {
        "colab": {
          "base_uri": "https://localhost:8080/",
          "height": 35
        },
        "id": "oAMXP2kkpAZZ",
        "outputId": "c3c34a8d-a196-46ad-dc5c-92bddaafc021"
      },
      "source": [
        "class Dog :\n",
        "  def __init__(self, name) : # __init__ : 초기화 시키는 메소드\n",
        "    self.name = name  # name을 self.name 에 보관\n",
        "\n",
        "  def meong(self) :\n",
        "    print('멍')\n",
        "  \n",
        "  def add_one(self, x) :\n",
        "    return x + 1  \n",
        "\n",
        "d = Dog('해피')\n",
        "d.name"
      ],
      "execution_count": null,
      "outputs": [
        {
          "output_type": "execute_result",
          "data": {
            "application/vnd.google.colaboratory.intrinsic+json": {
              "type": "string"
            },
            "text/plain": [
              "'해피'"
            ]
          },
          "metadata": {
            "tags": []
          },
          "execution_count": 49
        }
      ]
    },
    {
      "cell_type": "code",
      "metadata": {
        "colab": {
          "base_uri": "https://localhost:8080/"
        },
        "id": "ya_XVX6rtWEt",
        "outputId": "548d1f2e-b3e4-4d96-a87a-3d7e1980891a"
      },
      "source": [
        "class Dog :\n",
        "  def __init__(self, name) : # __init__ : 초기화 시키는 메소드\n",
        "    self.__name = name  # 히든 속성, 강제화 (외부에서 접근하지 못하게 메소드 함수를 통해서만 사용할 수 있도록 함)\n",
        "\n",
        "  def get_name(self) :\n",
        "    return self.__name\n",
        "\n",
        "d = Dog('해피')\n",
        "print(d.get_name())"
      ],
      "execution_count": null,
      "outputs": [
        {
          "output_type": "stream",
          "text": [
            "해피\n"
          ],
          "name": "stdout"
        }
      ]
    },
    {
      "cell_type": "code",
      "metadata": {
        "id": "9APE1Ny4yMIx"
      },
      "source": [
        "class Dog :\n",
        "  def __init__(self, name, age) : # __init__ : 초기화 시키는 메소드\n",
        "    self.name = name \n",
        "    self.age = age\n",
        "\n",
        "  def get_name(self) :\n",
        "    return self.name\n",
        "\n",
        "  def get_age(self) :\n",
        "    return self.age\n",
        "\n",
        "d = Dog('해피', 30)\n",
        "print(d.get_name()) # 해피\n",
        "print(d.get_age()) # 30"
      ],
      "execution_count": null,
      "outputs": []
    },
    {
      "cell_type": "code",
      "metadata": {
        "colab": {
          "base_uri": "https://localhost:8080/"
        },
        "id": "5K-VV3xCyUK9",
        "outputId": "7fdba5fe-072e-4378-bada-2fa3771a0370"
      },
      "source": [
        "class Dog :\n",
        "  def __init__(self, name, age) : # __init__ : 초기화 시키는 메소드\n",
        "    self.name = name \n",
        "    self.age = age\n",
        "\n",
        "  def get_name(self) :\n",
        "    return self.name\n",
        "\n",
        "  def get_age(self) :\n",
        "    return self.age\n",
        "\n",
        "  def set_age(self, age) :\n",
        "    self.age = age  # age 값 변경\n",
        "\n",
        "d = Dog('해피', 30)\n",
        "print(d.get_name()) # 해피\n",
        "print(d.get_age()) # 30\n",
        "d.set_age(22)\n",
        "print(d.get_age()) # 22"
      ],
      "execution_count": null,
      "outputs": [
        {
          "output_type": "stream",
          "text": [
            "해피\n",
            "30\n",
            "22\n"
          ],
          "name": "stdout"
        }
      ]
    },
    {
      "cell_type": "markdown",
      "metadata": {
        "id": "qiHUKzefy_x3"
      },
      "source": [
        "## 클래스 간의 상호작용"
      ]
    },
    {
      "cell_type": "code",
      "metadata": {
        "colab": {
          "base_uri": "https://localhost:8080/"
        },
        "id": "XhGNhrlWzCAf",
        "outputId": "85997674-19bb-4b53-e56c-f25ae06b9621"
      },
      "source": [
        "class Student :\n",
        "  def __init__(self, name, age, grade) :\n",
        "    self.name = name\n",
        "    self.age = age\n",
        "    self.grade = grade\n",
        "\n",
        "  def get_grade(self) :\n",
        "    return self.grade\n",
        "\n",
        "class Course :\n",
        "  def __init__(self, name, max_students) :\n",
        "    self.name = name\n",
        "    self.max_students = max_students\n",
        "    self.students = []\n",
        "\n",
        "  def add_student(self, student) :\n",
        "    \n",
        "    return self.add_student\n",
        "\n",
        "  def get_average_grade(self) :\n",
        "    get_average_grade = (s1.grade + s2.grade + s3.grade) / 3\n",
        "    return get_average_grade\n",
        "\n",
        "s1 = Student('아이언맨', 19, 95)\n",
        "s2 = Student('스파이더맨', 19, 75)\n",
        "s3 = Student('헐크', 19, 85)\n",
        "\n",
        "course = Course('과학', 2)\n",
        "course.add_student(s1)\n",
        "course.add_student(s2)\n",
        "print(course.get_average_grade()) # 평균점수"
      ],
      "execution_count": null,
      "outputs": [
        {
          "output_type": "stream",
          "text": [
            "85.0\n"
          ],
          "name": "stdout"
        }
      ]
    },
    {
      "cell_type": "code",
      "metadata": {
        "colab": {
          "base_uri": "https://localhost:8080/",
          "height": 327
        },
        "id": "qMU7mywb4Dr1",
        "outputId": "2f718309-5a33-434b-8325-c41c8cba1e3a"
      },
      "source": [
        "class Student :\n",
        "  def __init__(self, name, age, grade) :\n",
        "    self.name = name\n",
        "    self.age = age\n",
        "    self.grade = grade\n",
        "\n",
        "  def get_grade(self) :\n",
        "    return self.grade\n",
        "\n",
        "class Course :\n",
        "  def __init__(self, name, max_students) :\n",
        "    self.name = name\n",
        "    self.max_students = max_students\n",
        "    self.students = []\n",
        "\n",
        "  def add_student(self, student) :\n",
        "    self.students.append(student)\n",
        "\n",
        "  def get_average_grade(self) :\n",
        "    sum = ()\n",
        "    for student in self.students :\n",
        "      sum += student.get_grade()\n",
        "    return sum / len(self.studetns)\n",
        "\n",
        "s1 = Student('아이언맨', 19, 95)\n",
        "s2 = Student('스파이더맨', 19, 75)\n",
        "s3 = Student('헐크', 19, 85)\n",
        "\n",
        "course = Course('과학', 2)\n",
        "course.add_student(s1)\n",
        "course.add_student(s2)\n",
        "print(course.get_average_grade()) # 평균점수"
      ],
      "execution_count": null,
      "outputs": [
        {
          "output_type": "error",
          "ename": "TypeError",
          "evalue": "ignored",
          "traceback": [
            "\u001b[0;31m---------------------------------------------------------------------------\u001b[0m",
            "\u001b[0;31mTypeError\u001b[0m                                 Traceback (most recent call last)",
            "\u001b[0;32m<ipython-input-71-56ebebce4bd9>\u001b[0m in \u001b[0;36m<module>\u001b[0;34m()\u001b[0m\n\u001b[1;32m     30\u001b[0m \u001b[0mcourse\u001b[0m\u001b[0;34m.\u001b[0m\u001b[0madd_student\u001b[0m\u001b[0;34m(\u001b[0m\u001b[0ms1\u001b[0m\u001b[0;34m)\u001b[0m\u001b[0;34m\u001b[0m\u001b[0;34m\u001b[0m\u001b[0m\n\u001b[1;32m     31\u001b[0m \u001b[0mcourse\u001b[0m\u001b[0;34m.\u001b[0m\u001b[0madd_student\u001b[0m\u001b[0;34m(\u001b[0m\u001b[0ms2\u001b[0m\u001b[0;34m)\u001b[0m\u001b[0;34m\u001b[0m\u001b[0;34m\u001b[0m\u001b[0m\n\u001b[0;32m---> 32\u001b[0;31m \u001b[0mprint\u001b[0m\u001b[0;34m(\u001b[0m\u001b[0mcourse\u001b[0m\u001b[0;34m.\u001b[0m\u001b[0mget_average_grade\u001b[0m\u001b[0;34m(\u001b[0m\u001b[0;34m)\u001b[0m\u001b[0;34m)\u001b[0m \u001b[0;31m# 평균점수\u001b[0m\u001b[0;34m\u001b[0m\u001b[0;34m\u001b[0m\u001b[0m\n\u001b[0m",
            "\u001b[0;32m<ipython-input-71-56ebebce4bd9>\u001b[0m in \u001b[0;36mget_average_grade\u001b[0;34m(self)\u001b[0m\n\u001b[1;32m     20\u001b[0m     \u001b[0msum\u001b[0m \u001b[0;34m=\u001b[0m \u001b[0;34m(\u001b[0m\u001b[0;34m)\u001b[0m\u001b[0;34m\u001b[0m\u001b[0;34m\u001b[0m\u001b[0m\n\u001b[1;32m     21\u001b[0m     \u001b[0;32mfor\u001b[0m \u001b[0mstudent\u001b[0m \u001b[0;32min\u001b[0m \u001b[0mself\u001b[0m\u001b[0;34m.\u001b[0m\u001b[0mstudents\u001b[0m \u001b[0;34m:\u001b[0m\u001b[0;34m\u001b[0m\u001b[0;34m\u001b[0m\u001b[0m\n\u001b[0;32m---> 22\u001b[0;31m       \u001b[0msum\u001b[0m \u001b[0;34m+=\u001b[0m \u001b[0mstudent\u001b[0m\u001b[0;34m.\u001b[0m\u001b[0mget_grade\u001b[0m\u001b[0;34m(\u001b[0m\u001b[0;34m)\u001b[0m\u001b[0;34m\u001b[0m\u001b[0;34m\u001b[0m\u001b[0m\n\u001b[0m\u001b[1;32m     23\u001b[0m     \u001b[0;32mreturn\u001b[0m \u001b[0msum\u001b[0m \u001b[0;34m/\u001b[0m \u001b[0mlen\u001b[0m\u001b[0;34m(\u001b[0m\u001b[0mself\u001b[0m\u001b[0;34m.\u001b[0m\u001b[0mstudetns\u001b[0m\u001b[0;34m)\u001b[0m\u001b[0;34m\u001b[0m\u001b[0;34m\u001b[0m\u001b[0m\n\u001b[1;32m     24\u001b[0m \u001b[0;34m\u001b[0m\u001b[0m\n",
            "\u001b[0;31mTypeError\u001b[0m: can only concatenate tuple (not \"int\") to tuple"
          ]
        }
      ]
    },
    {
      "cell_type": "code",
      "metadata": {
        "colab": {
          "base_uri": "https://localhost:8080/"
        },
        "id": "haS-xYTV83v9",
        "outputId": "9e016ed1-2882-4b3d-f0fa-8d5d9fed0084"
      },
      "source": [
        "class Student:\n",
        "  def __init__(self, name, age, grade):\n",
        "    self.name = name\n",
        "    self.age = age\n",
        "    self.grade = grade\n",
        "  \n",
        "  def get_grade(self):\n",
        "    return self.grade\n",
        "\n",
        "class Course:\n",
        "  def __init__(self, name, max_students):\n",
        "    self.name = name\n",
        "    self.max_students = max_students\n",
        "    self.students = []\n",
        "\n",
        "  def add_student(self, student):\n",
        "    if len(self.students) < self.max_students:\n",
        "      self.students.append(student)\n",
        "      return True\n",
        "    return False\n",
        "  \n",
        "  def get_average_grade(self):\n",
        "    sum = 0\n",
        "    for student in self.students:\n",
        "      sum += student.get_grade()\n",
        "    return sum / len(self.students)\n",
        "\n",
        "\n",
        "s1 = Student('아이언맨', 19, 95)\n",
        "s2 = Student('스파이더맨', 19, 75)\n",
        "s3 = Student('헐그', 19, 85)\n",
        "\n",
        "course = Course('과학', 2)\n",
        "course.add_student(s1)\n",
        "course.add_student(s2)\n",
        "print(course.get_average_grade())"
      ],
      "execution_count": null,
      "outputs": [
        {
          "output_type": "stream",
          "text": [
            "85.0\n"
          ],
          "name": "stdout"
        }
      ]
    },
    {
      "cell_type": "markdown",
      "metadata": {
        "id": "18WNKtI29w3I"
      },
      "source": [
        "## 파이썬"
      ]
    },
    {
      "cell_type": "code",
      "metadata": {
        "colab": {
          "base_uri": "https://localhost:8080/"
        },
        "id": "Ff0ddJNqenVB",
        "outputId": "5ba10f70-df62-4a96-c46c-cd402eb19625"
      },
      "source": [
        "if 4 in [1, 2, 3, 4] : print('4가 있습니다.')"
      ],
      "execution_count": null,
      "outputs": [
        {
          "output_type": "stream",
          "text": [
            "4가 있습니다.\n"
          ],
          "name": "stdout"
        }
      ]
    },
    {
      "cell_type": "markdown",
      "metadata": {
        "id": "jG2iOLTue2Dt"
      },
      "source": [
        "자료형\n",
        "\n",
        "변수 : 변화를 줄 수 있는 or 변할 수 있는 수\n"
      ]
    },
    {
      "cell_type": "code",
      "metadata": {
        "colab": {
          "base_uri": "https://localhost:8080/"
        },
        "id": "H36Lh7oTe_2E",
        "outputId": "a3c94f81-cf4e-4355-e27c-ec91b67b8684"
      },
      "source": [
        "# 숫자형\n",
        "integer = -1\n",
        "\n",
        "# 문자열\n",
        "string = \"hello\"\n",
        "\n",
        "# 리스트\n",
        "list = [1,2,3,4]\n",
        "\n",
        "# 튜플\n",
        "tule = (1,2,3,4)\n",
        "\n",
        "# 딕셔너리(맵)\n",
        "dic = {'name':'홍길동', 'age':16}\n",
        "\n",
        "# 집합\n",
        "s = set( [1, 2, 3, 1] ) # 중복이 허용되지 않음\n",
        "print(s) # {1, 2, 3}\n",
        "\n",
        "# Boolean\n",
        "b = True\n"
      ],
      "execution_count": null,
      "outputs": [
        {
          "output_type": "stream",
          "text": [
            "{1, 2, 3}\n"
          ],
          "name": "stdout"
        }
      ]
    },
    {
      "cell_type": "code",
      "metadata": {
        "colab": {
          "base_uri": "https://localhost:8080/"
        },
        "id": "zQR9osOHhcTD",
        "outputId": "427384d1-8be7-439e-f29c-da8c838d8416"
      },
      "source": [
        "str = \"python's\\n 궁시렁\"\n",
        "print(str[0], str[3])\n",
        "print(str[0:4])\n",
        "print(str[-3:]) # 뒤에서부터"
      ],
      "execution_count": null,
      "outputs": [
        {
          "output_type": "stream",
          "text": [
            "p h\n",
            "pyth\n",
            "궁시렁\n"
          ],
          "name": "stdout"
        }
      ]
    },
    {
      "cell_type": "code",
      "metadata": {
        "colab": {
          "base_uri": "https://localhost:8080/"
        },
        "id": "Z89biqgIjLqO",
        "outputId": "bd7fc9b8-50f4-4a6c-b4d1-988f4ac5b7bb"
      },
      "source": [
        "# s에 들어있는 문자열을 연도, 월, 일, 날씨로 구분하여 저장하세요\n",
        "s = \"20210316Rainy\"\n",
        "\n",
        "year = s[:4]\n",
        "month = s[4:6]\n",
        "day = s[6:8]\n",
        "weather = s[8:]\n",
        "\n",
        "print(year, month, day, weather)"
      ],
      "execution_count": null,
      "outputs": [
        {
          "output_type": "stream",
          "text": [
            "2021 03 16 Rainy\n"
          ],
          "name": "stdout"
        }
      ]
    },
    {
      "cell_type": "code",
      "metadata": {
        "colab": {
          "base_uri": "https://localhost:8080/"
        },
        "id": "S1ssRukDlB5w",
        "outputId": "872f16bf-400e-47a6-bdd5-46e0e9ceecd7"
      },
      "source": [
        "a = 100\n",
        "b = 200\n",
        "sum = a + b\n",
        "\n",
        "print(\"{}과 {}의 합은 {}입니다.\".format(a, b, sum))\n",
        "print(\"%d과 %d의 합은 %d입니다.\" %(a, b, sum))\n",
        "print()"
      ],
      "execution_count": null,
      "outputs": [
        {
          "output_type": "stream",
          "text": [
            "100과 200의 합은 300입니다.\n",
            "100과 200의 합은 300입니다.\n"
          ],
          "name": "stdout"
        }
      ]
    },
    {
      "cell_type": "markdown",
      "metadata": {
        "id": "HjhrJIJ-lyFM"
      },
      "source": [
        "연산자"
      ]
    },
    {
      "cell_type": "code",
      "metadata": {
        "colab": {
          "base_uri": "https://localhost:8080/"
        },
        "id": "CU3CnzO-lzWe",
        "outputId": "21e7444e-1ec4-4a52-d999-eff7c30f44aa"
      },
      "source": [
        "# 산술연산자\n",
        "n1 = 10\n",
        "n2 = 7\n",
        "print(n1 / n2) # 나눗셈\n",
        "print(n1 % n2) # 나머지\n",
        "print(n1 // n2) # 나눗셈 소수점 자리 올림"
      ],
      "execution_count": null,
      "outputs": [
        {
          "output_type": "stream",
          "text": [
            "1.4285714285714286\n",
            "3\n",
            "1\n"
          ],
          "name": "stdout"
        }
      ]
    },
    {
      "cell_type": "markdown",
      "metadata": {
        "id": "Y5UL2RLxnAjw"
      },
      "source": [
        "#### 연산자 예제 02\n",
        "변수 num 값 중에서 백의 자리 이하를 버리는 코드이다.\n",
        "만일 변수 num의 값이 456이라면 400이 되고, 111이라면 100이 된다.\n",
        "```\n",
        "num = 456\n",
        "?\n",
        "```\n",
        "```\n",
        "결과 확인: 400\n",
        "```"
      ]
    },
    {
      "cell_type": "code",
      "metadata": {
        "colab": {
          "base_uri": "https://localhost:8080/"
        },
        "id": "zN10t4K0nY1G",
        "outputId": "fcb55bae-4dcb-4db5-af90-6676dffb0856"
      },
      "source": [
        "num = int(input())\n",
        "\n",
        "a = num // 100\n",
        "print(a*100)"
      ],
      "execution_count": null,
      "outputs": [
        {
          "output_type": "stream",
          "text": [
            "456\n",
            "400\n"
          ],
          "name": "stdout"
        }
      ]
    },
    {
      "cell_type": "code",
      "metadata": {
        "colab": {
          "base_uri": "https://localhost:8080/"
        },
        "id": "FgfB52xWohy1",
        "outputId": "3a541253-34de-4071-e735-39e76dcfb645"
      },
      "source": [
        "num = 456\n",
        "print(num // 100 * 100)\n",
        "print(num - num % 100)\n",
        "print(int(num/100) * 100)"
      ],
      "execution_count": null,
      "outputs": [
        {
          "output_type": "stream",
          "text": [
            "400\n",
            "400\n",
            "400\n"
          ],
          "name": "stdout"
        }
      ]
    },
    {
      "cell_type": "code",
      "metadata": {
        "colab": {
          "base_uri": "https://localhost:8080/"
        },
        "id": "-zvjcEy0rNEZ",
        "outputId": "841ae775-8c29-42e8-bbe4-0350794213ef"
      },
      "source": [
        "num = int(input(\"정수를 입력 : \"))\n",
        "type(num)"
      ],
      "execution_count": null,
      "outputs": [
        {
          "output_type": "stream",
          "text": [
            "정수를 입력 : 3\n"
          ],
          "name": "stdout"
        },
        {
          "output_type": "execute_result",
          "data": {
            "text/plain": [
              "int"
            ]
          },
          "metadata": {
            "tags": []
          },
          "execution_count": 35
        }
      ]
    },
    {
      "cell_type": "markdown",
      "metadata": {
        "id": "ExsjsfXmsn_8"
      },
      "source": [
        "#### 연산자 예제 03\n",
        "초를 입력 받아 [시, 분, 초] 형태로 출력하세요.\n",
        "```\n",
        "초 입력: 3723\n",
        "1 시 2 분 3 초\n",
        "```"
      ]
    },
    {
      "cell_type": "code",
      "metadata": {
        "colab": {
          "base_uri": "https://localhost:8080/"
        },
        "id": "mHg8pDSttC4A",
        "outputId": "bc326200-f847-4038-deb6-b35bea7c2ad1"
      },
      "source": [
        "s = 3723\n",
        "\n",
        "h = s // 60 // 60\n",
        "m = s // 60 % 60\n",
        "ss = s % 60\n",
        "\n",
        "print(\"%s 시 %s 분 %s 초\" %(h, m, ss))\n",
        "print(\"{} 시 {} 분 {} 초\".format(h, m, ss)) "
      ],
      "execution_count": null,
      "outputs": [
        {
          "output_type": "stream",
          "text": [
            "1 시 2 분 3 초\n",
            "1 시 2 분 3 초\n"
          ],
          "name": "stdout"
        }
      ]
    },
    {
      "cell_type": "code",
      "metadata": {
        "colab": {
          "base_uri": "https://localhost:8080/"
        },
        "id": "UyScxeH9vXKE",
        "outputId": "6254f8c6-fee3-4ca3-e508-e3d73a2bd0d7"
      },
      "source": [
        "# 함수화\n",
        "\n",
        "def toTime(s) :\n",
        "  h = s // 60 // 60\n",
        "  m = s // 60 % 60\n",
        "  ss = s % 60\n",
        "  return h, m, ss\n",
        "\n",
        "h, m, ss = toTime(3723)\n",
        "print(\"{} 시 {} 분 {} 초\".format(h, m, ss)) "
      ],
      "execution_count": null,
      "outputs": [
        {
          "output_type": "stream",
          "text": [
            "1 시 2 분 3 초\n"
          ],
          "name": "stdout"
        }
      ]
    },
    {
      "cell_type": "markdown",
      "metadata": {
        "id": "RZkX1Z2OwZHe"
      },
      "source": [
        "#### 연산자 예제 04\n",
        "시급계산기 입니다. 기본시급은 5,000원이고, \n",
        "8시간이 넘을 경우 초과된 시간은 시급의 1.5배를 책정해줍니다.\n",
        "```\n",
        "노동 시간 입력: 11\n",
        "총 임금은 62,500 원 입니다.\n",
        "```"
      ]
    },
    {
      "cell_type": "code",
      "metadata": {
        "colab": {
          "base_uri": "https://localhost:8080/"
        },
        "id": "ZjBkj-DfxaTn",
        "outputId": "66d9883b-4654-4c98-8a49-53d5e12ec36e"
      },
      "source": [
        "num = int(input(\"노동 시간 입력 : \"))\n",
        "\n",
        "if num > 8 :\n",
        "  wage1 = 8 * 5000\n",
        "  wage2 = num - 8\n",
        "  wage3 = int(wage2 * 5000 * 1.5)\n",
        "  wage = wage1 + wage3\n",
        "elif num < 8 :\n",
        "  wage = num * 5000\n",
        "\n",
        "print(\"총 임금은 %s 원 입니다.\" %(wage))"
      ],
      "execution_count": null,
      "outputs": [
        {
          "output_type": "stream",
          "text": [
            "노동 시간 입력 : 11\n",
            "총 임금은 62500 원 입니다.\n"
          ],
          "name": "stdout"
        }
      ]
    },
    {
      "cell_type": "code",
      "metadata": {
        "colab": {
          "base_uri": "https://localhost:8080/"
        },
        "id": "GCMJ4Q6WzS_L",
        "outputId": "da8459a9-66e1-4ad8-ab76-3bbde49efa75"
      },
      "source": [
        "worktime = 11\n",
        "overtime = worktime % 8\n",
        "pay = (5000 * worktime) + (5000 * 0.5 * overtime)\n",
        "pay"
      ],
      "execution_count": null,
      "outputs": [
        {
          "output_type": "execute_result",
          "data": {
            "text/plain": [
              "62500.0"
            ]
          },
          "metadata": {
            "tags": []
          },
          "execution_count": 78
        }
      ]
    },
    {
      "cell_type": "code",
      "metadata": {
        "colab": {
          "base_uri": "https://localhost:8080/"
        },
        "id": "epjmomBgz1JZ",
        "outputId": "b42daf48-21f2-4c1a-d71a-a4f5318cca60"
      },
      "source": [
        "def getpay(worktime, overpay, ratio) :\n",
        "  worktime = 11\n",
        "  overtime = worktime % 8\n",
        "  return (overpay * worktime) + (overpay * ratio * overtime)\n",
        "  \n",
        "overpay = 5000\n",
        "ratio = 0.5\n",
        "pay = getpay(11, overpay, ratio)\n",
        "pay"
      ],
      "execution_count": null,
      "outputs": [
        {
          "output_type": "execute_result",
          "data": {
            "text/plain": [
              "62500.0"
            ]
          },
          "metadata": {
            "tags": []
          },
          "execution_count": 81
        }
      ]
    },
    {
      "cell_type": "markdown",
      "metadata": {
        "id": "xxKXI-ym5xOO"
      },
      "source": [
        "## 리스트"
      ]
    },
    {
      "cell_type": "code",
      "metadata": {
        "id": "vGHuypX459bU"
      },
      "source": [
        "a = []\n",
        "b = [1, 2, 3]\n",
        "c = [1, 2, ['life', 'is']]"
      ],
      "execution_count": null,
      "outputs": []
    },
    {
      "cell_type": "code",
      "metadata": {
        "colab": {
          "base_uri": "https://localhost:8080/"
        },
        "id": "OyvPSwQv6n51",
        "outputId": "67e5909d-1680-420a-d5cd-37b3b3550931"
      },
      "source": [
        "len(c)"
      ],
      "execution_count": null,
      "outputs": [
        {
          "output_type": "execute_result",
          "data": {
            "text/plain": [
              "3"
            ]
          },
          "metadata": {
            "tags": []
          },
          "execution_count": 91
        }
      ]
    },
    {
      "cell_type": "code",
      "metadata": {
        "colab": {
          "base_uri": "https://localhost:8080/"
        },
        "id": "QgYL8llP6uZA",
        "outputId": "0895d72d-54a0-4990-b913-eb9133adaa00"
      },
      "source": [
        "array = [2, 5, 7, 9, 10]\n",
        "print(array[2] + array[4])"
      ],
      "execution_count": null,
      "outputs": [
        {
          "output_type": "stream",
          "text": [
            "17\n"
          ],
          "name": "stdout"
        }
      ]
    },
    {
      "cell_type": "code",
      "metadata": {
        "colab": {
          "base_uri": "https://localhost:8080/"
        },
        "id": "YIhrxvWn7BWG",
        "outputId": "64e73ced-67c5-4e83-ff22-c3e87aba5997"
      },
      "source": [
        "array[2] = 100\n",
        "print(array)\n",
        "print(array[2] + array[4])"
      ],
      "execution_count": null,
      "outputs": [
        {
          "output_type": "stream",
          "text": [
            "[2, 5, 100, 9, 10]\n",
            "110\n"
          ],
          "name": "stdout"
        }
      ]
    },
    {
      "cell_type": "code",
      "metadata": {
        "colab": {
          "base_uri": "https://localhost:8080/"
        },
        "id": "5PFeZ3Ko7Kcn",
        "outputId": "05b72ac4-8b1f-4fa7-dd2e-5ac6fbfe6d9e"
      },
      "source": [
        "array[:2]"
      ],
      "execution_count": null,
      "outputs": [
        {
          "output_type": "execute_result",
          "data": {
            "text/plain": [
              "[2, 5]"
            ]
          },
          "metadata": {
            "tags": []
          },
          "execution_count": 98
        }
      ]
    },
    {
      "cell_type": "code",
      "metadata": {
        "colab": {
          "base_uri": "https://localhost:8080/"
        },
        "id": "fkSILTBY7W9C",
        "outputId": "a16f8585-3826-45d8-b42f-46d2f8c2ddcd"
      },
      "source": [
        "# 리스트 복사\n",
        "\n",
        "a = [1, 2, 3]\n",
        "b = a\n",
        "print(a is b)\n",
        "print(id(a), id(b))\n",
        "\n",
        "b = a[:]\n",
        "print(a is b)\n",
        "print(id(a), id(b))"
      ],
      "execution_count": null,
      "outputs": [
        {
          "output_type": "stream",
          "text": [
            "True\n",
            "140662636176720 140662636176720\n",
            "False\n",
            "140662636176720 140662636395328\n"
          ],
          "name": "stdout"
        }
      ]
    },
    {
      "cell_type": "code",
      "metadata": {
        "colab": {
          "base_uri": "https://localhost:8080/"
        },
        "id": "uJ8JAhbp90fY",
        "outputId": "fa0ecc6a-6b3b-4516-e39c-e5f8a38eb3dd"
      },
      "source": [
        "array = [1,2,3,4,5]\n",
        "print(array.index(4))\n",
        "array.insert(3, 'my') # 중간에 삽입하는 방법\n",
        "array\n",
        "\n",
        "a = array.pop() # 가장 마지막에 있는 요소를 추출 = 스택 구조\n",
        "print(array)\n",
        "\n",
        "b = array.pop(3)\n",
        "print(array)\n",
        "\n",
        "c = array.remove(3) # 삭제\n",
        "print(array)\n",
        "\n",
        "a, b, c"
      ],
      "execution_count": null,
      "outputs": [
        {
          "output_type": "stream",
          "text": [
            "3\n",
            "[1, 2, 3, 'my', 4]\n",
            "[1, 2, 3, 4]\n",
            "[1, 2, 4]\n"
          ],
          "name": "stdout"
        },
        {
          "output_type": "execute_result",
          "data": {
            "text/plain": [
              "(5, 'my', None)"
            ]
          },
          "metadata": {
            "tags": []
          },
          "execution_count": 109
        }
      ]
    },
    {
      "cell_type": "code",
      "metadata": {
        "colab": {
          "base_uri": "https://localhost:8080/"
        },
        "id": "iiGxPYCL_GsY",
        "outputId": "44cdc5ea-0d71-42fa-c23a-07ff4bd94ffd"
      },
      "source": [
        "# 리스트 더하기\n",
        "\n",
        "a = [1, 2, 3]\n",
        "b = [4, 5, 6]\n",
        "a + b "
      ],
      "execution_count": null,
      "outputs": [
        {
          "output_type": "execute_result",
          "data": {
            "text/plain": [
              "[1, 2, 3, 4, 5, 6]"
            ]
          },
          "metadata": {
            "tags": []
          },
          "execution_count": 111
        }
      ]
    },
    {
      "cell_type": "code",
      "metadata": {
        "colab": {
          "base_uri": "https://localhost:8080/"
        },
        "id": "fj7QIzTh_RT6",
        "outputId": "4893aed1-43f3-492d-a0fc-c0b197255a1f"
      },
      "source": [
        "# 정렬\n",
        "\n",
        "a = [2, 3, 1, 5, 4]\n",
        "b = sorted(a) # 순차 정렬\n",
        "b.reverse() # 역순 정렬\n",
        "b"
      ],
      "execution_count": null,
      "outputs": [
        {
          "output_type": "execute_result",
          "data": {
            "text/plain": [
              "[5, 4, 3, 2, 1]"
            ]
          },
          "metadata": {
            "tags": []
          },
          "execution_count": 113
        }
      ]
    },
    {
      "cell_type": "code",
      "metadata": {
        "colab": {
          "base_uri": "https://localhost:8080/"
        },
        "id": "jUsdZHN-ACaD",
        "outputId": "11b2f297-c227-4b14-9d8c-98dbd23f0e03"
      },
      "source": [
        "a = range(5)\n",
        "type(a)"
      ],
      "execution_count": null,
      "outputs": [
        {
          "output_type": "execute_result",
          "data": {
            "text/plain": [
              "range"
            ]
          },
          "metadata": {
            "tags": []
          },
          "execution_count": 114
        }
      ]
    },
    {
      "cell_type": "code",
      "metadata": {
        "colab": {
          "base_uri": "https://localhost:8080/"
        },
        "id": "cf1L9u98AG25",
        "outputId": "0e00cdd8-ca9e-47eb-9cf6-8a34f1e2d34f"
      },
      "source": [
        "# for 문을 한 줄로 축약\n",
        "\n",
        "[x for x in range(5)] \n",
        "a = [x *10 for x in range(5)] \n",
        "print(a)"
      ],
      "execution_count": null,
      "outputs": [
        {
          "output_type": "stream",
          "text": [
            "[0, 10, 20, 30, 40]\n"
          ],
          "name": "stdout"
        }
      ]
    },
    {
      "cell_type": "markdown",
      "metadata": {
        "id": "wErPclMBArRN"
      },
      "source": [
        "#### 리스트 예제 01\n",
        "```\n",
        "array = [1, 2, 3, 4, 5]\n",
        "```\n",
        "리스트 array에 숫자 5를 7으로 바꾸시오.\n",
        "\n",
        "리스트 array에 숫자 2를  리스트[‘a’,’b’,’c’]로 바꾸시오.\n",
        "\n",
        "리스트 array에 4,7를  ‘d’, ‘e’, ‘f’, ‘g’로 바꾸시오.\n",
        "```\n",
        "[1, 2, 3, 4, 7]\n",
        "[1, ['a', 'b', 'c'], 3, 4, 7]\n",
        "[1, ['a', 'b', 'c'], 3, 'd', 'e', 'f', 'g']\n",
        "```"
      ]
    },
    {
      "cell_type": "code",
      "metadata": {
        "colab": {
          "base_uri": "https://localhost:8080/"
        },
        "id": "osiQz86QA5xj",
        "outputId": "38f54499-c979-4850-8a50-d1b75f1e52c4"
      },
      "source": [
        "array = [1, 2, 3, 4, 5]\n",
        "array[-1] = 7\n",
        "array[1] = ['a', 'b', 'c']\n",
        "array[-2:] = 'd', 'e', 'f', 'g'\n",
        "\n",
        "print(array)"
      ],
      "execution_count": null,
      "outputs": [
        {
          "output_type": "stream",
          "text": [
            "[1, ['a', 'b', 'c'], 3, 'd', 'e', 'f', 'g']\n"
          ],
          "name": "stdout"
        }
      ]
    },
    {
      "cell_type": "code",
      "metadata": {
        "colab": {
          "base_uri": "https://localhost:8080/"
        },
        "id": "dHFwAyfYCzcX",
        "outputId": "69924fcd-9ad3-4a6a-e83f-7b2eb1cf7655"
      },
      "source": [
        "array = [1, 2, 3, 4, 5]\n",
        "array[-1] = 7\n",
        "print(array)\n",
        "array[1] = ['a', 'b', 'c']\n",
        "print(array)\n",
        "array[3:] = 'd', 'e', 'f', 'g'\n",
        "print(array)"
      ],
      "execution_count": null,
      "outputs": [
        {
          "output_type": "stream",
          "text": [
            "[1, 2, 3, 4, 7]\n",
            "[1, ['a', 'b', 'c'], 3, 4, 7]\n",
            "[1, ['a', 'b', 'c'], 3, 'd', 'e', 'f', 'g']\n"
          ],
          "name": "stdout"
        }
      ]
    },
    {
      "cell_type": "code",
      "metadata": {
        "colab": {
          "base_uri": "https://localhost:8080/"
        },
        "id": "0B7VLpyCDaKz",
        "outputId": "641d1a0b-ae46-4a91-948a-7f9310440024"
      },
      "source": [
        "array = [1, 2, 3, 4, 5]\n",
        "array[-1] = 7 ;                    print(array)\n",
        "array[1] = ['a', 'b', 'c']  ;      print(array)\n",
        "array[3:] = 'd', 'e', 'f', 'g' ;   print(array)"
      ],
      "execution_count": null,
      "outputs": [
        {
          "output_type": "stream",
          "text": [
            "[1, 2, 3, 4, 7]\n",
            "[1, ['a', 'b', 'c'], 3, 4, 7]\n",
            "[1, ['a', 'b', 'c'], 3, 'd', 'e', 'f', 'g']\n"
          ],
          "name": "stdout"
        }
      ]
    },
    {
      "cell_type": "markdown",
      "metadata": {
        "id": "hgQnVl-PHAdf"
      },
      "source": [
        "## 튜플"
      ]
    },
    {
      "cell_type": "code",
      "metadata": {
        "colab": {
          "base_uri": "https://localhost:8080/"
        },
        "id": "9Z6yBABUHB6d",
        "outputId": "0de8d45c-7ff3-41da-99a0-8e8101bf9500"
      },
      "source": [
        "if ('x' in 'xyz') :\n",
        "  print(\"True\")\n",
        "\n",
        "if 'x' in ('x', 'y', 'z') :\n",
        "  print(\"True\")\n",
        "\n",
        "if 'x' in ['x', 'y', 'z'] :\n",
        "  print(\"True\")\n"
      ],
      "execution_count": null,
      "outputs": [
        {
          "output_type": "stream",
          "text": [
            "True\n",
            "True\n",
            "True\n"
          ],
          "name": "stdout"
        }
      ]
    },
    {
      "cell_type": "markdown",
      "metadata": {
        "id": "CswTWGxSHohU"
      },
      "source": [
        "## 딕셔너리"
      ]
    },
    {
      "cell_type": "code",
      "metadata": {
        "colab": {
          "base_uri": "https://localhost:8080/"
        },
        "id": "z_BzaBhGHpjh",
        "outputId": "d9f3010e-2ebd-4cb6-ec5f-bbee7d0e5b73"
      },
      "source": [
        "dict1 = {'name' : 'kim', 'age' : 21, 'grade' : 3}\n",
        "print(dict1['age'])\n",
        "print(dict1.keys())\n",
        "print(dict1.values())\n",
        "print(dict1.items())\n",
        "\n",
        "for k, v in dict1.items() :\n",
        "  print(k, v)\n",
        "for (k, v) in dict1.items() :\n",
        "  print(k, v)"
      ],
      "execution_count": null,
      "outputs": [
        {
          "output_type": "stream",
          "text": [
            "21\n",
            "dict_keys(['name', 'age', 'grade'])\n",
            "dict_values(['kim', 21, 3])\n",
            "dict_items([('name', 'kim'), ('age', 21), ('grade', 3)])\n",
            "name kim\n",
            "age 21\n",
            "grade 3\n",
            "name kim\n",
            "age 21\n",
            "grade 3\n"
          ],
          "name": "stdout"
        }
      ]
    },
    {
      "cell_type": "code",
      "metadata": {
        "colab": {
          "base_uri": "https://localhost:8080/"
        },
        "id": "9K0QzgT-I6cw",
        "outputId": "7b3654e5-ade7-4210-cd38-2403a72a3297"
      },
      "source": [
        "# 딕셔너리 사용시 유의사항\n",
        "\n",
        "dict1 = {}\n",
        "type(dict1)\n",
        "dict1[1] = 1\n",
        "dict1[3] = 3\n",
        "dict1[1] += 1\n",
        "print(dict1)"
      ],
      "execution_count": null,
      "outputs": [
        {
          "output_type": "stream",
          "text": [
            "{1: 2, 3: 3}\n"
          ],
          "name": "stdout"
        }
      ]
    },
    {
      "cell_type": "code",
      "metadata": {
        "colab": {
          "base_uri": "https://localhost:8080/",
          "height": 222
        },
        "id": "SapKC8CwJyjo",
        "outputId": "2cde2b9d-8941-41d0-e63d-0738a8791871"
      },
      "source": [
        "dict1 = {}\n",
        "type(dict1)\n",
        "dict1[1] = 1\n",
        "dict1[3] = 3\n",
        "dict1[1] += 1\n",
        "dict1[2] += 1 # Error (dict[2]가 없기 때문)\n",
        "print(dict1)"
      ],
      "execution_count": null,
      "outputs": [
        {
          "output_type": "error",
          "ename": "KeyError",
          "evalue": "ignored",
          "traceback": [
            "\u001b[0;31m---------------------------------------------------------------------------\u001b[0m",
            "\u001b[0;31mKeyError\u001b[0m                                  Traceback (most recent call last)",
            "\u001b[0;32m<ipython-input-148-7fb3d6e86c45>\u001b[0m in \u001b[0;36m<module>\u001b[0;34m()\u001b[0m\n\u001b[1;32m      4\u001b[0m \u001b[0mdict1\u001b[0m\u001b[0;34m[\u001b[0m\u001b[0;36m3\u001b[0m\u001b[0;34m]\u001b[0m \u001b[0;34m=\u001b[0m \u001b[0;36m3\u001b[0m\u001b[0;34m\u001b[0m\u001b[0;34m\u001b[0m\u001b[0m\n\u001b[1;32m      5\u001b[0m \u001b[0mdict1\u001b[0m\u001b[0;34m[\u001b[0m\u001b[0;36m1\u001b[0m\u001b[0;34m]\u001b[0m \u001b[0;34m+=\u001b[0m \u001b[0;36m1\u001b[0m\u001b[0;34m\u001b[0m\u001b[0;34m\u001b[0m\u001b[0m\n\u001b[0;32m----> 6\u001b[0;31m \u001b[0mdict1\u001b[0m\u001b[0;34m[\u001b[0m\u001b[0;36m2\u001b[0m\u001b[0;34m]\u001b[0m \u001b[0;34m+=\u001b[0m \u001b[0;36m1\u001b[0m\u001b[0;34m\u001b[0m\u001b[0;34m\u001b[0m\u001b[0m\n\u001b[0m\u001b[1;32m      7\u001b[0m \u001b[0mprint\u001b[0m\u001b[0;34m(\u001b[0m\u001b[0mdict1\u001b[0m\u001b[0;34m)\u001b[0m\u001b[0;34m\u001b[0m\u001b[0;34m\u001b[0m\u001b[0m\n",
            "\u001b[0;31mKeyError\u001b[0m: 2"
          ]
        }
      ]
    },
    {
      "cell_type": "code",
      "metadata": {
        "colab": {
          "base_uri": "https://localhost:8080/"
        },
        "id": "wYxJR-tLKCIF",
        "outputId": "19489de2-176b-4a36-b144-b3d0cb43334b"
      },
      "source": [
        "dict1 = {}\n",
        "for i in [1,1,2,3,3,4] :\n",
        "  if i in dict1 :\n",
        "    dict1[i] += 1\n",
        "  else :\n",
        "    dict1[i] = 1\n",
        "\n",
        "print(dict1)"
      ],
      "execution_count": null,
      "outputs": [
        {
          "output_type": "stream",
          "text": [
            "{1: 2, 2: 1, 3: 2, 4: 1}\n"
          ],
          "name": "stdout"
        }
      ]
    },
    {
      "cell_type": "markdown",
      "metadata": {
        "id": "nt3N9qSCKweD"
      },
      "source": [
        "## 집합"
      ]
    },
    {
      "cell_type": "markdown",
      "metadata": {
        "id": "-B08InD9K2WD"
      },
      "source": [
        "set()\n",
        "\n",
        "- 중복을 허용하지 않는다\n",
        "- "
      ]
    },
    {
      "cell_type": "code",
      "metadata": {
        "colab": {
          "base_uri": "https://localhost:8080/"
        },
        "id": "krVXkZPNKxPa",
        "outputId": "3060a392-d53f-4774-b116-f7de27f93dce"
      },
      "source": [
        "s1 = set((1,2,3,3))\n",
        "s1"
      ],
      "execution_count": null,
      "outputs": [
        {
          "output_type": "execute_result",
          "data": {
            "text/plain": [
              "{1, 2, 3}"
            ]
          },
          "metadata": {
            "tags": []
          },
          "execution_count": 150
        }
      ]
    },
    {
      "cell_type": "code",
      "metadata": {
        "colab": {
          "base_uri": "https://localhost:8080/"
        },
        "id": "lQ-EMDIbLLF5",
        "outputId": "70768cca-445b-4acd-9c82-e341204d8587"
      },
      "source": [
        "s1 = set([1, 2, 3, 4, 5, 6])\n",
        "s2 = set([4, 5, 6, 7, 8, 9])\n",
        "\n",
        "# 교집합\n",
        "print(s1 & s2)\n",
        "print(s1.intersection(s2)) \n",
        "\n",
        "# 합집합\n",
        "print(s1 | s2) \n",
        "print(s1.union(s2))\n",
        "\n",
        "# 차집합\n",
        "print(s1 - s2)\n",
        "print(s2 - s1)"
      ],
      "execution_count": null,
      "outputs": [
        {
          "output_type": "stream",
          "text": [
            "{4, 5, 6}\n",
            "{4, 5, 6}\n",
            "{1, 2, 3, 4, 5, 6, 7, 8, 9}\n",
            "{1, 2, 3, 4, 5, 6, 7, 8, 9}\n",
            "{1, 2, 3}\n",
            "{8, 9, 7}\n"
          ],
          "name": "stdout"
        }
      ]
    },
    {
      "cell_type": "markdown",
      "metadata": {
        "id": "NZ34eHdpNgpY"
      },
      "source": [
        "#### 조건문 예제 01\n",
        "\n",
        "마트 계산대 프로그램입니다.\n",
        "10000원짜리 추석선물셋트를 구입했을 때 지불해야하는 금액을 계산해 보세요.\n",
        "단, 11개 이상 구매시에는 10%할인이 됩니다!\n",
        "\n",
        "```\n",
        "상품 개수 : 9\n",
        "가격은 90000원 입니다.\n",
        "상품 개수 : 12\n",
        "가격은 108000원 입니다.\n",
        "```\n"
      ]
    },
    {
      "cell_type": "code",
      "metadata": {
        "id": "hrqVxdI0A53r"
      },
      "source": [
        "def get_pay(count) :\n",
        "  price = 10000\n",
        "  per = 1\n",
        "\n",
        "  if count >= 11 :\n",
        "    per = 0.9\n",
        "\n",
        "  return count * price * per\n",
        "\n",
        "pay = get_pay(9)\n",
        "print(f\"가격은 {pay}원 입니다.\")\n",
        "\n",
        "pay = get_pay(12)\n",
        "print(f\"가격은 {pay}원 입니다.\")"
      ],
      "execution_count": null,
      "outputs": []
    },
    {
      "cell_type": "markdown",
      "metadata": {
        "id": "mnr-Ntrd-x1D"
      },
      "source": [
        "##  반복문 (while)"
      ]
    },
    {
      "cell_type": "code",
      "metadata": {
        "colab": {
          "base_uri": "https://localhost:8080/"
        },
        "id": "utBh5HojA_Pt",
        "outputId": "e9514fc3-0236-42ec-d8b3-a01d3d7bf84c"
      },
      "source": [
        "num = 0\n",
        "while num <= 10 :\n",
        "  print(num)\n",
        "  num += 1"
      ],
      "execution_count": null,
      "outputs": [
        {
          "output_type": "stream",
          "text": [
            "0\n",
            "1\n",
            "2\n",
            "3\n",
            "4\n",
            "5\n",
            "6\n",
            "7\n",
            "8\n",
            "9\n",
            "10\n"
          ],
          "name": "stdout"
        }
      ]
    },
    {
      "cell_type": "code",
      "metadata": {
        "colab": {
          "base_uri": "https://localhost:8080/"
        },
        "id": "V7YqtzbYBxZo",
        "outputId": "e6dff514-9796-4d97-9af0-e3e16f4876f0"
      },
      "source": [
        "num = 0\n",
        "while num <= 10 :\n",
        "  num = int(input(\"정수 입력 : \"))\n",
        "  print(num)\n",
        "print(\"종료 되었습니다.\")\n"
      ],
      "execution_count": null,
      "outputs": [
        {
          "output_type": "stream",
          "text": [
            "정수 입력 : 10\n",
            "10\n",
            "정수 입력 : 11\n",
            "11\n",
            "종료 되었습니다.\n"
          ],
          "name": "stdout"
        }
      ]
    },
    {
      "cell_type": "code",
      "metadata": {
        "colab": {
          "base_uri": "https://localhost:8080/"
        },
        "id": "T5_Q7IefCWZt",
        "outputId": "d49013b4-0c0b-448a-8df9-9f01f44b4c6a"
      },
      "source": [
        "num = 1\n",
        "while True :\n",
        "  num = int(input(\"정수 입력 : \"))\n",
        "  print(num)\n",
        "  if num == 0 :\n",
        "    break\n",
        "\n",
        "print(\"종료되었습니다.\")"
      ],
      "execution_count": null,
      "outputs": [
        {
          "output_type": "stream",
          "text": [
            "정수 입력 : 3\n",
            "3\n",
            "정수 입력 : 0\n",
            "0\n",
            "종료되었습니다.\n"
          ],
          "name": "stdout"
        }
      ]
    },
    {
      "cell_type": "code",
      "metadata": {
        "colab": {
          "base_uri": "https://localhost:8080/"
        },
        "id": "79kaW3CGCrUk",
        "outputId": "a72e8bce-f353-41e1-96b3-e71759e5ca38"
      },
      "source": [
        "def while_test() :\n",
        "  num = 1\n",
        "  while True :\n",
        "    num = int(input(\"정수 입력 : \"))\n",
        "    print(num)\n",
        "    if num == 0 :\n",
        "      return  # break 대신 return  사용\n",
        "\n",
        "while_test()\n",
        "print(\"종료되었습니다.\")"
      ],
      "execution_count": null,
      "outputs": [
        {
          "output_type": "stream",
          "text": [
            "정수 입력 : 3\n",
            "3\n",
            "정수 입력 : 0\n",
            "0\n",
            "종료되었습니다.\n"
          ],
          "name": "stdout"
        }
      ]
    },
    {
      "cell_type": "markdown",
      "metadata": {
        "id": "T2q6-_rADJiv"
      },
      "source": [
        "#### while 예제 01\n",
        "\n",
        "```\n",
        "100 이하 5배수의 합은?\n",
        "```"
      ]
    },
    {
      "cell_type": "code",
      "metadata": {
        "colab": {
          "base_uri": "https://localhost:8080/"
        },
        "id": "16W0QILkGxut",
        "outputId": "d705b41a-c164-4ef4-821c-1b461cca0761"
      },
      "source": [
        "num = 1\n",
        "sum = 0\n",
        "\n",
        "while num <= 100 :\n",
        "  if num % 5 == 0 :\n",
        "    sum += num\n",
        "  num += 1\n",
        "\n",
        "print(\"100 이하 5배수의 합은 :\", sum)"
      ],
      "execution_count": null,
      "outputs": [
        {
          "output_type": "stream",
          "text": [
            "100 이하 5배수의 합은 : 1050\n"
          ],
          "name": "stdout"
        }
      ]
    },
    {
      "cell_type": "code",
      "metadata": {
        "colab": {
          "base_uri": "https://localhost:8080/"
        },
        "id": "m4zwfaHQDg8L",
        "outputId": "def69f75-bbaf-42fb-8cea-c585584d9271"
      },
      "source": [
        "num = 1\n",
        "sum = 0\n",
        "\n",
        "while num <= 100 :\n",
        "  num += 1\n",
        "  if num % 5 == 0 :\n",
        "    sum += num\n",
        "\n",
        "print(\"100 이하 5배수의 합은 :\", sum)"
      ],
      "execution_count": null,
      "outputs": [
        {
          "output_type": "stream",
          "text": [
            "100 이하 5배수의 합은 : 1050\n"
          ],
          "name": "stdout"
        }
      ]
    },
    {
      "cell_type": "markdown",
      "metadata": {
        "id": "FeziUoKIHgfq"
      },
      "source": [
        "#### while 예제 02\n",
        "\n",
        "다이어트 관리 프로그램\n",
        "\n",
        "1. 현재 몸무게와 목표몸무게를 입력 받고 주차 별 감량 몸무게를 입력 받으세요.\n",
        "2. 목표몸무게를 달성하면 축하한다는 문구를 출력하고 입력을 멈추세요!\n",
        "\n",
        "```\n",
        "현재 몸무게 : 80\n",
        "목표 몸무게 : 70\n",
        "1주차 감량 몸무게 : 2\n",
        "2주차 감량 몸무게 : 3\n",
        "3주차 감량 몸무게 : 4\n",
        "4주차 감량 몸무게 : 5\n",
        "66kg 달성! 축하합니다.\n",
        "```"
      ]
    },
    {
      "cell_type": "code",
      "metadata": {
        "colab": {
          "base_uri": "https://localhost:8080/"
        },
        "id": "otn4fO9OH514",
        "outputId": "3d92e2a8-2bc4-4c9f-c20f-888002f12316"
      },
      "source": [
        "# 내 풀이\n",
        "\n",
        "current = int(input(\"현재 몸무게 : \"))\n",
        "target = int(input(\"목표 몸무게 : \"))\n",
        "week = 1\n",
        "\n",
        "while current >= target :\n",
        "  n = int(input(f\"{week}주차 감량 몸무게 : \"))\n",
        "  if current - n > target :\n",
        "    current -= n\n",
        "    week += 1\n",
        "  elif current - n <= target :\n",
        "    current -= n\n",
        "    break\n",
        "\n",
        "print(f\"{current}kg 달성! 축하합니다\")"
      ],
      "execution_count": null,
      "outputs": [
        {
          "output_type": "stream",
          "text": [
            "현재 몸무게 : 80\n",
            "목표 몸무게 : 70\n",
            "1주차 감량 몸무게 : 2\n",
            "2주차 감량 몸무게 : 3\n",
            "3주차 감량 몸무게 : 4\n",
            "4주차 감량 몸무게 : 5\n",
            "66kg 달성! 축하합니다\n"
          ],
          "name": "stdout"
        }
      ]
    },
    {
      "cell_type": "code",
      "metadata": {
        "colab": {
          "base_uri": "https://localhost:8080/"
        },
        "id": "RZaWUOhmKO-c",
        "outputId": "e1f89235-f78e-4ce2-b2d2-ccc35b29d99f"
      },
      "source": [
        "def abc(current, target) :\n",
        "  week = 1\n",
        "\n",
        "  while current >= target :\n",
        "    lose = int(input(str(week) + \"주차 감량 몸무게 : \"))\n",
        "    week += 1\n",
        "    current -= lose\n",
        "\n",
        "  return current\n",
        "\n",
        "current = int(input(\"현재 몸무게 : \"))\n",
        "target = int(input(\"목표 몸무게 : \"))\n",
        "\n",
        "curr = abc(current, target)\n",
        "print(curr, \"kg 달성! 축하합니다\")"
      ],
      "execution_count": null,
      "outputs": [
        {
          "output_type": "stream",
          "text": [
            "현재 몸무게 : 80\n",
            "목표 몸무게 : 70\n",
            "1주차 감량 몸무게 : 2\n",
            "2주차 감량 몸무게 : 3\n",
            "3주차 감량 몸무게 : 4\n",
            "4주차 감량 몸무게 : 5\n",
            "66 kg 달성! 축하합니다\n"
          ],
          "name": "stdout"
        }
      ]
    },
    {
      "cell_type": "code",
      "metadata": {
        "id": "6hMu8vElK_iC",
        "colab": {
          "base_uri": "https://localhost:8080/"
        },
        "outputId": "56e83196-7355-426a-d043-bda0ea23b846"
      },
      "source": [
        "def abc(current, target) :\n",
        "  week = 1\n",
        "  while current >= target:\n",
        "    lose = int( input(str(week) + '주차 감량 몸무게 : '))\n",
        "    week += 1\n",
        "    current -= lose\n",
        "\n",
        "  return current\n",
        "\n",
        "\n",
        "current = int( input('현재 몸무게 : ') )\n",
        "target = int( input('목표 몸무게 : ') )\n",
        "\n",
        "curr = abc(current, target)\n",
        "print(curr, 'kg 달성! 축하합니다.')"
      ],
      "execution_count": null,
      "outputs": [
        {
          "output_type": "stream",
          "text": [
            "현재 몸무게 : 80\n",
            "목표 몸무게 : 70\n",
            "1주차 감량 몸무게 : 2\n",
            "2주차 감량 몸무게 : 3\n",
            "3주차 감량 몸무게 : 4\n",
            "4주차 감량 몸무게 : 5\n",
            "66 kg 달성! 축하합니다.\n"
          ],
          "name": "stdout"
        }
      ]
    },
    {
      "cell_type": "markdown",
      "metadata": {
        "id": "XPm74WbaMquM"
      },
      "source": [
        "## range()"
      ]
    },
    {
      "cell_type": "code",
      "metadata": {
        "colab": {
          "base_uri": "https://localhost:8080/"
        },
        "id": "6uNwYIoKMse-",
        "outputId": "6331307e-eb51-4757-e967-1233946b771f"
      },
      "source": [
        "list(range(1,10))"
      ],
      "execution_count": null,
      "outputs": [
        {
          "output_type": "execute_result",
          "data": {
            "text/plain": [
              "[1, 2, 3, 4, 5, 6, 7, 8, 9]"
            ]
          },
          "metadata": {
            "tags": []
          },
          "execution_count": 49
        }
      ]
    },
    {
      "cell_type": "code",
      "metadata": {
        "colab": {
          "base_uri": "https://localhost:8080/"
        },
        "id": "55FiPQjkMu6b",
        "outputId": "7f283fdc-7066-4f55-cfe1-b24738b059b4"
      },
      "source": [
        "list(range(1, 10, 2))"
      ],
      "execution_count": null,
      "outputs": [
        {
          "output_type": "execute_result",
          "data": {
            "text/plain": [
              "[1, 3, 5, 7, 9]"
            ]
          },
          "metadata": {
            "tags": []
          },
          "execution_count": 50
        }
      ]
    },
    {
      "cell_type": "code",
      "metadata": {
        "colab": {
          "base_uri": "https://localhost:8080/"
        },
        "id": "OcadHRBcMwdU",
        "outputId": "21c77d98-2936-420e-8fe7-d8abfa307289"
      },
      "source": [
        "list(range(0, 11, 5))"
      ],
      "execution_count": null,
      "outputs": [
        {
          "output_type": "execute_result",
          "data": {
            "text/plain": [
              "[0, 5, 10]"
            ]
          },
          "metadata": {
            "tags": []
          },
          "execution_count": 51
        }
      ]
    },
    {
      "cell_type": "code",
      "metadata": {
        "colab": {
          "base_uri": "https://localhost:8080/"
        },
        "id": "BR1IxYtvMzSR",
        "outputId": "85082173-3d3f-408a-deec-0622859c3a9a"
      },
      "source": [
        "1 in range(1, 10)"
      ],
      "execution_count": null,
      "outputs": [
        {
          "output_type": "execute_result",
          "data": {
            "text/plain": [
              "True"
            ]
          },
          "metadata": {
            "tags": []
          },
          "execution_count": 56
        }
      ]
    },
    {
      "cell_type": "markdown",
      "metadata": {
        "id": "lFj4wLpXNvKC"
      },
      "source": [
        "random()"
      ]
    },
    {
      "cell_type": "code",
      "metadata": {
        "colab": {
          "base_uri": "https://localhost:8080/"
        },
        "id": "EdxFI5irNw27",
        "outputId": "25afc85c-0c8d-4e97-e58b-83db0b64e6bc"
      },
      "source": [
        "import random as ran\n",
        "\n",
        "ran.randint(1, 10)"
      ],
      "execution_count": null,
      "outputs": [
        {
          "output_type": "execute_result",
          "data": {
            "text/plain": [
              "8"
            ]
          },
          "metadata": {
            "tags": []
          },
          "execution_count": 57
        }
      ]
    },
    {
      "cell_type": "markdown",
      "metadata": {
        "id": "qsEYkTqoN6aE"
      },
      "source": [
        "랜덤 숫자 맞추기 (1~50)\n",
        "\n",
        "```\n",
        "숫자를 입력하세요 >> 25\n",
        "25보다 작은 수 입니다.\n",
        "숫자를 입력하세요 >> 15\n",
        "15보다 큰 수 입니다.\n",
        "숫자를 입력하세요 >> 18\n",
        "3번만에 맞추셨습니다.\n",
        "```"
      ]
    },
    {
      "cell_type": "code",
      "metadata": {
        "colab": {
          "base_uri": "https://localhost:8080/"
        },
        "id": "NiCBcG01OCH_",
        "outputId": "3babff73-e597-404a-ba44-ebfbc92cc5d2"
      },
      "source": [
        "# 내 풀이\n",
        "\n",
        "import random as ran\n",
        "r = ran.randint(1, 51)\n",
        "cnt = 0\n",
        "\n",
        "while True :\n",
        "  num = int(input(\"숫자를 입력하세요 : \"))\n",
        "  cnt += 1\n",
        "  if num > r :\n",
        "    print(f\"{num}보다 작은 수 입니다.\")\n",
        "  elif num < r :\n",
        "    print(f\"{num}보다 큰 수 입니다.\")\n",
        "  else :\n",
        "    break\n",
        "\n",
        "print(cnt, \"번만에 맞추셨습니다.\")"
      ],
      "execution_count": null,
      "outputs": [
        {
          "output_type": "stream",
          "text": [
            "숫자를 입력하세요 : 25\n",
            "25보다 큰 수 입니다.\n",
            "숫자를 입력하세요 : 37\n",
            "37보다 작은 수 입니다.\n",
            "숫자를 입력하세요 : 30\n",
            "30보다 큰 수 입니다.\n",
            "숫자를 입력하세요 : 33\n",
            "33보다 작은 수 입니다.\n",
            "숫자를 입력하세요 : 32\n",
            "5 번만에 맞추셨습니다.\n"
          ],
          "name": "stdout"
        }
      ]
    },
    {
      "cell_type": "code",
      "metadata": {
        "colab": {
          "base_uri": "https://localhost:8080/"
        },
        "id": "32Edj6SfOs6S",
        "outputId": "03ea93a0-c44f-4eca-9223-a6f968149fc4"
      },
      "source": [
        "comnum = 18\n",
        "count = 0\n",
        "while True:\n",
        "  count += 1\n",
        "  num = int( input('숫자를 입력하세요 >> '))\n",
        "  if num == comnum:\n",
        "    print(count, '번만에 맞추셨습니다.')\n",
        "    break\n",
        "  elif num < comnum:\n",
        "    print(num, '보다 큰 수 입니다.')\n",
        "  else:\n",
        "    print(num, '보다 작은 수 입니다.')\n"
      ],
      "execution_count": null,
      "outputs": [
        {
          "output_type": "stream",
          "text": [
            "숫자를 입력하세요 >> 25\n",
            "25 보다 작은 수 입니다.\n"
          ],
          "name": "stdout"
        }
      ]
    },
    {
      "cell_type": "code",
      "metadata": {
        "colab": {
          "base_uri": "https://localhost:8080/"
        },
        "id": "BZwRZhzHReK0",
        "outputId": "7511784c-362e-4c04-fd67-55033037213b"
      },
      "source": [
        "import random as ran\n",
        "\n",
        "comnum = ran.randint(1, 51)\n",
        "count = 0\n",
        "while True:\n",
        "  count += 1\n",
        "  num = int( input('숫자를 입력하세요 >> '))\n",
        "  if num == comnum:\n",
        "    print(count, '번만에 맞추셨습니다.')\n",
        "    break\n",
        "  elif num < comnum:\n",
        "    print(num, '보다 큰 수 입니다.')\n",
        "  else:\n",
        "    print(num, '보다 작은 수 입니다.')\n"
      ],
      "execution_count": null,
      "outputs": [
        {
          "output_type": "stream",
          "text": [
            "숫자를 입력하세요 >> 25\n",
            "25 보다 작은 수 입니다.\n",
            "숫자를 입력하세요 >> 13\n",
            "13 보다 작은 수 입니다.\n",
            "숫자를 입력하세요 >> 7\n",
            "7 보다 큰 수 입니다.\n",
            "숫자를 입력하세요 >> 9\n",
            "9 보다 작은 수 입니다.\n",
            "숫자를 입력하세요 >> 8\n",
            "5 번만에 맞추셨습니다.\n"
          ],
          "name": "stdout"
        }
      ]
    },
    {
      "cell_type": "markdown",
      "metadata": {
        "id": "6Ho5Kh3ZT9Rh"
      },
      "source": [
        "## 반복문 (for)"
      ]
    },
    {
      "cell_type": "markdown",
      "metadata": {
        "id": "fk7S6A_KUxv5"
      },
      "source": [
        "\n",
        "- 동작을 반복할 때 for 루프를 사용한다\n",
        "- for 문장의 끝에는 ':'가 있어야 하며 for 문이 적용되는 블록(block)은 반드시 들여쓰기 (indentation)을 해야 한다. \n",
        "\n",
        "for문의 기본 구조\n",
        "```\n",
        "for 변수 in 리스트(또는 튜플, 문자열):\n",
        "    수행할 문장1\n",
        "    수행할 문장2\n",
        "    ...\n",
        "```\n",
        "```\n",
        "for 변수 in range(시작값, 종료값, 증가):\n",
        "    수행할 문장1\n",
        "    수행할 문장2\n",
        "    ...\n",
        "```"
      ]
    },
    {
      "cell_type": "code",
      "metadata": {
        "id": "loCEvjlLT_w-",
        "colab": {
          "base_uri": "https://localhost:8080/"
        },
        "outputId": "af2cf977-c325-4f06-f045-120d6855e6ad"
      },
      "source": [
        "for x in range(1, 6):\n",
        "  print(x)"
      ],
      "execution_count": null,
      "outputs": [
        {
          "output_type": "stream",
          "text": [
            "1\n",
            "2\n",
            "3\n",
            "4\n",
            "5\n"
          ],
          "name": "stdout"
        }
      ]
    },
    {
      "cell_type": "code",
      "metadata": {
        "colab": {
          "base_uri": "https://localhost:8080/"
        },
        "id": "57fYMh17VdxZ",
        "outputId": "f17447cd-2f0f-4b93-bd25-b53dc4d6a445"
      },
      "source": [
        "arr = [[1,2],[3,4],[5,6]]\n",
        "for a,b in arr:\n",
        "  print(a,b)"
      ],
      "execution_count": null,
      "outputs": [
        {
          "output_type": "stream",
          "text": [
            "1 2\n",
            "3 4\n",
            "5 6\n"
          ],
          "name": "stdout"
        }
      ]
    },
    {
      "cell_type": "markdown",
      "metadata": {
        "id": "l7LCTjS1V6Qs"
      },
      "source": [
        "#### 반복문 예제 01\n",
        "array에 들어있는 데이터를 다음과 같이 하나씩 출력하시오.\n",
        "```\n",
        "array = [ [1, 2], [3, 4], [5, 6] ]\n",
        "```\n",
        "```\n",
        "1\n",
        "2\n",
        "3\n",
        "4\n",
        "5\n",
        "6\n",
        "```\n"
      ]
    },
    {
      "cell_type": "code",
      "metadata": {
        "colab": {
          "base_uri": "https://localhost:8080/"
        },
        "id": "BJeScS0mWPrB",
        "outputId": "0dd89662-e3c6-4d53-87bc-a7d147627d0d"
      },
      "source": [
        "array = [ [1, 2], [3, 4], [5, 6] ]\n",
        "\n",
        "for a,b in array  :\n",
        "  print(a)\n",
        "  print(b)"
      ],
      "execution_count": null,
      "outputs": [
        {
          "output_type": "stream",
          "text": [
            "1\n",
            "2\n",
            "3\n",
            "4\n",
            "5\n",
            "6\n"
          ],
          "name": "stdout"
        }
      ]
    },
    {
      "cell_type": "markdown",
      "metadata": {
        "id": "M2_9Zc6XWP0g"
      },
      "source": [
        "#### 반복문 예제 02\n",
        "0부터 10까지 다음과 같이 출력하시오.\n",
        "```\n",
        "0 1 2 3 4 5 6 7 8 9 10\n",
        "```\n"
      ]
    },
    {
      "cell_type": "code",
      "metadata": {
        "colab": {
          "base_uri": "https://localhost:8080/"
        },
        "id": "iGo0gfvVWc1M",
        "outputId": "6c70e4a1-4cdc-4550-d981-331d98d7dc88"
      },
      "source": [
        "for i in range(11) :\n",
        "  print(i, end = \" \")"
      ],
      "execution_count": null,
      "outputs": [
        {
          "output_type": "stream",
          "text": [
            "0 1 2 3 4 5 6 7 8 9 10 "
          ],
          "name": "stdout"
        }
      ]
    },
    {
      "cell_type": "markdown",
      "metadata": {
        "id": "Cn_j_gxRXtQj"
      },
      "source": [
        "#### 반복문 예제 03\n",
        "\n",
        "* for문을 사용하여 96에서 53까지 출력하시오.\n",
        "* for문을 사용하여 21에서 57까지의 수 중 홀수만 출력하시오.\n",
        "* 정수를 입력 받아 1부터 입력 받은 정수까지 차례대로 출력하는 프로그램을 \n",
        "작성하시오.\n",
        "```\n",
        "정수입력: 10\n",
        "1 2 3 4 5 6 7 8 9 10\n",
        "```\n",
        "* 한 개의 자연수를 입력 받아 그 수의 배수를 차례로 10개 출력하는 프로그램을 작성하시오.\n",
        "```\n",
        "정수입력: 5\n",
        "5 10 15 20 25 30 35 40 45 50\n",
        "```\n",
        "* 1~100까지 3의 배수의 합을 출력하세요. (1683)\n"
      ]
    },
    {
      "cell_type": "code",
      "metadata": {
        "colab": {
          "base_uri": "https://localhost:8080/"
        },
        "id": "9LTtHsP_X-tn",
        "outputId": "f1e75e25-4150-4b91-926d-e12ea13933f0"
      },
      "source": [
        "# 예제 03 - 1\n",
        "\n",
        "for i in range (96, 52, -1) :\n",
        "  print(i, end = \" \")"
      ],
      "execution_count": null,
      "outputs": [
        {
          "output_type": "stream",
          "text": [
            "96 95 94 93 92 91 90 89 88 87 86 85 84 83 82 81 80 79 78 77 76 75 74 73 72 71 70 69 68 67 66 65 64 63 62 61 60 59 58 57 56 55 54 53 "
          ],
          "name": "stdout"
        }
      ]
    },
    {
      "cell_type": "code",
      "metadata": {
        "colab": {
          "base_uri": "https://localhost:8080/"
        },
        "id": "IVJimDHUYaYO",
        "outputId": "b3b603c9-d99d-4fbe-e42b-6cb3c3aa1de9"
      },
      "source": [
        "# 예제 03 - 1\n",
        "\n",
        "for i in reversed(range (53, 97)) :\n",
        "  print(i, end = \" \")"
      ],
      "execution_count": null,
      "outputs": [
        {
          "output_type": "stream",
          "text": [
            "96 95 94 93 92 91 90 89 88 87 86 85 84 83 82 81 80 79 78 77 76 75 74 73 72 71 70 69 68 67 66 65 64 63 62 61 60 59 58 57 56 55 54 53 "
          ],
          "name": "stdout"
        }
      ]
    },
    {
      "cell_type": "code",
      "metadata": {
        "colab": {
          "base_uri": "https://localhost:8080/"
        },
        "id": "DYPZK1P6YuU5",
        "outputId": "a10e268c-2060-4114-c3fb-730fc1e4d6f6"
      },
      "source": [
        "# * 한 개의 자연수를 입력 받아 그 수의 배수를 차례로 10개 출력하는 프로그램을 작성하시오.\n",
        "# 예시\n",
        "# 정수입력: 5\n",
        "# 5 10 15 20 25 30 35 40 45 50\n",
        "\n",
        "num = int(input(\"정수입력 : \"))\n",
        "for i in range(num, num * 10 + 1, num) :\n",
        "  print(i, end = \" \")"
      ],
      "execution_count": null,
      "outputs": [
        {
          "output_type": "stream",
          "text": [
            "정수입력 : 7\n",
            "7 14 21 28 35 42 49 56 63 70 "
          ],
          "name": "stdout"
        }
      ]
    },
    {
      "cell_type": "code",
      "metadata": {
        "colab": {
          "base_uri": "https://localhost:8080/"
        },
        "id": "K1mQ-mK6ZMio",
        "outputId": "1c41f8aa-09db-4c56-8a03-bf895dbf9874"
      },
      "source": [
        "# * 1~100까지 3의 배수의 합을 출력하세요. (1683)\n",
        "sum = 0\n",
        "for i in range(3, 101, 3) :\n",
        "  sum += i\n",
        "\n",
        "print(sum)"
      ],
      "execution_count": null,
      "outputs": [
        {
          "output_type": "stream",
          "text": [
            "1683\n"
          ],
          "name": "stdout"
        }
      ]
    },
    {
      "cell_type": "code",
      "metadata": {
        "colab": {
          "base_uri": "https://localhost:8080/"
        },
        "id": "w7zBRiazZr-M",
        "outputId": "c98866ea-e378-469c-e7b8-b8b83aa96a8e"
      },
      "source": [
        "sum = 0\n",
        "\n",
        "for i in range(1, 101) :\n",
        "  if i % 3 == 0 :\n",
        "    sum += i\n",
        "\n",
        "print(sum)"
      ],
      "execution_count": null,
      "outputs": [
        {
          "output_type": "stream",
          "text": [
            "1683\n"
          ],
          "name": "stdout"
        }
      ]
    },
    {
      "cell_type": "markdown",
      "metadata": {
        "id": "IeIy6Mnycck0"
      },
      "source": [
        "#### 반복문 예제 04\n",
        "다음과 같이 별 모양을 출력하시오.\n",
        "\n",
        "```\n",
        "*\n",
        "**\n",
        "***\n",
        "****\n",
        "*****\n",
        "```"
      ]
    },
    {
      "cell_type": "code",
      "metadata": {
        "colab": {
          "base_uri": "https://localhost:8080/"
        },
        "id": "zoFWQK_Ucqy3",
        "outputId": "03e43618-fddb-48aa-8435-55da3f0c72a1"
      },
      "source": [
        "for i in range(1, 6) :\n",
        "  print(\"*\" * i)"
      ],
      "execution_count": null,
      "outputs": [
        {
          "output_type": "stream",
          "text": [
            "*\n",
            "**\n",
            "***\n",
            "****\n",
            "*****\n"
          ],
          "name": "stdout"
        }
      ]
    },
    {
      "cell_type": "code",
      "metadata": {
        "colab": {
          "base_uri": "https://localhost:8080/"
        },
        "id": "oXXMECbRdbFA",
        "outputId": "32d0e5b7-0e47-4891-e29c-aa9449b74f44"
      },
      "source": [
        "for i in range(5) :\n",
        "  print(\"*\" * (i+1))"
      ],
      "execution_count": null,
      "outputs": [
        {
          "output_type": "stream",
          "text": [
            "*\n",
            "**\n",
            "***\n",
            "****\n",
            "*****\n"
          ],
          "name": "stdout"
        }
      ]
    },
    {
      "cell_type": "markdown",
      "metadata": {
        "id": "DTWgs2n5gR63"
      },
      "source": [
        "## 함수\n",
        "입력값을 가지고 어떤 일을 수행한 다음에 그 결과물을 내어놓는 것\n",
        "> 입력값 ---> 함수 ----> 결과값\n",
        "\n",
        "* 똑같은 내용을 반복해서 작성하고 있는 자신을 발견할 때, \n",
        "* \"반복적으로 사용되는 가치 있는 부분\"을 한 뭉치로 묶어서 \n",
        "* \"어떤 입력값을 주었을 때 어떤 결괏값을 돌려준다\"라는 식의 함수로 작성하는 것\n",
        "\n",
        "파이썬 함수의 구조\n",
        "```\n",
        "def 함수명(매개변수):\n",
        "    <수행할 문장1>\n",
        "    <수행할 문장2>\n",
        "    ...\n",
        "```\n",
        "```\n",
        "def 함수명(매개변수):\n",
        "    <수행할 문장1>\n",
        "    <수행할 문장2>\n",
        "    ...\n",
        "    return 결과값\n",
        "```\n",
        "```\n",
        "def 함수명():\n",
        "    <수행할 문장1>\n",
        "    <수행할 문장2>\n",
        "    ...\n",
        "    return 결과값\n",
        "```\n",
        "```\n",
        "def 함수명():\n",
        "    <수행할 문장1>\n",
        "    <수행할 문장2>\n",
        "    ...\n",
        "```"
      ]
    },
    {
      "cell_type": "code",
      "metadata": {
        "colab": {
          "base_uri": "https://localhost:8080/"
        },
        "id": "iXmeehidipME",
        "outputId": "b08ca6d0-1691-4f44-a668-460cea9c0715"
      },
      "source": [
        "def add(a, b) :\n",
        "  return a + b\n",
        "\n",
        "print(add(3, 4))"
      ],
      "execution_count": null,
      "outputs": [
        {
          "output_type": "stream",
          "text": [
            "7\n"
          ],
          "name": "stdout"
        }
      ]
    },
    {
      "cell_type": "code",
      "metadata": {
        "colab": {
          "base_uri": "https://localhost:8080/"
        },
        "id": "4qCaJe5rjif1",
        "outputId": "55b1404e-20d9-4fe2-e2e2-bcae97b0b982"
      },
      "source": [
        "def add_many(*args) : # 입력 받는 값이 여러 개일 때 (입력값이 몇 개가 될지 모를 때)\n",
        "  for i in args :\n",
        "    print(i)\n",
        "\n",
        "print(add_many(1, 2, 3, 4, 5))"
      ],
      "execution_count": null,
      "outputs": [
        {
          "output_type": "stream",
          "text": [
            "1\n",
            "2\n",
            "3\n",
            "4\n",
            "5\n",
            "None\n"
          ],
          "name": "stdout"
        }
      ]
    },
    {
      "cell_type": "code",
      "metadata": {
        "colab": {
          "base_uri": "https://localhost:8080/"
        },
        "id": "T44TM9BRkU_v",
        "outputId": "d620c724-880e-4fdc-b140-5fd05c91b410"
      },
      "source": [
        "def print_keys(**kwargs) :  # 들어오는 변수값을 딕셔너리 형태로 사용할 때\n",
        "  print(kwargs)\n",
        "\n",
        "print_keys(a=1, name = 'one')"
      ],
      "execution_count": null,
      "outputs": [
        {
          "output_type": "stream",
          "text": [
            "{'a': 1, 'name': 'one'}\n"
          ],
          "name": "stdout"
        }
      ]
    },
    {
      "cell_type": "code",
      "metadata": {
        "colab": {
          "base_uri": "https://localhost:8080/"
        },
        "id": "2gIijaI_k5bh",
        "outputId": "422fe703-acee-4f97-9a71-825eebb92bda"
      },
      "source": [
        "a = 1\n",
        "def vartest(a) :\n",
        "  a = a + 1\n",
        "\n",
        "vartest(a)\n",
        "print(a)"
      ],
      "execution_count": null,
      "outputs": [
        {
          "output_type": "stream",
          "text": [
            "1\n"
          ],
          "name": "stdout"
        }
      ]
    },
    {
      "cell_type": "code",
      "metadata": {
        "colab": {
          "base_uri": "https://localhost:8080/"
        },
        "id": "QPLm7ExjlO82",
        "outputId": "c80ed3e6-8831-432b-e1fd-9529219fb9a6"
      },
      "source": [
        "a = 1\n",
        "def vartest(a) :\n",
        "  a = a + 1\n",
        "  return a\n",
        "\n",
        "a = vartest(a)\n",
        "print(a)"
      ],
      "execution_count": null,
      "outputs": [
        {
          "output_type": "stream",
          "text": [
            "2\n"
          ],
          "name": "stdout"
        }
      ]
    },
    {
      "cell_type": "code",
      "metadata": {
        "colab": {
          "base_uri": "https://localhost:8080/"
        },
        "id": "zuc_ojxGltHx",
        "outputId": "3c9ec244-b260-4bad-b930-c658d2490ca6"
      },
      "source": [
        "v = [1]\n",
        "\n",
        "def vartest(v) :\n",
        "  v.append(2)\n",
        "\n",
        "vartest(v)\n",
        "print(v)\n"
      ],
      "execution_count": null,
      "outputs": [
        {
          "output_type": "stream",
          "text": [
            "[1, 2]\n"
          ],
          "name": "stdout"
        }
      ]
    },
    {
      "cell_type": "code",
      "metadata": {
        "colab": {
          "base_uri": "https://localhost:8080/"
        },
        "id": "dkgD9_LWm-LV",
        "outputId": "212816ad-7350-4990-b9fb-dab48bc5ebbe"
      },
      "source": [
        "add = lambda a, b: a + b\n",
        "print(add(1,3))"
      ],
      "execution_count": null,
      "outputs": [
        {
          "output_type": "stream",
          "text": [
            "4\n"
          ],
          "name": "stdout"
        }
      ]
    },
    {
      "cell_type": "markdown",
      "metadata": {
        "id": "GfDxImxdniIT"
      },
      "source": [
        "#### 함수 예제 01\n",
        "두 개의 정수를 입력 인수로 받아 더 큰 수를 반환하는 함수 LargerNumber를 만들어 다음과 같은 결과를 출력하시오.\n",
        "```\n",
        "num1 = int(input(\"첫 번째 정수 입력: \"))\n",
        "num2 = int(input(\"두 번째 정수 입력: \"))\n",
        "result = LagerNumber(num1, num2)\n",
        "print(\"큰 수 확인:\", result)\n",
        "```\n",
        "```\n",
        "첫 번째 정수 입력: 8\n",
        "두 번째 정수 입력: 6\n",
        "큰 수 확인: 8\n",
        "\n",
        "첫 번째 정수 입력: 4\n",
        "두 번째 정수 입력: 8\n",
        "큰 수 확인: 8\n",
        "\n",
        "첫 번째 정수 입력: 5\n",
        "두 번째 정수 입력: 5\n",
        "큰 수 확인: 0\n",
        "```\n"
      ]
    },
    {
      "cell_type": "code",
      "metadata": {
        "colab": {
          "base_uri": "https://localhost:8080/"
        },
        "id": "dipXEqwRpQc7",
        "outputId": "3b5beed1-58bc-4623-eb33-32b3a803d655"
      },
      "source": [
        "a = int(input(\"첫 번째 정수 입력: \"))\n",
        "b = int(input(\"두 번째 정수 입력: \"))\n",
        "\n",
        "def LargeNumber(a, b) : \n",
        "  if a == b :\n",
        "    return 0\n",
        "  elif a > b :\n",
        "    return a\n",
        "  else :\n",
        "    return b\n",
        " \n",
        "result = LargeNumber(a, b)\n",
        "print(\"큰 수 확인:\", result)"
      ],
      "execution_count": null,
      "outputs": [
        {
          "output_type": "stream",
          "text": [
            "첫 번째 정수 입력: 5\n",
            "두 번째 정수 입력: 8\n",
            "큰 수 확인: 8\n"
          ],
          "name": "stdout"
        }
      ]
    },
    {
      "cell_type": "code",
      "metadata": {
        "colab": {
          "base_uri": "https://localhost:8080/"
        },
        "id": "oRO50ZPqqQyB",
        "outputId": "73438382-a496-484f-f1f0-0e9e8eb3299a"
      },
      "source": [
        "a = int(input(\"첫 번째 정수 입력 : \"))\n",
        "b = int(input(\"두 번째 정수 입력 : \"))\n",
        "\n",
        "def LargeNumber(a, b) : \n",
        "  if a == b :\n",
        "    return 0\n",
        "  \n",
        "  return a if a > b else b\n",
        " \n",
        "result = LargeNumber(a, b)\n",
        "print(\"큰 수 확인:\", result)"
      ],
      "execution_count": null,
      "outputs": [
        {
          "output_type": "stream",
          "text": [
            "첫 번째 정수 입력 : 3\n",
            "두 번째 정수 입력 : 7\n",
            "큰 수 확인: 7\n"
          ],
          "name": "stdout"
        }
      ]
    },
    {
      "cell_type": "markdown",
      "metadata": {
        "id": "m2jo67rgqesk"
      },
      "source": [
        "#### 함수 예제 02\n",
        "2개의 정수를 받아 2개의 숫자 중 10에 더 가까운 수를 \n",
        "반환하는 함수 close10을 만들어 다음과 같은 결과를 출력하시오.\n",
        "(만약 두 숫자 모두 10과의 차이가 같다면 첫 번째 수를 반환)\n",
        "```\n",
        "num1 = int(input(\"첫 번째 정수 입력: \"))\n",
        "num2 = int(input(\"두 번째 정수 입력: \"))\n",
        "result = close10(num1, num2)\n",
        "print(\"10에 가까운 수:\", result)\n",
        "```\n",
        "```\n",
        "첫 번째 정수 입력: 2\n",
        "두 번째 정수 입력: 7\n",
        "10에 가까운 수: 7\n",
        "\n",
        "첫 번째 정수 입력: 8\n",
        "두 번째 정수 입력: 5\n",
        "10에 가까운 수: 8\n",
        "\n",
        "첫 번째 정수 입력: 2\n",
        "두 번째 정수 입력: 13\n",
        "10에 가까운 수: 13\n",
        "```"
      ]
    },
    {
      "cell_type": "code",
      "metadata": {
        "colab": {
          "base_uri": "https://localhost:8080/"
        },
        "id": "kVmnpB4Mq8UD",
        "outputId": "862a7ec0-8047-4122-ea2d-8cf0dd90df9b"
      },
      "source": [
        "num1 = int(input(\"첫 번째 정수 입력 : \"))\n",
        "num2 = int(input(\"두 번째 정수 입력 : \"))\n",
        "\n",
        "def close10 (num1, num2) :\n",
        "  n1 = abs(10 - num1) # abs : 절대값 함수\n",
        "  n2 = abs(10 - num2)\n",
        "  if n1 == n2 :\n",
        "    return num1\n",
        "  elif n1 > n2 :\n",
        "    return num2\n",
        "  else : \n",
        "    return num1\n",
        "\n",
        "result = close10(num1, num2)\n",
        "print(\"10에 가까운 수:\", result)"
      ],
      "execution_count": null,
      "outputs": [
        {
          "output_type": "stream",
          "text": [
            "첫 번째 정수 입력 : 5\n",
            "두 번째 정수 입력 : 13\n",
            "10에 가까운 수: 13\n"
          ],
          "name": "stdout"
        }
      ]
    },
    {
      "cell_type": "code",
      "metadata": {
        "id": "HW0lxqx2Dwm4"
      },
      "source": [
        "a = int(input(\"첫 번째 정수 입력 : \"))\n",
        "b = int(input(\"두 번째 정수 입력 : \"))\n",
        "\n",
        "def close10 (a, b) :\n",
        "  if abs(10 - a) < abs(10 - b) :\n",
        "    return a\n",
        "  else :\n",
        "    return b\n",
        "\n",
        "result = close10(a, b)\n",
        "print(\"10에 가까운 수:\", result)"
      ],
      "execution_count": null,
      "outputs": []
    },
    {
      "cell_type": "code",
      "metadata": {
        "colab": {
          "base_uri": "https://localhost:8080/"
        },
        "id": "YlwULLb5EqVG",
        "outputId": "1da3f3b8-485a-4b66-ffcc-95095386c5cd"
      },
      "source": [
        "a = int(input(\"첫 번째 정수 입력 : \"))\n",
        "b = int(input(\"두 번째 정수 입력 : \"))\n",
        "\n",
        "def close10 (a, b) :\n",
        "  return a if abs(10 - a) < abs(10 - b) else b\n",
        "\n",
        "result = close10(a, b)\n",
        "print(\"10에 가까운 수:\", result)"
      ],
      "execution_count": null,
      "outputs": [
        {
          "output_type": "stream",
          "text": [
            "첫 번째 정수 입력 : 5\n",
            "두 번째 정수 입력 : 9\n",
            "10에 가까운 수: 9\n"
          ],
          "name": "stdout"
        }
      ]
    },
    {
      "cell_type": "markdown",
      "metadata": {
        "id": "0Tr979qTE78D"
      },
      "source": [
        "#### 함수 예제 03 - 1\n",
        "num2가 num1의 약수인지 확인하여 True또는 False를 반환하는 isDivisor()메소드를 구현하시오.\n",
        "```\n",
        "num1 = int(input(\"첫 번째 정수 입력: \"))\n",
        "num2 = int(input(\"두 번째 정수 입력: \"))\n",
        "result = isDivisor(num1, num2)\n",
        "print(result)\n",
        "```\n",
        "```\n",
        "첫 번째 정수 입력: 5\n",
        "두 번째 정수 입력: 10\n",
        "True\n",
        "\n",
        "첫 번째 정수 입력: 3\n",
        "두 번째 정수 입력: 10\n",
        "False\n",
        "\n",
        "첫 번째 정수 입력: 0\n",
        "두 번째 정수 입력: 10\n",
        "False\n",
        "```"
      ]
    },
    {
      "cell_type": "code",
      "metadata": {
        "colab": {
          "base_uri": "https://localhost:8080/"
        },
        "id": "HrJcEbCfFUQx",
        "outputId": "4e141ce1-d055-46a1-bbef-c7695ec0ac4a"
      },
      "source": [
        "num1 = int(input(\"첫 번째 정수 입력 : \"))\n",
        "num2 = int(input(\"두 번째 정수 입력 : \"))\n",
        "\n",
        "def isDivisor(num1, num2) :\n",
        "  for i in range(1, num2+1) :\n",
        "    if num1 == 0 :\n",
        "      return False \n",
        "    elif  num2 % num1 == 0 :\n",
        "      return True\n",
        "    else :\n",
        "      return False\n",
        "\n",
        "result = isDivisor(num1, num2)\n",
        "print(result)"
      ],
      "execution_count": null,
      "outputs": [
        {
          "output_type": "stream",
          "text": [
            "첫 번째 정수 입력 : 4\n",
            "두 번째 정수 입력 : 8\n",
            "True\n"
          ],
          "name": "stdout"
        }
      ]
    },
    {
      "cell_type": "code",
      "metadata": {
        "id": "KbAABoThE9PU",
        "colab": {
          "base_uri": "https://localhost:8080/"
        },
        "outputId": "9c0a888d-390c-4a3d-b440-abb8973bfa3b"
      },
      "source": [
        "def isDivisor(a, b):\n",
        "  if a == 0:\n",
        "    return False\n",
        "\n",
        "  return (b % a == 0)\n",
        "\n",
        "num1 = int(input(\"첫 번째 정수 입력: \"))\n",
        "num2 = int(input(\"두 번째 정수 입력: \"))\n",
        "result = isDivisor(num1, num2)\n",
        "print(result)"
      ],
      "execution_count": null,
      "outputs": [
        {
          "output_type": "stream",
          "text": [
            "첫 번째 정수 입력: 4\n",
            "두 번째 정수 입력: 10\n",
            "False\n"
          ],
          "name": "stdout"
        }
      ]
    },
    {
      "cell_type": "markdown",
      "metadata": {
        "id": "7HX7iiqvHcY4"
      },
      "source": [
        "#### 함수 예제 03 - 2\n",
        "약수들을 구하는 getDivisor() 함수를 구현하시오.\n",
        "```\n",
        "getDivisor(10)\n",
        "getDivisor(16)\n",
        "getDivisor(24)\n",
        "```\n",
        "```\n",
        "10의 약수: 1 2 5 10\n",
        "16의 약수: 1 2 4 8 16\n",
        "24의 약수: 1 2 3 4 6 8 12 24\n",
        "```"
      ]
    },
    {
      "cell_type": "code",
      "metadata": {
        "colab": {
          "base_uri": "https://localhost:8080/"
        },
        "id": "5Vl0E-p3HeSy",
        "outputId": "5ddf00d2-9773-4ac2-c1ac-361996350ba0"
      },
      "source": [
        "result = []\n",
        "\n",
        "def getDivisor(a) :\n",
        "  for i in range(1, a+1) :\n",
        "    if a % i == 0 :\n",
        "      result.append(i)\n",
        "  return result\n",
        "\n",
        "def printDivisor(d) :\n",
        "  for i in d :\n",
        "    print(i, end = \" \")\n",
        "  print()\n",
        "\n",
        "\n",
        "printDivisor(getDivisor(10))"
      ],
      "execution_count": null,
      "outputs": [
        {
          "output_type": "stream",
          "text": [
            "1 2 5 10 \n"
          ],
          "name": "stdout"
        }
      ]
    },
    {
      "cell_type": "code",
      "metadata": {
        "colab": {
          "base_uri": "https://localhost:8080/"
        },
        "id": "Cwg9zMx_Icge",
        "outputId": "b6e29e61-6269-4569-d445-b056097a017a"
      },
      "source": [
        "def getDivisor(a):\n",
        "  result = []\n",
        "  for i in range(1, a+1):\n",
        "    if isDivisor(i, a):\n",
        "      result.append(i)\n",
        "\n",
        "  return result\n",
        "\n",
        "\n",
        "def printDivisor(d):\n",
        "  for i in d:\n",
        "    print(i, end=' ')\n",
        "  print()\n",
        "\n",
        "\n",
        "printDivisor( getDivisor(10) )"
      ],
      "execution_count": null,
      "outputs": [
        {
          "output_type": "stream",
          "text": [
            "1 2 5 10 \n"
          ],
          "name": "stdout"
        }
      ]
    },
    {
      "cell_type": "code",
      "metadata": {
        "colab": {
          "base_uri": "https://localhost:8080/"
        },
        "id": "Nj1jxrcPL1y-",
        "outputId": "0519b66d-b273-481b-d04b-844a4e6236b5"
      },
      "source": [
        "def getDivisor(a):\n",
        "  result = []\n",
        "  for i in range(1, a+1):\n",
        "    if isDivisor(i, a):\n",
        "      result.append(i)\n",
        "\n",
        "  return result\n",
        "\n",
        "\n",
        "def printDivisor(d):\n",
        "  for i in d:\n",
        "    print(i, end=' ')\n",
        "  print()\n",
        "\n",
        "num = 10\n",
        "print(num, \"의 약수 :\", end = \" \")\n",
        "res = getDivisor(num)\n",
        "printDivisor( getDivisor(10) )"
      ],
      "execution_count": null,
      "outputs": [
        {
          "output_type": "stream",
          "text": [
            "10 의 약수 : 1 2 5 10 \n"
          ],
          "name": "stdout"
        }
      ]
    },
    {
      "cell_type": "markdown",
      "metadata": {
        "id": "rjpJ99uqMf2x"
      },
      "source": [
        "#### 함수 예제 03 - 3\n",
        "start 부터 end 까지의 약수를 구하는 getDivisorRange() 함수를 구현하시오.\n",
        "```\n",
        "getDivisorRange(10, 16)\n",
        "```\n",
        "```\n",
        "10의 약수: 1 2 5 10\n",
        "11의 약수: 1 11\n",
        "12의 약수: 1 2 3 4 6 12\n",
        "13의 약수: 1 13\n",
        "14의 약수: 1 2 7 14\n",
        "15의 약수: 1 3 5 15\n",
        "16의 약수: 1 2 4 8 16\n",
        "```"
      ]
    },
    {
      "cell_type": "code",
      "metadata": {
        "colab": {
          "base_uri": "https://localhost:8080/",
          "height": 327
        },
        "id": "VbUQ_R3aKGs2",
        "outputId": "a3692bca-a38f-4629-d3ce-bb0bfd118d36"
      },
      "source": [
        "def getDivisorRange(a, b) :\n",
        "  result = []\n",
        "  for i in range(a, b+1) :\n",
        "    for j in range(1, i+1) :\n",
        "      if i % j == 0 :\n",
        "        result += j\n",
        "      return result\n",
        "\n",
        "getDivisorRange(10, 16)"
      ],
      "execution_count": null,
      "outputs": [
        {
          "output_type": "error",
          "ename": "TypeError",
          "evalue": "ignored",
          "traceback": [
            "\u001b[0;31m---------------------------------------------------------------------------\u001b[0m",
            "\u001b[0;31mTypeError\u001b[0m                                 Traceback (most recent call last)",
            "\u001b[0;32m<ipython-input-48-ee9be6419d28>\u001b[0m in \u001b[0;36m<module>\u001b[0;34m()\u001b[0m\n\u001b[1;32m      7\u001b[0m       \u001b[0;32mreturn\u001b[0m \u001b[0mresult\u001b[0m\u001b[0;34m\u001b[0m\u001b[0;34m\u001b[0m\u001b[0m\n\u001b[1;32m      8\u001b[0m \u001b[0;34m\u001b[0m\u001b[0m\n\u001b[0;32m----> 9\u001b[0;31m \u001b[0mgetDivisorRange\u001b[0m\u001b[0;34m(\u001b[0m\u001b[0;36m10\u001b[0m\u001b[0;34m,\u001b[0m \u001b[0;36m16\u001b[0m\u001b[0;34m)\u001b[0m\u001b[0;34m\u001b[0m\u001b[0;34m\u001b[0m\u001b[0m\n\u001b[0m",
            "\u001b[0;32m<ipython-input-48-ee9be6419d28>\u001b[0m in \u001b[0;36mgetDivisorRange\u001b[0;34m(a, b)\u001b[0m\n\u001b[1;32m      4\u001b[0m     \u001b[0;32mfor\u001b[0m \u001b[0mj\u001b[0m \u001b[0;32min\u001b[0m \u001b[0mrange\u001b[0m\u001b[0;34m(\u001b[0m\u001b[0;36m1\u001b[0m\u001b[0;34m,\u001b[0m \u001b[0mi\u001b[0m\u001b[0;34m+\u001b[0m\u001b[0;36m1\u001b[0m\u001b[0;34m)\u001b[0m \u001b[0;34m:\u001b[0m\u001b[0;34m\u001b[0m\u001b[0;34m\u001b[0m\u001b[0m\n\u001b[1;32m      5\u001b[0m       \u001b[0;32mif\u001b[0m \u001b[0mi\u001b[0m \u001b[0;34m%\u001b[0m \u001b[0mj\u001b[0m \u001b[0;34m==\u001b[0m \u001b[0;36m0\u001b[0m \u001b[0;34m:\u001b[0m\u001b[0;34m\u001b[0m\u001b[0;34m\u001b[0m\u001b[0m\n\u001b[0;32m----> 6\u001b[0;31m         \u001b[0mresult\u001b[0m \u001b[0;34m+=\u001b[0m \u001b[0mj\u001b[0m\u001b[0;34m\u001b[0m\u001b[0;34m\u001b[0m\u001b[0m\n\u001b[0m\u001b[1;32m      7\u001b[0m       \u001b[0;32mreturn\u001b[0m \u001b[0mresult\u001b[0m\u001b[0;34m\u001b[0m\u001b[0;34m\u001b[0m\u001b[0m\n\u001b[1;32m      8\u001b[0m \u001b[0;34m\u001b[0m\u001b[0m\n",
            "\u001b[0;31mTypeError\u001b[0m: 'int' object is not iterable"
          ]
        }
      ]
    },
    {
      "cell_type": "code",
      "metadata": {
        "colab": {
          "base_uri": "https://localhost:8080/"
        },
        "id": "OML-9W7MQYb1",
        "outputId": "2542d9e2-61c5-4688-9bfc-31358217f681"
      },
      "source": [
        "def isDivisor(a, b):\n",
        "  if a == 0:\n",
        "    return False\n",
        "  return b % a == 0\n",
        "\n",
        "def getDivisor(n):\n",
        "  array = []\n",
        "  for i in range(1, n+1):\n",
        "    if isDivisor(i, n):\n",
        "      array.append(i)\n",
        "  printDivisor(n, array)\n",
        "\n",
        "def printDivisor(n, array):\n",
        "  print(f\"{n}의 약수 :\", end=\" \")\n",
        "  for i in array:\n",
        "    print(i, end=' ')\n",
        "  print()\n",
        "\n",
        "def getDivisorRange(start, end):\n",
        "  for i in range(start, end+1):\n",
        "    getDivisor(i)\n",
        "\n",
        "getDivisorRange(10, 16)"
      ],
      "execution_count": null,
      "outputs": [
        {
          "output_type": "stream",
          "text": [
            "10의 약수 : 1 2 5 10 \n",
            "11의 약수 : 1 11 \n",
            "12의 약수 : 1 2 3 4 6 12 \n",
            "13의 약수 : 1 13 \n",
            "14의 약수 : 1 2 7 14 \n",
            "15의 약수 : 1 3 5 15 \n",
            "16의 약수 : 1 2 4 8 16 \n"
          ],
          "name": "stdout"
        }
      ]
    },
    {
      "cell_type": "code",
      "metadata": {
        "colab": {
          "base_uri": "https://localhost:8080/"
        },
        "id": "8Zw6i-BsQ_6m",
        "outputId": "7af5ae24-a842-448b-d670-3dc282a35eb4"
      },
      "source": [
        "def getDivisor(a):\n",
        "  result = []\n",
        "  for i in range(1, a+1):\n",
        "    if isDivisor(i, a):\n",
        "      result.append(i)\n",
        "  return result\n",
        "\n",
        "def printDivisor(d):\n",
        "  for i in d:\n",
        "    print(i, end=' ')\n",
        "  print()\n",
        "\n",
        "def getDivisorRange(c, d) :\n",
        "  for num in range(c, d + 1) :\n",
        "    res = getDivisor(num)\n",
        "    print(num, '의 약수 : ', end='')\n",
        "    printDivisor( res )\n",
        "\n",
        "getDivisorRange(10, 16)"
      ],
      "execution_count": null,
      "outputs": [
        {
          "output_type": "stream",
          "text": [
            "10 의 약수 : 1 2 5 10 \n",
            "11 의 약수 : 1 11 \n",
            "12 의 약수 : 1 2 3 4 6 12 \n",
            "13 의 약수 : 1 13 \n",
            "14 의 약수 : 1 2 7 14 \n",
            "15 의 약수 : 1 3 5 15 \n",
            "16 의 약수 : 1 2 4 8 16 \n"
          ],
          "name": "stdout"
        }
      ]
    },
    {
      "cell_type": "markdown",
      "metadata": {
        "id": "6ese0Uf0SLqF"
      },
      "source": [
        "## 외장 함수"
      ]
    },
    {
      "cell_type": "code",
      "metadata": {
        "colab": {
          "base_uri": "https://localhost:8080/",
          "height": 34
        },
        "id": "6g-4A_W3ROwd",
        "outputId": "fe321f48-1f10-47e8-f052-92c427545422"
      },
      "source": [
        "import os\n",
        "\n",
        "os.getcwd()"
      ],
      "execution_count": null,
      "outputs": [
        {
          "output_type": "execute_result",
          "data": {
            "application/vnd.google.colaboratory.intrinsic+json": {
              "type": "string"
            },
            "text/plain": [
              "'/content'"
            ]
          },
          "metadata": {
            "tags": []
          },
          "execution_count": 22
        }
      ]
    },
    {
      "cell_type": "markdown",
      "metadata": {
        "id": "Nv4i0-EoS0BL"
      },
      "source": [
        "## 클래스 상속"
      ]
    },
    {
      "cell_type": "code",
      "metadata": {
        "id": "dhkOuFeaV4HE"
      },
      "source": [
        "class Dog :\n",
        "  def __init__(self, name, age) :\n",
        "    self.name = name # 보관\n",
        "    slef.age = age # 보관\n",
        "\n",
        "  def speak(self) :\n",
        "    print(\"멍\")\n",
        "\n",
        "class Cat :\n",
        "  def __init__(self, name, age) :\n",
        "    self.name = name # 보관\n",
        "    slef.age = age # 보관\n",
        "\n",
        "  def speak(self) :\n",
        "    print(\"야옹\")"
      ],
      "execution_count": null,
      "outputs": []
    },
    {
      "cell_type": "markdown",
      "metadata": {
        "id": "Ryh0zbG8V66f"
      },
      "source": [
        "중복되는 코드가 많으므로 클래스를 상속해주어 간결하게 표현"
      ]
    },
    {
      "cell_type": "code",
      "metadata": {
        "colab": {
          "base_uri": "https://localhost:8080/"
        },
        "id": "75zP9t3qV5kN",
        "outputId": "30e12f3c-9537-4f90-bd7a-4bfbf6497b9b"
      },
      "source": [
        "class Pet :\n",
        "  def __init__(self, name, age) :\n",
        "    self.name = name # 보관\n",
        "    self.age = age # 보관\n",
        "\n",
        "  def show(self) :\n",
        "    print(f\"나는 {self.name} 이고, {self.age}살 입니다.\")\n",
        "\n",
        "class Dog(Pet) :\n",
        "  def speak(self) :\n",
        "    print(\"멍!\")\n",
        "\n",
        "class Cat(Pet) :\n",
        "  def speak(self) :\n",
        "    print(\"냐옹!\")\n",
        "\n",
        "p = Pet(\"톰\", 7)\n",
        "p.show()\n",
        "d = Dog(\"스캇\", 9)\n",
        "d.show()\n",
        "d.speak()\n",
        "c = Cat(\"래니\", 12)\n",
        "c.show()\n",
        "c.speak()"
      ],
      "execution_count": null,
      "outputs": [
        {
          "output_type": "stream",
          "text": [
            "나는 톰 이고, 7살 입니다.\n",
            "나는 스캇 이고, 9살 입니다.\n",
            "멍!\n",
            "나는 래니 이고, 12살 입니다.\n",
            "냐옹!\n"
          ],
          "name": "stdout"
        }
      ]
    },
    {
      "cell_type": "code",
      "metadata": {
        "colab": {
          "base_uri": "https://localhost:8080/"
        },
        "id": "3L3DEPDRXfEQ",
        "outputId": "8f464c87-a79b-4947-8700-20944d5ed931"
      },
      "source": [
        "class Pet :\n",
        "  def __init__(self, name, age) :\n",
        "    self.name = name # 보관\n",
        "    self.age = age # 보관\n",
        "\n",
        "  def show(self) :\n",
        "    print(f\"나는 {self.name} 이고, {self.age}살 입니다.\")\n",
        "\n",
        "  def speak(self) :\n",
        "    print(\"나는 말 안 할거야\")\n",
        "\n",
        "class Dog(Pet) :  # 클래스 상속\n",
        "  def speak(self) :\n",
        "    print(\"멍!\")\n",
        "\n",
        "class Cat(Pet) :  # 클래스 상속\n",
        "  def speak(self) :\n",
        "    print(\"냐옹!\")\n",
        "\n",
        "p = Pet(\"톰\", 7)\n",
        "p.show()\n",
        "p.speak()\n",
        "d = Dog(\"스캇\", 9)\n",
        "d.show()\n",
        "d.speak()\n",
        "c = Cat(\"래니\", 12)\n",
        "c.show()\n",
        "c.speak()"
      ],
      "execution_count": null,
      "outputs": [
        {
          "output_type": "stream",
          "text": [
            "나는 톰 이고, 7살 입니다.\n",
            "나는 말 안 할거야\n",
            "나는 스캇 이고, 9살 입니다.\n",
            "멍!\n",
            "나는 래니 이고, 12살 입니다.\n",
            "냐옹!\n"
          ],
          "name": "stdout"
        }
      ]
    },
    {
      "cell_type": "code",
      "metadata": {
        "colab": {
          "base_uri": "https://localhost:8080/"
        },
        "id": "b17CrIKKYMw1",
        "outputId": "fb7bae95-d220-4a77-fcdd-745c68ee836e"
      },
      "source": [
        "class Fish(Pet) :\n",
        "  pass\n",
        "\n",
        "f = Fish(\"버블\", 2)\n",
        "f.show()\n",
        "f.speak()"
      ],
      "execution_count": null,
      "outputs": [
        {
          "output_type": "stream",
          "text": [
            "나는 버블 이고, 2살 입니다.\n",
            "나는 말 안 할거야\n"
          ],
          "name": "stdout"
        }
      ]
    },
    {
      "cell_type": "code",
      "metadata": {
        "colab": {
          "base_uri": "https://localhost:8080/"
        },
        "id": "ePti7RACZAgt",
        "outputId": "8c654e8e-424c-4557-8431-f8dc9de7a0de"
      },
      "source": [
        "class Cat(Pet) :\n",
        "  def __init__(self, name, age, color) :\n",
        "    super().__init__(name, age)  # 상위 클래스의 생성자 호출\n",
        "    self.color = color\n",
        "\n",
        "  def speak(self) :\n",
        "    print(\"냐옹!\")\n",
        "\n",
        "c = Cat(\"래니\", 12, \"갈색\")\n",
        "c.name\n",
        "c.show()"
      ],
      "execution_count": null,
      "outputs": [
        {
          "output_type": "stream",
          "text": [
            "나는 래니 이고, 12살 입니다.\n"
          ],
          "name": "stdout"
        }
      ]
    },
    {
      "cell_type": "markdown",
      "metadata": {
        "id": "G7W_aaO7aVa_"
      },
      "source": [
        "참고\n",
        "\n",
        "[Class 함수 - Super()](https://velog.io/@gwkoo/%ED%81%B4%EB%9E%98%EC%8A%A4-%EC%83%81%EC%86%8D-%EB%B0%8F-super-%ED%95%A8%EC%88%98%EC%9D%98-%EC%97%AD%ED%95%A0)"
      ]
    },
    {
      "cell_type": "markdown",
      "metadata": {
        "id": "D0UhtbBIaufu"
      },
      "source": [
        "### 클래스 정적메소드(함수)\n",
        "\n"
      ]
    },
    {
      "cell_type": "code",
      "metadata": {
        "colab": {
          "base_uri": "https://localhost:8080/"
        },
        "id": "2MkXh10ga5SB",
        "outputId": "958d0229-8b74-4a4a-e18a-2aac4a9df5f6"
      },
      "source": [
        "class Math:\n",
        "  @staticmethod\n",
        "  def add5(x):\n",
        "    return x + 5\n",
        "  \n",
        "  @staticmethod\n",
        "  def pi():\n",
        "    return 4\n",
        "\n",
        "Math.pi()"
      ],
      "execution_count": null,
      "outputs": [
        {
          "output_type": "execute_result",
          "data": {
            "text/plain": [
              "4"
            ]
          },
          "metadata": {
            "tags": []
          },
          "execution_count": 80
        }
      ]
    }
  ]
}